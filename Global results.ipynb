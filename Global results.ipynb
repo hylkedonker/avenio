{
 "cells": [
  {
   "cell_type": "markdown",
   "metadata": {},
   "source": [
    "## Regression\n",
    "- Calculation of $\\Delta \\tau$ for various phenotypes.\n",
    "- Tuning of pipeline.\n",
    "- Somatic vs all\n",
    "- Hybrid model best performance.\n",
    "- Decypher effects of input features."
   ]
  },
  {
   "cell_type": "markdown",
   "metadata": {},
   "source": [
    "## Classification\n",
    "- Tuning of pipeline.\n",
    "- Precision, recall, $F_1$ and ROC AUC.\n",
    "- Confusion matrix.\n",
    "- Somatic vs. all.\n",
    "- Best model.\n",
    "- Decypher effects."
   ]
  }
 ],
 "metadata": {
  "kernelspec": {
   "display_name": "Python 3",
   "language": "python",
   "name": "python3"
  },
  "language_info": {
   "codemirror_mode": {
    "name": "ipython",
    "version": 3
   },
   "file_extension": ".py",
   "mimetype": "text/x-python",
   "name": "python",
   "nbconvert_exporter": "python",
   "pygments_lexer": "ipython3",
   "version": "3.7.3"
  }
 },
 "nbformat": 4,
 "nbformat_minor": 2
}
