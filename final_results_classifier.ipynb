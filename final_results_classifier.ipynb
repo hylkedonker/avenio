{
 "cells": [
  {
   "cell_type": "markdown",
   "metadata": {},
   "source": [
    "# Make final classifier using harmonic mean\n",
    "**Goal**: Identify patients that don't respond.\n",
    "These patients we don't have to treat.\n",
    "\n",
    "Perform the following steps:\n",
    "\n",
    "1) Combine data with CNV.\n",
    "\n",
    "2) Compare harmonic versus delta.\n",
    "\n",
    "3) Compare clinical data versus clinical and genomic data.\n",
    "\n",
    "4) Select best classification model based on AUC.\n",
    "\n",
    "5) For this best model, compare number of molecules.\n",
    "\n",
    "6) Perform cross validation.\n",
    "\n",
    "7) Make plots for parameter importance."
   ]
  },
  {
   "cell_type": "code",
   "execution_count": 1,
   "metadata": {},
   "outputs": [],
   "source": [
    "%matplotlib inline\n",
    "from matplotlib import pyplot as plt\n",
    "from sklearn.linear_model import LogisticRegression\n",
    "from sklearn.metrics import classification_report\n",
    "from sklearn.model_selection import GridSearchCV\n",
    "\n",
    "from pipelines import benchmark_pipelines, build_classifier_pipelines, pipeline_Freeman\n",
    "from views import view_linear_model_freeman"
   ]
  },
  {
   "cell_type": "markdown",
   "metadata": {},
   "source": [
    "# 1) Combine data"
   ]
  },
  {
   "cell_type": "code",
   "execution_count": 2,
   "metadata": {},
   "outputs": [],
   "source": [
    "from source import read_preprocessed_data\n",
    "from transform import combine_tsv_files"
   ]
  },
  {
   "cell_type": "code",
   "execution_count": 3,
   "metadata": {},
   "outputs": [],
   "source": [
    "# Harmonic mean genomic variable.\n",
    "X_train_hm, y_train_hm = combine_tsv_files(\n",
    "    \"output/train__harmonic_mean__No, Mutant Molecules per mL.tsv\",\n",
    "    \"output/train__harmonic_mean__CNV Score.tsv\",\n",
    ")\n",
    "# Difference genomic variable.\n",
    "X_train_diff, y_train_diff = combine_tsv_files(\n",
    "    \"output/train__difference__No, Mutant Molecules per mL.tsv\",\n",
    "    \"output/train__difference__CNV Score.tsv\",\n",
    ")"
   ]
  },
  {
   "cell_type": "markdown",
   "metadata": {},
   "source": [
    "# 2) Select best model"
   ]
  },
  {
   "cell_type": "code",
   "execution_count": 4,
   "metadata": {},
   "outputs": [],
   "source": [
    "y_train_resp = y_train_hm[\"response_grouped\"]\n",
    "\n",
    "response_labels = ['non responder (sd+pd)', 'responder (pr+cr)']\n",
    "pos_label = 'non responder (sd+pd)'\n",
    "y_train_resp = y_train_resp == pos_label"
   ]
  },
  {
   "cell_type": "code",
   "execution_count": 5,
   "metadata": {},
   "outputs": [],
   "source": [
    "ps_class = build_classifier_pipelines()"
   ]
  },
  {
   "cell_type": "code",
   "execution_count": 6,
   "metadata": {},
   "outputs": [],
   "source": [
    "b_harmonic_mean = benchmark_pipelines(\n",
    "    ps_class, X_train_hm, y_train_resp, metric='roc_auc',\n",
    ")"
   ]
  },
  {
   "cell_type": "code",
   "execution_count": 7,
   "metadata": {},
   "outputs": [],
   "source": [
    "b_difference = benchmark_pipelines(\n",
    "    ps_class, X_train_diff, y_train_resp, metric='roc_auc',\n",
    ")"
   ]
  },
  {
   "cell_type": "code",
   "execution_count": 8,
   "metadata": {},
   "outputs": [
    {
     "data": {
      "text/html": [
       "<div>\n",
       "<style scoped>\n",
       "    .dataframe tbody tr th:only-of-type {\n",
       "        vertical-align: middle;\n",
       "    }\n",
       "\n",
       "    .dataframe tbody tr th {\n",
       "        vertical-align: top;\n",
       "    }\n",
       "\n",
       "    .dataframe thead th {\n",
       "        text-align: right;\n",
       "    }\n",
       "</style>\n",
       "<table border=\"1\" class=\"dataframe\">\n",
       "  <thead>\n",
       "    <tr style=\"text-align: right;\">\n",
       "      <th></th>\n",
       "      <th>Richard mean</th>\n",
       "      <th>Richard std</th>\n",
       "      <th>Julian mean</th>\n",
       "      <th>Julian std</th>\n",
       "      <th>Freeman mean</th>\n",
       "      <th>Freeman std</th>\n",
       "    </tr>\n",
       "  </thead>\n",
       "  <tbody>\n",
       "    <tr>\n",
       "      <th>DecisionTreeClassifier</th>\n",
       "      <td>0.530396</td>\n",
       "      <td>0.068491</td>\n",
       "      <td>0.609307</td>\n",
       "      <td>0.061656</td>\n",
       "      <td>0.573253</td>\n",
       "      <td>0.102530</td>\n",
       "    </tr>\n",
       "    <tr>\n",
       "      <th>RandomForestClassifier</th>\n",
       "      <td>0.591064</td>\n",
       "      <td>0.132169</td>\n",
       "      <td>0.643908</td>\n",
       "      <td>0.102671</td>\n",
       "      <td>0.690074</td>\n",
       "      <td>0.156600</td>\n",
       "    </tr>\n",
       "    <tr>\n",
       "      <th>GaussianNB</th>\n",
       "      <td>0.512090</td>\n",
       "      <td>0.067867</td>\n",
       "      <td>0.644651</td>\n",
       "      <td>0.079332</td>\n",
       "      <td>0.664688</td>\n",
       "      <td>0.101284</td>\n",
       "    </tr>\n",
       "    <tr>\n",
       "      <th>GradientBoostingClassifier</th>\n",
       "      <td>0.548052</td>\n",
       "      <td>0.035066</td>\n",
       "      <td>0.628324</td>\n",
       "      <td>0.062237</td>\n",
       "      <td>0.571490</td>\n",
       "      <td>0.058155</td>\n",
       "    </tr>\n",
       "    <tr>\n",
       "      <th>KNeighborsClassifier</th>\n",
       "      <td>0.605195</td>\n",
       "      <td>0.084184</td>\n",
       "      <td>0.508318</td>\n",
       "      <td>0.108752</td>\n",
       "      <td>0.631571</td>\n",
       "      <td>0.072976</td>\n",
       "    </tr>\n",
       "    <tr>\n",
       "      <th>LogisticRegression</th>\n",
       "      <td>0.602752</td>\n",
       "      <td>0.086126</td>\n",
       "      <td>0.622202</td>\n",
       "      <td>0.117341</td>\n",
       "      <td>0.628757</td>\n",
       "      <td>0.074238</td>\n",
       "    </tr>\n",
       "    <tr>\n",
       "      <th>SVC</th>\n",
       "      <td>0.605164</td>\n",
       "      <td>0.062684</td>\n",
       "      <td>0.548237</td>\n",
       "      <td>0.034860</td>\n",
       "      <td>0.610019</td>\n",
       "      <td>0.026443</td>\n",
       "    </tr>\n",
       "    <tr>\n",
       "      <th>DummyClassifier</th>\n",
       "      <td>0.500000</td>\n",
       "      <td>0.000000</td>\n",
       "      <td>0.500000</td>\n",
       "      <td>0.000000</td>\n",
       "      <td>0.500000</td>\n",
       "      <td>0.000000</td>\n",
       "    </tr>\n",
       "  </tbody>\n",
       "</table>\n",
       "</div>"
      ],
      "text/plain": [
       "                            Richard mean  Richard std  Julian mean  \\\n",
       "DecisionTreeClassifier          0.530396     0.068491     0.609307   \n",
       "RandomForestClassifier          0.591064     0.132169     0.643908   \n",
       "GaussianNB                      0.512090     0.067867     0.644651   \n",
       "GradientBoostingClassifier      0.548052     0.035066     0.628324   \n",
       "KNeighborsClassifier            0.605195     0.084184     0.508318   \n",
       "LogisticRegression              0.602752     0.086126     0.622202   \n",
       "SVC                             0.605164     0.062684     0.548237   \n",
       "DummyClassifier                 0.500000     0.000000     0.500000   \n",
       "\n",
       "                            Julian std  Freeman mean  Freeman std  \n",
       "DecisionTreeClassifier        0.061656      0.573253     0.102530  \n",
       "RandomForestClassifier        0.102671      0.690074     0.156600  \n",
       "GaussianNB                    0.079332      0.664688     0.101284  \n",
       "GradientBoostingClassifier    0.062237      0.571490     0.058155  \n",
       "KNeighborsClassifier          0.108752      0.631571     0.072976  \n",
       "LogisticRegression            0.117341      0.628757     0.074238  \n",
       "SVC                           0.034860      0.610019     0.026443  \n",
       "DummyClassifier               0.000000      0.500000     0.000000  "
      ]
     },
     "execution_count": 8,
     "metadata": {},
     "output_type": "execute_result"
    }
   ],
   "source": [
    "b_harmonic_mean\n",
    "# print(b.round(2).to_latex())"
   ]
  },
  {
   "cell_type": "code",
   "execution_count": 9,
   "metadata": {},
   "outputs": [
    {
     "name": "stdout",
     "output_type": "stream",
     "text": [
      "On average harmonic mean is better by -0.0005706028360134008 ROC AUC\n"
     ]
    },
    {
     "data": {
      "text/html": [
       "<div>\n",
       "<style scoped>\n",
       "    .dataframe tbody tr th:only-of-type {\n",
       "        vertical-align: middle;\n",
       "    }\n",
       "\n",
       "    .dataframe tbody tr th {\n",
       "        vertical-align: top;\n",
       "    }\n",
       "\n",
       "    .dataframe thead th {\n",
       "        text-align: right;\n",
       "    }\n",
       "</style>\n",
       "<table border=\"1\" class=\"dataframe\">\n",
       "  <thead>\n",
       "    <tr style=\"text-align: right;\">\n",
       "      <th></th>\n",
       "      <th>Richard mean</th>\n",
       "      <th>Richard std</th>\n",
       "      <th>Julian mean</th>\n",
       "      <th>Julian std</th>\n",
       "      <th>Freeman mean</th>\n",
       "      <th>Freeman std</th>\n",
       "    </tr>\n",
       "  </thead>\n",
       "  <tbody>\n",
       "    <tr>\n",
       "      <th>DecisionTreeClassifier</th>\n",
       "      <td>0.530396</td>\n",
       "      <td>0.068491</td>\n",
       "      <td>0.666296</td>\n",
       "      <td>0.037408</td>\n",
       "      <td>0.634508</td>\n",
       "      <td>0.060706</td>\n",
       "    </tr>\n",
       "    <tr>\n",
       "      <th>RandomForestClassifier</th>\n",
       "      <td>0.591064</td>\n",
       "      <td>0.132169</td>\n",
       "      <td>0.596630</td>\n",
       "      <td>0.093154</td>\n",
       "      <td>0.704051</td>\n",
       "      <td>0.122653</td>\n",
       "    </tr>\n",
       "    <tr>\n",
       "      <th>GaussianNB</th>\n",
       "      <td>0.512090</td>\n",
       "      <td>0.067867</td>\n",
       "      <td>0.587539</td>\n",
       "      <td>0.160661</td>\n",
       "      <td>0.564750</td>\n",
       "      <td>0.113913</td>\n",
       "    </tr>\n",
       "    <tr>\n",
       "      <th>GradientBoostingClassifier</th>\n",
       "      <td>0.548052</td>\n",
       "      <td>0.035066</td>\n",
       "      <td>0.523315</td>\n",
       "      <td>0.160408</td>\n",
       "      <td>0.511132</td>\n",
       "      <td>0.053262</td>\n",
       "    </tr>\n",
       "    <tr>\n",
       "      <th>KNeighborsClassifier</th>\n",
       "      <td>0.605195</td>\n",
       "      <td>0.084184</td>\n",
       "      <td>0.507081</td>\n",
       "      <td>0.070518</td>\n",
       "      <td>0.647248</td>\n",
       "      <td>0.102638</td>\n",
       "    </tr>\n",
       "    <tr>\n",
       "      <th>LogisticRegression</th>\n",
       "      <td>0.602752</td>\n",
       "      <td>0.086126</td>\n",
       "      <td>0.595207</td>\n",
       "      <td>0.148799</td>\n",
       "      <td>0.621769</td>\n",
       "      <td>0.150067</td>\n",
       "    </tr>\n",
       "    <tr>\n",
       "      <th>SVC</th>\n",
       "      <td>0.605164</td>\n",
       "      <td>0.062684</td>\n",
       "      <td>0.510049</td>\n",
       "      <td>0.095093</td>\n",
       "      <td>0.640662</td>\n",
       "      <td>0.081749</td>\n",
       "    </tr>\n",
       "    <tr>\n",
       "      <th>DummyClassifier</th>\n",
       "      <td>0.500000</td>\n",
       "      <td>0.000000</td>\n",
       "      <td>0.500000</td>\n",
       "      <td>0.000000</td>\n",
       "      <td>0.500000</td>\n",
       "      <td>0.000000</td>\n",
       "    </tr>\n",
       "  </tbody>\n",
       "</table>\n",
       "</div>"
      ],
      "text/plain": [
       "                            Richard mean  Richard std  Julian mean  \\\n",
       "DecisionTreeClassifier          0.530396     0.068491     0.666296   \n",
       "RandomForestClassifier          0.591064     0.132169     0.596630   \n",
       "GaussianNB                      0.512090     0.067867     0.587539   \n",
       "GradientBoostingClassifier      0.548052     0.035066     0.523315   \n",
       "KNeighborsClassifier            0.605195     0.084184     0.507081   \n",
       "LogisticRegression              0.602752     0.086126     0.595207   \n",
       "SVC                             0.605164     0.062684     0.510049   \n",
       "DummyClassifier                 0.500000     0.000000     0.500000   \n",
       "\n",
       "                            Julian std  Freeman mean  Freeman std  \n",
       "DecisionTreeClassifier        0.037408      0.634508     0.060706  \n",
       "RandomForestClassifier        0.093154      0.704051     0.122653  \n",
       "GaussianNB                    0.160661      0.564750     0.113913  \n",
       "GradientBoostingClassifier    0.160408      0.511132     0.053262  \n",
       "KNeighborsClassifier          0.070518      0.647248     0.102638  \n",
       "LogisticRegression            0.148799      0.621769     0.150067  \n",
       "SVC                           0.095093      0.640662     0.081749  \n",
       "DummyClassifier               0.000000      0.500000     0.000000  "
      ]
     },
     "execution_count": 9,
     "metadata": {},
     "output_type": "execute_result"
    }
   ],
   "source": [
    "print('On average harmonic mean is better by', (b_harmonic_mean.mean(axis=1) - b_difference.mean(axis=1)).mean(), 'ROC AUC')\n",
    "b_difference"
   ]
  },
  {
   "cell_type": "markdown",
   "metadata": {},
   "source": [
    "The prediction with difference instead of harmonic mean is therefore marginally worse."
   ]
  },
  {
   "cell_type": "code",
   "execution_count": 10,
   "metadata": {},
   "outputs": [
    {
     "name": "stderr",
     "output_type": "stream",
     "text": [
      "The PostScript backend does not support transparency; partially transparent artists will be rendered opaque.\n",
      "The PostScript backend does not support transparency; partially transparent artists will be rendered opaque.\n",
      "The PostScript backend does not support transparency; partially transparent artists will be rendered opaque.\n",
      "The PostScript backend does not support transparency; partially transparent artists will be rendered opaque.\n"
     ]
    },
    {
     "data": {
      "image/png": "[encoded data removed]",
      "text/plain": [
       "<Figure size 432x432 with 1 Axes>"
      ]
     },
     "metadata": {
      "needs_background": "light"
     },
     "output_type": "display_data"
    }
   ],
   "source": [
    "b = b_difference\n",
    "\n",
    "plt.rc('font', family='serif')\n",
    "fig = plt.figure(figsize=(6, 6))\n",
    "degrees=75\n",
    "plt.ylabel('ROC AUC')\n",
    "plt.xticks(rotation=degrees)\n",
    "plt.ylim([0, 1])\n",
    "plt.gca().fill_between([-1, 8], 0, 0.5, facecolor='grey', edgecolor='k', alpha=0.25, hatch='\\\\')\n",
    "plt.errorbar(b.index, b['Richard mean'], yerr=b['Richard std'], label='clinical')\n",
    "plt.errorbar(b.index, b['Freeman mean'], yerr=b['Freeman std'], label='clinical + genomic')\n",
    "plt.legend(frameon=False)\n",
    "# plt.tight_layout()\n",
    "plt.savefig('figs/comparison_classifiers.png', bbox_inches = 'tight')\n",
    "plt.savefig('figs/comparison_classifiers.eps', bbox_inches = 'tight')"
   ]
  },
  {
   "cell_type": "markdown",
   "metadata": {},
   "source": [
    "# 4) Choose model logistic regression.\n",
    "The logistic regression model doesn't have the best accuracy in absolute terms, but is much simpler than the RandomForest. So by occams razor, we pick it."
   ]
  },
  {
   "cell_type": "code",
   "execution_count": 11,
   "metadata": {},
   "outputs": [],
   "source": [
    "random_state=1234\n",
    "logistic_Freeman_parameters = {\n",
    "    \"random_state\": random_state,\n",
    "#     \"penalty\": \"l2\",\n",
    "#     \"class_weight\": \"balanced\",\n",
    "#     \"solver\": \"newton-cg\",\n",
    "#     \"C\": 1.0,\n",
    "#     \"max_iter\": 10000,\n",
    "#     'tol': 0.00001,\n",
    "}\n",
    "logistic_Freeman = pipeline_Freeman(LogisticRegression, **logistic_Freeman_parameters)"
   ]
  },
  {
   "cell_type": "markdown",
   "metadata": {},
   "source": [
    "# 6) Cross validation\n",
    "Find the optimal hyper parameters."
   ]
  },
  {
   "cell_type": "code",
   "execution_count": 12,
   "metadata": {},
   "outputs": [],
   "source": [
    "logistic_regression_hyper_parameters = {\n",
    "#     \"transform_columns__age_discretizer__n_bins\": (2, 3, 4, 5),\n",
    "    \"filter_rare_mutations__top_k_features\": (4, 5, 6, 7, 8, 10, 12, 18, 24, 48),\n",
    "#     \"estimator__l1_ratio\": [0.025, 0.05, 0.125, 0.25, 0.375, 0.5, 0.6, 0.75, 0.85, 1.0],\n",
    "    \"estimator__C\": [0.05, 0.1, 0.25, 0.5, 0.75, 1.0, 1.5, 2.0, 4.0],\n",
    "    \"estimator__class_weight\": [\"balanced\", None],\n",
    "}\n",
    "clf_search = GridSearchCV(\n",
    "    logistic_Freeman,\n",
    "    logistic_regression_hyper_parameters,\n",
    "    scoring=\"roc_auc\",\n",
    "    n_jobs=8,\n",
    "    cv=5,\n",
    ")"
   ]
  },
  {
   "cell_type": "code",
   "execution_count": 13,
   "metadata": {},
   "outputs": [],
   "source": [
    "# clf_search.fit(X_train_hm, y_train_resp)"
   ]
  },
  {
   "cell_type": "code",
   "execution_count": 14,
   "metadata": {},
   "outputs": [],
   "source": [
    "# print(\"Best parameters set found on development set:\")\n",
    "# print()\n",
    "# print(clf_search.best_params_)\n",
    "# print()\n",
    "# print(\"Grid scores on development set:\")\n",
    "# print()\n",
    "# means = clf_search.cv_results_['mean_test_score']\n",
    "# stds = clf_search.cv_results_['std_test_score']\n",
    "# for mean, std, params in zip(means, stds, clf_search.cv_results_['params']):\n",
    "#     print(\"%0.3f (+/-%0.03f) for %r\"\n",
    "#           % (mean, std * 2, params))\n",
    "# print()"
   ]
  },
  {
   "cell_type": "code",
   "execution_count": 15,
   "metadata": {},
   "outputs": [],
   "source": [
    "# # Non-convergent best parameters under elasticnet.\n",
    "# best_params = {\n",
    "#     'estimator__C': 2.0,\n",
    "#     'estimator__class_weight': None,\n",
    "#     'estimator__l1_ratio': 0.025,\n",
    "#     \"estimator__penalty\": \"l1\",\n",
    "#     \"estimator__solver\": \"saga\",\n",
    "#     'filter_rare_mutations__top_k_features': 4,\n",
    "#     'transform_columns__age_discretizer__n_bins': 2,\n",
    "# }\n",
    "\n",
    "# Best parameters under L2 norm.\n",
    "best_params = {\n",
    "    \"estimator__C\": 2.0,\n",
    "    \"estimator__class_weight\": \"balanced\",\n",
    "    \"estimator__solver\": \"newton-cg\",\n",
    "#     \"estimator__solver\": \"saga\",\n",
    "    \"filter_rare_mutations__top_k_features\": 4,\n",
    "#     \"transform_columns__age_discretizer__n_bins\": 2,\n",
    "}\n"
   ]
  },
  {
   "cell_type": "code",
   "execution_count": 16,
   "metadata": {},
   "outputs": [],
   "source": [
    "# assert best_params == clf_search.best_params_"
   ]
  },
  {
   "cell_type": "code",
   "execution_count": 17,
   "metadata": {},
   "outputs": [
    {
     "data": {
      "text/plain": [
       "Pipeline(memory=None,\n",
       "         steps=[('clinical_curation',\n",
       "                 FunctionTransformer(accept_sparse=False, check_inverse=True,\n",
       "                                     func=<function clinical_data_curation at 0x7faadd113b90>,\n",
       "                                     inv_kw_args=None, inverse_func=None,\n",
       "                                     kw_args=None, pass_y='deprecated',\n",
       "                                     validate=False)),\n",
       "                ('remove_specific_phenotypes',\n",
       "                 FunctionTransformer(accept_sparse=False, check_inverse=True,\n",
       "                                     func=<function...\n",
       "                                                   'adrenalmeta', 'livermeta',\n",
       "                                                   'lungmeta', 'skeletonmeta',\n",
       "                                                   'age'])],\n",
       "                                   verbose=False)),\n",
       "                ('estimator',\n",
       "                 LogisticRegression(C=2.0, class_weight='balanced', dual=False,\n",
       "                                    fit_intercept=True, intercept_scaling=1,\n",
       "                                    l1_ratio=None, max_iter=100,\n",
       "                                    multi_class='warn', n_jobs=None,\n",
       "                                    penalty='l2', random_state=1234,\n",
       "                                    solver='newton-cg', tol=0.0001, verbose=0,\n",
       "                                    warm_start=False))],\n",
       "         verbose=False)"
      ]
     },
     "execution_count": 17,
     "metadata": {},
     "output_type": "execute_result"
    }
   ],
   "source": [
    "# Pick the best parameteres.\n",
    "logistic_Freeman.set_params(**best_params)\n",
    "logistic_Freeman.fit(X_train_hm, y_train_resp)"
   ]
  },
  {
   "cell_type": "markdown",
   "metadata": {},
   "source": [
    "# 7) Make plots of the model"
   ]
  },
  {
   "cell_type": "code",
   "execution_count": 18,
   "metadata": {},
   "outputs": [
    {
     "data": {
      "image/png": "[encoded data removed]",
      "text/plain": [
       "<Figure size 576x432 with 1 Axes>"
      ]
     },
     "metadata": {
      "needs_background": "light"
     },
     "output_type": "display_data"
    },
    {
     "data": {
      "image/png": "[encoded data removed]",
      "text/plain": [
       "<Figure size 576x432 with 1 Axes>"
      ]
     },
     "metadata": {
      "needs_background": "light"
     },
     "output_type": "display_data"
    }
   ],
   "source": [
    "figure_filenames = (\"logistic_regression_clinical_freeman\", \"logistic_regression_genetic_freeman\")\n",
    "view_linear_model_freeman(X_train_hm, y_train_resp, logistic_Freeman, filenames=figure_filenames, thresshold=0.1)"
   ]
  }
 ],
 "metadata": {
  "kernelspec": {
   "display_name": "Python 3",
   "language": "python",
   "name": "python3"
  },
  "language_info": {
   "codemirror_mode": {
    "name": "ipython",
    "version": 3
   },
   "file_extension": ".py",
   "mimetype": "text/x-python",
   "name": "python",
   "nbconvert_exporter": "python",
   "pygments_lexer": "ipython3",
   "version": "3.7.5"
  }
 },
 "nbformat": 4,
 "nbformat_minor": 2
}
