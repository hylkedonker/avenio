{
 "cells": [
  {
   "cell_type": "markdown",
   "metadata": {},
   "source": [
    "# ctDNA changes as a predictive marker for response (PR/CR/SD/PD) (UMCG/Paul and Hylke, validation at MUG)\n",
    "To test whether the genomic information helps predict clinical response, we set out to build a model that is able to single out responders (versus non-responders and non-evaluable participants). To this end, we first partitioned the dataset into a training-validation set ($n=...$ participants) and an hold-out test set (the remainder, $n=...$ subjects). \n",
    "Below, we report results from five-fold cross-validalation on the training-validation set, and the test set.\n",
    "\n",
    "To evaluate the model, the following transformation steps were carried out on the set of variant calls from the Avenio platform, after the aforementioned filtering.\n",
    "1. Point mutations are pooled on a gene granularity by summing over individual variations. \n",
    "\n",
    "    a. For either $t_0$ or $t_1$ only results, we directly sum, i.e., \n",
    "    $$\n",
    "    \\overline{c}_i^{(\\alpha)}(t) \\sum_{j\\in \\text{variations in }i} c_{ij}^{(\\alpha)}(t)\n",
    "    $$ where $c_{ij}^{(\\alpha)}(t)$ denotes the mutant concentration (in units of molecules per mL) of variation $j$ (e.g., $j$ = c.973T>C) in gene $i$ (i.e., $i \\in \\{\\text{EGFR}, \\text{KRAS},\\dots  \\}$) at time point $t\\in \\{t_0, t_1\\}$ for patient $\\alpha$. Models in which the variant allele frequency, denoted by $x_{ij}^{(\\alpha)}(t)$, is used instead of the mutant concentration, are coarse grained in a similar way.\n",
    "    \n",
    "    b. For results in which both $t_0$ and $t_1$ information is used, the transformation is applied before coarse graining\n",
    "$$\n",
    "\\overline{f}^{(\\alpha)}_i(t_0, t_1) = \\sum_{j\\in \\text{variations in }i} f\\left(c_{ij}^{(\\alpha)}(t_0), c^{(\\alpha)}_{ij}(t_1)\\right),\n",
    "$$\n",
    " and similarly for the variant allele frequency.\n",
    "2. CNV scores are calculated per gene and so no pooling is required. Results considering both $t_0$ and $t_1$ can therefore be directly transformed using $f(u, v)$.\n",
    "3. After pooling, each genomic feature is made dimensionless by maximum absolute value scaling. The dimensionless numbers lie in the $[-1, 1]$ interval, thereby facilitating a comparison with the clinical variables.\n",
    "4. The clinical variables age, gender, therapy line, smoking status, histology and presence of lymf-, brain-, adrenal-, liver- and lung metastases were selected for modelling. Each clinical variable is converted into a numeric value by one-hot-encoding, after dichotomising each variable.\n",
    "5. All genomic values are set to zero when, after filtering, no variants were observed.\n",
    "\n",
    "\n",
    "A variety of machine learnings models were compared to predict the treatment response (Fig. [?]). All models proved to be equivalent --- within the variation observed in cross-validation --- in terms of the area under the curve of the receiver operating characeristic (AUC ROC). We shall therefore focus on a logistic regression model with $L_2$ regularisation in view of its simple-to-interpret coefficients, and the relative small standard deviation in cross-validation results of the AUC ROC."
   ]
  },
  {
   "cell_type": "markdown",
   "metadata": {},
   "source": [
    "## In how many patients did we observe consistent increase/decrease of ctDNA levels? How many patients showed a mixed molecular response?\n",
    "Figure of Paul\n",
    "## Can changing levels predict response?\n",
    "## Do baseline levels correlate with response\n",
    "## Define a cut-off for quantitative change or for baseline levels!\n",
    "## Use mean of all variants\n",
    "## Use a delta (T0-T1) of 30% as cut-off\n",
    "## Use a delta (T0-T1) of 50% as cut-off\n",
    "## Use a delta (T0-T1) of 80% as cut-off\n",
    "## Consider only variants with VAF <0.5%\n",
    "## Consider only variants with VAF <1%\n",
    "## Use “highest” only\n",
    "## Use cases with consistent vs mixed changes in levels\n",
    "## Use all variants including synonymous\n",
    "## Use only variants excluding synonymous\n",
    "## Check whether VAF OR mutant molecules/ml is a better predictor"
   ]
  },
  {
   "cell_type": "code",
   "execution_count": null,
   "metadata": {},
   "outputs": [],
   "source": []
  }
 ],
 "metadata": {
  "kernelspec": {
   "display_name": "Python 3",
   "language": "python",
   "name": "python3"
  },
  "language_info": {
   "codemirror_mode": {
    "name": "ipython",
    "version": 3
   },
   "file_extension": ".py",
   "mimetype": "text/x-python",
   "name": "python",
   "nbconvert_exporter": "python",
   "pygments_lexer": "ipython3",
   "version": "3.8.2"
  }
 },
 "nbformat": 4,
 "nbformat_minor": 2
}
