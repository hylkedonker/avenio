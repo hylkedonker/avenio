{
 "cells": [
  {
   "cell_type": "code",
   "execution_count": 1,
   "metadata": {},
   "outputs": [],
   "source": [
    "%matplotlib inline\n",
    "import numpy as np\n",
    "\n",
    "from transform import combine_tsv_files, load_process_and_store_spreadsheets"
   ]
  },
  {
   "cell_type": "code",
   "execution_count": 2,
   "metadata": {},
   "outputs": [],
   "source": [
    "from transform import load_avenio_files"
   ]
  },
  {
   "cell_type": "code",
   "execution_count": 3,
   "metadata": {},
   "outputs": [],
   "source": [
    "def harmonic_mean(t0, t1):\n",
    "    return t0 * t1 / (t0 + t1)\n",
    "\n",
    "load_process_and_store_spreadsheets(\n",
    "    transformation=harmonic_mean,\n",
    "    all_filename_prefix=\"output/all_\",\n",
    "    train_filename_prefix=\"output/train_\",\n",
    "    test_filename_prefix=\"output/test_\",\n",
    ")"
   ]
  },
  {
   "cell_type": "code",
   "execution_count": null,
   "metadata": {},
   "outputs": [],
   "source": [
    "def difference(t0, t1):\n",
    "    return t1 - t0\n",
    "\n",
    "load_process_and_store_spreadsheets(\n",
    "    transformation=difference,\n",
    "    all_filename_prefix=\"output/all_\",\n",
    "    train_filename_prefix=\"output/train_\",\n",
    "    test_filename_prefix=\"output/test_\",\n",
    ")"
   ]
  },
  {
   "cell_type": "code",
   "execution_count": null,
   "metadata": {},
   "outputs": [],
   "source": [
    "def relative_difference(t0, t1):\n",
    "    if t0 != 0.0:\n",
    "        return (t1-t0)/t0\n",
    "    return (t1 - t0)/t1\n",
    "\n",
    "load_process_and_store_spreadsheets(\n",
    "    transformation=relative_difference,\n",
    "    all_filename_prefix=\"output/all_\",\n",
    "    train_filename_prefix=\"output/train_\",\n",
    "    test_filename_prefix=\"output/test_\",\n",
    ")"
   ]
  },
  {
   "cell_type": "code",
   "execution_count": null,
   "metadata": {},
   "outputs": [],
   "source": [
    "def up_or_down(t0, t1):\n",
    "    return np.sign(t1 - t0)\n",
    "\n",
    "\n",
    "load_process_and_store_spreadsheets(\n",
    "    transformation=up_or_down,\n",
    "    all_filename_prefix=\"output/all_\",\n",
    "    train_filename_prefix=\"output/train_\",\n",
    "    test_filename_prefix=\"output/test_\",\n",
    ")"
   ]
  },
  {
   "cell_type": "code",
   "execution_count": null,
   "metadata": {},
   "outputs": [],
   "source": [
    "def margin_sign(t0, t1, margin=0.15):\n",
    "    if t0 == 0.0:  # Complete clearance at baseline.\n",
    "        return 1\n",
    "    if t1 == 0.0:  # Complete clearance at follow up.\n",
    "        return -1\n",
    "    dt = (t1-t0)/t0\n",
    "    if dt > margin:\n",
    "        return 1\n",
    "    elif dt < -margin:\n",
    "        return -1\n",
    "    return 0\n",
    "\n",
    "\n",
    "load_process_and_store_spreadsheets(\n",
    "    transformation=margin_sign,\n",
    "    all_filename_prefix=\"output/all_\",\n",
    "    train_filename_prefix=\"output/train_\",\n",
    "    test_filename_prefix=\"output/test_\",\n",
    ")"
   ]
  },
  {
   "cell_type": "markdown",
   "metadata": {},
   "source": [
    "Data without train/test split, with CNV scores merged in."
   ]
  },
  {
   "cell_type": "code",
   "execution_count": null,
   "metadata": {},
   "outputs": [],
   "source": [
    "def to_excel(snv_name, cnv_name):\n",
    "    excel_filename = snv_name.replace('.tsv', '_CNV.xlsx')\n",
    "    X, y = combine_tsv_files(snv_name, cnv_name)\n",
    "    X.merge(y, left_index=True, right_index=True).to_excel(excel_filename)\n",
    "    print(f'Wrote {excel_filename}.')"
   ]
  },
  {
   "cell_type": "code",
   "execution_count": null,
   "metadata": {},
   "outputs": [],
   "source": [
    "for coarseness in ('gene', 'pathway'):\n",
    "    for transformation in ('harmonic_mean', 'difference', 'relative_difference', 'up_or_down', 'margin_sign'):\n",
    "        to_excel(\n",
    "            f\"output/all__{coarseness}__{transformation}__Allele Fraction.tsv\",\n",
    "            f\"output/all__{coarseness}__{transformation}__CNV Score.tsv\",\n",
    "        )\n",
    "        to_excel(\n",
    "            f\"output/all__{coarseness}__{transformation}__No. Mutant Molecules per mL.tsv\",\n",
    "            f\"output/all__{coarseness}__{transformation}__CNV Score.tsv\",\n",
    "        )"
   ]
  }
 ],
 "metadata": {
  "kernelspec": {
   "display_name": "Python 3",
   "language": "python",
   "name": "python3"
  },
  "language_info": {
   "codemirror_mode": {
    "name": "ipython",
    "version": 3
   },
   "file_extension": ".py",
   "mimetype": "text/x-python",
   "name": "python",
   "nbconvert_exporter": "python",
   "pygments_lexer": "ipython3",
   "version": "3.8.5"
  }
 },
 "nbformat": 4,
 "nbformat_minor": 2
}
