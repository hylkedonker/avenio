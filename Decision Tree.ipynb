{
 "cells": [
  {
   "cell_type": "code",
   "execution_count": null,
   "metadata": {},
   "outputs": [],
   "source": [
    "%matplotlib inline\n",
    "from matplotlib import pyplot as plt\n",
    "import numpy as np\n",
    "import pandas as pd\n",
    "import seaborn as sns\n",
    "from sklearn.compose import ColumnTransformer\n",
    "from sklearn.ensemble import GradientBoostingClassifier, RandomForestClassifier\n",
    "from sklearn.model_selection import train_test_split\n",
    "from sklearn.pipeline import FeatureUnion, Pipeline\n",
    "from sklearn.preprocessing import FunctionTransformer, LabelEncoder, OrdinalEncoder\n",
    "from sklearn.tree import DecisionTreeClassifier, plot_tree, export_graphviz\n",
    "\n",
    "from source import load_avenio_files\n",
    "from transform import ClassifierAsTransformer, clean_mutation_columns, dummy_encode_mutations, get_top_correlated, mutation_train_test_split, patient_allele_frequencies\n",
    "\n",
    "\n",
    "RANDOM_STATE = 1234\n",
    "np.random.seed(RANDOM_STATE)"
   ]
  },
  {
   "cell_type": "code",
   "execution_count": null,
   "metadata": {},
   "outputs": [],
   "source": [
    "# Load data from spreadsheet and SPSS files.\n",
    "mutation_data_frame, phenotypes = load_avenio_files()"
   ]
  },
  {
   "cell_type": "code",
   "execution_count": null,
   "metadata": {},
   "outputs": [],
   "source": [
    "# Vocabulary is the entire dataset, not only training set. Otherwise we run into problems during inference.\n",
    "gene_vocabulary = mutation_data_frame['Gene'].unique()\n",
    "allele_columns = [\"T0: Allele \\nFraction\", \"T1: Allele Fraction\"]\n",
    "\n",
    "# raise Exception('Check allele columns!')\n",
    "\n",
    "# Convert particular columns to numbers and drop rows with missing data.\n",
    "mutation_data_frame = clean_mutation_columns(mutation_data_frame)"
   ]
  },
  {
   "cell_type": "code",
   "execution_count": null,
   "metadata": {},
   "outputs": [],
   "source": [
    "def f_t(t_0, t_1):\n",
    "    return (t_1 - t_0) / t_0"
   ]
  },
  {
   "cell_type": "code",
   "execution_count": null,
   "metadata": {},
   "outputs": [],
   "source": [
    "patient_mutation_frequencies = patient_allele_frequencies(mutation_data_frame, gene_vocabulary, f_t)"
   ]
  },
  {
   "cell_type": "code",
   "execution_count": null,
   "metadata": {},
   "outputs": [],
   "source": [
    "# Phenotype features that serve as input for the model.\n",
    "phenotype_features = [\n",
    "    \"gender\",\n",
    "    \"leeftijd\",\n",
    "    \"stage\",\n",
    "    \"therapyline\",\n",
    "    \"smokingstatus\",\n",
    "    \"Systemischetherapie\",\n",
    "    \"histology_grouped\",\n",
    "    \"lymfmeta\",\n",
    "    \"brainmeta\",\n",
    "    \"adrenalmeta\",\n",
    "    \"livermeta\",\n",
    "    \"lungmeta\",\n",
    "    \"skeletonmeta\",\n",
    "]\n",
    "\n",
    "# Phenotype labels that we wish to predict.\n",
    "phenotype_labels = [\n",
    "    # Labels:\n",
    "    \"Clinical_Response\",\n",
    "    \"response_grouped\",\n",
    "    \"progressie\",\n",
    "]\n",
    "# The columns to extract from the SPSS file.\n",
    "phenotypes_to_keep = phenotype_features + phenotype_labels\n",
    "\n",
    "# From those listed above, the following columns are categorical (not counting the labels).\n",
    "categorical_input_columns = [\n",
    "    \"gender\",\n",
    "    \"stage\",\n",
    "    \"therapyline\",\n",
    "    \"smokingstatus\",\n",
    "    \"Systemischetherapie\",\n",
    "    \"histology_grouped\",\n",
    "    \"lymfmeta\",\n",
    "    \"brainmeta\",\n",
    "    \"adrenalmeta\",\n",
    "    \"livermeta\",\n",
    "    \"lungmeta\",\n",
    "    \"skeletonmeta\",\n",
    "]\n",
    "# Combine mutation data and phenotype data.\n",
    "X = pd.merge(\n",
    "    left=patient_mutation_frequencies,\n",
    "    right=phenotypes[phenotypes_to_keep],\n",
    "    left_index=True,\n",
    "    right_index=True,\n",
    ")"
   ]
  },
  {
   "cell_type": "code",
   "execution_count": null,
   "metadata": {},
   "outputs": [],
   "source": [
    "# Extract the labels for the classifier.\n",
    "y_resp = X.pop('Clinical_Response')\n",
    "y_resp_gp = X.pop('response_grouped')\n",
    "y_prog = X.pop('progressie')"
   ]
  },
  {
   "cell_type": "markdown",
   "metadata": {},
   "source": [
    "Train-test split"
   ]
  },
  {
   "cell_type": "code",
   "execution_count": null,
   "metadata": {},
   "outputs": [],
   "source": [
    "f_test = 0.3\n",
    "X_train, X_test, y_train, y_test = train_test_split(X, y_resp, test_size=f_test, random_state=RANDOM_STATE)"
   ]
  },
  {
   "cell_type": "markdown",
   "metadata": {},
   "source": [
    "## Transformation pipeline\n",
    "Turn categorical data to integers."
   ]
  },
  {
   "cell_type": "code",
   "execution_count": null,
   "metadata": {},
   "outputs": [],
   "source": [
    "preprocess = ColumnTransformer([\n",
    "    (\"LabelEncoder\", OrdinalEncoder(), categorical_input_columns),\n",
    "    ],\n",
    "    remainder='passthrough',\n",
    ")"
   ]
  },
  {
   "cell_type": "markdown",
   "metadata": {},
   "source": [
    "Classification algorithms:"
   ]
  },
  {
   "cell_type": "code",
   "execution_count": null,
   "metadata": {},
   "outputs": [],
   "source": [
    "tree_classifier = DecisionTreeClassifier(random_state=RANDOM_STATE, max_depth=4)\n",
    "forest_classifier = RandomForestClassifier(random_state=RANDOM_STATE, n_estimators=50, max_depth=4)\n",
    "gb_classifier = GradientBoostingClassifier(random_state=RANDOM_STATE, n_estimators=50)"
   ]
  },
  {
   "cell_type": "markdown",
   "metadata": {},
   "source": [
    "Build entire processing pipeline, including a function to single out specific columns."
   ]
  },
  {
   "cell_type": "code",
   "execution_count": null,
   "metadata": {},
   "outputs": [],
   "source": [
    "classifier_names = ['tree', 'forest', 'gradient boost']\n",
    "def build_pipelines(column_selection_function):\n",
    "    # Select particular columns, don't convert to NumPy (validate=False).\n",
    "    column_selector = FunctionTransformer(column_selection_function, validate=False)\n",
    "    p_tree = Pipeline(steps=[\n",
    "        (\"select_columns\", column_selector),\n",
    "        (\"transform_columns\", preprocess), \n",
    "        (\"classify\", tree_classifier),\n",
    "    ])\n",
    "    p_forest = Pipeline(steps=[\n",
    "        (\"select_columns\", column_selector),\n",
    "        (\"transform_columns\", preprocess), \n",
    "        (\"classify\", forest_classifier),\n",
    "    ])\n",
    "    p_gradient_boost = Pipeline(steps=[\n",
    "        (\"select_columns\", column_selector),\n",
    "        (\"transform_columns\", preprocess), \n",
    "        (\"classify\", gb_classifier),\n",
    "    ])\n",
    "    return p_tree, p_forest, p_gradient_boost"
   ]
  },
  {
   "cell_type": "code",
   "execution_count": null,
   "metadata": {},
   "outputs": [],
   "source": [
    "def generate_feature_names(categorical_column_names, column_names):\n",
    "    \"\"\"\n",
    "    Re-order column names to match the pipeline transformation.\n",
    "    \"\"\" \n",
    "    # `ColumnTransformer` moves all the categorical data to the front of the matrix.\n",
    "    new_column_order = categorical_column_names.copy()\n",
    "    # Concatenate the columns that are left untouched.\n",
    "    for column in column_names:\n",
    "        if column not in categorical_column_names:\n",
    "            new_column_order.append(column)\n",
    "    return new_column_order"
   ]
  },
  {
   "cell_type": "code",
   "execution_count": null,
   "metadata": {},
   "outputs": [],
   "source": [
    "def compare_pipelines(pipelines):\n",
    "    pipeline_scores = []\n",
    "    for p in pipelines:\n",
    "        # Fit to training data.\n",
    "        p.fit(X_train, y_train)\n",
    "        # Calculate training and testing scores.\n",
    "        pipeline_scores.append([p.score(X_train, y_train), p.score(X_test, y_test)])\n",
    "    return pd.DataFrame(pipeline_scores, columns=['train acc.', 'test acc.'])"
   ]
  },
  {
   "cell_type": "markdown",
   "metadata": {},
   "source": [
    "### Phenotype only\n",
    "Single out phenotype features (ignore mutation information for the moment):"
   ]
  },
  {
   "cell_type": "code",
   "execution_count": null,
   "metadata": {},
   "outputs": [],
   "source": [
    "def select_phenotype_columns(X):\n",
    "    \"\"\"\n",
    "    Ignore mutaton data.\n",
    "    \"\"\" \n",
    "    return X[phenotype_features]"
   ]
  },
  {
   "cell_type": "markdown",
   "metadata": {},
   "source": [
    "Generate pipelines for the various models."
   ]
  },
  {
   "cell_type": "code",
   "execution_count": null,
   "metadata": {},
   "outputs": [],
   "source": [
    "pipelines = build_pipelines(select_phenotype_columns)"
   ]
  },
  {
   "cell_type": "code",
   "execution_count": null,
   "metadata": {},
   "outputs": [],
   "source": [
    "results_pheno_only = compare_pipelines(pipelines)\n",
    "results_pheno_only.index = classifier_names\n",
    "results_pheno_only"
   ]
  },
  {
   "cell_type": "code",
   "execution_count": null,
   "metadata": {},
   "outputs": [],
   "source": [
    "# First pipeline contains decision tree classifier.\n",
    "name, tree_classifier = pipelines[0].steps[-1]\n",
    "# Generate names of columns after the pipeline transformation.\n",
    "new_column_names = generate_feature_names(categorical_input_columns, phenotype_features)"
   ]
  },
  {
   "cell_type": "code",
   "execution_count": null,
   "metadata": {},
   "outputs": [],
   "source": [
    "import graphviz\n",
    "\n",
    "dot_data = export_graphviz(\n",
    "    tree_classifier, \n",
    "    out_file=None,\n",
    "    filled=True,\n",
    "    feature_names=new_column_names,\n",
    "    class_names=tree_classifier.classes_,\n",
    ") \n",
    "graph = graphviz.Source(dot_data)\n"
   ]
  },
  {
   "cell_type": "code",
   "execution_count": null,
   "metadata": {},
   "outputs": [],
   "source": [
    "graph"
   ]
  },
  {
   "cell_type": "markdown",
   "metadata": {},
   "source": [
    "### Mutation data only"
   ]
  },
  {
   "cell_type": "code",
   "execution_count": null,
   "metadata": {},
   "outputs": [],
   "source": [
    "def select_mutation_columns(X):\n",
    "    \"\"\"\n",
    "    Select mutation columns only.\n",
    "    \"\"\" \n",
    "    return X[patient_mutation_frequencies.columns]"
   ]
  },
  {
   "cell_type": "markdown",
   "metadata": {},
   "source": [
    "Apart from all mutations, lets also focus on a small subset of mutations that occur rather frequently."
   ]
  },
  {
   "cell_type": "code",
   "execution_count": null,
   "metadata": {},
   "outputs": [],
   "source": [
    "# Thresshold: genes must occur at least this many times.\n",
    "LAMBDA = 6\n",
    "# What elements are non-zero?\n",
    "non_zero_values = patient_mutation_frequencies[patient_mutation_frequencies != 0]\n",
    "# Pick columns that have at least `LAMBDA` occurences.\n",
    "gene_thressholded = non_zero_values.count() >= LAMBDA\n",
    "genes_to_pick = gene_thressholded.index[gene_thressholded]\n",
    "frequent_mutations = genes_to_pick.values\n",
    "frequent_mutations"
   ]
  },
  {
   "cell_type": "code",
   "execution_count": null,
   "metadata": {},
   "outputs": [],
   "source": [
    "def select_frequent_mutation_columns(X):\n",
    "    \"\"\"\n",
    "    Select mutations that occur above a certain thresshold.\n",
    "    \"\"\"\n",
    "    # Single out selected columns.\n",
    "    return X[frequent_mutations]"
   ]
  },
  {
   "cell_type": "code",
   "execution_count": null,
   "metadata": {},
   "outputs": [],
   "source": [
    "pipelines_all_mutations = build_pipelines(select_mutation_columns)\n",
    "pipelines_some_mutations = build_pipelines(select_frequent_mutation_columns)"
   ]
  },
  {
   "cell_type": "markdown",
   "metadata": {},
   "source": [
    "Remove the phenotype column transformations from the pipelines."
   ]
  },
  {
   "cell_type": "code",
   "execution_count": null,
   "metadata": {},
   "outputs": [],
   "source": [
    "# Setting the transformer to None implies passthrough.\n",
    "for p in pipelines_all_mutations:\n",
    "    p.steps.pop(1)\n",
    "    \n",
    "    # Setting the transformer to None implies passthrough.\n",
    "for p in pipelines_some_mutations:\n",
    "    p.steps.pop(1)"
   ]
  },
  {
   "cell_type": "code",
   "execution_count": null,
   "metadata": {},
   "outputs": [],
   "source": [
    "results_all_mutations = compare_pipelines(pipelines_all_mutations)\n",
    "results_some_mutations = compare_pipelines(pipelines_some_mutations)\n",
    "results_all_mutations.index = classifier_names\n",
    "results_some_mutations.index = classifier_names"
   ]
  },
  {
   "cell_type": "code",
   "execution_count": null,
   "metadata": {},
   "outputs": [],
   "source": [
    "print('Trained on all mutations')\n",
    "results_all_mutations"
   ]
  },
  {
   "cell_type": "code",
   "execution_count": null,
   "metadata": {},
   "outputs": [],
   "source": [
    "print('Trained on some mutations')\n",
    "results_some_mutations"
   ]
  },
  {
   "cell_type": "code",
   "execution_count": null,
   "metadata": {},
   "outputs": [],
   "source": [
    "# First pipeline contains decision tree classifier.\n",
    "name, tree_classifier = pipelines[0].steps[-1]"
   ]
  },
  {
   "cell_type": "code",
   "execution_count": null,
   "metadata": {},
   "outputs": [],
   "source": [
    "import graphviz\n",
    "\n",
    "dot_data = export_graphviz(\n",
    "    tree_classifier, \n",
    "    out_file=None,\n",
    "    filled=True,\n",
    "    feature_names=frequent_mutations,\n",
    "    class_names=tree_classifier.classes_,\n",
    ") \n",
    "graph = graphviz.Source(dot_data)\n"
   ]
  },
  {
   "cell_type": "code",
   "execution_count": null,
   "metadata": {},
   "outputs": [],
   "source": [
    "graph"
   ]
  },
  {
   "cell_type": "markdown",
   "metadata": {},
   "source": [
    "### Phenotype and mutation data\n",
    "\n",
    "\n"
   ]
  },
  {
   "cell_type": "code",
   "execution_count": null,
   "metadata": {},
   "outputs": [],
   "source": [
    "def select_phenotype_columns(X):\n",
    "    \"\"\"\n",
    "    Pass everything through.\n",
    "    \"\"\" \n",
    "    return X"
   ]
  },
  {
   "cell_type": "code",
   "execution_count": null,
   "metadata": {},
   "outputs": [],
   "source": [
    "pipelines = build_pipelines(select_phenotype_columns)"
   ]
  },
  {
   "cell_type": "code",
   "execution_count": null,
   "metadata": {},
   "outputs": [],
   "source": [
    "results_all_features = compare_pipelines(pipelines)\n",
    "results_all_features.index = classifier_names"
   ]
  },
  {
   "cell_type": "code",
   "execution_count": null,
   "metadata": {},
   "outputs": [],
   "source": [
    "print('Trained on all features')\n",
    "results_all_features"
   ]
  },
  {
   "cell_type": "code",
   "execution_count": null,
   "metadata": {},
   "outputs": [],
   "source": [
    "print('Trained only on phenotype data')\n",
    "results_pheno_only"
   ]
  },
  {
   "cell_type": "code",
   "execution_count": null,
   "metadata": {},
   "outputs": [],
   "source": [
    "# First pipeline contains decision tree classifier.\n",
    "name, tree_classifier = pipelines[0].steps[-1]\n",
    "# Generate names of columns after the pipeline transformation.\n",
    "new_column_names = generate_feature_names(categorical_input_columns, X_train.columns)"
   ]
  },
  {
   "cell_type": "code",
   "execution_count": null,
   "metadata": {},
   "outputs": [],
   "source": [
    "import graphviz\n",
    "\n",
    "dot_data = export_graphviz(\n",
    "    tree_classifier, \n",
    "    out_file=None,\n",
    "    filled=True,\n",
    "    feature_names=new_column_names,\n",
    "    class_names=tree_classifier.classes_,\n",
    ") \n",
    "graph = graphviz.Source(dot_data)\n"
   ]
  },
  {
   "cell_type": "code",
   "execution_count": null,
   "metadata": {},
   "outputs": [],
   "source": [
    "graph"
   ]
  },
  {
   "cell_type": "markdown",
   "metadata": {},
   "source": [
    "## Head to tail pipeline\n",
    "Investigate whether first classifying only phenotype data, and then a second classifier with the mutations is able to perform much better."
   ]
  },
  {
   "cell_type": "code",
   "execution_count": null,
   "metadata": {},
   "outputs": [],
   "source": [
    "# Phenotype pipeline.\n",
    "phenotype_tree_classifier = DecisionTreeClassifier(max_depth=3)\n",
    "phenotype_pipeline = Pipeline(steps=[\n",
    "    (\"select_columns\", FunctionTransformer(select_phenotype_columns, validate=False)),\n",
    "    (\"transform_columns\", preprocess), \n",
    "    (\"classify\", ClassifierAsTransformer(classifier=phenotype_tree_classifier)),\n",
    "])"
   ]
  },
  {
   "cell_type": "code",
   "execution_count": null,
   "metadata": {},
   "outputs": [],
   "source": [
    "#  Head-to-tail pipeline.\n",
    "union = FeatureUnion(\n",
    "    [\n",
    "        (\n",
    "            \"mutation_filter\",\n",
    "            FunctionTransformer(select_frequent_mutation_columns, validate=False),\n",
    "        ),\n",
    "        (\"phenotype_classifier\", phenotype_pipeline),\n",
    "    ]\n",
    ")\n",
    "feature_names = tuple(frequent_mutations) + ('pheno_predict',)"
   ]
  },
  {
   "cell_type": "code",
   "execution_count": null,
   "metadata": {},
   "outputs": [],
   "source": [
    "final_classifier = DecisionTreeClassifier(max_depth=5)\n",
    "p = Pipeline(\n",
    "    steps=[\n",
    "        (\"first_classifier_union\", union),\n",
    "        (\"secondary_classifier\", final_classifier),\n",
    "    ]\n",
    ")"
   ]
  },
  {
   "cell_type": "code",
   "execution_count": null,
   "metadata": {},
   "outputs": [],
   "source": [
    "p.fit(X_train, y_train)\n",
    "# Calculate training and testing scores.\n",
    "[p.score(X_train, y_train), p.score(X_test, y_test)]"
   ]
  },
  {
   "cell_type": "code",
   "execution_count": null,
   "metadata": {},
   "outputs": [],
   "source": [
    "import graphviz\n",
    "\n",
    "dot_data = export_graphviz(\n",
    "    final_classifier, \n",
    "    out_file=None,\n",
    "    filled=True,\n",
    "    feature_names=feature_names,\n",
    "    class_names=tree_classifier.classes_,\n",
    ") \n",
    "graph = graphviz.Source(dot_data)\n"
   ]
  },
  {
   "cell_type": "code",
   "execution_count": null,
   "metadata": {},
   "outputs": [],
   "source": [
    "graph"
   ]
  },
  {
   "cell_type": "code",
   "execution_count": null,
   "metadata": {},
   "outputs": [],
   "source": []
  }
 ],
 "metadata": {
  "kernelspec": {
   "display_name": "Python 3",
   "language": "python",
   "name": "python3"
  },
  "language_info": {
   "codemirror_mode": {
    "name": "ipython",
    "version": 3
   },
   "file_extension": ".py",
   "mimetype": "text/x-python",
   "name": "python",
   "nbconvert_exporter": "python",
   "pygments_lexer": "ipython3",
   "version": "3.7.3"
  }
 },
 "nbformat": 4,
 "nbformat_minor": 2
}
