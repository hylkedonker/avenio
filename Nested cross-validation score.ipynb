{
 "cells": [
  {
   "cell_type": "code",
   "execution_count": null,
   "metadata": {},
   "outputs": [],
   "source": [
    "from pipelines import benchmark_pipelines, build_classifier_pipelines\n",
    "from transform import combine_tsv_files"
   ]
  },
  {
   "cell_type": "code",
   "execution_count": null,
   "metadata": {},
   "outputs": [],
   "source": [
    "X, y = combine_tsv_files(\n",
    "    \"output/all__gene__difference__No. Mutant Molecules per mL.tsv\",\n",
    "    \"output/all__gene__difference__CNV Score.tsv\",\n",
    ")\n",
    "\n",
    "# Indicate positive label.\n",
    "y_resp = y[\"response_grouped\"]\n",
    "response_labels = ['non responder (sd+pd)', 'responder (pr+cr)', 'non evaluable (ne)']\n",
    "pos_label = 'responder (pr+cr)'\n",
    "y_resp = y_resp == pos_label"
   ]
  },
  {
   "cell_type": "markdown",
   "metadata": {},
   "source": [
    "Initialise models that we wish to compare."
   ]
  },
  {
   "cell_type": "code",
   "execution_count": null,
   "metadata": {},
   "outputs": [],
   "source": [
    "ps_class = build_classifier_pipelines()"
   ]
  },
  {
   "cell_type": "code",
   "execution_count": null,
   "metadata": {},
   "outputs": [],
   "source": [
    "model = ps_class['DecisionTreeClassifier']['Freeman']"
   ]
  },
  {
   "cell_type": "code",
   "execution_count": null,
   "metadata": {},
   "outputs": [],
   "source": [
    "b_difference = benchmark_pipelines(\n",
    "    ps_class, X, y_resp, metric='roc_auc',\n",
    ")"
   ]
  }
 ],
 "metadata": {
  "kernelspec": {
   "display_name": "Python 3",
   "language": "python",
   "name": "python3"
  },
  "language_info": {
   "codemirror_mode": {
    "name": "ipython",
    "version": 3
   },
   "file_extension": ".py",
   "mimetype": "text/x-python",
   "name": "python",
   "nbconvert_exporter": "python",
   "pygments_lexer": "ipython3",
   "version": "3.8.2"
  }
 },
 "nbformat": 4,
 "nbformat_minor": 4
}
