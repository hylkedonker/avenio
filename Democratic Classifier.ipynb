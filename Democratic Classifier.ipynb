{
 "cells": [
  {
   "cell_type": "code",
   "execution_count": 1,
   "metadata": {},
   "outputs": [],
   "source": [
    "%matplotlib inline\n",
    "from catboost import CatBoostClassifier\n",
    "from matplotlib import pyplot as plt\n",
    "import numpy as np\n",
    "import pandas as pd\n",
    "import seaborn as sns\n",
    "from imblearn.over_sampling import SMOTENC\n",
    "from sklearn.compose import ColumnTransformer\n",
    "from sklearn.ensemble import GradientBoostingClassifier, RandomForestClassifier, VotingClassifier\n",
    "from sklearn.metrics import roc_curve, confusion_matrix, f1_score\n",
    "from sklearn.model_selection import train_test_split\n",
    "from sklearn.neighbors import KNeighborsClassifier\n",
    "from sklearn.pipeline import FeatureUnion, Pipeline\n",
    "from sklearn.preprocessing import FunctionTransformer, LabelEncoder, OrdinalEncoder, OneHotEncoder, LabelBinarizer\n",
    "from sklearn.tree import DecisionTreeClassifier, plot_tree, export_graphviz\n",
    "from sklearn.utils.multiclass import unique_labels\n",
    "\n",
    "from source import add_mutationless_patients, load_avenio_files\n",
    "from transform import categorical_columns_to_lower, ClassifierAsTransformer, clean_mutation_columns, dummy_encode_mutations, get_top_correlated, mutation_train_test_split, patient_allele_frequencies, get_top_genes\n",
    "from views import plot_confusion_matrix\n",
    "\n",
    "RANDOM_STATE = 1234\n",
    "np.random.seed(RANDOM_STATE)"
   ]
  },
  {
   "cell_type": "code",
   "execution_count": 2,
   "metadata": {},
   "outputs": [],
   "source": [
    "# Load data from spreadsheet and SPSS files.\n",
    "mutation_data_frame, no_mutation_found_patients, phenotypes = load_avenio_files()"
   ]
  },
  {
   "cell_type": "code",
   "execution_count": 3,
   "metadata": {},
   "outputs": [],
   "source": [
    "# Vocabulary is the entire dataset, not only training set. Otherwise we run into problems during inference.\n",
    "gene_vocabulary = mutation_data_frame['Gene'].unique()\n",
    "# allele_columns = [\"T0: Allele \\nFraction\", \"T1: Allele Fraction\"]\n",
    "allele_columns = [\"T0: No. Mutant \\nMolecules per mL\", \"T1: No. Mutant \\nMolecules per mL\"]\n",
    "\n",
    "# raise Exception('Check allele columns!')\n",
    "\n",
    "# Convert particular columns to numbers and drop rows with missing data.\n",
    "mutation_data_frame = clean_mutation_columns(mutation_data_frame)"
   ]
  },
  {
   "cell_type": "code",
   "execution_count": 4,
   "metadata": {},
   "outputs": [],
   "source": [
    "def f_t(t_0, t_1):\n",
    "    return (t_1 - t_0) / t_0"
   ]
  },
  {
   "cell_type": "code",
   "execution_count": 5,
   "metadata": {},
   "outputs": [],
   "source": [
    "def delta_t(t_0, t_1):\n",
    "    return t_1 - t_0"
   ]
  },
  {
   "cell_type": "code",
   "execution_count": 6,
   "metadata": {},
   "outputs": [],
   "source": [
    "patient_mutation_frequencies = patient_allele_frequencies(mutation_data_frame, gene_vocabulary, f_t)"
   ]
  },
  {
   "cell_type": "markdown",
   "metadata": {},
   "source": [
    "Add zeros to the table for patients which have no mutations."
   ]
  },
  {
   "cell_type": "code",
   "execution_count": 7,
   "metadata": {},
   "outputs": [],
   "source": [
    "patient_mutation_frequencies = add_mutationless_patients(patient_mutation_frequencies, no_mutation_found_patients)"
   ]
  },
  {
   "cell_type": "code",
   "execution_count": 8,
   "metadata": {},
   "outputs": [],
   "source": [
    "# Phenotype features that serve as input for the model.\n",
    "phenotype_features = [\n",
    "    \"gender\",\n",
    "    \"leeftijd\",\n",
    "    \"stage\",\n",
    "    \"therapyline\",\n",
    "    \"smokingstatus\",\n",
    "    \"Systemischetherapie\",\n",
    "    \"histology_grouped\",\n",
    "    \"lymfmeta\",\n",
    "    \"brainmeta\",\n",
    "    \"adrenalmeta\",\n",
    "    \"livermeta\",\n",
    "    \"lungmeta\",\n",
    "    \"skeletonmeta\",\n",
    "]\n",
    "\n",
    "# Phenotype labels that we wish to predict.\n",
    "phenotype_labels = [\n",
    "    # Labels:\n",
    "    \"Clinical_Response\",\n",
    "    \"response_grouped\",\n",
    "    \"progressie\",\n",
    "]\n",
    "# The columns to extract from the SPSS file.\n",
    "phenotypes_to_keep = phenotype_features + phenotype_labels\n",
    "\n",
    "# From those listed above, the following columns are categorical (not counting the labels).\n",
    "categorical_input_columns = [\n",
    "    \"gender\",\n",
    "    \"stage\",\n",
    "    \"therapyline\",\n",
    "    \"smokingstatus\",\n",
    "    \"Systemischetherapie\",\n",
    "    \"histology_grouped\",\n",
    "    \"lymfmeta\",\n",
    "    \"brainmeta\",\n",
    "    \"adrenalmeta\",\n",
    "    \"livermeta\",\n",
    "    \"lungmeta\",\n",
    "    \"skeletonmeta\",\n",
    "]\n",
    "\n",
    "# Combine mutation data and phenotype data.\n",
    "X = pd.merge(\n",
    "    left=patient_mutation_frequencies,\n",
    "    right=phenotypes[phenotypes_to_keep],\n",
    "    left_index=True,\n",
    "    right_index=True,\n",
    ")\n",
    "X = categorical_columns_to_lower(X)\n",
    "X.to_csv('combined_data.tsv', sep='\\t')"
   ]
  },
  {
   "cell_type": "code",
   "execution_count": 9,
   "metadata": {},
   "outputs": [],
   "source": [
    "X.dropna(subset=['response_grouped'], inplace=True)\n",
    "\n",
    "# Extract the labels for the classifier.\n",
    "y_resp = X.pop('Clinical_Response')\n",
    "y_resp_gp = X.pop('response_grouped')\n",
    "y_prog = X.pop('progressie')"
   ]
  },
  {
   "cell_type": "markdown",
   "metadata": {},
   "source": [
    "Train-test split"
   ]
  },
  {
   "cell_type": "code",
   "execution_count": 10,
   "metadata": {},
   "outputs": [],
   "source": [
    "f_test = 0.3\n",
    "X_train, X_test, y_train, y_test = train_test_split(X, y_resp_gp, test_size=f_test, random_state=RANDOM_STATE)"
   ]
  },
  {
   "cell_type": "code",
   "execution_count": 11,
   "metadata": {},
   "outputs": [
    {
     "data": {
      "text/plain": [
       "non responder (sd+pd)    63\n",
       "responder (pr+cr)        24\n",
       "Name: response_grouped, dtype: int64"
      ]
     },
     "execution_count": 11,
     "metadata": {},
     "output_type": "execute_result"
    }
   ],
   "source": [
    "y_train.value_counts()"
   ]
  },
  {
   "cell_type": "markdown",
   "metadata": {},
   "source": [
    "## Transformation pipeline\n",
    "Turn categorical data to integers."
   ]
  },
  {
   "cell_type": "code",
   "execution_count": 12,
   "metadata": {},
   "outputs": [],
   "source": [
    "preprocess = ColumnTransformer([\n",
    "#     (\"LabelEncoder\", OrdinalEncoder(), categorical_input_columns),\n",
    "    (\"LabelEncoder\", OneHotEncoder(handle_unknown='ignore'), categorical_input_columns),\n",
    "    ],\n",
    "    remainder='passthrough',\n",
    ")"
   ]
  },
  {
   "cell_type": "markdown",
   "metadata": {},
   "source": [
    "Classification algorithms:"
   ]
  },
  {
   "cell_type": "code",
   "execution_count": 13,
   "metadata": {},
   "outputs": [],
   "source": [
    "# tree_classifier = DecisionTreeClassifier(random_state=RANDOM_STATE, max_depth=3, class_weight='balanced')\n",
    "# forest_classifier = RandomForestClassifier(random_state=RANDOM_STATE, n_estimators=50, max_depth=3, class_weight='balanced')\n",
    "# gb_classifier = GradientBoostingClassifier(random_state=RANDOM_STATE, n_estimators=50)"
   ]
  },
  {
   "cell_type": "markdown",
   "metadata": {},
   "source": [
    "Build entire processing pipeline, including a function to single out specific columns."
   ]
  },
  {
   "cell_type": "code",
   "execution_count": 14,
   "metadata": {},
   "outputs": [],
   "source": [
    "classifier_names = ['tree', 'forest', 'gradient boost', 'knn', 'catboost']"
   ]
  },
  {
   "cell_type": "code",
   "execution_count": 15,
   "metadata": {},
   "outputs": [],
   "source": [
    "def generate_feature_names(categorical_column_names, column_names):\n",
    "    \"\"\"\n",
    "    Re-order column names to match the pipeline transformation.\n",
    "    \"\"\" \n",
    "    # `ColumnTransformer` moves all the categorical data to the front of the matrix.\n",
    "    new_column_order = categorical_column_names.copy()\n",
    "    # Concatenate the columns that are left untouched.\n",
    "    for column in column_names:\n",
    "        if column not in categorical_column_names:\n",
    "            new_column_order.append(column)\n",
    "    return new_column_order"
   ]
  },
  {
   "cell_type": "code",
   "execution_count": 16,
   "metadata": {},
   "outputs": [],
   "source": [
    "def compare_pipelines(pipelines, oversample=False):\n",
    "    if oversample:\n",
    "            # Use synthetic minority oversampling technique for nominal and continuous data.\n",
    "            categorical_feature_indices = [X_train.columns.get_loc(column) for column in categorical_input_columns]\n",
    "            smote_nc = SMOTENC(categorical_features=categorical_feature_indices, random_state=RANDOM_STATE)\n",
    "            X_resample, y_resample = smote_nc.fit_resample(X_train, y_train)\n",
    "            X = pd.DataFrame(X_resample, columns=X_train.columns)\n",
    "            y = pd.Series(y_resample)\n",
    "    else:\n",
    "        X, y = X_train, y_train\n",
    "        \n",
    "    pipeline_scores = []\n",
    "    for p in pipelines:\n",
    "        # Fit to (resampled) training data.\n",
    "        p.fit(X, y)\n",
    "        y_train_pred = p.predict(X_train)\n",
    "        y_test_pred = p.predict(X_test)\n",
    "        f1_train = f1_score(y_train, y_train_pred, pos_label='responder (pr+cr)')\n",
    "        f1_test = f1_score(y_test, y_test_pred, pos_label='responder (pr+cr)')\n",
    "        # Calculate scores for original training data and test set.\n",
    "        pipeline_scores.append([p.score(X_train, y_train), f1_train, p.score(X_test, y_test), f1_test])\n",
    "    return pd.DataFrame(pipeline_scores, columns=['train acc.', 'train F_1', 'test acc.', 'test F_1'])"
   ]
  },
  {
   "cell_type": "code",
   "execution_count": 17,
   "metadata": {},
   "outputs": [],
   "source": [
    "def select_frequent_mutation_columns(X):\n",
    "    \"\"\"\n",
    "    Select mutations that occur above a certain thresshold.\n",
    "    \"\"\"\n",
    "    # Single out selected columns.\n",
    "    return X[get_top_genes(patient_mutation_frequencies)]"
   ]
  },
  {
   "cell_type": "code",
   "execution_count": 18,
   "metadata": {},
   "outputs": [],
   "source": [
    "def select_phenotype_columns(X):\n",
    "    \"\"\"\n",
    "    Ignore mutaton data.\n",
    "    \"\"\" \n",
    "    return X[phenotype_features]"
   ]
  },
  {
   "cell_type": "code",
   "execution_count": 19,
   "metadata": {},
   "outputs": [],
   "source": [
    "def test_pipeline(p):\n",
    "    p.fit(X_train, y_train)\n",
    "    # Calculate training and testing scores.\n",
    "    print(p.score(X_train, y_train), p.score(X_test, y_test))"
   ]
  },
  {
   "cell_type": "code",
   "execution_count": 20,
   "metadata": {},
   "outputs": [],
   "source": [
    "def test_synthetic_pipeline(p):\n",
    "    \"\"\"\n",
    "    Train pipeline on oversampled training data.\n",
    "    \"\"\"\n",
    "    categorical_feature_indices = [X_train.columns.get_loc(column) for column in categorical_input_columns]\n",
    "    # Use synthetic minority oversampling technique for nominal and continuous data (SMOTENC).\n",
    "    smote_nc = SMOTENC(categorical_features=categorical_feature_indices, random_state=RANDOM_STATE)\n",
    "    X_resample, y_resample = smote_nc.fit_resample(X_train, y_train)\n",
    "    X_resample = pd.DataFrame(X_resample, columns=X_train.columns)\n",
    "    y_resample = pd.Series(y_resample)\n",
    "    print(y_resample.value_counts())\n",
    "    p.fit(X_resample, y_resample)\n",
    "    print(p.score(X_train, y_train), p.score(X_test, y_test))"
   ]
  },
  {
   "cell_type": "code",
   "execution_count": 21,
   "metadata": {},
   "outputs": [
    {
     "data": {
      "text/plain": [
       "array(['TP53', 'KRAS', 'CDKN2A', 'BRAF', 'NFE2L2', 'PIK3CA'], dtype=object)"
      ]
     },
     "execution_count": 21,
     "metadata": {},
     "output_type": "execute_result"
    }
   ],
   "source": [
    "get_top_genes(patient_mutation_frequencies)"
   ]
  },
  {
   "cell_type": "code",
   "execution_count": 22,
   "metadata": {},
   "outputs": [],
   "source": [
    "def democratic_model(Classifier, **kwargs):\n",
    "    \"\"\"\n",
    "    Democratic voting model where each model receives part of the data.\n",
    "    \"\"\"\n",
    "    # Phenotype pipeline.\n",
    "    phenotype_pipeline = Pipeline(steps=[\n",
    "        (\"select_columns\", FunctionTransformer(select_phenotype_columns, validate=False)),\n",
    "        (\"transform_columns\", preprocess), \n",
    "        (\"classify\", Classifier(**kwargs)),\n",
    "    ])\n",
    "    # Mutation pipeline.\n",
    "    mutation_pipeline = Pipeline(steps=[\n",
    "        (\"select_columns\", FunctionTransformer(select_frequent_mutation_columns, validate=False)),\n",
    "        (\"classify\", Classifier(**kwargs)),\n",
    "    ])\n",
    "    # Pipeline with all\n",
    "    all_pipeline = Pipeline(steps=[\n",
    "        (\"transform_columns\", preprocess), \n",
    "        ('classify', Classifier(**kwargs)),\n",
    "    ])\n",
    "    \n",
    "    v = VotingClassifier(\n",
    "        estimators=[\n",
    "            ('phenotype', phenotype_pipeline),\n",
    "            ('mutation', mutation_pipeline),\n",
    "            ('all', all_pipeline),\n",
    "        ],\n",
    "        voting='soft',\n",
    "        # Model using all the data is given less weight.\n",
    "#         weights=[2, 2, 1],\n",
    "    )\n",
    "    \n",
    "    return v"
   ]
  },
  {
   "cell_type": "code",
   "execution_count": 23,
   "metadata": {},
   "outputs": [],
   "source": [
    "def build_pipelines():\n",
    "    classifiers = {\n",
    "        DecisionTreeClassifier: {'random_state':RANDOM_STATE, 'max_depth': 5, 'class_weight': 'balanced'},\n",
    "        RandomForestClassifier: {'random_state':RANDOM_STATE, 'n_estimators': 15, 'max_depth': 5, 'class_weight': 'balanced_subsample'},\n",
    "        GradientBoostingClassifier: {'random_state':RANDOM_STATE, 'n_estimators': 15},\n",
    "        KNeighborsClassifier: {'n_neighbors': 2, 'weights': 'distance'},\n",
    "    }\n",
    "    return [democratic_model(Classifier, **kwargs) for Classifier, kwargs in classifiers.items()]"
   ]
  },
  {
   "cell_type": "code",
   "execution_count": 24,
   "metadata": {},
   "outputs": [],
   "source": [
    "v = democratic_model(DecisionTreeClassifier, max_depth=4)"
   ]
  },
  {
   "cell_type": "code",
   "execution_count": 25,
   "metadata": {},
   "outputs": [
    {
     "data": {
      "text/plain": [
       "0.8850574712643678"
      ]
     },
     "execution_count": 25,
     "metadata": {},
     "output_type": "execute_result"
    }
   ],
   "source": [
    "v.fit(X_train, y_train)\n",
    "v.score(X_train, y_train)\n",
    "# v.estimators[0][1].predict(X_test)"
   ]
  },
  {
   "cell_type": "code",
   "execution_count": 26,
   "metadata": {},
   "outputs": [
    {
     "name": "stdout",
     "output_type": "stream",
     "text": [
      "0.8850574712643678 0.7105263157894737\n"
     ]
    }
   ],
   "source": [
    "test_pipeline(v)"
   ]
  },
  {
   "cell_type": "code",
   "execution_count": 27,
   "metadata": {},
   "outputs": [
    {
     "name": "stdout",
     "output_type": "stream",
     "text": [
      "responder (pr+cr)        63\n",
      "non responder (sd+pd)    63\n",
      "dtype: int64\n",
      "0.8390804597701149 0.7105263157894737\n"
     ]
    }
   ],
   "source": [
    "test_synthetic_pipeline(v)"
   ]
  },
  {
   "cell_type": "code",
   "execution_count": 28,
   "metadata": {},
   "outputs": [],
   "source": [
    "classifiers = build_pipelines()"
   ]
  },
  {
   "cell_type": "markdown",
   "metadata": {},
   "source": [
    "## Compare classifier with and without oversampling of minority class."
   ]
  },
  {
   "cell_type": "code",
   "execution_count": 29,
   "metadata": {},
   "outputs": [
    {
     "data": {
      "text/html": [
       "<div>\n",
       "<style scoped>\n",
       "    .dataframe tbody tr th:only-of-type {\n",
       "        vertical-align: middle;\n",
       "    }\n",
       "\n",
       "    .dataframe tbody tr th {\n",
       "        vertical-align: top;\n",
       "    }\n",
       "\n",
       "    .dataframe thead th {\n",
       "        text-align: right;\n",
       "    }\n",
       "</style>\n",
       "<table border=\"1\" class=\"dataframe\">\n",
       "  <thead>\n",
       "    <tr style=\"text-align: right;\">\n",
       "      <th></th>\n",
       "      <th>train acc.</th>\n",
       "      <th>train F_1</th>\n",
       "      <th>test acc.</th>\n",
       "      <th>test F_1</th>\n",
       "    </tr>\n",
       "  </thead>\n",
       "  <tbody>\n",
       "    <tr>\n",
       "      <td>0</td>\n",
       "      <td>0.919540</td>\n",
       "      <td>0.872727</td>\n",
       "      <td>0.736842</td>\n",
       "      <td>0.500000</td>\n",
       "    </tr>\n",
       "    <tr>\n",
       "      <td>1</td>\n",
       "      <td>0.942529</td>\n",
       "      <td>0.905660</td>\n",
       "      <td>0.605263</td>\n",
       "      <td>0.210526</td>\n",
       "    </tr>\n",
       "    <tr>\n",
       "      <td>2</td>\n",
       "      <td>0.793103</td>\n",
       "      <td>0.400000</td>\n",
       "      <td>0.789474</td>\n",
       "      <td>0.200000</td>\n",
       "    </tr>\n",
       "    <tr>\n",
       "      <td>3</td>\n",
       "      <td>1.000000</td>\n",
       "      <td>1.000000</td>\n",
       "      <td>0.710526</td>\n",
       "      <td>0.352941</td>\n",
       "    </tr>\n",
       "  </tbody>\n",
       "</table>\n",
       "</div>"
      ],
      "text/plain": [
       "   train acc.  train F_1  test acc.  test F_1\n",
       "0    0.919540   0.872727   0.736842  0.500000\n",
       "1    0.942529   0.905660   0.605263  0.210526\n",
       "2    0.793103   0.400000   0.789474  0.200000\n",
       "3    1.000000   1.000000   0.710526  0.352941"
      ]
     },
     "execution_count": 29,
     "metadata": {},
     "output_type": "execute_result"
    }
   ],
   "source": [
    "# Classifier without oversampling of minority class.\n",
    "compare_pipelines(classifiers)"
   ]
  },
  {
   "cell_type": "code",
   "execution_count": 30,
   "metadata": {},
   "outputs": [],
   "source": [
    "# # Classifier with oversampling.\n",
    "# compare_pipelines(classifiers, oversample=True)"
   ]
  },
  {
   "cell_type": "markdown",
   "metadata": {},
   "source": [
    "## Plot confusion matrix"
   ]
  },
  {
   "cell_type": "code",
   "execution_count": 31,
   "metadata": {},
   "outputs": [],
   "source": [
    "def plot_roc(model):\n",
    "    y_pred = model.predict(X_test)\n",
    "    # Transform to binary number.\n",
    "    l = LabelBinarizer()\n",
    "    l.fit(y_pred)\n",
    "    non_responder_label = np.argwhere(l.classes_ == 'non responder (sd+pd)')[0,0]\n",
    "    fpr, tpr, _ = roc_curve(l.transform(y_test), l.transform(y_pred), pos_label=non_responder_label)\n",
    "    plt.plot(fpr, tpr)"
   ]
  },
  {
   "cell_type": "markdown",
   "metadata": {},
   "source": [
    "$M_{ij}$: known to be in group $i$ but predicted to be in group $j$."
   ]
  },
  {
   "cell_type": "code",
   "execution_count": 32,
   "metadata": {},
   "outputs": [
    {
     "name": "stdout",
     "output_type": "stream",
     "text": [
      "Confusion matrix, without normalization\n",
      "[[23  6]\n",
      " [ 4  5]]\n"
     ]
    },
    {
     "data": {
      "text/plain": [
       "<matplotlib.axes._subplots.AxesSubplot at 0x7f557583ecc0>"
      ]
     },
     "execution_count": 32,
     "metadata": {},
     "output_type": "execute_result"
    },
    {
     "data": {
      "image/png": "[encoded data removed]",
      "text/plain": [
       "<Figure size 432x288 with 2 Axes>"
      ]
     },
     "metadata": {
      "needs_background": "light"
     },
     "output_type": "display_data"
    }
   ],
   "source": [
    "plot_confusion_matrix(y_test, classifiers[0].predict(X_test), y_test)"
   ]
  },
  {
   "cell_type": "code",
   "execution_count": 33,
   "metadata": {},
   "outputs": [
    {
     "name": "stdout",
     "output_type": "stream",
     "text": [
      "Confusion matrix, without normalization\n",
      "[[21  8]\n",
      " [ 7  2]]\n"
     ]
    },
    {
     "data": {
      "text/plain": [
       "<matplotlib.axes._subplots.AxesSubplot at 0x7f55535998d0>"
      ]
     },
     "execution_count": 33,
     "metadata": {},
     "output_type": "execute_result"
    },
    {
     "data": {
      "image/png": "[encoded data removed]",
      "text/plain": [
       "<Figure size 432x288 with 2 Axes>"
      ]
     },
     "metadata": {
      "needs_background": "light"
     },
     "output_type": "display_data"
    }
   ],
   "source": [
    "plot_confusion_matrix(y_test, classifiers[1].predict(X_test), y_test)"
   ]
  },
  {
   "cell_type": "code",
   "execution_count": 34,
   "metadata": {},
   "outputs": [
    {
     "name": "stdout",
     "output_type": "stream",
     "text": [
      "Confusion matrix, without normalization\n",
      "[[29  0]\n",
      " [ 8  1]]\n"
     ]
    },
    {
     "data": {
      "text/plain": [
       "<matplotlib.axes._subplots.AxesSubplot at 0x7f554dca6668>"
      ]
     },
     "execution_count": 34,
     "metadata": {},
     "output_type": "execute_result"
    },
    {
     "data": {
      "image/png": "[encoded data removed]",
      "text/plain": [
       "<Figure size 432x288 with 2 Axes>"
      ]
     },
     "metadata": {
      "needs_background": "light"
     },
     "output_type": "display_data"
    }
   ],
   "source": [
    "plot_confusion_matrix(y_test, classifiers[2].predict(X_test), y_test)"
   ]
  },
  {
   "cell_type": "code",
   "execution_count": 35,
   "metadata": {},
   "outputs": [
    {
     "name": "stdout",
     "output_type": "stream",
     "text": [
      "Confusion matrix, without normalization\n",
      "[[24  5]\n",
      " [ 6  3]]\n"
     ]
    },
    {
     "data": {
      "text/plain": [
       "<matplotlib.axes._subplots.AxesSubplot at 0x7f554dc39828>"
      ]
     },
     "execution_count": 35,
     "metadata": {},
     "output_type": "execute_result"
    },
    {
     "data": {
      "image/png": "[encoded data removed]",
      "text/plain": [
       "<Figure size 432x288 with 2 Axes>"
      ]
     },
     "metadata": {
      "needs_background": "light"
     },
     "output_type": "display_data"
    }
   ],
   "source": [
    "plot_confusion_matrix(y_test, classifiers[3].predict(X_test), y_test)"
   ]
  },
  {
   "cell_type": "code",
   "execution_count": 36,
   "metadata": {},
   "outputs": [
    {
     "data": {
      "image/png": "[encoded data removed]",
      "text/plain": [
       "<Figure size 432x288 with 1 Axes>"
      ]
     },
     "metadata": {
      "needs_background": "light"
     },
     "output_type": "display_data"
    }
   ],
   "source": [
    "plot_roc(classifiers[0])"
   ]
  },
  {
   "cell_type": "code",
   "execution_count": 37,
   "metadata": {},
   "outputs": [
    {
     "data": {
      "image/png": "[encoded data removed]",
      "text/plain": [
       "<Figure size 432x288 with 1 Axes>"
      ]
     },
     "metadata": {
      "needs_background": "light"
     },
     "output_type": "display_data"
    }
   ],
   "source": [
    "plot_roc(classifiers[1])"
   ]
  },
  {
   "cell_type": "code",
   "execution_count": 38,
   "metadata": {},
   "outputs": [
    {
     "data": {
      "image/png": "[encoded data removed]",
      "text/plain": [
       "<Figure size 432x288 with 1 Axes>"
      ]
     },
     "metadata": {
      "needs_background": "light"
     },
     "output_type": "display_data"
    }
   ],
   "source": [
    "plot_roc(classifiers[2])"
   ]
  },
  {
   "cell_type": "code",
   "execution_count": null,
   "metadata": {},
   "outputs": [],
   "source": []
  }
 ],
 "metadata": {
  "kernelspec": {
   "display_name": "Python 3",
   "language": "python",
   "name": "python3"
  },
  "language_info": {
   "codemirror_mode": {
    "name": "ipython",
    "version": 3
   },
   "file_extension": ".py",
   "mimetype": "text/x-python",
   "name": "python",
   "nbconvert_exporter": "python",
   "pygments_lexer": "ipython3",
   "version": "3.7.3"
  }
 },
 "nbformat": 4,
 "nbformat_minor": 2
}
