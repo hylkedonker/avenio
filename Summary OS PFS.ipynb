{
 "cells": [
  {
   "cell_type": "markdown",
   "metadata": {},
   "source": [
    "# Overall survival (OS) and progression free survival model (PFS)\n",
    "**Goal**: Make a prediction model that, given certain input $𝑥$, generates a prediction $𝑦$. In the case at hand, $𝑦$ would be the overall survival (OS) or the progression free survival (PFS).\n",
    "\n",
    "In the following, I will focus on OS -- results not shown here indicate that the entire analysis below goes through for PFS as well."
   ]
  },
  {
   "cell_type": "code",
   "execution_count": 1,
   "metadata": {},
   "outputs": [],
   "source": [
    "from matplotlib import pyplot as plt\n",
    "import numpy as np\n",
    "import pandas as pd\n",
    "import scipy as sp\n",
    "from sklearn.compose import TransformedTargetRegressor\n",
    "from sklearn.linear_model import MultiTaskElasticNet\n",
    "from sklearn.metrics import mean_squared_error\n",
    "import seaborn as sns\n",
    "\n",
    "from fit import fit_categorical_survival, categorical_signal\n",
    "from models import MergeRareCategories\n",
    "from pipelines import benchmark_pipelines, build_regression_pipelines, categorical_input_columns, pipelines , reconstruct_categorical_variable_names_Richard\n",
    "from source import read_preprocessed_data\n",
    "from transform import load_process_and_store_spreadsheets, survival_histograms\n",
    "from views import categorical_signal_summary, view_as_exponential, view_decision_tree_julian, view_linear_model_richard"
   ]
  },
  {
   "cell_type": "markdown",
   "metadata": {},
   "source": [
    "Process files and split data in a part that is used for fitting (training) and for testing."
   ]
  },
  {
   "cell_type": "code",
   "execution_count": 2,
   "metadata": {},
   "outputs": [],
   "source": [
    "def harmonic_mean(t0, t1):\n",
    "    return t0 * t1 / (t0 + t1)"
   ]
  },
  {
   "cell_type": "code",
   "execution_count": 3,
   "metadata": {},
   "outputs": [],
   "source": [
    "load_process_and_store_spreadsheets(transformation=harmonic_mean)\n",
    "\n",
    "X_train, y_train = read_preprocessed_data(\"output/train.tsv\")\n",
    "X_test, y_test = read_preprocessed_data(\"output/test.tsv\")"
   ]
  },
  {
   "cell_type": "code",
   "execution_count": 4,
   "metadata": {},
   "outputs": [],
   "source": [
    "# Combined set for analysis only (not to be used for models).\n",
    "X = pd.concat([X_train, X_test])\n",
    "y = pd.concat([y_train, y_test])"
   ]
  },
  {
   "cell_type": "markdown",
   "metadata": {},
   "source": [
    "## Model"
   ]
  },
  {
   "cell_type": "code",
   "execution_count": 5,
   "metadata": {},
   "outputs": [],
   "source": [
    "# Construct a variety of pipelines.\n",
    "pipelines = build_regression_pipelines()\n",
    "\n",
    "# And benchmark them using the root mean squared error.\n",
    "rmse = lambda x, y: mean_squared_error(x, y) ** 0.5\n",
    "benchmark_result = benchmark_pipelines(\n",
    "    pipelines, X_train, y_train[\"OS_days\"], X_test, y_test[\"OS_days\"], metric=rmse\n",
    ")"
   ]
  },
  {
   "cell_type": "code",
   "execution_count": 6,
   "metadata": {},
   "outputs": [
    {
     "data": {
      "text/html": [
       "<div>\n",
       "<style scoped>\n",
       "    .dataframe tbody tr th:only-of-type {\n",
       "        vertical-align: middle;\n",
       "    }\n",
       "\n",
       "    .dataframe tbody tr th {\n",
       "        vertical-align: top;\n",
       "    }\n",
       "\n",
       "    .dataframe thead th {\n",
       "        text-align: right;\n",
       "    }\n",
       "</style>\n",
       "<table border=\"1\" class=\"dataframe\">\n",
       "  <thead>\n",
       "    <tr style=\"text-align: right;\">\n",
       "      <th></th>\n",
       "      <th>Richard_test</th>\n",
       "      <th>Julian_test</th>\n",
       "      <th>Freeman_test</th>\n",
       "      <th>Lev_test</th>\n",
       "    </tr>\n",
       "  </thead>\n",
       "  <tbody>\n",
       "    <tr>\n",
       "      <td>DecisionTreeRegressor</td>\n",
       "      <td>331.221847</td>\n",
       "      <td>255.227153</td>\n",
       "      <td>381.503252</td>\n",
       "      <td>269.618643</td>\n",
       "    </tr>\n",
       "    <tr>\n",
       "      <td>RandomForestRegressor</td>\n",
       "      <td>321.659853</td>\n",
       "      <td>289.205408</td>\n",
       "      <td>287.635103</td>\n",
       "      <td>290.898249</td>\n",
       "    </tr>\n",
       "    <tr>\n",
       "      <td>GradientBoostingRegressor</td>\n",
       "      <td>289.469174</td>\n",
       "      <td>266.030076</td>\n",
       "      <td>302.617991</td>\n",
       "      <td>268.450157</td>\n",
       "    </tr>\n",
       "    <tr>\n",
       "      <td>KNeighborsRegressor</td>\n",
       "      <td>375.229392</td>\n",
       "      <td>289.899266</td>\n",
       "      <td>367.328402</td>\n",
       "      <td>313.401862</td>\n",
       "    </tr>\n",
       "    <tr>\n",
       "      <td>ElasticNet</td>\n",
       "      <td>259.423289</td>\n",
       "      <td>271.744500</td>\n",
       "      <td>273.215056</td>\n",
       "      <td>263.350630</td>\n",
       "    </tr>\n",
       "    <tr>\n",
       "      <td>LinearRegression</td>\n",
       "      <td>261.651308</td>\n",
       "      <td>260.780187</td>\n",
       "      <td>1942.032904</td>\n",
       "      <td>251.282592</td>\n",
       "    </tr>\n",
       "    <tr>\n",
       "      <td>SVR</td>\n",
       "      <td>277.045767</td>\n",
       "      <td>276.105578</td>\n",
       "      <td>277.044043</td>\n",
       "      <td>276.572572</td>\n",
       "    </tr>\n",
       "    <tr>\n",
       "      <td>DummyRegressor</td>\n",
       "      <td>277.072810</td>\n",
       "      <td>277.072810</td>\n",
       "      <td>277.072810</td>\n",
       "      <td>277.072810</td>\n",
       "    </tr>\n",
       "  </tbody>\n",
       "</table>\n",
       "</div>"
      ],
      "text/plain": [
       "                           Richard_test  Julian_test  Freeman_test    Lev_test\n",
       "DecisionTreeRegressor        331.221847   255.227153    381.503252  269.618643\n",
       "RandomForestRegressor        321.659853   289.205408    287.635103  290.898249\n",
       "GradientBoostingRegressor    289.469174   266.030076    302.617991  268.450157\n",
       "KNeighborsRegressor          375.229392   289.899266    367.328402  313.401862\n",
       "ElasticNet                   259.423289   271.744500    273.215056  263.350630\n",
       "LinearRegression             261.651308   260.780187   1942.032904  251.282592\n",
       "SVR                          277.045767   276.105578    277.044043  276.572572\n",
       "DummyRegressor               277.072810   277.072810    277.072810  277.072810"
      ]
     },
     "execution_count": 6,
     "metadata": {},
     "output_type": "execute_result"
    }
   ],
   "source": [
    "benchmark_result"
   ]
  },
  {
   "cell_type": "markdown",
   "metadata": {},
   "source": [
    "Briefly, the types of models in this list:\n",
    "- Decision tree: Consecutively split the data in two branches based on one of the variables.\n",
    "- Random forest: collection of decision trees in parallel, each tree gets a subset of the training data.\n",
    "- Gradient boosting: collection of decision trees in series, each refining the result of the previous tree.\n",
    "- K-neighbours: Use average of $k$ neighbouring points.\n",
    "- Elastic net: Linear regression with penalties on the slopes.\n",
    "- SVR: Support vector machine that implicitly takes into account polynomials of the input variables.\n",
    "- DummyRegressor: Baseline model that predicts according a specific rule (in this case, take the median value).\n",
    "\n",
    "Pipelines:\n",
    "- Richard: Use only phenotype data, and some categorical preprocessing.\n",
    "- Julian: Convert mutation data to columns using transformation described above (harmonic mean).\n",
    "- Freeman: Use all data together.\n",
    "- Lev: Democratic vote of Richard & Julian."
   ]
  },
  {
   "cell_type": "markdown",
   "metadata": {},
   "source": [
    "## Factor analysis\n",
    "Let us now look at which factors determine the outcome of the models."
   ]
  },
  {
   "cell_type": "code",
   "execution_count": 7,
   "metadata": {},
   "outputs": [
    {
     "data": {
      "image/png": "[encoded data removed]",
      "text/plain": [
       "<Figure size 1008x432 with 1 Axes>"
      ]
     },
     "metadata": {
      "needs_background": "light"
     },
     "output_type": "display_data"
    }
   ],
   "source": [
    "p_richard = pipelines['ElasticNet']['Richard']\n",
    "view_linear_model_richard(pipeline=p_richard)"
   ]
  },
  {
   "cell_type": "code",
   "execution_count": 8,
   "metadata": {},
   "outputs": [
    {
     "data": {
      "image/svg+xml": [
       "<?xml version=\"1.0\" encoding=\"UTF-8\" standalone=\"no\"?>\n",
       "<!DOCTYPE svg PUBLIC \"-//W3C//DTD SVG 1.1//EN\"\n",
       " \"http://www.w3.org/Graphics/SVG/1.1/DTD/svg11.dtd\">\n",
       "<!-- Generated by graphviz version 2.40.1 (20161225.0304)\n",
       " -->\n",
       "<!-- Title: Tree Pages: 1 -->\n",
       "<svg width=\"922pt\" height=\"402pt\"\n",
       " viewBox=\"0.00 0.00 921.50 402.00\" xmlns=\"http://www.w3.org/2000/svg\" xmlns:xlink=\"http://www.w3.org/1999/xlink\">\n",
       "<g id=\"graph0\" class=\"graph\" transform=\"scale(1 1) rotate(0) translate(4 398)\">\n",
       "<title>Tree</title>\n",
       "<polygon fill=\"#ffffff\" stroke=\"transparent\" points=\"-4,4 -4,-398 917.5,-398 917.5,4 -4,4\"/>\n",
       "<!-- 0 -->\n",
       "<g id=\"node1\" class=\"node\">\n",
       "<title>0</title>\n",
       "<path fill=\"#f7d7c0\" stroke=\"#000000\" d=\"M600.5,-394C600.5,-394 472.5,-394 472.5,-394 466.5,-394 460.5,-388 460.5,-382 460.5,-382 460.5,-353 460.5,-353 460.5,-347 466.5,-341 472.5,-341 472.5,-341 600.5,-341 600.5,-341 606.5,-341 612.5,-347 612.5,-353 612.5,-353 612.5,-382 612.5,-382 612.5,-388 606.5,-394 600.5,-394\"/>\n",
       "<text text-anchor=\"middle\" x=\"536.5\" y=\"-378.8\" font-family=\"Helvetica,sans-Serif\" font-size=\"14.00\" fill=\"#000000\">TP53 &lt;= 0.321</text>\n",
       "<text text-anchor=\"middle\" x=\"536.5\" y=\"-363.8\" font-family=\"Helvetica,sans-Serif\" font-size=\"14.00\" fill=\"#000000\">samples = 100.0%</text>\n",
       "<text text-anchor=\"middle\" x=\"536.5\" y=\"-348.8\" font-family=\"Helvetica,sans-Serif\" font-size=\"14.00\" fill=\"#000000\">value = 367.678</text>\n",
       "</g>\n",
       "<!-- 1 -->\n",
       "<g id=\"node2\" class=\"node\">\n",
       "<title>1</title>\n",
       "<path fill=\"#f7d8c2\" stroke=\"#000000\" d=\"M518,-305C518,-305 399,-305 399,-305 393,-305 387,-299 387,-293 387,-293 387,-264 387,-264 387,-258 393,-252 399,-252 399,-252 518,-252 518,-252 524,-252 530,-258 530,-264 530,-264 530,-293 530,-293 530,-299 524,-305 518,-305\"/>\n",
       "<text text-anchor=\"middle\" x=\"458.5\" y=\"-289.8\" font-family=\"Helvetica,sans-Serif\" font-size=\"14.00\" fill=\"#000000\">KRAS &lt;= 0.011</text>\n",
       "<text text-anchor=\"middle\" x=\"458.5\" y=\"-274.8\" font-family=\"Helvetica,sans-Serif\" font-size=\"14.00\" fill=\"#000000\">samples = 98.9%</text>\n",
       "<text text-anchor=\"middle\" x=\"458.5\" y=\"-259.8\" font-family=\"Helvetica,sans-Serif\" font-size=\"14.00\" fill=\"#000000\">value = 359.174</text>\n",
       "</g>\n",
       "<!-- 0&#45;&gt;1 -->\n",
       "<g id=\"edge1\" class=\"edge\">\n",
       "<title>0&#45;&gt;1</title>\n",
       "<path fill=\"none\" stroke=\"#000000\" d=\"M513.0974,-340.7971C505.3847,-331.9967 496.6977,-322.0845 488.5595,-312.7987\"/>\n",
       "<polygon fill=\"#000000\" stroke=\"#000000\" points=\"491.1093,-310.3978 481.8861,-305.1841 485.8449,-315.0115 491.1093,-310.3978\"/>\n",
       "<text text-anchor=\"middle\" x=\"480.2429\" y=\"-326.43\" font-family=\"Helvetica,sans-Serif\" font-size=\"14.00\" fill=\"#000000\">True</text>\n",
       "</g>\n",
       "<!-- 14 -->\n",
       "<g id=\"node15\" class=\"node\">\n",
       "<title>14</title>\n",
       "<path fill=\"#e5813a\" stroke=\"#000000\" d=\"M670.5,-297.5C670.5,-297.5 560.5,-297.5 560.5,-297.5 554.5,-297.5 548.5,-291.5 548.5,-285.5 548.5,-285.5 548.5,-271.5 548.5,-271.5 548.5,-265.5 554.5,-259.5 560.5,-259.5 560.5,-259.5 670.5,-259.5 670.5,-259.5 676.5,-259.5 682.5,-265.5 682.5,-271.5 682.5,-271.5 682.5,-285.5 682.5,-285.5 682.5,-291.5 676.5,-297.5 670.5,-297.5\"/>\n",
       "<text text-anchor=\"middle\" x=\"615.5\" y=\"-282.3\" font-family=\"Helvetica,sans-Serif\" font-size=\"14.00\" fill=\"#000000\">samples = 1.1%</text>\n",
       "<text text-anchor=\"middle\" x=\"615.5\" y=\"-267.3\" font-family=\"Helvetica,sans-Serif\" font-size=\"14.00\" fill=\"#000000\">value = 1099.0</text>\n",
       "</g>\n",
       "<!-- 0&#45;&gt;14 -->\n",
       "<g id=\"edge14\" class=\"edge\">\n",
       "<title>0&#45;&gt;14</title>\n",
       "<path fill=\"none\" stroke=\"#000000\" d=\"M560.2026,-340.7971C570.2469,-329.4814 581.9228,-316.3275 591.9503,-305.0306\"/>\n",
       "<polygon fill=\"#000000\" stroke=\"#000000\" points=\"594.568,-307.354 598.5889,-297.5518 589.3329,-302.7071 594.568,-307.354\"/>\n",
       "<text text-anchor=\"middle\" x=\"600.0743\" y=\"-318.8076\" font-family=\"Helvetica,sans-Serif\" font-size=\"14.00\" fill=\"#000000\">False</text>\n",
       "</g>\n",
       "<!-- 2 -->\n",
       "<g id=\"node3\" class=\"node\">\n",
       "<title>2</title>\n",
       "<path fill=\"#f6d5bd\" stroke=\"#000000\" d=\"M438,-216C438,-216 319,-216 319,-216 313,-216 307,-210 307,-204 307,-204 307,-175 307,-175 307,-169 313,-163 319,-163 319,-163 438,-163 438,-163 444,-163 450,-169 450,-175 450,-175 450,-204 450,-204 450,-210 444,-216 438,-216\"/>\n",
       "<text text-anchor=\"middle\" x=\"378.5\" y=\"-200.8\" font-family=\"Helvetica,sans-Serif\" font-size=\"14.00\" fill=\"#000000\">KRAS &lt;= 0.009</text>\n",
       "<text text-anchor=\"middle\" x=\"378.5\" y=\"-185.8\" font-family=\"Helvetica,sans-Serif\" font-size=\"14.00\" fill=\"#000000\">samples = 86.2%</text>\n",
       "<text text-anchor=\"middle\" x=\"378.5\" y=\"-170.8\" font-family=\"Helvetica,sans-Serif\" font-size=\"14.00\" fill=\"#000000\">value = 387.613</text>\n",
       "</g>\n",
       "<!-- 1&#45;&gt;2 -->\n",
       "<g id=\"edge2\" class=\"edge\">\n",
       "<title>1&#45;&gt;2</title>\n",
       "<path fill=\"none\" stroke=\"#000000\" d=\"M434.4974,-251.7971C426.5869,-242.9967 417.6771,-233.0845 409.3303,-223.7987\"/>\n",
       "<polygon fill=\"#000000\" stroke=\"#000000\" points=\"411.7738,-221.2814 402.4857,-216.1841 406.5678,-225.961 411.7738,-221.2814\"/>\n",
       "</g>\n",
       "<!-- 7 -->\n",
       "<g id=\"node8\" class=\"node\">\n",
       "<title>7</title>\n",
       "<path fill=\"#fcefe6\" stroke=\"#000000\" d=\"M599,-216C599,-216 480,-216 480,-216 474,-216 468,-210 468,-204 468,-204 468,-175 468,-175 468,-169 474,-163 480,-163 480,-163 599,-163 599,-163 605,-163 611,-169 611,-175 611,-175 611,-204 611,-204 611,-210 605,-216 599,-216\"/>\n",
       "<text text-anchor=\"middle\" x=\"539.5\" y=\"-200.8\" font-family=\"Helvetica,sans-Serif\" font-size=\"14.00\" fill=\"#000000\">KRAS &lt;= 0.051</text>\n",
       "<text text-anchor=\"middle\" x=\"539.5\" y=\"-185.8\" font-family=\"Helvetica,sans-Serif\" font-size=\"14.00\" fill=\"#000000\">samples = 12.6%</text>\n",
       "<text text-anchor=\"middle\" x=\"539.5\" y=\"-170.8\" font-family=\"Helvetica,sans-Serif\" font-size=\"14.00\" fill=\"#000000\">value = 165.273</text>\n",
       "</g>\n",
       "<!-- 1&#45;&gt;7 -->\n",
       "<g id=\"edge7\" class=\"edge\">\n",
       "<title>1&#45;&gt;7</title>\n",
       "<path fill=\"none\" stroke=\"#000000\" d=\"M482.8027,-251.7971C490.812,-242.9967 499.8332,-233.0845 508.2843,-223.7987\"/>\n",
       "<polygon fill=\"#000000\" stroke=\"#000000\" points=\"511.0721,-225.9356 515.2145,-216.1841 505.8951,-221.2239 511.0721,-225.9356\"/>\n",
       "</g>\n",
       "<!-- 3 -->\n",
       "<g id=\"node4\" class=\"node\">\n",
       "<title>3</title>\n",
       "<path fill=\"#f7d6be\" stroke=\"#000000\" d=\"M282,-127C282,-127 163,-127 163,-127 157,-127 151,-121 151,-115 151,-115 151,-86 151,-86 151,-80 157,-74 163,-74 163,-74 282,-74 282,-74 288,-74 294,-80 294,-86 294,-86 294,-115 294,-115 294,-121 288,-127 282,-127\"/>\n",
       "<text text-anchor=\"middle\" x=\"222.5\" y=\"-111.8\" font-family=\"Helvetica,sans-Serif\" font-size=\"14.00\" fill=\"#000000\">TP53 &lt;= 0.081</text>\n",
       "<text text-anchor=\"middle\" x=\"222.5\" y=\"-96.8\" font-family=\"Helvetica,sans-Serif\" font-size=\"14.00\" fill=\"#000000\">samples = 85.1%</text>\n",
       "<text text-anchor=\"middle\" x=\"222.5\" y=\"-81.8\" font-family=\"Helvetica,sans-Serif\" font-size=\"14.00\" fill=\"#000000\">value = 377.959</text>\n",
       "</g>\n",
       "<!-- 2&#45;&gt;3 -->\n",
       "<g id=\"edge3\" class=\"edge\">\n",
       "<title>2&#45;&gt;3</title>\n",
       "<path fill=\"none\" stroke=\"#000000\" d=\"M331.6949,-162.7971C314.8048,-153.1611 295.5783,-142.1921 278.0149,-132.1719\"/>\n",
       "<polygon fill=\"#000000\" stroke=\"#000000\" points=\"279.4234,-128.946 269.0031,-127.0306 275.9546,-135.0261 279.4234,-128.946\"/>\n",
       "</g>\n",
       "<!-- 6 -->\n",
       "<g id=\"node7\" class=\"node\">\n",
       "<title>6</title>\n",
       "<path fill=\"#e58139\" stroke=\"#000000\" d=\"M434.5,-119.5C434.5,-119.5 324.5,-119.5 324.5,-119.5 318.5,-119.5 312.5,-113.5 312.5,-107.5 312.5,-107.5 312.5,-93.5 312.5,-93.5 312.5,-87.5 318.5,-81.5 324.5,-81.5 324.5,-81.5 434.5,-81.5 434.5,-81.5 440.5,-81.5 446.5,-87.5 446.5,-93.5 446.5,-93.5 446.5,-107.5 446.5,-107.5 446.5,-113.5 440.5,-119.5 434.5,-119.5\"/>\n",
       "<text text-anchor=\"middle\" x=\"379.5\" y=\"-104.3\" font-family=\"Helvetica,sans-Serif\" font-size=\"14.00\" fill=\"#000000\">samples = 1.1%</text>\n",
       "<text text-anchor=\"middle\" x=\"379.5\" y=\"-89.3\" font-family=\"Helvetica,sans-Serif\" font-size=\"14.00\" fill=\"#000000\">value = 1102.0</text>\n",
       "</g>\n",
       "<!-- 2&#45;&gt;6 -->\n",
       "<g id=\"edge6\" class=\"edge\">\n",
       "<title>2&#45;&gt;6</title>\n",
       "<path fill=\"none\" stroke=\"#000000\" d=\"M378.8,-162.7971C378.9174,-152.3518 379.0524,-140.3403 379.1723,-129.6689\"/>\n",
       "<polygon fill=\"#000000\" stroke=\"#000000\" points=\"382.6733,-129.5905 379.2859,-119.5518 375.6737,-129.5118 382.6733,-129.5905\"/>\n",
       "</g>\n",
       "<!-- 4 -->\n",
       "<g id=\"node5\" class=\"node\">\n",
       "<title>4</title>\n",
       "<path fill=\"#f6d4bb\" stroke=\"#000000\" d=\"M131,-38C131,-38 12,-38 12,-38 6,-38 0,-32 0,-26 0,-26 0,-12 0,-12 0,-6 6,0 12,0 12,0 131,0 131,0 137,0 143,-6 143,-12 143,-12 143,-26 143,-26 143,-32 137,-38 131,-38\"/>\n",
       "<text text-anchor=\"middle\" x=\"71.5\" y=\"-22.8\" font-family=\"Helvetica,sans-Serif\" font-size=\"14.00\" fill=\"#000000\">samples = 79.3%</text>\n",
       "<text text-anchor=\"middle\" x=\"71.5\" y=\"-7.8\" font-family=\"Helvetica,sans-Serif\" font-size=\"14.00\" fill=\"#000000\">value = 397.348</text>\n",
       "</g>\n",
       "<!-- 3&#45;&gt;4 -->\n",
       "<g id=\"edge4\" class=\"edge\">\n",
       "<title>3&#45;&gt;4</title>\n",
       "<path fill=\"none\" stroke=\"#000000\" d=\"M173.057,-73.8139C154.7459,-63.9307 134.1041,-52.7896 116.2356,-43.1454\"/>\n",
       "<polygon fill=\"#000000\" stroke=\"#000000\" points=\"117.6338,-39.9228 107.1713,-38.2531 114.309,-46.0828 117.6338,-39.9228\"/>\n",
       "</g>\n",
       "<!-- 5 -->\n",
       "<g id=\"node6\" class=\"node\">\n",
       "<title>5</title>\n",
       "<path fill=\"#fdf5f0\" stroke=\"#000000\" d=\"M283.5,-38C283.5,-38 173.5,-38 173.5,-38 167.5,-38 161.5,-32 161.5,-26 161.5,-26 161.5,-12 161.5,-12 161.5,-6 167.5,0 173.5,0 173.5,0 283.5,0 283.5,0 289.5,0 295.5,-6 295.5,-12 295.5,-12 295.5,-26 295.5,-26 295.5,-32 289.5,-38 283.5,-38\"/>\n",
       "<text text-anchor=\"middle\" x=\"228.5\" y=\"-22.8\" font-family=\"Helvetica,sans-Serif\" font-size=\"14.00\" fill=\"#000000\">samples = 5.7%</text>\n",
       "<text text-anchor=\"middle\" x=\"228.5\" y=\"-7.8\" font-family=\"Helvetica,sans-Serif\" font-size=\"14.00\" fill=\"#000000\">value = 110.4</text>\n",
       "</g>\n",
       "<!-- 3&#45;&gt;5 -->\n",
       "<g id=\"edge5\" class=\"edge\">\n",
       "<title>3&#45;&gt;5</title>\n",
       "<path fill=\"none\" stroke=\"#000000\" d=\"M224.4646,-73.8139C225.0654,-65.6535 225.7293,-56.6354 226.3422,-48.3105\"/>\n",
       "<polygon fill=\"#000000\" stroke=\"#000000\" points=\"229.8388,-48.4831 227.0826,-38.2531 222.8577,-47.9691 229.8388,-48.4831\"/>\n",
       "</g>\n",
       "<!-- 8 -->\n",
       "<g id=\"node9\" class=\"node\">\n",
       "<title>8</title>\n",
       "<path fill=\"#fdf7f3\" stroke=\"#000000\" d=\"M598,-127C598,-127 479,-127 479,-127 473,-127 467,-121 467,-115 467,-115 467,-86 467,-86 467,-80 473,-74 479,-74 479,-74 598,-74 598,-74 604,-74 610,-80 610,-86 610,-86 610,-115 610,-115 610,-121 604,-127 598,-127\"/>\n",
       "<text text-anchor=\"middle\" x=\"538.5\" y=\"-111.8\" font-family=\"Helvetica,sans-Serif\" font-size=\"14.00\" fill=\"#000000\">TP53 &lt;= 0.032</text>\n",
       "<text text-anchor=\"middle\" x=\"538.5\" y=\"-96.8\" font-family=\"Helvetica,sans-Serif\" font-size=\"14.00\" fill=\"#000000\">samples = 10.3%</text>\n",
       "<text text-anchor=\"middle\" x=\"538.5\" y=\"-81.8\" font-family=\"Helvetica,sans-Serif\" font-size=\"14.00\" fill=\"#000000\">value = 93.111</text>\n",
       "</g>\n",
       "<!-- 7&#45;&gt;8 -->\n",
       "<g id=\"edge8\" class=\"edge\">\n",
       "<title>7&#45;&gt;8</title>\n",
       "<path fill=\"none\" stroke=\"#000000\" d=\"M539.2,-162.7971C539.11,-154.7887 539.0097,-145.8597 538.9137,-137.3198\"/>\n",
       "<polygon fill=\"#000000\" stroke=\"#000000\" points=\"542.4121,-137.1441 538.7998,-127.1841 535.4125,-137.2228 542.4121,-137.1441\"/>\n",
       "</g>\n",
       "<!-- 11 -->\n",
       "<g id=\"node12\" class=\"node\">\n",
       "<title>11</title>\n",
       "<path fill=\"#f4c9aa\" stroke=\"#000000\" d=\"M750.5,-127C750.5,-127 640.5,-127 640.5,-127 634.5,-127 628.5,-121 628.5,-115 628.5,-115 628.5,-86 628.5,-86 628.5,-80 634.5,-74 640.5,-74 640.5,-74 750.5,-74 750.5,-74 756.5,-74 762.5,-80 762.5,-86 762.5,-86 762.5,-115 762.5,-115 762.5,-121 756.5,-127 750.5,-127\"/>\n",
       "<text text-anchor=\"middle\" x=\"695.5\" y=\"-111.8\" font-family=\"Helvetica,sans-Serif\" font-size=\"14.00\" fill=\"#000000\">KRAS &lt;= 0.075</text>\n",
       "<text text-anchor=\"middle\" x=\"695.5\" y=\"-96.8\" font-family=\"Helvetica,sans-Serif\" font-size=\"14.00\" fill=\"#000000\">samples = 2.3%</text>\n",
       "<text text-anchor=\"middle\" x=\"695.5\" y=\"-81.8\" font-family=\"Helvetica,sans-Serif\" font-size=\"14.00\" fill=\"#000000\">value = 490.0</text>\n",
       "</g>\n",
       "<!-- 7&#45;&gt;11 -->\n",
       "<g id=\"edge11\" class=\"edge\">\n",
       "<title>7&#45;&gt;11</title>\n",
       "<path fill=\"none\" stroke=\"#000000\" d=\"M586.3051,-162.7971C603.1952,-153.1611 622.4217,-142.1921 639.9851,-132.1719\"/>\n",
       "<polygon fill=\"#000000\" stroke=\"#000000\" points=\"642.0454,-135.0261 648.9969,-127.0306 638.5766,-128.946 642.0454,-135.0261\"/>\n",
       "</g>\n",
       "<!-- 9 -->\n",
       "<g id=\"node10\" class=\"node\">\n",
       "<title>9</title>\n",
       "<path fill=\"#fdf5f0\" stroke=\"#000000\" d=\"M443,-38C443,-38 332,-38 332,-38 326,-38 320,-32 320,-26 320,-26 320,-12 320,-12 320,-6 326,0 332,0 332,0 443,0 443,0 449,0 455,-6 455,-12 455,-12 455,-26 455,-26 455,-32 449,-38 443,-38\"/>\n",
       "<text text-anchor=\"middle\" x=\"387.5\" y=\"-22.8\" font-family=\"Helvetica,sans-Serif\" font-size=\"14.00\" fill=\"#000000\">samples = 8.0%</text>\n",
       "<text text-anchor=\"middle\" x=\"387.5\" y=\"-7.8\" font-family=\"Helvetica,sans-Serif\" font-size=\"14.00\" fill=\"#000000\">value = 111.714</text>\n",
       "</g>\n",
       "<!-- 8&#45;&gt;9 -->\n",
       "<g id=\"edge9\" class=\"edge\">\n",
       "<title>8&#45;&gt;9</title>\n",
       "<path fill=\"none\" stroke=\"#000000\" d=\"M489.057,-73.8139C470.7459,-63.9307 450.1041,-52.7896 432.2356,-43.1454\"/>\n",
       "<polygon fill=\"#000000\" stroke=\"#000000\" points=\"433.6338,-39.9228 423.1713,-38.2531 430.309,-46.0828 433.6338,-39.9228\"/>\n",
       "</g>\n",
       "<!-- 10 -->\n",
       "<g id=\"node11\" class=\"node\">\n",
       "<title>10</title>\n",
       "<path fill=\"#ffffff\" stroke=\"#000000\" d=\"M595.5,-38C595.5,-38 485.5,-38 485.5,-38 479.5,-38 473.5,-32 473.5,-26 473.5,-26 473.5,-12 473.5,-12 473.5,-6 479.5,0 485.5,0 485.5,0 595.5,0 595.5,0 601.5,0 607.5,-6 607.5,-12 607.5,-12 607.5,-26 607.5,-26 607.5,-32 601.5,-38 595.5,-38\"/>\n",
       "<text text-anchor=\"middle\" x=\"540.5\" y=\"-22.8\" font-family=\"Helvetica,sans-Serif\" font-size=\"14.00\" fill=\"#000000\">samples = 2.3%</text>\n",
       "<text text-anchor=\"middle\" x=\"540.5\" y=\"-7.8\" font-family=\"Helvetica,sans-Serif\" font-size=\"14.00\" fill=\"#000000\">value = 28.0</text>\n",
       "</g>\n",
       "<!-- 8&#45;&gt;10 -->\n",
       "<g id=\"edge10\" class=\"edge\">\n",
       "<title>8&#45;&gt;10</title>\n",
       "<path fill=\"none\" stroke=\"#000000\" d=\"M539.1549,-73.8139C539.3551,-65.6535 539.5764,-56.6354 539.7807,-48.3105\"/>\n",
       "<polygon fill=\"#000000\" stroke=\"#000000\" points=\"543.2811,-48.336 540.0275,-38.2531 536.2832,-48.1642 543.2811,-48.336\"/>\n",
       "</g>\n",
       "<!-- 12 -->\n",
       "<g id=\"node13\" class=\"node\">\n",
       "<title>12</title>\n",
       "<path fill=\"#eba06a\" stroke=\"#000000\" d=\"M749.5,-38C749.5,-38 639.5,-38 639.5,-38 633.5,-38 627.5,-32 627.5,-26 627.5,-26 627.5,-12 627.5,-12 627.5,-6 633.5,0 639.5,0 639.5,0 749.5,0 749.5,0 755.5,0 761.5,-6 761.5,-12 761.5,-12 761.5,-26 761.5,-26 761.5,-32 755.5,-38 749.5,-38\"/>\n",
       "<text text-anchor=\"middle\" x=\"694.5\" y=\"-22.8\" font-family=\"Helvetica,sans-Serif\" font-size=\"14.00\" fill=\"#000000\">samples = 1.1%</text>\n",
       "<text text-anchor=\"middle\" x=\"694.5\" y=\"-7.8\" font-family=\"Helvetica,sans-Serif\" font-size=\"14.00\" fill=\"#000000\">value = 836.0</text>\n",
       "</g>\n",
       "<!-- 11&#45;&gt;12 -->\n",
       "<g id=\"edge12\" class=\"edge\">\n",
       "<title>11&#45;&gt;12</title>\n",
       "<path fill=\"none\" stroke=\"#000000\" d=\"M695.1726,-73.8139C695.0724,-65.6535 694.9618,-56.6354 694.8596,-48.3105\"/>\n",
       "<polygon fill=\"#000000\" stroke=\"#000000\" points=\"698.3588,-48.2093 694.7362,-38.2531 691.3593,-48.2953 698.3588,-48.2093\"/>\n",
       "</g>\n",
       "<!-- 13 -->\n",
       "<g id=\"node14\" class=\"node\">\n",
       "<title>13</title>\n",
       "<path fill=\"#fcf1ea\" stroke=\"#000000\" d=\"M901.5,-38C901.5,-38 791.5,-38 791.5,-38 785.5,-38 779.5,-32 779.5,-26 779.5,-26 779.5,-12 779.5,-12 779.5,-6 785.5,0 791.5,0 791.5,0 901.5,0 901.5,0 907.5,0 913.5,-6 913.5,-12 913.5,-12 913.5,-26 913.5,-26 913.5,-32 907.5,-38 901.5,-38\"/>\n",
       "<text text-anchor=\"middle\" x=\"846.5\" y=\"-22.8\" font-family=\"Helvetica,sans-Serif\" font-size=\"14.00\" fill=\"#000000\">samples = 1.1%</text>\n",
       "<text text-anchor=\"middle\" x=\"846.5\" y=\"-7.8\" font-family=\"Helvetica,sans-Serif\" font-size=\"14.00\" fill=\"#000000\">value = 144.0</text>\n",
       "</g>\n",
       "<!-- 11&#45;&gt;13 -->\n",
       "<g id=\"edge13\" class=\"edge\">\n",
       "<title>11&#45;&gt;13</title>\n",
       "<path fill=\"none\" stroke=\"#000000\" d=\"M744.943,-73.8139C763.2541,-63.9307 783.8959,-52.7896 801.7644,-43.1454\"/>\n",
       "<polygon fill=\"#000000\" stroke=\"#000000\" points=\"803.691,-46.0828 810.8287,-38.2531 800.3662,-39.9228 803.691,-46.0828\"/>\n",
       "</g>\n",
       "</g>\n",
       "</svg>\n"
      ],
      "text/plain": [
       "<graphviz.files.Source at 0x7f84fc831470>"
      ]
     },
     "execution_count": 8,
     "metadata": {},
     "output_type": "execute_result"
    }
   ],
   "source": [
    "p_julian = pipelines['DecisionTreeRegressor']['Julian']\n",
    "view_decision_tree_julian(p_julian)"
   ]
  },
  {
   "cell_type": "markdown",
   "metadata": {},
   "source": [
    "## Conclusion\n",
    "The models perform absolutely terrible, hardly better than the baseline model which does not use any of the variables to make predictions."
   ]
  },
  {
   "cell_type": "code",
   "execution_count": 9,
   "metadata": {},
   "outputs": [],
   "source": [
    "from pipelines import hybrid_regressor"
   ]
  },
  {
   "cell_type": "code",
   "execution_count": 10,
   "metadata": {},
   "outputs": [
    {
     "data": {
      "text/plain": [
       "251.56717796283016"
      ]
     },
     "execution_count": 10,
     "metadata": {},
     "output_type": "execute_result"
    }
   ],
   "source": [
    "p = hybrid_regressor()\n",
    "p.fit(X_train, y_train['OS_days'])\n",
    "y_train_pred = p.predict(X_train)\n",
    "y_test_pred = p.predict(X_test)\n",
    "rmse(y_test['OS_days'], y_test_pred)"
   ]
  },
  {
   "cell_type": "markdown",
   "metadata": {},
   "source": [
    "# Data distribution\n",
    "To understand better why the model works so terrible, let us look at the data distribution.\n",
    "Calculate the histogram and the cumulative histogram of the data."
   ]
  },
  {
   "cell_type": "code",
   "execution_count": 11,
   "metadata": {},
   "outputs": [],
   "source": [
    "# Calculate the distribution of all the data, not just the training data.\n",
    "(t_OS, p_OS), (t_OS_cum, p_OS_cum) = survival_histograms(y['OS_days'], hist_bins=10, cum_hist_bins=15)"
   ]
  },
  {
   "cell_type": "code",
   "execution_count": 12,
   "metadata": {},
   "outputs": [
    {
     "data": {
      "text/plain": [
       "<matplotlib.legend.Legend at 0x7f84f3823160>"
      ]
     },
     "execution_count": 12,
     "metadata": {},
     "output_type": "execute_result"
    },
    {
     "data": {
      "image/png": "[encoded data removed]",
      "text/plain": [
       "<Figure size 432x288 with 1 Axes>"
      ]
     },
     "metadata": {
      "needs_background": "light"
     },
     "output_type": "display_data"
    }
   ],
   "source": [
    "plt.plot(t_OS, p_OS, '-o', label='distribution')\n",
    "plt.plot(t_OS_cum, p_OS_cum, '--x', label='cumulative')\n",
    "plt.xlabel('$t$ (days)')\n",
    "plt.ylabel('$n$')\n",
    "plt.legend(frameon=False)"
   ]
  },
  {
   "cell_type": "markdown",
   "metadata": {},
   "source": [
    "which clearly shows an exponentially decaying function (as a side note, if the original distribution is exponential, than so is the cumulative function). \n",
    "\n",
    "If patients indeed decay exponentially\n",
    "$$N(t) = N_0 \\exp\\left(-\\frac{t}{\\tau}\\ln 2\\right) ,$$\n",
    "then the half life $\\tau$ can be determined from the slope\n",
    "$$\n",
    "\\ln[N(t)] = -\\frac{\\ln 2}{\\tau} t + \\ln N_0.\n",
    "$$\n",
    "Let us fit this to the distribution:\n"
   ]
  },
  {
   "cell_type": "code",
   "execution_count": 13,
   "metadata": {},
   "outputs": [
    {
     "data": {
      "image/png": "[encoded data removed]",
      "text/plain": [
       "<Figure size 432x288 with 1 Axes>"
      ]
     },
     "metadata": {
      "needs_background": "light"
     },
     "output_type": "display_data"
    }
   ],
   "source": [
    "# The last datum is an outlier.\n",
    "outliers = [len(p_OS_cum) - 1]\n",
    "view_as_exponential(t_OS_cum, p_OS_cum, outlier_indices=outliers)"
   ]
  },
  {
   "cell_type": "markdown",
   "metadata": {},
   "source": [
    "# Signal in the data\n",
    "Clearly, the data has a significant statistical component. Just to remind you, in a perfect scenario there is no noise in the data and we can predict with certainty the outcome. That is,\n",
    "$f(x) $\n",
    "and our goal is to design a function $g(x)$ that is a good approximation of $f(x)$. Looking back at the figure above, this would mean that all of our statistical uncertainty derives from an incomplete specification of the conditions $x$. Or put differently, ideally all the statistical uncertainty can be resolved by $x$.\n",
    "\n",
    "In reality, we may have incomplete knowledge, and this lack of knowledge introduces noise in the data. Therefore, in practice one has\n",
    "$$\n",
    "y = f(x) + \\epsilon,$$\n",
    "with $\\epsilon$ some noise term. Since our prediction models work rather poorly, it seems that $\\epsilon$ is a non-negligble part.\n",
    "\n",
    "**Question**: How much of the noise can be accounted for using $x$?"
   ]
  },
  {
   "cell_type": "code",
   "execution_count": 14,
   "metadata": {},
   "outputs": [],
   "source": [
    "# First merge all categories that occur less than 30 times.\n",
    "X = MergeRareCategories(thresshold=30, categorical_columns=categorical_input_columns).fit_transform(X)"
   ]
  },
  {
   "cell_type": "code",
   "execution_count": 15,
   "metadata": {},
   "outputs": [
    {
     "data": {
      "text/html": [
       "<div>\n",
       "<style scoped>\n",
       "    .dataframe tbody tr th:only-of-type {\n",
       "        vertical-align: middle;\n",
       "    }\n",
       "\n",
       "    .dataframe tbody tr th {\n",
       "        vertical-align: top;\n",
       "    }\n",
       "\n",
       "    .dataframe thead th {\n",
       "        text-align: right;\n",
       "    }\n",
       "</style>\n",
       "<table border=\"1\" class=\"dataframe\">\n",
       "  <thead>\n",
       "    <tr style=\"text-align: right;\">\n",
       "      <th></th>\n",
       "      <th></th>\n",
       "      <th>delta tau</th>\n",
       "      <th>signal to noise</th>\n",
       "    </tr>\n",
       "    <tr>\n",
       "      <th>category</th>\n",
       "      <th>item</th>\n",
       "      <th></th>\n",
       "      <th></th>\n",
       "    </tr>\n",
       "  </thead>\n",
       "  <tbody>\n",
       "    <tr>\n",
       "      <td>gender</td>\n",
       "      <td>male-female</td>\n",
       "      <td>41.573833</td>\n",
       "      <td>0.135917</td>\n",
       "    </tr>\n",
       "    <tr>\n",
       "      <td>stage</td>\n",
       "      <td>4-3</td>\n",
       "      <td>72.542822</td>\n",
       "      <td>0.237163</td>\n",
       "    </tr>\n",
       "    <tr>\n",
       "      <td>therapyline</td>\n",
       "      <td>2-1+3+0+4</td>\n",
       "      <td>34.609658</td>\n",
       "      <td>0.113149</td>\n",
       "    </tr>\n",
       "    <tr>\n",
       "      <td rowspan=\"3\" valign=\"top\">smokingstatus</td>\n",
       "      <td>smoker-previous</td>\n",
       "      <td>126.921462</td>\n",
       "      <td>0.414943</td>\n",
       "    </tr>\n",
       "    <tr>\n",
       "      <td>smoker-unknown+non smoker</td>\n",
       "      <td>166.779831</td>\n",
       "      <td>0.545251</td>\n",
       "    </tr>\n",
       "    <tr>\n",
       "      <td>previous-unknown+non smoker</td>\n",
       "      <td>39.858369</td>\n",
       "      <td>0.130308</td>\n",
       "    </tr>\n",
       "    <tr>\n",
       "      <td>Systemischetherapie</td>\n",
       "      <td>pembrolizumab+nivolumab + ipilimumab+atezolizumab+ipi-novu+durvalumab-nivolumab</td>\n",
       "      <td>40.112911</td>\n",
       "      <td>0.131141</td>\n",
       "    </tr>\n",
       "    <tr>\n",
       "      <td rowspan=\"3\" valign=\"top\">histology_grouped</td>\n",
       "      <td>adeno-squamous</td>\n",
       "      <td>30.270218</td>\n",
       "      <td>0.098962</td>\n",
       "    </tr>\n",
       "    <tr>\n",
       "      <td>adeno-other</td>\n",
       "      <td>70.383545</td>\n",
       "      <td>0.230104</td>\n",
       "    </tr>\n",
       "    <tr>\n",
       "      <td>squamous-other</td>\n",
       "      <td>100.653763</td>\n",
       "      <td>0.329066</td>\n",
       "    </tr>\n",
       "    <tr>\n",
       "      <td>lymfmeta</td>\n",
       "      <td>metastasis present-no metastasis present</td>\n",
       "      <td>111.699710</td>\n",
       "      <td>0.365178</td>\n",
       "    </tr>\n",
       "    <tr>\n",
       "      <td>brainmeta</td>\n",
       "      <td>metastasis present-no metastasis present</td>\n",
       "      <td>33.175529</td>\n",
       "      <td>0.108460</td>\n",
       "    </tr>\n",
       "    <tr>\n",
       "      <td>adrenalmeta</td>\n",
       "      <td>no metastasis present-metastasis present</td>\n",
       "      <td>41.995421</td>\n",
       "      <td>0.137295</td>\n",
       "    </tr>\n",
       "    <tr>\n",
       "      <td>livermeta</td>\n",
       "      <td>no metastasis present-metastasis present</td>\n",
       "      <td>51.224007</td>\n",
       "      <td>0.167466</td>\n",
       "    </tr>\n",
       "    <tr>\n",
       "      <td>lungmeta</td>\n",
       "      <td>no metastasis present-metastasis present</td>\n",
       "      <td>19.664026</td>\n",
       "      <td>0.064287</td>\n",
       "    </tr>\n",
       "    <tr>\n",
       "      <td>skeletonmeta</td>\n",
       "      <td>no metastasis present-metastasis present</td>\n",
       "      <td>2.896052</td>\n",
       "      <td>0.009468</td>\n",
       "    </tr>\n",
       "  </tbody>\n",
       "</table>\n",
       "</div>"
      ],
      "text/plain": [
       "                                                                         delta tau  \\\n",
       "category            item                                                             \n",
       "gender              male-female                                          41.573833   \n",
       "stage               4-3                                                  72.542822   \n",
       "therapyline         2-1+3+0+4                                            34.609658   \n",
       "smokingstatus       smoker-previous                                     126.921462   \n",
       "                    smoker-unknown+non smoker                           166.779831   \n",
       "                    previous-unknown+non smoker                          39.858369   \n",
       "Systemischetherapie pembrolizumab+nivolumab + ipilimumab+atezolizum...   40.112911   \n",
       "histology_grouped   adeno-squamous                                       30.270218   \n",
       "                    adeno-other                                          70.383545   \n",
       "                    squamous-other                                      100.653763   \n",
       "lymfmeta            metastasis present-no metastasis present            111.699710   \n",
       "brainmeta           metastasis present-no metastasis present             33.175529   \n",
       "adrenalmeta         no metastasis present-metastasis present             41.995421   \n",
       "livermeta           no metastasis present-metastasis present             51.224007   \n",
       "lungmeta            no metastasis present-metastasis present             19.664026   \n",
       "skeletonmeta        no metastasis present-metastasis present              2.896052   \n",
       "\n",
       "                                                                        signal to noise  \n",
       "category            item                                                                 \n",
       "gender              male-female                                                0.135917  \n",
       "stage               4-3                                                        0.237163  \n",
       "therapyline         2-1+3+0+4                                                  0.113149  \n",
       "smokingstatus       smoker-previous                                            0.414943  \n",
       "                    smoker-unknown+non smoker                                  0.545251  \n",
       "                    previous-unknown+non smoker                                0.130308  \n",
       "Systemischetherapie pembrolizumab+nivolumab + ipilimumab+atezolizum...         0.131141  \n",
       "histology_grouped   adeno-squamous                                             0.098962  \n",
       "                    adeno-other                                                0.230104  \n",
       "                    squamous-other                                             0.329066  \n",
       "lymfmeta            metastasis present-no metastasis present                   0.365178  \n",
       "brainmeta           metastasis present-no metastasis present                   0.108460  \n",
       "adrenalmeta         no metastasis present-metastasis present                   0.137295  \n",
       "livermeta           no metastasis present-metastasis present                   0.167466  \n",
       "lungmeta            no metastasis present-metastasis present                   0.064287  \n",
       "skeletonmeta        no metastasis present-metastasis present                   0.009468  "
      ]
     },
     "execution_count": 15,
     "metadata": {},
     "output_type": "execute_result"
    }
   ],
   "source": [
    "effect_summary = categorical_signal_summary(X, y['OS_days'], categorical_input_columns)\n",
    "effect_summary"
   ]
  },
  {
   "cell_type": "markdown",
   "metadata": {},
   "source": [
    "The largest effect is related to smoking."
   ]
  },
  {
   "cell_type": "code",
   "execution_count": 16,
   "metadata": {},
   "outputs": [
    {
     "data": {
      "text/html": [
       "<div>\n",
       "<style scoped>\n",
       "    .dataframe tbody tr th:only-of-type {\n",
       "        vertical-align: middle;\n",
       "    }\n",
       "\n",
       "    .dataframe tbody tr th {\n",
       "        vertical-align: top;\n",
       "    }\n",
       "\n",
       "    .dataframe thead th {\n",
       "        text-align: right;\n",
       "    }\n",
       "</style>\n",
       "<table border=\"1\" class=\"dataframe\">\n",
       "  <thead>\n",
       "    <tr style=\"text-align: right;\">\n",
       "      <th></th>\n",
       "      <th></th>\n",
       "      <th>delta tau</th>\n",
       "      <th>signal to noise</th>\n",
       "    </tr>\n",
       "    <tr>\n",
       "      <th>category</th>\n",
       "      <th>item</th>\n",
       "      <th></th>\n",
       "      <th></th>\n",
       "    </tr>\n",
       "  </thead>\n",
       "  <tbody>\n",
       "    <tr>\n",
       "      <td rowspan=\"2\" valign=\"top\">smokingstatus</td>\n",
       "      <td>smoker-unknown+non smoker</td>\n",
       "      <td>166.779831</td>\n",
       "      <td>0.545251</td>\n",
       "    </tr>\n",
       "    <tr>\n",
       "      <td>smoker-unknown+non smoker</td>\n",
       "      <td>166.779831</td>\n",
       "      <td>0.545251</td>\n",
       "    </tr>\n",
       "  </tbody>\n",
       "</table>\n",
       "</div>"
      ],
      "text/plain": [
       "                                          delta tau  signal to noise\n",
       "category      item                                                  \n",
       "smokingstatus smoker-unknown+non smoker  166.779831         0.545251\n",
       "              smoker-unknown+non smoker  166.779831         0.545251"
      ]
     },
     "execution_count": 16,
     "metadata": {},
     "output_type": "execute_result"
    }
   ],
   "source": [
    "i = effect_summary.idxmax(axis=0)\n",
    "effect_summary.loc[i]"
   ]
  },
  {
   "cell_type": "markdown",
   "metadata": {},
   "source": [
    "Even so, statistical noise overwhelms this contribution when only this effect is taken into account.\n",
    "\n",
    "# Performance model\n",
    "Using the analysis above alows us to do an analysis of the best-case and worst-case scenario that a perfect model can attain.\n",
    "- Best case scenario: all contributions add meaning that we can resolve "
   ]
  },
  {
   "cell_type": "code",
   "execution_count": 17,
   "metadata": {},
   "outputs": [
    {
     "data": {
      "text/plain": [
       "984.3611593161758"
      ]
     },
     "execution_count": 17,
     "metadata": {},
     "output_type": "execute_result"
    }
   ],
   "source": [
    "sum(effect_summary['delta tau'])"
   ]
  },
  {
   "cell_type": "markdown",
   "metadata": {},
   "source": [
    "all of the noise, but requiring $2^{16} \\approx 7 \\cdot 10^4$ data points.\n",
    "\n",
    "- Worst case scenario: improvement in prediction in one group undoes the improvement in all other groups and we are left with $\\arg \\max \\Delta \\tau(x)$.\n",
    "\n",
    "## Theoretical lower bound on model performance\n",
    "Assuming the worst case scenario, we can now derive a lower bound on the mean squared error, given that the data is distributed according to the exponentially decaying function.\n",
    "\n",
    "Normalising $N(t) = N_0 e^{-t \\ln 2 / \\tau}$ to $p(t)$ gives \n",
    "$$\n",
    "p(t) = \\alpha e^{-\\alpha t} ,\n",
    "$$\n",
    "with $\\alpha = \\ln 2/\\tau$. The standard deviation is nothing but the root mean squared error of the average:\n",
    "$$\n",
    "\\sigma_t^2 = \\langle t^2 \\rangle - \\langle t \\rangle^2 .\n",
    "$$\n",
    "Calculating the avarage $\\langle t \\rangle = 1/\\alpha$ and the two point function $\\langle t^2 \\rangle= 2/\\alpha^2$ allows one to express the standard deviation as.\n",
    "$$\n",
    "\\sigma_t^2 = \\alpha^{-2} = \\left( \\frac{\\tau}{\\ln 2} \\right)^2 .\n",
    "$$\n",
    "Using the value above $\\tau =258$ days gives a variance of"
   ]
  },
  {
   "cell_type": "code",
   "execution_count": 18,
   "metadata": {},
   "outputs": [
    {
     "name": "stdout",
     "output_type": "stream",
     "text": [
      "372.22\n"
     ]
    }
   ],
   "source": [
    "sigma_t = 258 / np.log(2)\n",
    "print(f'{sigma_t:.2f}')"
   ]
  },
  {
   "cell_type": "markdown",
   "metadata": {},
   "source": [
    "and so, with $\\Delta \\tau = 167$ we arive at $\\sigma_t - \\frac{\\Delta \\tau}{2} = $"
   ]
  },
  {
   "cell_type": "code",
   "execution_count": 19,
   "metadata": {},
   "outputs": [
    {
     "name": "stdout",
     "output_type": "stream",
     "text": [
      "288.71532054935255\n"
     ]
    }
   ],
   "source": [
    "delta_t = 167\n",
    "min_mse = sigma_t - delta_t  /2\n",
    "print(min_mse)"
   ]
  },
  {
   "cell_type": "markdown",
   "metadata": {},
   "source": [
    "Meaning that, at least in theory, we should be able to get an estimate with a root mean squared error below this number. \n",
    "\n",
    "The fact that this number is quite close to the best performing models indicate that probably there is still room for improvement."
   ]
  }
 ],
 "metadata": {
  "kernelspec": {
   "display_name": "Python 3",
   "language": "python",
   "name": "python3"
  },
  "language_info": {
   "codemirror_mode": {
    "name": "ipython",
    "version": 3
   },
   "file_extension": ".py",
   "mimetype": "text/x-python",
   "name": "python",
   "nbconvert_exporter": "python",
   "pygments_lexer": "ipython3",
   "version": "3.7.3"
  }
 },
 "nbformat": 4,
 "nbformat_minor": 2
}
