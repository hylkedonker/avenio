{
 "cells": [
  {
   "cell_type": "code",
   "execution_count": 1,
   "metadata": {},
   "outputs": [],
   "source": [
    "%matplotlib inline\n",
    "import numpy as np\n",
    "\n",
    "from transform import combine_tsv_files, load_process_and_store_spreadsheets"
   ]
  },
  {
   "cell_type": "code",
   "execution_count": 2,
   "metadata": {},
   "outputs": [
    {
     "ename": "AttributeError",
     "evalue": "'int' object has no attribute 'split'",
     "output_type": "error",
     "traceback": [
      "\u001b[0;31m---------------------------------------------------------------------------\u001b[0m",
      "\u001b[0;31mAttributeError\u001b[0m                            Traceback (most recent call last)",
      "\u001b[0;32m<ipython-input-2-38f6abf27d74>\u001b[0m in \u001b[0;36m<module>\u001b[0;34m\u001b[0m\n\u001b[1;32m      6\u001b[0m     \u001b[0mall_filename_prefix\u001b[0m\u001b[0;34m=\u001b[0m\u001b[0;34m\"output/all__harmonic_mean_\"\u001b[0m\u001b[0;34m,\u001b[0m\u001b[0;34m\u001b[0m\u001b[0;34m\u001b[0m\u001b[0m\n\u001b[1;32m      7\u001b[0m     \u001b[0mtrain_filename_prefix\u001b[0m\u001b[0;34m=\u001b[0m\u001b[0;34m\"output/train__harmonic_mean_\"\u001b[0m\u001b[0;34m,\u001b[0m\u001b[0;34m\u001b[0m\u001b[0;34m\u001b[0m\u001b[0m\n\u001b[0;32m----> 8\u001b[0;31m     \u001b[0mtest_filename_prefix\u001b[0m\u001b[0;34m=\u001b[0m\u001b[0;34m\"output/test__harmonic_mean_\"\u001b[0m\u001b[0;34m,\u001b[0m\u001b[0;34m\u001b[0m\u001b[0;34m\u001b[0m\u001b[0m\n\u001b[0m\u001b[1;32m      9\u001b[0m )\n",
      "\u001b[0;32m~/avenio/transform.py\u001b[0m in \u001b[0;36mload_process_and_store_spreadsheets\u001b[0;34m(spread_sheet_filename, spss_filename, transformation, columns, all_filename_prefix, train_filename_prefix, test_filename_prefix)\u001b[0m\n\u001b[1;32m    267\u001b[0m \u001b[0;34m\u001b[0m\u001b[0m\n\u001b[1;32m    268\u001b[0m     \u001b[0;31m# Combine the T0 and T1 measurements in a single record.\u001b[0m\u001b[0;34m\u001b[0m\u001b[0;34m\u001b[0m\u001b[0;34m\u001b[0m\u001b[0m\n\u001b[0;32m--> 269\u001b[0;31m     \u001b[0mspread_sheet\u001b[0m \u001b[0;34m=\u001b[0m \u001b[0mmerge_mutation_spreadsheet_t0_with_t1\u001b[0m\u001b[0;34m(\u001b[0m\u001b[0mpatient_mutations\u001b[0m\u001b[0;34m,\u001b[0m \u001b[0mcolumns\u001b[0m\u001b[0;34m)\u001b[0m\u001b[0;34m\u001b[0m\u001b[0;34m\u001b[0m\u001b[0m\n\u001b[0m\u001b[1;32m    270\u001b[0m \u001b[0;34m\u001b[0m\u001b[0m\n\u001b[1;32m    271\u001b[0m     \u001b[0;31m# Make a different document for each of the column pairs.\u001b[0m\u001b[0;34m\u001b[0m\u001b[0;34m\u001b[0m\u001b[0;34m\u001b[0m\u001b[0m\n",
      "\u001b[0;32m~/avenio/transform.py\u001b[0m in \u001b[0;36mmerge_mutation_spreadsheet_t0_with_t1\u001b[0;34m(spread_sheet, columns)\u001b[0m\n\u001b[1;32m    411\u001b[0m     \u001b[0;31m# Determine whether it is t0 or t1 measurement.\u001b[0m\u001b[0;34m\u001b[0m\u001b[0;34m\u001b[0m\u001b[0;34m\u001b[0m\u001b[0m\n\u001b[1;32m    412\u001b[0m     spread_sheet[\"Sample ID\"] = spread_sheet[\"Sample ID\"].apply(\n\u001b[0;32m--> 413\u001b[0;31m         \u001b[0;32mlambda\u001b[0m \u001b[0mx\u001b[0m\u001b[0;34m:\u001b[0m \u001b[0mint\u001b[0m\u001b[0;34m(\u001b[0m\u001b[0mx\u001b[0m\u001b[0;34m.\u001b[0m\u001b[0msplit\u001b[0m\u001b[0;34m(\u001b[0m\u001b[0;34m\"_\"\u001b[0m\u001b[0;34m)\u001b[0m\u001b[0;34m[\u001b[0m\u001b[0;36m1\u001b[0m\u001b[0;34m]\u001b[0m\u001b[0;34m)\u001b[0m\u001b[0;34m\u001b[0m\u001b[0;34m\u001b[0m\u001b[0m\n\u001b[0m\u001b[1;32m    414\u001b[0m     )\n\u001b[1;32m    415\u001b[0m     \u001b[0;31m# Replace NA with empty string in order to join the rows using pandas.\u001b[0m\u001b[0;34m\u001b[0m\u001b[0;34m\u001b[0m\u001b[0;34m\u001b[0m\u001b[0m\n",
      "\u001b[0;32m/opt/conda/lib/python3.7/site-packages/pandas/core/series.py\u001b[0m in \u001b[0;36mapply\u001b[0;34m(self, func, convert_dtype, args, **kwds)\u001b[0m\n\u001b[1;32m   4040\u001b[0m             \u001b[0;32melse\u001b[0m\u001b[0;34m:\u001b[0m\u001b[0;34m\u001b[0m\u001b[0;34m\u001b[0m\u001b[0m\n\u001b[1;32m   4041\u001b[0m                 \u001b[0mvalues\u001b[0m \u001b[0;34m=\u001b[0m \u001b[0mself\u001b[0m\u001b[0;34m.\u001b[0m\u001b[0mastype\u001b[0m\u001b[0;34m(\u001b[0m\u001b[0mobject\u001b[0m\u001b[0;34m)\u001b[0m\u001b[0;34m.\u001b[0m\u001b[0mvalues\u001b[0m\u001b[0;34m\u001b[0m\u001b[0;34m\u001b[0m\u001b[0m\n\u001b[0;32m-> 4042\u001b[0;31m                 \u001b[0mmapped\u001b[0m \u001b[0;34m=\u001b[0m \u001b[0mlib\u001b[0m\u001b[0;34m.\u001b[0m\u001b[0mmap_infer\u001b[0m\u001b[0;34m(\u001b[0m\u001b[0mvalues\u001b[0m\u001b[0;34m,\u001b[0m \u001b[0mf\u001b[0m\u001b[0;34m,\u001b[0m \u001b[0mconvert\u001b[0m\u001b[0;34m=\u001b[0m\u001b[0mconvert_dtype\u001b[0m\u001b[0;34m)\u001b[0m\u001b[0;34m\u001b[0m\u001b[0;34m\u001b[0m\u001b[0m\n\u001b[0m\u001b[1;32m   4043\u001b[0m \u001b[0;34m\u001b[0m\u001b[0m\n\u001b[1;32m   4044\u001b[0m         \u001b[0;32mif\u001b[0m \u001b[0mlen\u001b[0m\u001b[0;34m(\u001b[0m\u001b[0mmapped\u001b[0m\u001b[0;34m)\u001b[0m \u001b[0;32mand\u001b[0m \u001b[0misinstance\u001b[0m\u001b[0;34m(\u001b[0m\u001b[0mmapped\u001b[0m\u001b[0;34m[\u001b[0m\u001b[0;36m0\u001b[0m\u001b[0;34m]\u001b[0m\u001b[0;34m,\u001b[0m \u001b[0mSeries\u001b[0m\u001b[0;34m)\u001b[0m\u001b[0;34m:\u001b[0m\u001b[0;34m\u001b[0m\u001b[0;34m\u001b[0m\u001b[0m\n",
      "\u001b[0;32mpandas/_libs/lib.pyx\u001b[0m in \u001b[0;36mpandas._libs.lib.map_infer\u001b[0;34m()\u001b[0m\n",
      "\u001b[0;32m~/avenio/transform.py\u001b[0m in \u001b[0;36m<lambda>\u001b[0;34m(x)\u001b[0m\n\u001b[1;32m    411\u001b[0m     \u001b[0;31m# Determine whether it is t0 or t1 measurement.\u001b[0m\u001b[0;34m\u001b[0m\u001b[0;34m\u001b[0m\u001b[0;34m\u001b[0m\u001b[0m\n\u001b[1;32m    412\u001b[0m     spread_sheet[\"Sample ID\"] = spread_sheet[\"Sample ID\"].apply(\n\u001b[0;32m--> 413\u001b[0;31m         \u001b[0;32mlambda\u001b[0m \u001b[0mx\u001b[0m\u001b[0;34m:\u001b[0m \u001b[0mint\u001b[0m\u001b[0;34m(\u001b[0m\u001b[0mx\u001b[0m\u001b[0;34m.\u001b[0m\u001b[0msplit\u001b[0m\u001b[0;34m(\u001b[0m\u001b[0;34m\"_\"\u001b[0m\u001b[0;34m)\u001b[0m\u001b[0;34m[\u001b[0m\u001b[0;36m1\u001b[0m\u001b[0;34m]\u001b[0m\u001b[0;34m)\u001b[0m\u001b[0;34m\u001b[0m\u001b[0;34m\u001b[0m\u001b[0m\n\u001b[0m\u001b[1;32m    414\u001b[0m     )\n\u001b[1;32m    415\u001b[0m     \u001b[0;31m# Replace NA with empty string in order to join the rows using pandas.\u001b[0m\u001b[0;34m\u001b[0m\u001b[0;34m\u001b[0m\u001b[0;34m\u001b[0m\u001b[0m\n",
      "\u001b[0;31mAttributeError\u001b[0m: 'int' object has no attribute 'split'"
     ]
    }
   ],
   "source": [
    "def harmonic_mean(t0, t1):\n",
    "    return t0 * t1 / (t0 + t1)\n",
    "\n",
    "load_process_and_store_spreadsheets(\n",
    "    transformation=harmonic_mean,\n",
    "    all_filename_prefix=\"output/all_\",\n",
    "    train_filename_prefix=\"output/train_\",\n",
    "    test_filename_prefix=\"output/test_\",\n",
    ")"
   ]
  },
  {
   "cell_type": "code",
   "execution_count": 4,
   "metadata": {},
   "outputs": [],
   "source": [
    "def difference(t0, t1):\n",
    "    return t1 - t0\n",
    "\n",
    "load_process_and_store_spreadsheets(\n",
    "    transformation=difference,\n",
    "    all_filename_prefix=\"output/all_\",\n",
    "    train_filename_prefix=\"output/train_\",\n",
    "    test_filename_prefix=\"output/test_\",\n",
    ")"
   ]
  },
  {
   "cell_type": "code",
   "execution_count": 5,
   "metadata": {},
   "outputs": [
    {
     "name": "stderr",
     "output_type": "stream",
     "text": [
      "<ipython-input-5-8639749480b7>:2: RuntimeWarning: divide by zero encountered in double_scalars\n",
      "  return (t1-t0)/t0\n"
     ]
    }
   ],
   "source": [
    "def relative_difference(t0, t1):\n",
    "    return (t1-t0)/t0\n",
    "\n",
    "load_process_and_store_spreadsheets(\n",
    "    transformation=relative_difference,\n",
    "    all_filename_prefix=\"output/all_\",\n",
    "    train_filename_prefix=\"output/train_\",\n",
    "    test_filename_prefix=\"output/test_\",\n",
    ")"
   ]
  },
  {
   "cell_type": "code",
   "execution_count": 6,
   "metadata": {},
   "outputs": [],
   "source": [
    "def up_or_down(t0, t1):\n",
    "    return np.sign(t1 - t0)\n",
    "\n",
    "\n",
    "load_process_and_store_spreadsheets(\n",
    "    transformation=up_or_down,\n",
    "    all_filename_prefix=\"output/all_\",\n",
    "    train_filename_prefix=\"output/train_\",\n",
    "    test_filename_prefix=\"output/test_\",\n",
    ")"
   ]
  },
  {
   "cell_type": "markdown",
   "metadata": {},
   "source": [
    "Data without train/test split, with CNV scores merged in."
   ]
  },
  {
   "cell_type": "code",
   "execution_count": 7,
   "metadata": {},
   "outputs": [],
   "source": [
    "def to_excel(snv_name, cnv_name):\n",
    "    excel_filename = snv_name.replace('.tsv', '_CNV.xlsx')\n",
    "    X, y = combine_tsv_files(snv_name, cnv_name)\n",
    "    X.merge(y, left_index=True, right_index=True).to_excel(excel_filename)\n",
    "    print(f'Wrote {excel_filename}.')"
   ]
  },
  {
   "cell_type": "code",
   "execution_count": 10,
   "metadata": {},
   "outputs": [
    {
     "name": "stdout",
     "output_type": "stream",
     "text": [
      "Wrote output/all__gene__harmonic_mean__Allele Fraction_CNV.xlsx.\n",
      "Wrote output/all__gene__harmonic_mean__No. Mutant Molecules per mL_CNV.xlsx.\n",
      "Wrote output/all__gene__difference__Allele Fraction_CNV.xlsx.\n",
      "Wrote output/all__gene__difference__No. Mutant Molecules per mL_CNV.xlsx.\n",
      "Wrote output/all__gene__relative_difference__Allele Fraction_CNV.xlsx.\n",
      "Wrote output/all__gene__relative_difference__No. Mutant Molecules per mL_CNV.xlsx.\n",
      "Wrote output/all__pathway__harmonic_mean__Allele Fraction_CNV.xlsx.\n",
      "Wrote output/all__pathway__harmonic_mean__No. Mutant Molecules per mL_CNV.xlsx.\n",
      "Wrote output/all__pathway__difference__Allele Fraction_CNV.xlsx.\n",
      "Wrote output/all__pathway__difference__No. Mutant Molecules per mL_CNV.xlsx.\n",
      "Wrote output/all__pathway__relative_difference__Allele Fraction_CNV.xlsx.\n",
      "Wrote output/all__pathway__relative_difference__No. Mutant Molecules per mL_CNV.xlsx.\n"
     ]
    }
   ],
   "source": [
    "for coarseness in ('gene', 'pathway'):\n",
    "    for transformation in ('harmonic_mean', 'difference', 'relative_difference'):\n",
    "        to_excel(\n",
    "            f\"output/all__{coarseness}__{transformation}__Allele Fraction.tsv\",\n",
    "            f\"output/all__{coarseness}__{transformation}__CNV Score.tsv\",\n",
    "        )\n",
    "        to_excel(\n",
    "            f\"output/all__{coarseness}__{transformation}__No. Mutant Molecules per mL.tsv\",\n",
    "            f\"output/all__{coarseness}__{transformation}__CNV Score.tsv\",\n",
    "        )"
   ]
  }
 ],
 "metadata": {
  "kernelspec": {
   "display_name": "Python 3",
   "language": "python",
   "name": "python3"
  },
  "language_info": {
   "codemirror_mode": {
    "name": "ipython",
    "version": 3
   },
   "file_extension": ".py",
   "mimetype": "text/x-python",
   "name": "python",
   "nbconvert_exporter": "python",
   "pygments_lexer": "ipython3",
   "version": "3.8.2"
  }
 },
 "nbformat": 4,
 "nbformat_minor": 2
}
