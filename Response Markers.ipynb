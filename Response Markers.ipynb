{
 "cells": [
  {
   "cell_type": "markdown",
   "metadata": {},
   "source": [
    "# ctDNA changes as a predictive marker for response (PR/CR/SD/PD) (UMCG/Paul and Hylke, validation at MUG)\n",
    "To test whether the genomic information helps predict clinical response, we set out to build a model that is able to single out responders (composed of complete and partial responders) versus the complement, namely non-responders (stable disease or progressive disease) and non-evaluable participants. To this end, we first partitioned the dataset into a training-validation set ($n=...$ participants) and an hold-out test set (the remainder, $n=...$ subjects). \n",
    "Below, we report results from five-fold cross-validalation on the training-validation set, and the test set.\n",
    "\n",
    "To evaluate the model, we took the single nucleotide variants and the copy number alterations that were called by  the Avenio platform, after the aforementioned filtering. Subsequently, the following transformation steps were carried on the variant calls:\n",
    "1. Point mutations are pooled on a gene granularity by summing over individual variations. \n",
    "\n",
    "    a. For calculations in which single time points (i.e., $t_0$ or $t_1$ only) were considered, we directly sum their values, i.e., \n",
    "    $$\n",
    "    \\overline{c}_i^{(\\alpha)}(t) \\sum_{j\\in \\text{variations in }i} c_{ij}^{(\\alpha)}(t)\n",
    "    $$ \n",
    "    where $c_{ij}^{(\\alpha)}(t)$ denotes the mutant concentration (in units of molecules per mL) of variation $j$ (e.g., $j$ = c.973T>C) in gene $i$ (i.e., $i \\in \\{\\text{EGFR}, \\text{KRAS},\\dots  \\}$) at time point $t\\in \\{t_0, t_1\\}$ for patient $\\alpha$. Models using the variant allele frequency, denoted by $x_{ij}^{(\\alpha)}(t)$, instead of the mutant concentration, are coarse grained in a similar way.\n",
    "    \n",
    "    b. Results using _both_ timepoints $t_0$ and $t_1$ are transformed prior to coarse graining\n",
    "$$\n",
    "\\overline{f}^{(\\alpha)}_i(t_0, t_1) = \\sum_{j\\in \\text{variations in }i} f\\left(c_{ij}^{(\\alpha)}(t_0), c^{(\\alpha)}_{ij}(t_1)\\right),\n",
    "$$\n",
    " and similarly for the variant allele frequency.\n",
    "2. CNV scores are calculated per gene, so no pooling is required. Two-time point results can therefore directly be transformed using $f(u, v)$.\n",
    "3. After pooling, each genomic feature is made dimensionless by maximum absolute value scaling. The dimensionless numbers lie in the $[-1, 1]$ interval, thereby facilitating a comparison with the clinical variables.\n",
    "4. All genomic values are set to zero when, after filtering, no variants were observed.\n",
    "\n",
    "The data produced from these subsequent steps are jointly denoted by _genomic features_. Apart from these genomic features, the clinical variables age, gender, therapy line, smoking status, histology and presence of lymf-, brain-, adrenal-, liver- and lung metastases were selected for modelling. We shall refer to this set of variables as the _clinical_ variables or features. Each clinical variable is converted into a numeric value by one-hot-encoding, after dichotomising each variable.\n",
    "\n",
    "A variety of machine learnings models were compared to predict the treatment response (Fig. [?]). All models proved to be equivalent --- within the variation observed in cross-validation --- in terms of the area under the curve of the receiver operating characeristic (AUC ROC). We shall therefore focus on a logistic regression model with $L_2$ regularisation in view of its simple-to-interpret coefficients, and the relative small standard deviation in cross-validation results of the AUC ROC."
   ]
  },
  {
   "cell_type": "code",
   "execution_count": 1,
   "metadata": {},
   "outputs": [],
   "source": [
    "from matplotlib import pyplot as plt\n",
    "from sklearn.linear_model import LogisticRegression\n",
    "\n",
    "from pipelines import pipeline_Freeman\n",
    "from transform import combine_tsv_files, generate_data_pairs, generate_model_data_pairs\n",
    "from views import compare_prognostic_value_genomic_information, view_linear_model_freeman"
   ]
  },
  {
   "cell_type": "code",
   "execution_count": 7,
   "metadata": {},
   "outputs": [],
   "source": [
    "# Parameters for logistic regression.\n",
    "logistic_Freeman_parameters = {\n",
    "    'estimator__C': 0.1, \n",
    "    'estimator__class_weight': 'balanced', \n",
    "    \"estimator__solver\": \"newton-cg\",\n",
    "}"
   ]
  },
  {
   "cell_type": "markdown",
   "metadata": {},
   "source": [
    "## In how many patients did we observe consistent increase/decrease of ctDNA levels? How many patients showed a mixed molecular response?\n",
    "Figure of Paul"
   ]
  },
  {
   "cell_type": "markdown",
   "metadata": {},
   "source": [
    "## Can changing levels predict response?\n",
    "Marginally:"
   ]
  },
  {
   "cell_type": "code",
   "execution_count": 8,
   "metadata": {},
   "outputs": [],
   "source": [
    "# Difference genomic variable.\n",
    "X_train_t0, y_train = combine_tsv_files(\n",
    "    \"output/train__gene__t0__No. Mutant Molecules per mL.tsv\",\n",
    "    \"output/train__gene__t0__CNV Score.tsv\",\n",
    ")"
   ]
  },
  {
   "cell_type": "code",
   "execution_count": 9,
   "metadata": {},
   "outputs": [],
   "source": [
    "y_train = y_train[\"response_grouped\"]\n",
    "\n",
    "response_labels = ['non responder (sd+pd)', 'responder (pr+cr)', 'non evaluable (ne)']\n",
    "pos_label = 'responder (pr+cr)'\n",
    "y_train = y_train == pos_label"
   ]
  },
  {
   "cell_type": "code",
   "execution_count": 10,
   "metadata": {},
   "outputs": [
    {
     "data": {
      "text/plain": [
       "Pipeline(memory=None,\n",
       "         steps=[('clinical_curation',\n",
       "                 FunctionTransformer(accept_sparse=False, check_inverse=True,\n",
       "                                     func=<function clinical_data_curation at 0x7feb878fd400>,\n",
       "                                     inv_kw_args=None, inverse_func=None,\n",
       "                                     kw_args=None, pass_y='deprecated',\n",
       "                                     validate=False)),\n",
       "                ('filter_clinical_variables',\n",
       "                 FunctionTransformer(accept_sparse=False, check_inverse=True,\n",
       "                                     func=<function d...\n",
       "                                                   'adrenalmeta', 'livermeta',\n",
       "                                                   'lungmeta', 'skeletonmeta',\n",
       "                                                   'age'])],\n",
       "                                   verbose=False)),\n",
       "                ('estimator',\n",
       "                 LogisticRegression(C=0.1, class_weight='balanced', dual=False,\n",
       "                                    fit_intercept=True, intercept_scaling=1,\n",
       "                                    l1_ratio=None, max_iter=100,\n",
       "                                    multi_class='warn', n_jobs=None,\n",
       "                                    penalty='l2', random_state=None,\n",
       "                                    solver='newton-cg', tol=0.0001, verbose=0,\n",
       "                                    warm_start=False))],\n",
       "         verbose=False)"
      ]
     },
     "execution_count": 10,
     "metadata": {},
     "output_type": "execute_result"
    }
   ],
   "source": [
    "logistic_Freeman = pipeline_Freeman(LogisticRegression)\n",
    "logistic_Freeman.set_params(**logistic_Freeman_parameters)"
   ]
  },
  {
   "cell_type": "code",
   "execution_count": null,
   "metadata": {},
   "outputs": [
    {
     "name": "stdout",
     "output_type": "stream",
     "text": [
      "> \u001b[0;32m/home/donkerhc/avenio/views.py\u001b[0m(353)\u001b[0;36mview_linear_model_freeman\u001b[0;34m()\u001b[0m\n",
      "\u001b[0;32m    352 \u001b[0;31m    \u001b[0;31m# Make a plot for the clinical data.\u001b[0m\u001b[0;34m\u001b[0m\u001b[0;34m\u001b[0m\u001b[0;34m\u001b[0m\u001b[0m\n",
      "\u001b[0m\u001b[0;32m--> 353 \u001b[0;31m    \u001b[0;32mwith\u001b[0m \u001b[0msns\u001b[0m\u001b[0;34m.\u001b[0m\u001b[0mplotting_context\u001b[0m\u001b[0;34m(\u001b[0m\u001b[0mfont_scale\u001b[0m\u001b[0;34m=\u001b[0m\u001b[0;36m1.5\u001b[0m\u001b[0;34m)\u001b[0m\u001b[0;34m:\u001b[0m\u001b[0;34m\u001b[0m\u001b[0;34m\u001b[0m\u001b[0m\n",
      "\u001b[0m\u001b[0;32m    354 \u001b[0;31m        coef_partitions = dichomotise_parallel_coefficients(\n",
      "\u001b[0m\n",
      "ipdb> n\n",
      "> \u001b[0;32m/home/donkerhc/avenio/views.py\u001b[0m(354)\u001b[0;36mview_linear_model_freeman\u001b[0;34m()\u001b[0m\n",
      "\u001b[0;32m    353 \u001b[0;31m    \u001b[0;32mwith\u001b[0m \u001b[0msns\u001b[0m\u001b[0;34m.\u001b[0m\u001b[0mplotting_context\u001b[0m\u001b[0;34m(\u001b[0m\u001b[0mfont_scale\u001b[0m\u001b[0;34m=\u001b[0m\u001b[0;36m1.5\u001b[0m\u001b[0;34m)\u001b[0m\u001b[0;34m:\u001b[0m\u001b[0;34m\u001b[0m\u001b[0;34m\u001b[0m\u001b[0m\n",
      "\u001b[0m\u001b[0;32m--> 354 \u001b[0;31m        coef_partitions = dichomotise_parallel_coefficients(\n",
      "\u001b[0m\u001b[0;32m    355 \u001b[0;31m            \u001b[0mcoeff_mean_clinical\u001b[0m\u001b[0;34m,\u001b[0m \u001b[0mcoeff_std_clinical\u001b[0m\u001b[0;34m,\u001b[0m \u001b[0mclinical_variable_names\u001b[0m\u001b[0;34m\u001b[0m\u001b[0;34m\u001b[0m\u001b[0m\n",
      "\u001b[0m\n",
      "ipdb> n\n",
      "> \u001b[0;32m/home/donkerhc/avenio/views.py\u001b[0m(355)\u001b[0;36mview_linear_model_freeman\u001b[0;34m()\u001b[0m\n",
      "\u001b[0;32m    354 \u001b[0;31m        coef_partitions = dichomotise_parallel_coefficients(\n",
      "\u001b[0m\u001b[0;32m--> 355 \u001b[0;31m            \u001b[0mcoeff_mean_clinical\u001b[0m\u001b[0;34m,\u001b[0m \u001b[0mcoeff_std_clinical\u001b[0m\u001b[0;34m,\u001b[0m \u001b[0mclinical_variable_names\u001b[0m\u001b[0;34m\u001b[0m\u001b[0;34m\u001b[0m\u001b[0m\n",
      "\u001b[0m\u001b[0;32m    356 \u001b[0;31m        )\n",
      "\u001b[0m\n",
      "ipdb> \n",
      "> \u001b[0;32m/home/donkerhc/avenio/views.py\u001b[0m(358)\u001b[0;36mview_linear_model_freeman\u001b[0;34m()\u001b[0m\n",
      "\u001b[0;32m    357 \u001b[0;31m\u001b[0;34m\u001b[0m\u001b[0m\n",
      "\u001b[0m\u001b[0;32m--> 358 \u001b[0;31m        \u001b[0;32mdef\u001b[0m \u001b[0m_init_plot\u001b[0m\u001b[0;34m(\u001b[0m\u001b[0;34m)\u001b[0m\u001b[0;34m:\u001b[0m\u001b[0;34m\u001b[0m\u001b[0;34m\u001b[0m\u001b[0m\n",
      "\u001b[0m\u001b[0;32m    359 \u001b[0;31m            \u001b[0;34m\"\"\" Initialise clinical plot settings. \"\"\"\u001b[0m\u001b[0;34m\u001b[0m\u001b[0;34m\u001b[0m\u001b[0m\n",
      "\u001b[0m\n",
      "ipdb> p coef_partitions\n",
      "(([0.06555922177424121, 0.005275823086067855, 0.02282927899119047, -0.07229828555956974, 0.11637658873363044, -0.12827768442138754, -0.059373221652256045, -0.06886969328131753, -0.2697865741535588, -0.23193138439480432, 0.15533318410297794], [0.04364733547570503, 0.03482692033386717, 0.05329421422877919, 0.061857223636162764, 0.08110565337718631, 0.038698774377368884, 0.04138606144124862, 0.08076421930786203, 0.04047613919791234, 0.06014622789644471, 0.0712171726085908], ['gender: male', 'therapy line: >1', 'smoker: non smoker', 'histology: squamous', 'lymfmeta: present', 'brainmeta: present', 'adrenalmeta: present', 'livermeta: present', 'lungmeta: present', 'skeletonmeta: present', 'age: <65']), ([-0.06555957645296782, -0.005276177764794473, -0.022829633669917075, 0.0722979308808431, -0.11637694341235702, 0.1282773297426609, 0.05937286697352945, 0.06886933860259092, 0.2697862194748323, 0.23193102971607765, -0.1553335387817047], [0.04364762257658713, 0.03482671808245274, 0.05329427598158571, 0.06185709563355932, 0.08110513106912676, 0.038699362104287496, 0.04138604093794123, 0.08076412417651885, 0.040476537149045665, 0.060145845294919356, 0.0712168518699224], ['gender: female', 'therapy line: 0+1', 'smoker: current+previous', 'histology: adeno', 'lymfmeta: absent', 'brainmeta: absent', 'adrenalmeta: absent', 'livermeta: absent', 'lungmeta: absent', 'skeletonmeta: absent', 'age: $\\\\geq$ 65']))\n"
     ]
    }
   ],
   "source": [
    "figure_filenames = (\"logistic_regression__clinical_freeman__t0\", \"logistic_regression__genetic_freeman__t0\")\n",
    "view_linear_model_freeman(\n",
    "    X_train_t0, \n",
    "    y_train, \n",
    "    logistic_Freeman, \n",
    "    filenames=figure_filenames, \n",
    ")"
   ]
  },
  {
   "cell_type": "code",
   "execution_count": null,
   "metadata": {},
   "outputs": [],
   "source": [
    "mutant_data_pairs = generate_data_pairs(\n",
    "    filename_prefix=\"output/train\", snv_type=\"No. Mutant Molecules per mL\"\n",
    ")\n",
    "vaf_data_pairs = generate_data_pairs(\n",
    "    filename_prefix=\"output/train\", snv_type=\"Allele Fraction\"\n",
    ")\n",
    "model_mutant_data_pairs = generate_model_data_pairs(mutant_data_pairs, logistic_parameters)\n",
    "model_vaf_data_pairs = generate_model_data_pairs(vaf_data_pairs, logistic_parameters)\n",
    "compare_prognostic_value_genomic_information(model_mutant_data_pairs, plot_label=\"Mutant concentration\")\n",
    "compare_prognostic_value_genomic_information(model_vaf_data_pairs, plot_label='Allele fraction')\n",
    "plt.savefig('figs/comparison_genomic_data.png', bbox_inches=\"tight\")"
   ]
  },
  {
   "cell_type": "markdown",
   "metadata": {},
   "source": [
    "## Do baseline levels correlate with response\n",
    "See figure:\n",
    "![VAF/mol](figs/comparison_genomic_data.png \"VAF molecules comparison\")"
   ]
  },
  {
   "cell_type": "markdown",
   "metadata": {},
   "source": [
    "## Define a cut-off for quantitative change or for baseline levels!\n",
    "## Use mean of all variants\n",
    "## Use a delta (T0-T1) of 30% as cut-off\n",
    "## Use a delta (T0-T1) of 50% as cut-off\n",
    "## Use a delta (T0-T1) of 80% as cut-off\n",
    "## Consider only variants with VAF <0.5%\n",
    "## Consider only variants with VAF <1%\n",
    "## Use “highest” only\n",
    "## Use cases with consistent vs mixed changes in levels\n",
    "## Use all variants including synonymous\n",
    "## Use only variants excluding synonymous"
   ]
  },
  {
   "cell_type": "markdown",
   "metadata": {},
   "source": [
    "## Check whether VAF OR mutant molecules/ml is a better predictor\n",
    "See figure:\n",
    "![VAF/mol](figs/comparison_genomic_data.png \"VAF molecules comparison\")"
   ]
  },
  {
   "cell_type": "code",
   "execution_count": null,
   "metadata": {},
   "outputs": [],
   "source": []
  }
 ],
 "metadata": {
  "kernelspec": {
   "display_name": "Python 3",
   "language": "python",
   "name": "python3"
  },
  "language_info": {
   "codemirror_mode": {
    "name": "ipython",
    "version": 3
   },
   "file_extension": ".py",
   "mimetype": "text/x-python",
   "name": "python",
   "nbconvert_exporter": "python",
   "pygments_lexer": "ipython3",
   "version": "3.7.3"
  }
 },
 "nbformat": 4,
 "nbformat_minor": 2
}
