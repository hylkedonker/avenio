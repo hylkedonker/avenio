{
 "cells": [
  {
   "cell_type": "code",
   "execution_count": 1,
   "metadata": {},
   "outputs": [],
   "source": [
    "from pipelines import benchmark_pipelines, build_classifier_pipelines\n",
    "from transform import combine_tsv_files"
   ]
  },
  {
   "cell_type": "code",
   "execution_count": 2,
   "metadata": {},
   "outputs": [],
   "source": [
    "X, y = combine_tsv_files(\n",
    "    \"output/all__gene__difference__No. Mutant Molecules per mL.tsv\",\n",
    "    \"output/all__gene__difference__CNV Score.tsv\",\n",
    ")\n",
    "\n",
    "# Indicate positive label.\n",
    "y_resp = y[\"response_grouped\"]\n",
    "response_labels = ['non responder (sd+pd)', 'responder (pr+cr)', 'non evaluable (ne)']\n",
    "pos_label = 'responder (pr+cr)'\n",
    "y_resp = y_resp == pos_label"
   ]
  },
  {
   "cell_type": "markdown",
   "metadata": {},
   "source": [
    "Initialise models that we wish to compare."
   ]
  },
  {
   "cell_type": "code",
   "execution_count": 3,
   "metadata": {},
   "outputs": [],
   "source": [
    "ps_class = build_classifier_pipelines()"
   ]
  },
  {
   "cell_type": "code",
   "execution_count": null,
   "metadata": {},
   "outputs": [
    {
     "name": "stdout",
     "output_type": "stream",
     "text": [
      "Richard(DecisionTreeClassifier): 0.4999487179487179+/0.08899120672693979\n",
      "Julian(DecisionTreeClassifier): 0.6424444444444444+/0.1265240855251886\n"
     ]
    }
   ],
   "source": [
    "b_difference = benchmark_pipelines(\n",
    "    ps_class, X, y_resp, metric='roc_auc', verbose=True,\n",
    ")"
   ]
  },
  {
   "cell_type": "code",
   "execution_count": null,
   "metadata": {},
   "outputs": [],
   "source": [
    "b_difference.to_csv(\"difference_molecules_benchmask.csv\")"
   ]
  }
 ],
 "metadata": {
  "kernelspec": {
   "display_name": "Python 3",
   "language": "python",
   "name": "python3"
  },
  "language_info": {
   "codemirror_mode": {
    "name": "ipython",
    "version": 3
   },
   "file_extension": ".py",
   "mimetype": "text/x-python",
   "name": "python",
   "nbconvert_exporter": "python",
   "pygments_lexer": "ipython3",
   "version": "3.7.3"
  }
 },
 "nbformat": 4,
 "nbformat_minor": 4
}
