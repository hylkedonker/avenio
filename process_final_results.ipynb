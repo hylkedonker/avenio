{
 "cells": [
  {
   "cell_type": "code",
   "execution_count": 1,
   "metadata": {},
   "outputs": [],
   "source": [
    "%matplotlib inline\n",
    "import numpy as np\n",
    "\n",
    "from transform import combine_tsv_files, load_process_and_store_spreadsheets"
   ]
  },
  {
   "cell_type": "code",
   "execution_count": 2,
   "metadata": {},
   "outputs": [],
   "source": [
    "from transform import load_avenio_files"
   ]
  },
  {
   "cell_type": "code",
   "execution_count": null,
   "metadata": {},
   "outputs": [
    {
     "name": "stdout",
     "output_type": "stream",
     "text": [
      "> \u001b[0;32m/home/hylke/workspace/avenio/transform.py\u001b[0m(355)\u001b[0;36mload_process_and_store_spreadsheets\u001b[0;34m()\u001b[0m\n",
      "\u001b[0;32m    354 \u001b[0;31m        \u001b[0;31m# combined with `transformation`.\u001b[0m\u001b[0;34m\u001b[0m\u001b[0;34m\u001b[0m\u001b[0;34m\u001b[0m\u001b[0m\n",
      "\u001b[0m\u001b[0;32m--> 355 \u001b[0;31m        transposed_sheets = transpose_and_transform(\n",
      "\u001b[0m\u001b[0;32m    356 \u001b[0;31m            \u001b[0mclean_mutation_sheet\u001b[0m\u001b[0;34m,\u001b[0m \u001b[0mcolumn_pair\u001b[0m\u001b[0;34m,\u001b[0m \u001b[0mtransformation\u001b[0m\u001b[0;34m\u001b[0m\u001b[0;34m\u001b[0m\u001b[0m\n",
      "\u001b[0m\n",
      "ipdb> n\n",
      "> \u001b[0;32m/home/hylke/workspace/avenio/transform.py\u001b[0m(356)\u001b[0;36mload_process_and_store_spreadsheets\u001b[0;34m()\u001b[0m\n",
      "\u001b[0;32m    355 \u001b[0;31m        transposed_sheets = transpose_and_transform(\n",
      "\u001b[0m\u001b[0;32m--> 356 \u001b[0;31m            \u001b[0mclean_mutation_sheet\u001b[0m\u001b[0;34m,\u001b[0m \u001b[0mcolumn_pair\u001b[0m\u001b[0;34m,\u001b[0m \u001b[0mtransformation\u001b[0m\u001b[0;34m\u001b[0m\u001b[0;34m\u001b[0m\u001b[0m\n",
      "\u001b[0m\u001b[0;32m    357 \u001b[0;31m        )\n",
      "\u001b[0m\n",
      "ipdb> \n",
      "> \u001b[0;32m/home/hylke/workspace/avenio/transform.py\u001b[0m(355)\u001b[0;36mload_process_and_store_spreadsheets\u001b[0;34m()\u001b[0m\n",
      "\u001b[0;32m    354 \u001b[0;31m        \u001b[0;31m# combined with `transformation`.\u001b[0m\u001b[0;34m\u001b[0m\u001b[0;34m\u001b[0m\u001b[0;34m\u001b[0m\u001b[0m\n",
      "\u001b[0m\u001b[0;32m--> 355 \u001b[0;31m        transposed_sheets = transpose_and_transform(\n",
      "\u001b[0m\u001b[0;32m    356 \u001b[0;31m            \u001b[0mclean_mutation_sheet\u001b[0m\u001b[0;34m,\u001b[0m \u001b[0mcolumn_pair\u001b[0m\u001b[0;34m,\u001b[0m \u001b[0mtransformation\u001b[0m\u001b[0;34m\u001b[0m\u001b[0;34m\u001b[0m\u001b[0m\n",
      "\u001b[0m\n",
      "ipdb> \n",
      "> \u001b[0;32m/home/hylke/workspace/avenio/transform.py\u001b[0m(358)\u001b[0;36mload_process_and_store_spreadsheets\u001b[0;34m()\u001b[0m\n",
      "\u001b[0;32m    357 \u001b[0;31m        )\n",
      "\u001b[0m\u001b[0;32m--> 358 \u001b[0;31m        \u001b[0mtimepoint_names\u001b[0m \u001b[0;34m=\u001b[0m \u001b[0;34m(\u001b[0m\u001b[0;34m\"t0\"\u001b[0m\u001b[0;34m,\u001b[0m \u001b[0;34m\"t1\"\u001b[0m\u001b[0;34m,\u001b[0m \u001b[0mtransformation\u001b[0m\u001b[0;34m.\u001b[0m\u001b[0m__name__\u001b[0m\u001b[0;34m)\u001b[0m\u001b[0;34m\u001b[0m\u001b[0;34m\u001b[0m\u001b[0m\n",
      "\u001b[0m\u001b[0;32m    359 \u001b[0;31m\u001b[0;34m\u001b[0m\u001b[0m\n",
      "\u001b[0m\n",
      "ipdb> p transposed_sheets.head()\n",
      "*** AttributeError: 'tuple' object has no attribute 'head'\n",
      "ipdb> p transposed_sheets[0].head()\n",
      "     (None, BRCA1, c.1525A>C)  (None, BRCA1, c.1557G>A)  \\\n",
      "852                       0.0                       0.0   \n",
      "951                       0.0                       0.0   \n",
      "952                       0.0                       0.0   \n",
      "957                       0.0                       0.0   \n",
      "962                       0.0                       0.0   \n",
      "\n",
      "     (None, BRCA1, c.1612C>T)  (None, BRCA1, c.1953G>A)  \\\n",
      "852                       0.0                       0.0   \n",
      "951                       0.0                       0.0   \n",
      "952                       0.0                       0.0   \n",
      "957                       0.0                       0.0   \n",
      "962                       0.0                       0.0   \n",
      "\n",
      "     (None, BRCA1, c.2065G>A)  (None, BRCA1, c.254A>T)  \\\n",
      "852                       0.0                      0.0   \n",
      "951                       0.0                      0.0   \n",
      "952                       0.0                      0.0   \n",
      "957                       0.0                      0.0   \n",
      "962                       0.0                      0.0   \n",
      "\n",
      "     (None, BRCA1, c.3024G>A)  (None, BRCA1, c.4809C>T)  \\\n",
      "852                       0.0                       0.0   \n",
      "951                       0.0                       0.0   \n",
      "952                       0.0                       0.0   \n",
      "957                       0.0                       0.0   \n",
      "962                       0.0                       0.0   \n",
      "\n",
      "     (None, BRCA1, c.835C>T)  (None, BRCA2, c.1370A>G)  ...  c.165C>G  \\\n",
      "852                      0.0                       0.0  ...       NaN   \n",
      "951                      0.0                       0.0  ...       NaN   \n",
      "952                      0.0                       0.0  ...       NaN   \n",
      "957                      0.0                       0.0  ...       NaN   \n",
      "962                      0.0                       0.0  ...       NaN   \n",
      "\n",
      "     c.145C>A  c.1612C>T  c.1796C>A  c.2648T>A  c.3299C>T  c.1368A>C  c.61G>A  \\\n",
      "852       NaN        NaN        NaN        NaN        NaN        NaN      NaN   \n",
      "951       NaN        NaN        NaN        NaN        NaN        NaN      NaN   \n",
      "952       NaN        NaN        NaN        NaN        NaN        NaN      NaN   \n",
      "957       NaN        NaN        NaN        NaN        NaN        NaN      NaN   \n",
      "962       NaN        NaN        NaN        NaN        NaN        NaN      NaN   \n",
      "\n",
      "     c.86A>G  c.6288G>C  \n",
      "852      NaN        NaN  \n",
      "951      NaN        NaN  \n",
      "952      NaN        NaN  \n",
      "957      NaN        NaN  \n",
      "962      NaN        NaN  \n",
      "\n",
      "[5 rows x 1483 columns]\n"
     ]
    }
   ],
   "source": [
    "def harmonic_mean(t0, t1):\n",
    "    return t0 * t1 / (t0 + t1)\n",
    "\n",
    "load_process_and_store_spreadsheets(\n",
    "    transformation=harmonic_mean,\n",
    "    all_filename_prefix=\"output/all_\",\n",
    "    train_filename_prefix=\"output/train_\",\n",
    "    test_filename_prefix=\"output/test_\",\n",
    ")"
   ]
  },
  {
   "cell_type": "code",
   "execution_count": 3,
   "metadata": {},
   "outputs": [],
   "source": [
    "def difference(t0, t1):\n",
    "    return t1 - t0\n",
    "\n",
    "load_process_and_store_spreadsheets(\n",
    "    transformation=difference,\n",
    "    all_filename_prefix=\"output/all_\",\n",
    "    train_filename_prefix=\"output/train_\",\n",
    "    test_filename_prefix=\"output/test_\",\n",
    ")"
   ]
  },
  {
   "cell_type": "code",
   "execution_count": 4,
   "metadata": {},
   "outputs": [],
   "source": [
    "def relative_difference(t0, t1):\n",
    "    if t0 != 0.0:\n",
    "        return (t1-t0)/t0\n",
    "    return (t1 - t0)/t1\n",
    "\n",
    "load_process_and_store_spreadsheets(\n",
    "    transformation=relative_difference,\n",
    "    all_filename_prefix=\"output/all_\",\n",
    "    train_filename_prefix=\"output/train_\",\n",
    "    test_filename_prefix=\"output/test_\",\n",
    ")"
   ]
  },
  {
   "cell_type": "code",
   "execution_count": 5,
   "metadata": {},
   "outputs": [],
   "source": [
    "def up_or_down(t0, t1):\n",
    "    return np.sign(t1 - t0)\n",
    "\n",
    "\n",
    "load_process_and_store_spreadsheets(\n",
    "    transformation=up_or_down,\n",
    "    all_filename_prefix=\"output/all_\",\n",
    "    train_filename_prefix=\"output/train_\",\n",
    "    test_filename_prefix=\"output/test_\",\n",
    ")"
   ]
  },
  {
   "cell_type": "code",
   "execution_count": 6,
   "metadata": {},
   "outputs": [],
   "source": [
    "def margin_sign(t0, t1, margin=0.15):\n",
    "    if t0 == 0.0:  # Complete clearance at baseline.\n",
    "        return 1\n",
    "    if t1 == 0.0:  # Complete clearance at follow up.\n",
    "        return -1\n",
    "    dt = (t1-t0)/t0\n",
    "    if dt > margin:\n",
    "        return 1\n",
    "    elif dt < -margin:\n",
    "        return -1\n",
    "    return 0\n",
    "\n",
    "\n",
    "load_process_and_store_spreadsheets(\n",
    "    transformation=margin_sign,\n",
    "    all_filename_prefix=\"output/all_\",\n",
    "    train_filename_prefix=\"output/train_\",\n",
    "    test_filename_prefix=\"output/test_\",\n",
    ")"
   ]
  },
  {
   "cell_type": "markdown",
   "metadata": {},
   "source": [
    "Data without train/test split, with CNV scores merged in."
   ]
  },
  {
   "cell_type": "code",
   "execution_count": 7,
   "metadata": {},
   "outputs": [],
   "source": [
    "def to_excel(snv_name, cnv_name):\n",
    "    excel_filename = snv_name.replace('.tsv', '_CNV.xlsx')\n",
    "    X, y = combine_tsv_files(snv_name, cnv_name)\n",
    "    X.merge(y, left_index=True, right_index=True).to_excel(excel_filename)\n",
    "    print(f'Wrote {excel_filename}.')"
   ]
  },
  {
   "cell_type": "code",
   "execution_count": 8,
   "metadata": {},
   "outputs": [
    {
     "name": "stdout",
     "output_type": "stream",
     "text": [
      "Wrote output/all__gene__harmonic_mean__Allele Fraction_CNV.xlsx.\n",
      "Wrote output/all__gene__harmonic_mean__No. Mutant Molecules per mL_CNV.xlsx.\n",
      "Wrote output/all__gene__difference__Allele Fraction_CNV.xlsx.\n",
      "Wrote output/all__gene__difference__No. Mutant Molecules per mL_CNV.xlsx.\n",
      "Wrote output/all__gene__relative_difference__Allele Fraction_CNV.xlsx.\n",
      "Wrote output/all__gene__relative_difference__No. Mutant Molecules per mL_CNV.xlsx.\n",
      "Wrote output/all__gene__up_or_down__Allele Fraction_CNV.xlsx.\n",
      "Wrote output/all__gene__up_or_down__No. Mutant Molecules per mL_CNV.xlsx.\n",
      "Wrote output/all__gene__margin_sign__Allele Fraction_CNV.xlsx.\n",
      "Wrote output/all__gene__margin_sign__No. Mutant Molecules per mL_CNV.xlsx.\n",
      "Wrote output/all__pathway__harmonic_mean__Allele Fraction_CNV.xlsx.\n",
      "Wrote output/all__pathway__harmonic_mean__No. Mutant Molecules per mL_CNV.xlsx.\n",
      "Wrote output/all__pathway__difference__Allele Fraction_CNV.xlsx.\n",
      "Wrote output/all__pathway__difference__No. Mutant Molecules per mL_CNV.xlsx.\n",
      "Wrote output/all__pathway__relative_difference__Allele Fraction_CNV.xlsx.\n",
      "Wrote output/all__pathway__relative_difference__No. Mutant Molecules per mL_CNV.xlsx.\n",
      "Wrote output/all__pathway__up_or_down__Allele Fraction_CNV.xlsx.\n",
      "Wrote output/all__pathway__up_or_down__No. Mutant Molecules per mL_CNV.xlsx.\n",
      "Wrote output/all__pathway__margin_sign__Allele Fraction_CNV.xlsx.\n",
      "Wrote output/all__pathway__margin_sign__No. Mutant Molecules per mL_CNV.xlsx.\n"
     ]
    }
   ],
   "source": [
    "for coarseness in ('gene', 'pathway'):\n",
    "    for transformation in ('harmonic_mean', 'difference', 'relative_difference', 'up_or_down', 'margin_sign'):\n",
    "        to_excel(\n",
    "            f\"output/all__{coarseness}__{transformation}__Allele Fraction.tsv\",\n",
    "            f\"output/all__{coarseness}__{transformation}__CNV Score.tsv\",\n",
    "        )\n",
    "        to_excel(\n",
    "            f\"output/all__{coarseness}__{transformation}__No. Mutant Molecules per mL.tsv\",\n",
    "            f\"output/all__{coarseness}__{transformation}__CNV Score.tsv\",\n",
    "        )"
   ]
  }
 ],
 "metadata": {
  "kernelspec": {
   "display_name": "Python 3",
   "language": "python",
   "name": "python3"
  },
  "language_info": {
   "codemirror_mode": {
    "name": "ipython",
    "version": 3
   },
   "file_extension": ".py",
   "mimetype": "text/x-python",
   "name": "python",
   "nbconvert_exporter": "python",
   "pygments_lexer": "ipython3",
   "version": "3.8.5"
  }
 },
 "nbformat": 4,
 "nbformat_minor": 2
}
