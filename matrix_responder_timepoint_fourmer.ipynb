{
 "cells": [
  {
   "cell_type": "code",
   "execution_count": 1,
   "metadata": {},
   "outputs": [],
   "source": [
    "from source import load_fragment_statistics"
   ]
  },
  {
   "cell_type": "code",
   "execution_count": null,
   "metadata": {},
   "outputs": [],
   "source": [
    "stats_per_response = load_fragment_statistics()\n",
    "\n",
    "resp_normal, resp_var = stats_per_response['responder (pr+cr)']\n",
    "non_resp_normal, non_resp_var = stats_per_response['non responder (sd+pd)']\n",
    "noneval_normal, noneval_var = stats_per_response['non evaluable (ne)']"
   ]
  }
 ],
 "metadata": {
  "kernelspec": {
   "display_name": "Python 3",
   "language": "python",
   "name": "python3"
  },
  "language_info": {
   "codemirror_mode": {
    "name": "ipython",
    "version": 3
   },
   "file_extension": ".py",
   "mimetype": "text/x-python",
   "name": "python",
   "nbconvert_exporter": "python",
   "pygments_lexer": "ipython3",
   "version": "3.8.5"
  }
 },
 "nbformat": 4,
 "nbformat_minor": 2
}
