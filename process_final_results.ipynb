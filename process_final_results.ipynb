{
 "cells": [
  {
   "cell_type": "code",
   "execution_count": 1,
   "metadata": {},
   "outputs": [],
   "source": [
    "%matplotlib inline\n",
    "from typing import Tuple\n",
    "\n",
    "from matplotlib import pyplot as plt\n",
    "import numpy as np\n",
    "import pandas as pd\n",
    "import seaborn as sns\n",
    "\n",
    "from source import load_avenio_files, categorical_columns_to_lower\n",
    "from transform import combine_tsv_files, load_process_and_store_spreadsheets, merge_mutation_spreadsheet_t0_with_t1, clean_mutation_columns"
   ]
  },
  {
   "cell_type": "markdown",
   "metadata": {},
   "source": [
    "# First make a spreadsheet with merged t0 and t1."
   ]
  },
  {
   "cell_type": "code",
   "execution_count": 5,
   "metadata": {},
   "outputs": [],
   "source": [
    "spread_sheet_filename= \"variant_list_20200409.xlsx\"\n",
    "spss_filename= \"clinical_20200419.sav\"\n",
    "columns = [\n",
    "    \"Allele Fraction\",\n",
    "    \"No. Mutant Molecules per mL\",\n",
    "    \"CNV Score\",\n",
    "]\n",
    "patient_mutations, phenotypes = load_avenio_files(\n",
    "    spread_sheet_filename, spss_filename\n",
    ")"
   ]
  },
  {
   "cell_type": "code",
   "execution_count": 8,
   "metadata": {},
   "outputs": [],
   "source": [
    "def harmonic_mean(t0, t1):\n",
    "    return t0 * t1 / (t0 + t1)\n",
    "\n",
    "load_process_and_store_spreadsheets(\n",
    "    transformation=harmonic_mean,\n",
    "    all_filename_prefix=\"output/all_\",\n",
    "    train_filename_prefix=\"output/train_\",\n",
    "    test_filename_prefix=\"output/test_\",\n",
    ")"
   ]
  },
  {
   "cell_type": "code",
   "execution_count": 9,
   "metadata": {},
   "outputs": [],
   "source": [
    "def difference(t0, t1):\n",
    "    return t1 - t0\n",
    "\n",
    "load_process_and_store_spreadsheets(\n",
    "    transformation=difference,\n",
    "    all_filename_prefix=\"output/all_\",\n",
    "    train_filename_prefix=\"output/train_\",\n",
    "    test_filename_prefix=\"output/test_\",\n",
    ")"
   ]
  },
  {
   "cell_type": "code",
   "execution_count": 10,
   "metadata": {},
   "outputs": [
    {
     "name": "stderr",
     "output_type": "stream",
     "text": [
      "<ipython-input-10-8639749480b7>:2: RuntimeWarning: divide by zero encountered in double_scalars\n",
      "  return (t1-t0)/t0\n"
     ]
    }
   ],
   "source": [
    "def relative_difference(t0, t1):\n",
    "    return (t1-t0)/t0\n",
    "\n",
    "load_process_and_store_spreadsheets(\n",
    "    transformation=relative_difference,\n",
    "    all_filename_prefix=\"output/all_\",\n",
    "    train_filename_prefix=\"output/train_\",\n",
    "    test_filename_prefix=\"output/test_\",\n",
    ")"
   ]
  },
  {
   "cell_type": "code",
   "execution_count": 11,
   "metadata": {},
   "outputs": [],
   "source": [
    "def up_or_down(t0, t1):\n",
    "    return np.sign(t1 - t0)\n",
    "\n",
    "\n",
    "load_process_and_store_spreadsheets(\n",
    "    transformation=up_or_down,\n",
    "    all_filename_prefix=\"output/all_\",\n",
    "    train_filename_prefix=\"output/train_\",\n",
    "    test_filename_prefix=\"output/test_\",\n",
    ")"
   ]
  },
  {
   "cell_type": "code",
   "execution_count": 12,
   "metadata": {},
   "outputs": [],
   "source": [
    "def to_excel(snv_name, cnv_name):\n",
    "    excel_filename = snv_name.replace('.tsv', '_CNV.xlsx')\n",
    "    X, y = combine_tsv_files(snv_name, cnv_name)\n",
    "    X.merge(y, left_index=True, right_index=True).to_excel(excel_filename)\n",
    "    print(f'Wrote {excel_filename}.')"
   ]
  },
  {
   "cell_type": "code",
   "execution_count": 13,
   "metadata": {},
   "outputs": [
    {
     "name": "stdout",
     "output_type": "stream",
     "text": [
      "Wrote output/all__harmonic_mean__Allele Fraction_CNV.xlsx.\n",
      "Wrote output/all__harmonic_mean__No. Mutant Molecules per mL_CNV.xlsx.\n"
     ]
    }
   ],
   "source": [
    "to_excel(\n",
    "    \"output/all__harmonic_mean__Allele Fraction.tsv\",\n",
    "    \"output/all__harmonic_mean__CNV Score.tsv\",\n",
    ")\n",
    "to_excel(\n",
    "    \"output/all__harmonic_mean__No. Mutant Molecules per mL.tsv\",\n",
    "    \"output/all__harmonic_mean__CNV Score.tsv\",\n",
    ")"
   ]
  },
  {
   "cell_type": "code",
   "execution_count": 14,
   "metadata": {},
   "outputs": [
    {
     "name": "stdout",
     "output_type": "stream",
     "text": [
      "Wrote output/all__difference__Allele Fraction_CNV.xlsx.\n",
      "Wrote output/all__difference__No. Mutant Molecules per mL_CNV.xlsx.\n"
     ]
    }
   ],
   "source": [
    "to_excel(\n",
    "    \"output/all__difference__Allele Fraction.tsv\",\n",
    "    \"output/all__difference__CNV Score.tsv\",\n",
    ")\n",
    "to_excel(\n",
    "    \"output/all__difference__No. Mutant Molecules per mL.tsv\",\n",
    "    \"output/all__difference__CNV Score.tsv\",\n",
    ")"
   ]
  },
  {
   "cell_type": "code",
   "execution_count": 15,
   "metadata": {},
   "outputs": [
    {
     "name": "stdout",
     "output_type": "stream",
     "text": [
      "Wrote output/all__relative_difference__Allele Fraction_CNV.xlsx.\n",
      "Wrote output/all__relative_difference__No. Mutant Molecules per mL_CNV.xlsx.\n"
     ]
    }
   ],
   "source": [
    "to_excel(\n",
    "    \"output/all__relative_difference__Allele Fraction.tsv\",\n",
    "    \"output/all__relative_difference__CNV Score.tsv\",\n",
    ")\n",
    "to_excel(\n",
    "    \"output/all__relative_difference__No. Mutant Molecules per mL.tsv\",\n",
    "    \"output/all__relative_difference__CNV Score.tsv\",\n",
    ")"
   ]
  },
  {
   "cell_type": "code",
   "execution_count": null,
   "metadata": {},
   "outputs": [],
   "source": []
  }
 ],
 "metadata": {
  "kernelspec": {
   "display_name": "Python 3",
   "language": "python",
   "name": "python3"
  },
  "language_info": {
   "codemirror_mode": {
    "name": "ipython",
    "version": 3
   },
   "file_extension": ".py",
   "mimetype": "text/x-python",
   "name": "python",
   "nbconvert_exporter": "python",
   "pygments_lexer": "ipython3",
   "version": "3.8.2"
  }
 },
 "nbformat": 4,
 "nbformat_minor": 2
}
