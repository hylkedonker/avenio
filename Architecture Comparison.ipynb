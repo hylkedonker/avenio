{
 "cells": [
  {
   "cell_type": "code",
   "execution_count": 1,
   "metadata": {},
   "outputs": [],
   "source": [
    "import warnings\n",
    "warnings.filterwarnings('ignore')"
   ]
  },
  {
   "cell_type": "code",
   "execution_count": 2,
   "metadata": {},
   "outputs": [],
   "source": [
    "from sklearn.metrics import roc_curve, f1_score, precision_score, recall_score, mean_squared_error\n",
    "from sklearn.preprocessing import LabelBinarizer\n",
    "\n",
    "from source import read_preprocessed_data\n",
    "from transform import load_process_and_store_spreadsheets\n",
    "from pipelines import benchmark_pipelines, build_classifier_pipelines, build_regression_pipelines"
   ]
  },
  {
   "cell_type": "code",
   "execution_count": 3,
   "metadata": {},
   "outputs": [],
   "source": [
    "load_process_and_store_spreadsheets()\n",
    "\n",
    "X_train, y_train = read_preprocessed_data(\"output/train.tsv\")\n",
    "X_test, y_test = read_preprocessed_data(\"output/test.tsv\")"
   ]
  },
  {
   "cell_type": "markdown",
   "metadata": {},
   "source": [
    "## Classification"
   ]
  },
  {
   "cell_type": "code",
   "execution_count": 4,
   "metadata": {},
   "outputs": [],
   "source": [
    "y_train_resp = y_train[\"response_grouped\"] == 'responder (pr+cr)'\n",
    "y_test_resp = y_test[\"response_grouped\"] == 'responder (pr+cr)'"
   ]
  },
  {
   "cell_type": "code",
   "execution_count": 5,
   "metadata": {},
   "outputs": [
    {
     "data": {
      "text/html": [
       "<div>\n",
       "<style scoped>\n",
       "    .dataframe tbody tr th:only-of-type {\n",
       "        vertical-align: middle;\n",
       "    }\n",
       "\n",
       "    .dataframe tbody tr th {\n",
       "        vertical-align: top;\n",
       "    }\n",
       "\n",
       "    .dataframe thead th {\n",
       "        text-align: right;\n",
       "    }\n",
       "</style>\n",
       "<table border=\"1\" class=\"dataframe\">\n",
       "  <thead>\n",
       "    <tr style=\"text-align: right;\">\n",
       "      <th></th>\n",
       "      <th>Richard_test</th>\n",
       "      <th>Julian_test</th>\n",
       "      <th>Lev_test</th>\n",
       "      <th>Freeman_test</th>\n",
       "    </tr>\n",
       "  </thead>\n",
       "  <tbody>\n",
       "    <tr>\n",
       "      <td>DecisionTreeClassifier</td>\n",
       "      <td>0.631579</td>\n",
       "      <td>0.394737</td>\n",
       "      <td>0.710526</td>\n",
       "      <td>0.552632</td>\n",
       "    </tr>\n",
       "    <tr>\n",
       "      <td>RandomForestClassifier</td>\n",
       "      <td>0.736842</td>\n",
       "      <td>0.605263</td>\n",
       "      <td>0.710526</td>\n",
       "      <td>0.605263</td>\n",
       "    </tr>\n",
       "    <tr>\n",
       "      <td>GradientBoostingClassifier</td>\n",
       "      <td>0.710526</td>\n",
       "      <td>0.789474</td>\n",
       "      <td>0.763158</td>\n",
       "      <td>0.763158</td>\n",
       "    </tr>\n",
       "    <tr>\n",
       "      <td>KNeighborsClassifier</td>\n",
       "      <td>0.763158</td>\n",
       "      <td>0.657895</td>\n",
       "      <td>0.815789</td>\n",
       "      <td>0.526316</td>\n",
       "    </tr>\n",
       "    <tr>\n",
       "      <td>LogisticRegression</td>\n",
       "      <td>0.763158</td>\n",
       "      <td>0.657895</td>\n",
       "      <td>0.763158</td>\n",
       "      <td>0.684211</td>\n",
       "    </tr>\n",
       "    <tr>\n",
       "      <td>SVC</td>\n",
       "      <td>0.763158</td>\n",
       "      <td>0.763158</td>\n",
       "      <td>0.763158</td>\n",
       "      <td>0.763158</td>\n",
       "    </tr>\n",
       "    <tr>\n",
       "      <td>DummyClassifier</td>\n",
       "      <td>0.763158</td>\n",
       "      <td>0.763158</td>\n",
       "      <td>0.763158</td>\n",
       "      <td>0.763158</td>\n",
       "    </tr>\n",
       "  </tbody>\n",
       "</table>\n",
       "</div>"
      ],
      "text/plain": [
       "                            Richard_test  Julian_test  Lev_test  Freeman_test\n",
       "DecisionTreeClassifier          0.631579     0.394737  0.710526      0.552632\n",
       "RandomForestClassifier          0.736842     0.605263  0.710526      0.605263\n",
       "GradientBoostingClassifier      0.710526     0.789474  0.763158      0.763158\n",
       "KNeighborsClassifier            0.763158     0.657895  0.815789      0.526316\n",
       "LogisticRegression              0.763158     0.657895  0.763158      0.684211\n",
       "SVC                             0.763158     0.763158  0.763158      0.763158\n",
       "DummyClassifier                 0.763158     0.763158  0.763158      0.763158"
      ]
     },
     "execution_count": 5,
     "metadata": {},
     "output_type": "execute_result"
    }
   ],
   "source": [
    "ps = build_classifier_pipelines()\n",
    "benchmark_pipelines(\n",
    "    ps, X_train, y_train_resp, X_test, y_test_resp\n",
    ")"
   ]
  },
  {
   "cell_type": "code",
   "execution_count": 6,
   "metadata": {},
   "outputs": [
    {
     "data": {
      "text/html": [
       "<div>\n",
       "<style scoped>\n",
       "    .dataframe tbody tr th:only-of-type {\n",
       "        vertical-align: middle;\n",
       "    }\n",
       "\n",
       "    .dataframe tbody tr th {\n",
       "        vertical-align: top;\n",
       "    }\n",
       "\n",
       "    .dataframe thead th {\n",
       "        text-align: right;\n",
       "    }\n",
       "</style>\n",
       "<table border=\"1\" class=\"dataframe\">\n",
       "  <thead>\n",
       "    <tr style=\"text-align: right;\">\n",
       "      <th></th>\n",
       "      <th>Richard_test</th>\n",
       "      <th>Julian_test</th>\n",
       "      <th>Lev_test</th>\n",
       "      <th>Freeman_test</th>\n",
       "    </tr>\n",
       "  </thead>\n",
       "  <tbody>\n",
       "    <tr>\n",
       "      <td>DecisionTreeClassifier</td>\n",
       "      <td>0.125000</td>\n",
       "      <td>0.410256</td>\n",
       "      <td>0.153846</td>\n",
       "      <td>0.320000</td>\n",
       "    </tr>\n",
       "    <tr>\n",
       "      <td>RandomForestClassifier</td>\n",
       "      <td>0.285714</td>\n",
       "      <td>0.400000</td>\n",
       "      <td>0.153846</td>\n",
       "      <td>0.285714</td>\n",
       "    </tr>\n",
       "    <tr>\n",
       "      <td>GradientBoostingClassifier</td>\n",
       "      <td>0.000000</td>\n",
       "      <td>0.200000</td>\n",
       "      <td>0.000000</td>\n",
       "      <td>0.000000</td>\n",
       "    </tr>\n",
       "    <tr>\n",
       "      <td>KNeighborsClassifier</td>\n",
       "      <td>0.400000</td>\n",
       "      <td>0.235294</td>\n",
       "      <td>0.533333</td>\n",
       "      <td>0.181818</td>\n",
       "    </tr>\n",
       "    <tr>\n",
       "      <td>LogisticRegression</td>\n",
       "      <td>0.000000</td>\n",
       "      <td>0.434783</td>\n",
       "      <td>0.000000</td>\n",
       "      <td>0.250000</td>\n",
       "    </tr>\n",
       "    <tr>\n",
       "      <td>SVC</td>\n",
       "      <td>0.000000</td>\n",
       "      <td>0.000000</td>\n",
       "      <td>0.000000</td>\n",
       "      <td>0.000000</td>\n",
       "    </tr>\n",
       "    <tr>\n",
       "      <td>DummyClassifier</td>\n",
       "      <td>0.000000</td>\n",
       "      <td>0.000000</td>\n",
       "      <td>0.000000</td>\n",
       "      <td>0.000000</td>\n",
       "    </tr>\n",
       "  </tbody>\n",
       "</table>\n",
       "</div>"
      ],
      "text/plain": [
       "                            Richard_test  Julian_test  Lev_test  Freeman_test\n",
       "DecisionTreeClassifier          0.125000     0.410256  0.153846      0.320000\n",
       "RandomForestClassifier          0.285714     0.400000  0.153846      0.285714\n",
       "GradientBoostingClassifier      0.000000     0.200000  0.000000      0.000000\n",
       "KNeighborsClassifier            0.400000     0.235294  0.533333      0.181818\n",
       "LogisticRegression              0.000000     0.434783  0.000000      0.250000\n",
       "SVC                             0.000000     0.000000  0.000000      0.000000\n",
       "DummyClassifier                 0.000000     0.000000  0.000000      0.000000"
      ]
     },
     "execution_count": 6,
     "metadata": {},
     "output_type": "execute_result"
    }
   ],
   "source": [
    "b = benchmark_pipelines(\n",
    "    ps, X_train, y_train_resp, X_test, y_test_resp, metric=f1_score,\n",
    ")\n",
    "b"
   ]
  },
  {
   "cell_type": "code",
   "execution_count": 7,
   "metadata": {},
   "outputs": [
    {
     "name": "stdout",
     "output_type": "stream",
     "text": [
      "Richard_test    0.115816\n",
      "Julian_test     0.240048\n",
      "Lev_test        0.120147\n",
      "Freeman_test    0.148219\n",
      "dtype: float64\n",
      "--------------------\n",
      "DecisionTreeClassifier        0.252276\n",
      "RandomForestClassifier        0.281319\n",
      "GradientBoostingClassifier    0.050000\n",
      "KNeighborsClassifier          0.337611\n",
      "LogisticRegression            0.171196\n",
      "SVC                           0.000000\n",
      "DummyClassifier               0.000000\n",
      "dtype: float64\n"
     ]
    }
   ],
   "source": [
    "print(b.mean(axis=0))\n",
    "print('--'*10)\n",
    "print(b.mean(axis=1))"
   ]
  },
  {
   "cell_type": "code",
   "execution_count": 8,
   "metadata": {},
   "outputs": [],
   "source": [
    "p_win = ps['KNeighborsClassifier']['Lev']"
   ]
  },
  {
   "cell_type": "code",
   "execution_count": 9,
   "metadata": {},
   "outputs": [
    {
     "name": "stdout",
     "output_type": "stream",
     "text": [
      "Confusion matrix, without normalization\n",
      "[[27  2]\n",
      " [ 5  4]]\n"
     ]
    },
    {
     "data": {
      "text/plain": [
       "<matplotlib.axes._subplots.AxesSubplot at 0x7f5ff85fada0>"
      ]
     },
     "execution_count": 9,
     "metadata": {},
     "output_type": "execute_result"
    }
   ],
   "source": [
    "from views import plot_confusion_matrix\n",
    "plot_confusion_matrix(y_test_resp, p_win.predict(X_test), classes=y_test_resp.unique())"
   ]
  },
  {
   "cell_type": "code",
   "execution_count": 10,
   "metadata": {},
   "outputs": [
    {
     "data": {
      "text/html": [
       "<div>\n",
       "<style scoped>\n",
       "    .dataframe tbody tr th:only-of-type {\n",
       "        vertical-align: middle;\n",
       "    }\n",
       "\n",
       "    .dataframe tbody tr th {\n",
       "        vertical-align: top;\n",
       "    }\n",
       "\n",
       "    .dataframe thead th {\n",
       "        text-align: right;\n",
       "    }\n",
       "</style>\n",
       "<table border=\"1\" class=\"dataframe\">\n",
       "  <thead>\n",
       "    <tr style=\"text-align: right;\">\n",
       "      <th></th>\n",
       "      <th>Richard_test</th>\n",
       "      <th>Julian_test</th>\n",
       "      <th>Lev_test</th>\n",
       "      <th>Freeman_test</th>\n",
       "    </tr>\n",
       "  </thead>\n",
       "  <tbody>\n",
       "    <tr>\n",
       "      <td>DecisionTreeClassifier</td>\n",
       "      <td>0.111111</td>\n",
       "      <td>0.888889</td>\n",
       "      <td>0.111111</td>\n",
       "      <td>0.444444</td>\n",
       "    </tr>\n",
       "    <tr>\n",
       "      <td>RandomForestClassifier</td>\n",
       "      <td>0.222222</td>\n",
       "      <td>0.555556</td>\n",
       "      <td>0.111111</td>\n",
       "      <td>0.333333</td>\n",
       "    </tr>\n",
       "    <tr>\n",
       "      <td>GradientBoostingClassifier</td>\n",
       "      <td>0.000000</td>\n",
       "      <td>0.111111</td>\n",
       "      <td>0.000000</td>\n",
       "      <td>0.000000</td>\n",
       "    </tr>\n",
       "    <tr>\n",
       "      <td>KNeighborsClassifier</td>\n",
       "      <td>0.333333</td>\n",
       "      <td>0.222222</td>\n",
       "      <td>0.444444</td>\n",
       "      <td>0.222222</td>\n",
       "    </tr>\n",
       "    <tr>\n",
       "      <td>LogisticRegression</td>\n",
       "      <td>0.000000</td>\n",
       "      <td>0.555556</td>\n",
       "      <td>0.000000</td>\n",
       "      <td>0.222222</td>\n",
       "    </tr>\n",
       "    <tr>\n",
       "      <td>SVC</td>\n",
       "      <td>0.000000</td>\n",
       "      <td>0.000000</td>\n",
       "      <td>0.000000</td>\n",
       "      <td>0.000000</td>\n",
       "    </tr>\n",
       "    <tr>\n",
       "      <td>DummyClassifier</td>\n",
       "      <td>0.000000</td>\n",
       "      <td>0.000000</td>\n",
       "      <td>0.000000</td>\n",
       "      <td>0.000000</td>\n",
       "    </tr>\n",
       "  </tbody>\n",
       "</table>\n",
       "</div>"
      ],
      "text/plain": [
       "                            Richard_test  Julian_test  Lev_test  Freeman_test\n",
       "DecisionTreeClassifier          0.111111     0.888889  0.111111      0.444444\n",
       "RandomForestClassifier          0.222222     0.555556  0.111111      0.333333\n",
       "GradientBoostingClassifier      0.000000     0.111111  0.000000      0.000000\n",
       "KNeighborsClassifier            0.333333     0.222222  0.444444      0.222222\n",
       "LogisticRegression              0.000000     0.555556  0.000000      0.222222\n",
       "SVC                             0.000000     0.000000  0.000000      0.000000\n",
       "DummyClassifier                 0.000000     0.000000  0.000000      0.000000"
      ]
     },
     "execution_count": 10,
     "metadata": {},
     "output_type": "execute_result"
    }
   ],
   "source": [
    "recall = benchmark_pipelines(\n",
    "    ps, X_train, y_train_resp, X_test, y_test_resp, metric=recall_score,\n",
    ")\n",
    "recall"
   ]
  },
  {
   "cell_type": "code",
   "execution_count": 11,
   "metadata": {},
   "outputs": [
    {
     "name": "stdout",
     "output_type": "stream",
     "text": [
      "Confusion matrix, without normalization\n",
      "[[ 7 22]\n",
      " [ 1  8]]\n"
     ]
    },
    {
     "data": {
      "text/plain": [
       "<matplotlib.axes._subplots.AxesSubplot at 0x7f5ffb963438>"
      ]
     },
     "execution_count": 11,
     "metadata": {},
     "output_type": "execute_result"
    },
    {
     "data": {
      "image/png": "[encoded data removed]",
      "text/plain": [
       "<Figure size 432x288 with 2 Axes>"
      ]
     },
     "metadata": {
      "needs_background": "light"
     },
     "output_type": "display_data"
    }
   ],
   "source": [
    "from views import plot_confusion_matrix\n",
    "plot_confusion_matrix(y_test_resp, ps['DecisionTreeClassifier']['Julian'].predict(X_test), classes=y_test_resp.unique())"
   ]
  },
  {
   "cell_type": "markdown",
   "metadata": {},
   "source": [
    "## Regression\n",
    "### Overall survival (OS)"
   ]
  },
  {
   "cell_type": "code",
   "execution_count": 12,
   "metadata": {},
   "outputs": [],
   "source": [
    "y_train_os = y_train['OS_days']\n",
    "y_test_os = y_test['OS_days']"
   ]
  },
  {
   "cell_type": "code",
   "execution_count": 13,
   "metadata": {},
   "outputs": [
    {
     "data": {
      "text/plain": [
       "<matplotlib.axes._subplots.AxesSubplot at 0x7f5ff2bb0470>"
      ]
     },
     "execution_count": 13,
     "metadata": {},
     "output_type": "execute_result"
    },
    {
     "data": {
      "image/png": "[encoded data removed]",
      "text/plain": [
       "<Figure size 432x288 with 1 Axes>"
      ]
     },
     "metadata": {
      "needs_background": "light"
     },
     "output_type": "display_data"
    }
   ],
   "source": [
    "import seaborn as sns\n",
    "sns.distplot(y_train_os)"
   ]
  },
  {
   "cell_type": "code",
   "execution_count": 14,
   "metadata": {},
   "outputs": [],
   "source": [
    "ps = build_regression_pipelines()\n",
    "b = benchmark_pipelines(ps, X_train, y_train_os, X_test, y_test_os, metric=mean_squared_error)\n",
    "# Root mean squared error.\n",
    "b = b**0.5"
   ]
  },
  {
   "cell_type": "code",
   "execution_count": 15,
   "metadata": {},
   "outputs": [
    {
     "name": "stdout",
     "output_type": "stream",
     "text": [
      "Richard_test    338.450430\n",
      "Julian_test     471.193374\n",
      "Lev_test        358.775517\n",
      "Freeman_test    696.564050\n",
      "dtype: float64\n",
      "--------------------\n",
      "DecisionTreeRegressor         388.688322\n",
      "RandomForestRegressor         320.625260\n",
      "GradientBoostingRegressor     318.369799\n",
      "KNeighborsRegressor           314.280700\n",
      "ElasticNet                   1367.658187\n",
      "SVR                           277.025821\n",
      "DummyRegressor                277.072810\n",
      "dtype: float64\n"
     ]
    }
   ],
   "source": [
    "print(b.mean(axis=0))\n",
    "print('--'*10)\n",
    "print(b.mean(axis=1))"
   ]
  },
  {
   "cell_type": "code",
   "execution_count": 16,
   "metadata": {},
   "outputs": [
    {
     "data": {
      "text/html": [
       "<div>\n",
       "<style scoped>\n",
       "    .dataframe tbody tr th:only-of-type {\n",
       "        vertical-align: middle;\n",
       "    }\n",
       "\n",
       "    .dataframe tbody tr th {\n",
       "        vertical-align: top;\n",
       "    }\n",
       "\n",
       "    .dataframe thead th {\n",
       "        text-align: right;\n",
       "    }\n",
       "</style>\n",
       "<table border=\"1\" class=\"dataframe\">\n",
       "  <thead>\n",
       "    <tr style=\"text-align: right;\">\n",
       "      <th></th>\n",
       "      <th>Richard_test</th>\n",
       "      <th>Julian_test</th>\n",
       "      <th>Lev_test</th>\n",
       "      <th>Freeman_test</th>\n",
       "    </tr>\n",
       "  </thead>\n",
       "  <tbody>\n",
       "    <tr>\n",
       "      <td>DecisionTreeRegressor</td>\n",
       "      <td>445.200073</td>\n",
       "      <td>376.954996</td>\n",
       "      <td>315.536252</td>\n",
       "      <td>417.061967</td>\n",
       "    </tr>\n",
       "    <tr>\n",
       "      <td>RandomForestRegressor</td>\n",
       "      <td>381.087881</td>\n",
       "      <td>300.321436</td>\n",
       "      <td>303.593660</td>\n",
       "      <td>297.498063</td>\n",
       "    </tr>\n",
       "    <tr>\n",
       "      <td>GradientBoostingRegressor</td>\n",
       "      <td>350.547739</td>\n",
       "      <td>305.906495</td>\n",
       "      <td>290.891197</td>\n",
       "      <td>326.133765</td>\n",
       "    </tr>\n",
       "    <tr>\n",
       "      <td>KNeighborsRegressor</td>\n",
       "      <td>369.776634</td>\n",
       "      <td>282.097732</td>\n",
       "      <td>309.825511</td>\n",
       "      <td>295.422924</td>\n",
       "    </tr>\n",
       "    <tr>\n",
       "      <td>ElasticNet</td>\n",
       "      <td>268.423645</td>\n",
       "      <td>1478.998208</td>\n",
       "      <td>737.486268</td>\n",
       "      <td>2985.724628</td>\n",
       "    </tr>\n",
       "    <tr>\n",
       "      <td>SVR</td>\n",
       "      <td>277.044226</td>\n",
       "      <td>277.001938</td>\n",
       "      <td>277.022925</td>\n",
       "      <td>277.034194</td>\n",
       "    </tr>\n",
       "    <tr>\n",
       "      <td>DummyRegressor</td>\n",
       "      <td>277.072810</td>\n",
       "      <td>277.072810</td>\n",
       "      <td>277.072810</td>\n",
       "      <td>277.072810</td>\n",
       "    </tr>\n",
       "  </tbody>\n",
       "</table>\n",
       "</div>"
      ],
      "text/plain": [
       "                           Richard_test  Julian_test    Lev_test  Freeman_test\n",
       "DecisionTreeRegressor        445.200073   376.954996  315.536252    417.061967\n",
       "RandomForestRegressor        381.087881   300.321436  303.593660    297.498063\n",
       "GradientBoostingRegressor    350.547739   305.906495  290.891197    326.133765\n",
       "KNeighborsRegressor          369.776634   282.097732  309.825511    295.422924\n",
       "ElasticNet                   268.423645  1478.998208  737.486268   2985.724628\n",
       "SVR                          277.044226   277.001938  277.022925    277.034194\n",
       "DummyRegressor               277.072810   277.072810  277.072810    277.072810"
      ]
     },
     "execution_count": 16,
     "metadata": {},
     "output_type": "execute_result"
    }
   ],
   "source": [
    "b"
   ]
  },
  {
   "cell_type": "markdown",
   "metadata": {},
   "source": [
    "## Progression Free Survival (PFS)"
   ]
  },
  {
   "cell_type": "code",
   "execution_count": 17,
   "metadata": {},
   "outputs": [
    {
     "data": {
      "text/plain": [
       "<matplotlib.axes._subplots.AxesSubplot at 0x7f5ff2af53c8>"
      ]
     },
     "execution_count": 17,
     "metadata": {},
     "output_type": "execute_result"
    },
    {
     "data": {
      "image/png": "[encoded data removed]",
      "text/plain": [
       "<Figure size 432x288 with 1 Axes>"
      ]
     },
     "metadata": {
      "needs_background": "light"
     },
     "output_type": "display_data"
    }
   ],
   "source": [
    "y_train_pfs = y_train['PFS_days']\n",
    "y_test_pfs = y_test['PFS_days']\n",
    "sns.distplot(y_train_pfs)"
   ]
  },
  {
   "cell_type": "code",
   "execution_count": 18,
   "metadata": {},
   "outputs": [],
   "source": [
    "ps = build_regression_pipelines()\n",
    "b = benchmark_pipelines(ps, X_train, y_train_pfs, X_test, y_test_pfs, metric=mean_squared_error)\n",
    "# Root mean squared error.\n",
    "b = b**0.5"
   ]
  },
  {
   "cell_type": "code",
   "execution_count": 19,
   "metadata": {},
   "outputs": [
    {
     "name": "stdout",
     "output_type": "stream",
     "text": [
      "Richard_test    323.180659\n",
      "Julian_test     453.483542\n",
      "Lev_test        355.693919\n",
      "Freeman_test    598.379452\n",
      "dtype: float64\n",
      "--------------------\n",
      "DecisionTreeRegressor         359.982633\n",
      "RandomForestRegressor         300.892476\n",
      "GradientBoostingRegressor     308.223558\n",
      "KNeighborsRegressor           317.109069\n",
      "ElasticNet                   1145.154998\n",
      "SVR                           298.705474\n",
      "DummyRegressor                298.722543\n",
      "dtype: float64\n"
     ]
    }
   ],
   "source": [
    "print(b.mean(axis=0))\n",
    "print('--'*10)\n",
    "print(b.mean(axis=1))"
   ]
  },
  {
   "cell_type": "code",
   "execution_count": 20,
   "metadata": {},
   "outputs": [
    {
     "data": {
      "text/html": [
       "<div>\n",
       "<style scoped>\n",
       "    .dataframe tbody tr th:only-of-type {\n",
       "        vertical-align: middle;\n",
       "    }\n",
       "\n",
       "    .dataframe tbody tr th {\n",
       "        vertical-align: top;\n",
       "    }\n",
       "\n",
       "    .dataframe thead th {\n",
       "        text-align: right;\n",
       "    }\n",
       "</style>\n",
       "<table border=\"1\" class=\"dataframe\">\n",
       "  <thead>\n",
       "    <tr style=\"text-align: right;\">\n",
       "      <th></th>\n",
       "      <th>Richard_test</th>\n",
       "      <th>Julian_test</th>\n",
       "      <th>Lev_test</th>\n",
       "      <th>Freeman_test</th>\n",
       "    </tr>\n",
       "  </thead>\n",
       "  <tbody>\n",
       "    <tr>\n",
       "      <td>DecisionTreeRegressor</td>\n",
       "      <td>403.770518</td>\n",
       "      <td>371.443017</td>\n",
       "      <td>334.099712</td>\n",
       "      <td>330.617286</td>\n",
       "    </tr>\n",
       "    <tr>\n",
       "      <td>RandomForestRegressor</td>\n",
       "      <td>314.929484</td>\n",
       "      <td>302.365499</td>\n",
       "      <td>283.823568</td>\n",
       "      <td>302.451351</td>\n",
       "    </tr>\n",
       "    <tr>\n",
       "      <td>GradientBoostingRegressor</td>\n",
       "      <td>318.572982</td>\n",
       "      <td>308.636838</td>\n",
       "      <td>293.892734</td>\n",
       "      <td>311.791677</td>\n",
       "    </tr>\n",
       "    <tr>\n",
       "      <td>KNeighborsRegressor</td>\n",
       "      <td>353.867007</td>\n",
       "      <td>292.588619</td>\n",
       "      <td>312.354887</td>\n",
       "      <td>309.625761</td>\n",
       "    </tr>\n",
       "    <tr>\n",
       "      <td>ElasticNet</td>\n",
       "      <td>273.691629</td>\n",
       "      <td>1301.929397</td>\n",
       "      <td>668.259437</td>\n",
       "      <td>2336.739530</td>\n",
       "    </tr>\n",
       "    <tr>\n",
       "      <td>SVR</td>\n",
       "      <td>298.710452</td>\n",
       "      <td>298.698878</td>\n",
       "      <td>298.704555</td>\n",
       "      <td>298.708013</td>\n",
       "    </tr>\n",
       "    <tr>\n",
       "      <td>DummyRegressor</td>\n",
       "      <td>298.722543</td>\n",
       "      <td>298.722543</td>\n",
       "      <td>298.722543</td>\n",
       "      <td>298.722543</td>\n",
       "    </tr>\n",
       "  </tbody>\n",
       "</table>\n",
       "</div>"
      ],
      "text/plain": [
       "                           Richard_test  Julian_test    Lev_test  Freeman_test\n",
       "DecisionTreeRegressor        403.770518   371.443017  334.099712    330.617286\n",
       "RandomForestRegressor        314.929484   302.365499  283.823568    302.451351\n",
       "GradientBoostingRegressor    318.572982   308.636838  293.892734    311.791677\n",
       "KNeighborsRegressor          353.867007   292.588619  312.354887    309.625761\n",
       "ElasticNet                   273.691629  1301.929397  668.259437   2336.739530\n",
       "SVR                          298.710452   298.698878  298.704555    298.708013\n",
       "DummyRegressor               298.722543   298.722543  298.722543    298.722543"
      ]
     },
     "execution_count": 20,
     "metadata": {},
     "output_type": "execute_result"
    }
   ],
   "source": [
    "b"
   ]
  },
  {
   "cell_type": "code",
   "execution_count": null,
   "metadata": {},
   "outputs": [],
   "source": []
  }
 ],
 "metadata": {
  "kernelspec": {
   "display_name": "Python 3",
   "language": "python",
   "name": "python3"
  },
  "language_info": {
   "codemirror_mode": {
    "name": "ipython",
    "version": 3
   },
   "file_extension": ".py",
   "mimetype": "text/x-python",
   "name": "python",
   "nbconvert_exporter": "python",
   "pygments_lexer": "ipython3",
   "version": "3.7.3"
  }
 },
 "nbformat": 4,
 "nbformat_minor": 2
}
