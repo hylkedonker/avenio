{
 "cells": [
  {
   "cell_type": "code",
   "execution_count": 1,
   "metadata": {},
   "outputs": [],
   "source": [
    "%matplotlib inline\n",
    "from typing import Tuple\n",
    "\n",
    "from matplotlib import pyplot as plt\n",
    "import numpy as np\n",
    "import pandas as pd\n",
    "import seaborn as sns\n",
    "\n",
    "from source import load_avenio_files, categorical_columns_to_lower\n",
    "from transform import combine_tsv_files, load_process_and_store_spreadsheets, merge_mutation_spreadsheet_t0_with_t1, clean_mutation_columns"
   ]
  },
  {
   "cell_type": "markdown",
   "metadata": {},
   "source": [
    "# First make a spreadsheet with merged t0 and t1."
   ]
  },
  {
   "cell_type": "code",
   "execution_count": 2,
   "metadata": {},
   "outputs": [],
   "source": [
    "spread_sheet_filename= \"variant_list_20200409.xlsx\"\n",
    "spss_filename= \"clinical_20200419.sav\"\n",
    "columns = [\n",
    "    \"Allele Fraction\",\n",
    "    \"No. Mutant Molecules per mL\",\n",
    "    \"CNV Score\",\n",
    "]\n",
    "patient_mutations, phenotypes = load_avenio_files(\n",
    "    spread_sheet_filename, spss_filename\n",
    ")"
   ]
  },
  {
   "cell_type": "code",
   "execution_count": 3,
   "metadata": {},
   "outputs": [],
   "source": [
    "def harmonic_mean(t0, t1):\n",
    "    return t0 * t1 / (t0 + t1)\n",
    "\n",
    "load_process_and_store_spreadsheets(\n",
    "    transformation=harmonic_mean,\n",
    "    all_filename_prefix=\"output/all__harmonic_mean_\",\n",
    "    train_filename_prefix=\"output/train__harmonic_mean_\",\n",
    "    test_filename_prefix=\"output/test__harmonic_mean_\",\n",
    ")"
   ]
  },
  {
   "cell_type": "code",
   "execution_count": 4,
   "metadata": {},
   "outputs": [],
   "source": [
    "def difference(t0, t1):\n",
    "    return t1 - t0\n",
    "\n",
    "load_process_and_store_spreadsheets(\n",
    "    transformation=difference,\n",
    "    all_filename_prefix=\"output/all__difference_\",\n",
    "    train_filename_prefix=\"output/train__difference_\",\n",
    "    test_filename_prefix=\"output/test__difference_\",\n",
    ")"
   ]
  },
  {
   "cell_type": "code",
   "execution_count": 5,
   "metadata": {},
   "outputs": [
    {
     "name": "stderr",
     "output_type": "stream",
     "text": [
      "/usr/lib/python3/dist-packages/ipykernel_launcher.py:2: RuntimeWarning: divide by zero encountered in double_scalars\n",
      "  \n"
     ]
    }
   ],
   "source": [
    "def relative_difference(t0, t1):\n",
    "    return (t1-t0)/t0\n",
    "\n",
    "load_process_and_store_spreadsheets(\n",
    "    transformation=relative_difference,\n",
    "    all_filename_prefix=\"output/all__relative_difference_\",\n",
    "    train_filename_prefix=\"output/train__relative_difference_\",\n",
    "    test_filename_prefix=\"output/test__relative_difference_\",\n",
    ")"
   ]
  },
  {
   "cell_type": "code",
   "execution_count": 6,
   "metadata": {},
   "outputs": [],
   "source": [
    "def up_or_down(t0, t1):\n",
    "    return np.sign(t1 - t0)\n",
    "\n",
    "\n",
    "load_process_and_store_spreadsheets(\n",
    "    transformation=up_or_down,\n",
    "    all_filename_prefix=\"output/all__sign_\",\n",
    "    train_filename_prefix=\"output/train__sign_\",\n",
    "    test_filename_prefix=\"output/test__sign_\",\n",
    ")"
   ]
  },
  {
   "cell_type": "code",
<<<<<<< HEAD
   "execution_count": 7,
=======
   "execution_count": 8,
>>>>>>> feature/refactored_aggregate
   "metadata": {},
   "outputs": [],
   "source": [
    "# Harmonic mean genomic variable.\n",
    "X_hm_af, y_hm_af = combine_tsv_files(\n",
    "    \"output/all__harmonic_mean__f(t0, t1)__Allele Fraction.tsv\",\n",
    "    \"output/all__harmonic_mean__f(t0, t1)__CNV Score.tsv\",\n",
    ")\n",
    "\n",
    "X_hm_af.merge(\n",
    "    y_hm_af, \n",
    "    left_index=True, \n",
    "    right_index=True\n",
    ").to_excel('output/all__harmonic_mean__f(t0, t1)__af_cnv.xlsx')"
   ]
  },
  {
   "cell_type": "code",
<<<<<<< HEAD
   "execution_count": 8,
=======
   "execution_count": 9,
>>>>>>> feature/refactored_aggregate
   "metadata": {},
   "outputs": [],
   "source": [
    "# Harmonic mean genomic variable.\n",
    "X_hm_molecules, y_hm_molecules = combine_tsv_files(\n",
    "    \"output/all__harmonic_mean__f(t0, t1)__No. Mutant Molecules per mL.tsv\",\n",
    "    \"output/all__harmonic_mean__f(t0, t1)__CNV Score.tsv\",\n",
    ")\n",
    "\n",
    "X_hm_molecules.merge(\n",
    "    y_hm_molecules, \n",
    "    left_index=True, \n",
    "    right_index=True\n",
    ").to_excel('output/all__harmonic_mean__f(t0, t1)__molecules_cnv.xlsx')"
   ]
  },
  {
   "cell_type": "code",
<<<<<<< HEAD
   "execution_count": 9,
=======
   "execution_count": 10,
>>>>>>> feature/refactored_aggregate
   "metadata": {},
   "outputs": [],
   "source": [
    "# Harmonic mean genomic variable.\n",
    "X_hm_molecules, y_hm_molecules = combine_tsv_files(\n",
    "    \"output/all__difference__f(t0, t1)__No. Mutant Molecules per mL.tsv\",\n",
    "    \"output/all__difference__f(t0, t1)__CNV Score.tsv\",\n",
    ")\n",
    "\n",
    "X_hm_molecules.merge(\n",
    "    y_hm_molecules, \n",
    "    left_index=True, \n",
    "    right_index=True\n",
    ").to_excel('output/all__difference__f(t0, t1)__molecules_cnv.xlsx')"
   ]
  },
  {
   "cell_type": "code",
<<<<<<< HEAD
   "execution_count": 10,
=======
   "execution_count": 11,
>>>>>>> feature/refactored_aggregate
   "metadata": {},
   "outputs": [],
   "source": [
    "# Harmonic mean genomic variable.\n",
    "X_hm_molecules, y_hm_molecules = combine_tsv_files(\n",
    "    \"output/all__relative_difference__f(t0, t1)__No. Mutant Molecules per mL.tsv\",\n",
    "    \"output/all__relative_difference__f(t0, t1)__CNV Score.tsv\",\n",
    ")\n",
    "\n",
    "X_hm_molecules.merge(\n",
    "    y_hm_molecules, \n",
    "    left_index=True, \n",
    "    right_index=True\n",
    ").to_excel('output/all__relative_difference__f(t0, t1)__molecules_cnv.xlsx')"
   ]
  },
  {
   "cell_type": "code",
   "execution_count": null,
   "metadata": {},
   "outputs": [],
   "source": []
  }
 ],
 "metadata": {
  "kernelspec": {
   "display_name": "Python 3",
   "language": "python",
   "name": "python3"
  },
  "language_info": {
   "codemirror_mode": {
    "name": "ipython",
    "version": 3
   },
   "file_extension": ".py",
   "mimetype": "text/x-python",
   "name": "python",
   "nbconvert_exporter": "python",
   "pygments_lexer": "ipython3",
   "version": "3.7.5"
  }
 },
 "nbformat": 4,
 "nbformat_minor": 2
}
