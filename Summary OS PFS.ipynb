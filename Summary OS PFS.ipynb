{
 "cells": [
  {
   "cell_type": "markdown",
   "metadata": {},
   "source": [
    "# Overall survival (OS) and progression free survival model (PFS)\n",
    "**Goal**: Make a prediction model that, given certain input $𝑥$, generates a prediction $𝑦$. In the case at hand, $𝑦$ would be the overall survival (OS) or the progression free survival (PFS).\n",
    "\n",
    "In the following, I will focus on OS -- results not shown here indicate that the entire analysis below goes through for PFS as well."
   ]
  },
  {
   "cell_type": "code",
   "execution_count": 1,
   "metadata": {},
   "outputs": [],
   "source": [
    "from matplotlib import pyplot as plt\n",
    "import numpy as np\n",
    "import pandas as pd\n",
    "import scipy as sp\n",
    "from sklearn.compose import TransformedTargetRegressor\n",
    "from sklearn.linear_model import MultiTaskElasticNet\n",
    "from sklearn.metrics import mean_squared_error\n",
    "import seaborn as sns\n",
    "\n",
    "from fit import fit_categorical_survival, categorical_signal\n",
    "from models import MergeRareCategories\n",
    "from pipelines import benchmark_pipelines, build_regression_pipelines, categorical_input_columns, pipelines , reconstruct_categorical_variable_names_Richard\n",
    "from source import read_preprocessed_data\n",
    "from transform import load_process_and_store_spreadsheets, survival_histograms\n",
    "from views import categorical_signal_summary, view_as_exponential, view_decision_tree_julian, view_linear_model_richard"
   ]
  },
  {
   "cell_type": "markdown",
   "metadata": {},
   "source": [
    "Process files and split data in a part that is used for fitting (training) and for testing."
   ]
  },
  {
   "cell_type": "code",
   "execution_count": 2,
   "metadata": {},
   "outputs": [],
   "source": [
    "def harmonic_mean(t0, t1):\n",
    "    return t0 * t1 / (t0 + t1)"
   ]
  },
  {
   "cell_type": "code",
   "execution_count": 3,
   "metadata": {},
   "outputs": [],
   "source": [
    "load_process_and_store_spreadsheets(transformation=harmonic_mean)\n",
    "\n",
    "X_train, y_train = read_preprocessed_data(\"output/train.tsv\")\n",
    "X_test, y_test = read_preprocessed_data(\"output/test.tsv\")"
   ]
  },
  {
   "cell_type": "code",
   "execution_count": 4,
   "metadata": {},
   "outputs": [],
   "source": [
    "# Combined set for analysis only (not to be used for models).\n",
    "X = pd.concat([X_train, X_test])\n",
    "y = pd.concat([y_train, y_test])"
   ]
  },
  {
   "cell_type": "markdown",
   "metadata": {},
   "source": [
    "## Model"
   ]
  },
  {
   "cell_type": "code",
   "execution_count": 5,
   "metadata": {},
   "outputs": [],
   "source": [
    "# Construct a variety of pipelines.\n",
    "pipelines = build_regression_pipelines()\n",
    "\n",
    "# And benchmark them using the root mean squared error.\n",
    "rmse = lambda x, y: mean_squared_error(x, y) ** 0.5\n",
    "benchmark_result = benchmark_pipelines(\n",
    "    pipelines, X_train, y_train[\"OS_days\"], X_test, y_test[\"OS_days\"], metric=rmse\n",
    ")"
   ]
  },
  {
   "cell_type": "code",
   "execution_count": 6,
   "metadata": {},
   "outputs": [
    {
     "data": {
      "text/html": [
       "<div>\n",
       "<style scoped>\n",
       "    .dataframe tbody tr th:only-of-type {\n",
       "        vertical-align: middle;\n",
       "    }\n",
       "\n",
       "    .dataframe tbody tr th {\n",
       "        vertical-align: top;\n",
       "    }\n",
       "\n",
       "    .dataframe thead th {\n",
       "        text-align: right;\n",
       "    }\n",
       "</style>\n",
       "<table border=\"1\" class=\"dataframe\">\n",
       "  <thead>\n",
       "    <tr style=\"text-align: right;\">\n",
       "      <th></th>\n",
       "      <th>Richard_test</th>\n",
       "      <th>Julian_test</th>\n",
       "      <th>Freeman_test</th>\n",
       "      <th>Lev_test</th>\n",
       "    </tr>\n",
       "  </thead>\n",
       "  <tbody>\n",
       "    <tr>\n",
       "      <td>DecisionTreeRegressor</td>\n",
       "      <td>331.221847</td>\n",
       "      <td>255.227153</td>\n",
       "      <td>325.070220</td>\n",
       "      <td>269.618643</td>\n",
       "    </tr>\n",
       "    <tr>\n",
       "      <td>RandomForestRegressor</td>\n",
       "      <td>321.659853</td>\n",
       "      <td>289.205408</td>\n",
       "      <td>285.673707</td>\n",
       "      <td>290.898249</td>\n",
       "    </tr>\n",
       "    <tr>\n",
       "      <td>GradientBoostingRegressor</td>\n",
       "      <td>289.469174</td>\n",
       "      <td>266.030076</td>\n",
       "      <td>306.855242</td>\n",
       "      <td>268.450157</td>\n",
       "    </tr>\n",
       "    <tr>\n",
       "      <td>KNeighborsRegressor</td>\n",
       "      <td>375.229392</td>\n",
       "      <td>289.899266</td>\n",
       "      <td>361.913946</td>\n",
       "      <td>313.401862</td>\n",
       "    </tr>\n",
       "    <tr>\n",
       "      <td>ElasticNet</td>\n",
       "      <td>259.423289</td>\n",
       "      <td>271.744500</td>\n",
       "      <td>271.537322</td>\n",
       "      <td>263.350630</td>\n",
       "    </tr>\n",
       "    <tr>\n",
       "      <td>LinearRegression</td>\n",
       "      <td>261.651308</td>\n",
       "      <td>260.780187</td>\n",
       "      <td>3000.364169</td>\n",
       "      <td>251.282592</td>\n",
       "    </tr>\n",
       "    <tr>\n",
       "      <td>SVR</td>\n",
       "      <td>277.045767</td>\n",
       "      <td>276.105578</td>\n",
       "      <td>277.044472</td>\n",
       "      <td>276.572572</td>\n",
       "    </tr>\n",
       "    <tr>\n",
       "      <td>DummyRegressor</td>\n",
       "      <td>277.072810</td>\n",
       "      <td>277.072810</td>\n",
       "      <td>277.072810</td>\n",
       "      <td>277.072810</td>\n",
       "    </tr>\n",
       "  </tbody>\n",
       "</table>\n",
       "</div>"
      ],
      "text/plain": [
       "                           Richard_test  Julian_test  Freeman_test    Lev_test\n",
       "DecisionTreeRegressor        331.221847   255.227153    325.070220  269.618643\n",
       "RandomForestRegressor        321.659853   289.205408    285.673707  290.898249\n",
       "GradientBoostingRegressor    289.469174   266.030076    306.855242  268.450157\n",
       "KNeighborsRegressor          375.229392   289.899266    361.913946  313.401862\n",
       "ElasticNet                   259.423289   271.744500    271.537322  263.350630\n",
       "LinearRegression             261.651308   260.780187   3000.364169  251.282592\n",
       "SVR                          277.045767   276.105578    277.044472  276.572572\n",
       "DummyRegressor               277.072810   277.072810    277.072810  277.072810"
      ]
     },
     "execution_count": 6,
     "metadata": {},
     "output_type": "execute_result"
    }
   ],
   "source": [
    "benchmark_result"
   ]
  },
  {
   "cell_type": "markdown",
   "metadata": {},
   "source": [
    "Briefly, the types of models in this list:\n",
    "- Decision tree: Consecutively split the data in two branches based on one of the variables.\n",
    "- Random forest: collection of decision trees in parallel, each tree gets a subset of the training data.\n",
    "- Gradient boosting: collection of decision trees in series, each refining the result of the previous tree.\n",
    "- K-neighbours: Use average of $k$ neighbouring points.\n",
    "- Elastic net: Linear regression with penalties on the slopes.\n",
    "- SVR: Support vector machine that implicitly takes into account polynomials of the input variables.\n",
    "- DummyRegressor: Baseline model that predicts according a specific rule (in this case, take the median value).\n",
    "\n",
    "Pipelines:\n",
    "- Richard: Use only phenotype data, and some categorical preprocessing.\n",
    "- Julian: Convert mutation data to columns using transformation described above (harmonic mean).\n",
    "- Freeman: Use all data together.\n",
    "- Lev: Democratic vote of Richard & Julian."
   ]
  },
  {
   "cell_type": "markdown",
   "metadata": {},
   "source": [
    "## Factor analysis\n",
    "Let us now look at which factors determine the outcome of the models."
   ]
  },
  {
   "cell_type": "code",
   "execution_count": 7,
   "metadata": {},
   "outputs": [
    {
     "data": {
      "image/png": "[encoded data removed]",
      "text/plain": [
       "<Figure size 1008x432 with 1 Axes>"
      ]
     },
     "metadata": {
      "needs_background": "light"
     },
     "output_type": "display_data"
    }
   ],
   "source": [
    "p_richard = pipelines['ElasticNet']['Richard']\n",
    "view_linear_model_richard(pipeline=p_richard)"
   ]
  },
  {
   "cell_type": "code",
   "execution_count": 8,
   "metadata": {},
   "outputs": [
    {
     "data": {
      "image/svg+xml": [
       "<?xml version=\"1.0\" encoding=\"UTF-8\" standalone=\"no\"?>\n",
       "<!DOCTYPE svg PUBLIC \"-//W3C//DTD SVG 1.1//EN\"\n",
       " \"http://www.w3.org/Graphics/SVG/1.1/DTD/svg11.dtd\">\n",
       "<!-- Generated by graphviz version 2.40.1 (20161225.0304)\n",
       " -->\n",
       "<!-- Title: Tree Pages: 1 -->\n",
       "<svg width=\"910pt\" height=\"402pt\"\n",
       " viewBox=\"0.00 0.00 909.50 402.00\" xmlns=\"http://www.w3.org/2000/svg\" xmlns:xlink=\"http://www.w3.org/1999/xlink\">\n",
       "<g id=\"graph0\" class=\"graph\" transform=\"scale(1 1) rotate(0) translate(4 398)\">\n",
       "<title>Tree</title>\n",
       "<polygon fill=\"#ffffff\" stroke=\"transparent\" points=\"-4,4 -4,-398 905.5,-398 905.5,4 -4,4\"/>\n",
       "<!-- 0 -->\n",
       "<g id=\"node1\" class=\"node\">\n",
       "<title>0</title>\n",
       "<polygon fill=\"#f7d7c0\" stroke=\"#000000\" points=\"604.5,-394 454.5,-394 454.5,-341 604.5,-341 604.5,-394\"/>\n",
       "<text text-anchor=\"middle\" x=\"529.5\" y=\"-378.8\" font-family=\"Times,serif\" font-size=\"14.00\" fill=\"#000000\">TP53 &lt;= 0.321</text>\n",
       "<text text-anchor=\"middle\" x=\"529.5\" y=\"-363.8\" font-family=\"Times,serif\" font-size=\"14.00\" fill=\"#000000\">samples = 100.0%</text>\n",
       "<text text-anchor=\"middle\" x=\"529.5\" y=\"-348.8\" font-family=\"Times,serif\" font-size=\"14.00\" fill=\"#000000\">value = 367.678</text>\n",
       "</g>\n",
       "<!-- 1 -->\n",
       "<g id=\"node2\" class=\"node\">\n",
       "<title>1</title>\n",
       "<polygon fill=\"#f7d8c2\" stroke=\"#000000\" points=\"523,-305 382,-305 382,-252 523,-252 523,-305\"/>\n",
       "<text text-anchor=\"middle\" x=\"452.5\" y=\"-289.8\" font-family=\"Times,serif\" font-size=\"14.00\" fill=\"#000000\">KRAS &lt;= 0.011</text>\n",
       "<text text-anchor=\"middle\" x=\"452.5\" y=\"-274.8\" font-family=\"Times,serif\" font-size=\"14.00\" fill=\"#000000\">samples = 98.9%</text>\n",
       "<text text-anchor=\"middle\" x=\"452.5\" y=\"-259.8\" font-family=\"Times,serif\" font-size=\"14.00\" fill=\"#000000\">value = 359.174</text>\n",
       "</g>\n",
       "<!-- 0&#45;&gt;1 -->\n",
       "<g id=\"edge1\" class=\"edge\">\n",
       "<title>0&#45;&gt;1</title>\n",
       "<path fill=\"none\" stroke=\"#000000\" d=\"M506.3975,-340.7971C498.7837,-331.9967 490.208,-322.0845 482.1742,-312.7987\"/>\n",
       "<polygon fill=\"#000000\" stroke=\"#000000\" points=\"484.776,-310.4566 475.5862,-305.1841 479.4822,-315.0366 484.776,-310.4566\"/>\n",
       "<text text-anchor=\"middle\" x=\"473.7837\" y=\"-326.419\" font-family=\"Times,serif\" font-size=\"14.00\" fill=\"#000000\">True</text>\n",
       "</g>\n",
       "<!-- 14 -->\n",
       "<g id=\"node15\" class=\"node\">\n",
       "<title>14</title>\n",
       "<polygon fill=\"#e5813a\" stroke=\"#000000\" points=\"673.5,-297.5 541.5,-297.5 541.5,-259.5 673.5,-259.5 673.5,-297.5\"/>\n",
       "<text text-anchor=\"middle\" x=\"607.5\" y=\"-282.3\" font-family=\"Times,serif\" font-size=\"14.00\" fill=\"#000000\">samples = 1.1%</text>\n",
       "<text text-anchor=\"middle\" x=\"607.5\" y=\"-267.3\" font-family=\"Times,serif\" font-size=\"14.00\" fill=\"#000000\">value = 1099.0</text>\n",
       "</g>\n",
       "<!-- 0&#45;&gt;14 -->\n",
       "<g id=\"edge14\" class=\"edge\">\n",
       "<title>0&#45;&gt;14</title>\n",
       "<path fill=\"none\" stroke=\"#000000\" d=\"M552.9026,-340.7971C562.7243,-329.5902 574.1262,-316.5803 583.9624,-305.357\"/>\n",
       "<polygon fill=\"#000000\" stroke=\"#000000\" points=\"586.8441,-307.3792 590.8029,-297.5518 581.5797,-302.7655 586.8441,-307.3792\"/>\n",
       "<text text-anchor=\"middle\" x=\"592.4461\" y=\"-318.7977\" font-family=\"Times,serif\" font-size=\"14.00\" fill=\"#000000\">False</text>\n",
       "</g>\n",
       "<!-- 2 -->\n",
       "<g id=\"node3\" class=\"node\">\n",
       "<title>2</title>\n",
       "<polygon fill=\"#f6d5bd\" stroke=\"#000000\" points=\"444,-216 303,-216 303,-163 444,-163 444,-216\"/>\n",
       "<text text-anchor=\"middle\" x=\"373.5\" y=\"-200.8\" font-family=\"Times,serif\" font-size=\"14.00\" fill=\"#000000\">KRAS &lt;= 0.009</text>\n",
       "<text text-anchor=\"middle\" x=\"373.5\" y=\"-185.8\" font-family=\"Times,serif\" font-size=\"14.00\" fill=\"#000000\">samples = 86.2%</text>\n",
       "<text text-anchor=\"middle\" x=\"373.5\" y=\"-170.8\" font-family=\"Times,serif\" font-size=\"14.00\" fill=\"#000000\">value = 387.613</text>\n",
       "</g>\n",
       "<!-- 1&#45;&gt;2 -->\n",
       "<g id=\"edge2\" class=\"edge\">\n",
       "<title>1&#45;&gt;2</title>\n",
       "<path fill=\"none\" stroke=\"#000000\" d=\"M428.7974,-251.7971C420.9858,-242.9967 412.1874,-233.0845 403.9449,-223.7987\"/>\n",
       "<polygon fill=\"#000000\" stroke=\"#000000\" points=\"406.4419,-221.3394 397.1859,-216.1841 401.2068,-225.9863 406.4419,-221.3394\"/>\n",
       "</g>\n",
       "<!-- 7 -->\n",
       "<g id=\"node8\" class=\"node\">\n",
       "<title>7</title>\n",
       "<polygon fill=\"#fcefe6\" stroke=\"#000000\" points=\"603,-216 462,-216 462,-163 603,-163 603,-216\"/>\n",
       "<text text-anchor=\"middle\" x=\"532.5\" y=\"-200.8\" font-family=\"Times,serif\" font-size=\"14.00\" fill=\"#000000\">KRAS &lt;= 0.051</text>\n",
       "<text text-anchor=\"middle\" x=\"532.5\" y=\"-185.8\" font-family=\"Times,serif\" font-size=\"14.00\" fill=\"#000000\">samples = 12.6%</text>\n",
       "<text text-anchor=\"middle\" x=\"532.5\" y=\"-170.8\" font-family=\"Times,serif\" font-size=\"14.00\" fill=\"#000000\">value = 165.273</text>\n",
       "</g>\n",
       "<!-- 1&#45;&gt;7 -->\n",
       "<g id=\"edge7\" class=\"edge\">\n",
       "<title>1&#45;&gt;7</title>\n",
       "<path fill=\"none\" stroke=\"#000000\" d=\"M476.5026,-251.7971C484.4131,-242.9967 493.3229,-233.0845 501.6697,-223.7987\"/>\n",
       "<polygon fill=\"#000000\" stroke=\"#000000\" points=\"504.4322,-225.961 508.5143,-216.1841 499.2262,-221.2814 504.4322,-225.961\"/>\n",
       "</g>\n",
       "<!-- 3 -->\n",
       "<g id=\"node4\" class=\"node\">\n",
       "<title>3</title>\n",
       "<polygon fill=\"#f7d6be\" stroke=\"#000000\" points=\"290,-127 149,-127 149,-74 290,-74 290,-127\"/>\n",
       "<text text-anchor=\"middle\" x=\"219.5\" y=\"-111.8\" font-family=\"Times,serif\" font-size=\"14.00\" fill=\"#000000\">TP53 &lt;= 0.081</text>\n",
       "<text text-anchor=\"middle\" x=\"219.5\" y=\"-96.8\" font-family=\"Times,serif\" font-size=\"14.00\" fill=\"#000000\">samples = 85.1%</text>\n",
       "<text text-anchor=\"middle\" x=\"219.5\" y=\"-81.8\" font-family=\"Times,serif\" font-size=\"14.00\" fill=\"#000000\">value = 377.959</text>\n",
       "</g>\n",
       "<!-- 2&#45;&gt;3 -->\n",
       "<g id=\"edge3\" class=\"edge\">\n",
       "<title>2&#45;&gt;3</title>\n",
       "<path fill=\"none\" stroke=\"#000000\" d=\"M327.2949,-162.7971C310.6214,-153.1611 291.6414,-142.1921 274.3031,-132.1719\"/>\n",
       "<polygon fill=\"#000000\" stroke=\"#000000\" points=\"275.8164,-129.004 265.4069,-127.0306 272.3137,-135.0647 275.8164,-129.004\"/>\n",
       "</g>\n",
       "<!-- 6 -->\n",
       "<g id=\"node7\" class=\"node\">\n",
       "<title>6</title>\n",
       "<polygon fill=\"#e58139\" stroke=\"#000000\" points=\"440.5,-119.5 308.5,-119.5 308.5,-81.5 440.5,-81.5 440.5,-119.5\"/>\n",
       "<text text-anchor=\"middle\" x=\"374.5\" y=\"-104.3\" font-family=\"Times,serif\" font-size=\"14.00\" fill=\"#000000\">samples = 1.1%</text>\n",
       "<text text-anchor=\"middle\" x=\"374.5\" y=\"-89.3\" font-family=\"Times,serif\" font-size=\"14.00\" fill=\"#000000\">value = 1102.0</text>\n",
       "</g>\n",
       "<!-- 2&#45;&gt;6 -->\n",
       "<g id=\"edge6\" class=\"edge\">\n",
       "<title>2&#45;&gt;6</title>\n",
       "<path fill=\"none\" stroke=\"#000000\" d=\"M373.8,-162.7971C373.9174,-152.3518 374.0524,-140.3403 374.1723,-129.6689\"/>\n",
       "<polygon fill=\"#000000\" stroke=\"#000000\" points=\"377.6733,-129.5905 374.2859,-119.5518 370.6737,-129.5118 377.6733,-129.5905\"/>\n",
       "</g>\n",
       "<!-- 4 -->\n",
       "<g id=\"node5\" class=\"node\">\n",
       "<title>4</title>\n",
       "<polygon fill=\"#f6d4bb\" stroke=\"#000000\" points=\"141,-38 0,-38 0,0 141,0 141,-38\"/>\n",
       "<text text-anchor=\"middle\" x=\"70.5\" y=\"-22.8\" font-family=\"Times,serif\" font-size=\"14.00\" fill=\"#000000\">samples = 79.3%</text>\n",
       "<text text-anchor=\"middle\" x=\"70.5\" y=\"-7.8\" font-family=\"Times,serif\" font-size=\"14.00\" fill=\"#000000\">value = 397.348</text>\n",
       "</g>\n",
       "<!-- 3&#45;&gt;4 -->\n",
       "<g id=\"edge4\" class=\"edge\">\n",
       "<title>3&#45;&gt;4</title>\n",
       "<path fill=\"none\" stroke=\"#000000\" d=\"M170.7118,-73.8139C152.6433,-63.9307 132.2749,-52.7896 114.643,-43.1454\"/>\n",
       "<polygon fill=\"#000000\" stroke=\"#000000\" points=\"116.1518,-39.9813 105.6989,-38.2531 112.7926,-46.1226 116.1518,-39.9813\"/>\n",
       "</g>\n",
       "<!-- 5 -->\n",
       "<g id=\"node6\" class=\"node\">\n",
       "<title>5</title>\n",
       "<polygon fill=\"#fdf5f0\" stroke=\"#000000\" points=\"291.5,-38 159.5,-38 159.5,0 291.5,0 291.5,-38\"/>\n",
       "<text text-anchor=\"middle\" x=\"225.5\" y=\"-22.8\" font-family=\"Times,serif\" font-size=\"14.00\" fill=\"#000000\">samples = 5.7%</text>\n",
       "<text text-anchor=\"middle\" x=\"225.5\" y=\"-7.8\" font-family=\"Times,serif\" font-size=\"14.00\" fill=\"#000000\">value = 110.4</text>\n",
       "</g>\n",
       "<!-- 3&#45;&gt;5 -->\n",
       "<g id=\"edge5\" class=\"edge\">\n",
       "<title>3&#45;&gt;5</title>\n",
       "<path fill=\"none\" stroke=\"#000000\" d=\"M221.4646,-73.8139C222.0654,-65.6535 222.7293,-56.6354 223.3422,-48.3105\"/>\n",
       "<polygon fill=\"#000000\" stroke=\"#000000\" points=\"226.8388,-48.4831 224.0826,-38.2531 219.8577,-47.9691 226.8388,-48.4831\"/>\n",
       "</g>\n",
       "<!-- 8 -->\n",
       "<g id=\"node9\" class=\"node\">\n",
       "<title>8</title>\n",
       "<polygon fill=\"#fdf7f3\" stroke=\"#000000\" points=\"602,-127 461,-127 461,-74 602,-74 602,-127\"/>\n",
       "<text text-anchor=\"middle\" x=\"531.5\" y=\"-111.8\" font-family=\"Times,serif\" font-size=\"14.00\" fill=\"#000000\">TP53 &lt;= 0.032</text>\n",
       "<text text-anchor=\"middle\" x=\"531.5\" y=\"-96.8\" font-family=\"Times,serif\" font-size=\"14.00\" fill=\"#000000\">samples = 10.3%</text>\n",
       "<text text-anchor=\"middle\" x=\"531.5\" y=\"-81.8\" font-family=\"Times,serif\" font-size=\"14.00\" fill=\"#000000\">value = 93.111</text>\n",
       "</g>\n",
       "<!-- 7&#45;&gt;8 -->\n",
       "<g id=\"edge8\" class=\"edge\">\n",
       "<title>7&#45;&gt;8</title>\n",
       "<path fill=\"none\" stroke=\"#000000\" d=\"M532.2,-162.7971C532.11,-154.7887 532.0097,-145.8597 531.9137,-137.3198\"/>\n",
       "<polygon fill=\"#000000\" stroke=\"#000000\" points=\"535.4121,-137.1441 531.7998,-127.1841 528.4125,-137.2228 535.4121,-137.1441\"/>\n",
       "</g>\n",
       "<!-- 11 -->\n",
       "<g id=\"node12\" class=\"node\">\n",
       "<title>11</title>\n",
       "<polygon fill=\"#f4c9aa\" stroke=\"#000000\" points=\"752.5,-127 620.5,-127 620.5,-74 752.5,-74 752.5,-127\"/>\n",
       "<text text-anchor=\"middle\" x=\"686.5\" y=\"-111.8\" font-family=\"Times,serif\" font-size=\"14.00\" fill=\"#000000\">KRAS &lt;= 0.075</text>\n",
       "<text text-anchor=\"middle\" x=\"686.5\" y=\"-96.8\" font-family=\"Times,serif\" font-size=\"14.00\" fill=\"#000000\">samples = 2.3%</text>\n",
       "<text text-anchor=\"middle\" x=\"686.5\" y=\"-81.8\" font-family=\"Times,serif\" font-size=\"14.00\" fill=\"#000000\">value = 490.0</text>\n",
       "</g>\n",
       "<!-- 7&#45;&gt;11 -->\n",
       "<g id=\"edge11\" class=\"edge\">\n",
       "<title>7&#45;&gt;11</title>\n",
       "<path fill=\"none\" stroke=\"#000000\" d=\"M578.7051,-162.7971C595.3786,-153.1611 614.3586,-142.1921 631.6969,-132.1719\"/>\n",
       "<polygon fill=\"#000000\" stroke=\"#000000\" points=\"633.6863,-135.0647 640.5931,-127.0306 630.1836,-129.004 633.6863,-135.0647\"/>\n",
       "</g>\n",
       "<!-- 9 -->\n",
       "<g id=\"node10\" class=\"node\">\n",
       "<title>9</title>\n",
       "<polygon fill=\"#fdf5f0\" stroke=\"#000000\" points=\"449.5,-38 315.5,-38 315.5,0 449.5,0 449.5,-38\"/>\n",
       "<text text-anchor=\"middle\" x=\"382.5\" y=\"-22.8\" font-family=\"Times,serif\" font-size=\"14.00\" fill=\"#000000\">samples = 8.0%</text>\n",
       "<text text-anchor=\"middle\" x=\"382.5\" y=\"-7.8\" font-family=\"Times,serif\" font-size=\"14.00\" fill=\"#000000\">value = 111.714</text>\n",
       "</g>\n",
       "<!-- 8&#45;&gt;9 -->\n",
       "<g id=\"edge9\" class=\"edge\">\n",
       "<title>8&#45;&gt;9</title>\n",
       "<path fill=\"none\" stroke=\"#000000\" d=\"M482.7118,-73.8139C464.6433,-63.9307 444.2749,-52.7896 426.643,-43.1454\"/>\n",
       "<polygon fill=\"#000000\" stroke=\"#000000\" points=\"428.1518,-39.9813 417.6989,-38.2531 424.7926,-46.1226 428.1518,-39.9813\"/>\n",
       "</g>\n",
       "<!-- 10 -->\n",
       "<g id=\"node11\" class=\"node\">\n",
       "<title>10</title>\n",
       "<polygon fill=\"#ffffff\" stroke=\"#000000\" points=\"599.5,-38 467.5,-38 467.5,0 599.5,0 599.5,-38\"/>\n",
       "<text text-anchor=\"middle\" x=\"533.5\" y=\"-22.8\" font-family=\"Times,serif\" font-size=\"14.00\" fill=\"#000000\">samples = 2.3%</text>\n",
       "<text text-anchor=\"middle\" x=\"533.5\" y=\"-7.8\" font-family=\"Times,serif\" font-size=\"14.00\" fill=\"#000000\">value = 28.0</text>\n",
       "</g>\n",
       "<!-- 8&#45;&gt;10 -->\n",
       "<g id=\"edge10\" class=\"edge\">\n",
       "<title>8&#45;&gt;10</title>\n",
       "<path fill=\"none\" stroke=\"#000000\" d=\"M532.1549,-73.8139C532.3551,-65.6535 532.5764,-56.6354 532.7807,-48.3105\"/>\n",
       "<polygon fill=\"#000000\" stroke=\"#000000\" points=\"536.2811,-48.336 533.0275,-38.2531 529.2832,-48.1642 536.2811,-48.336\"/>\n",
       "</g>\n",
       "<!-- 12 -->\n",
       "<g id=\"node13\" class=\"node\">\n",
       "<title>12</title>\n",
       "<polygon fill=\"#eba06a\" stroke=\"#000000\" points=\"751.5,-38 619.5,-38 619.5,0 751.5,0 751.5,-38\"/>\n",
       "<text text-anchor=\"middle\" x=\"685.5\" y=\"-22.8\" font-family=\"Times,serif\" font-size=\"14.00\" fill=\"#000000\">samples = 1.1%</text>\n",
       "<text text-anchor=\"middle\" x=\"685.5\" y=\"-7.8\" font-family=\"Times,serif\" font-size=\"14.00\" fill=\"#000000\">value = 836.0</text>\n",
       "</g>\n",
       "<!-- 11&#45;&gt;12 -->\n",
       "<g id=\"edge12\" class=\"edge\">\n",
       "<title>11&#45;&gt;12</title>\n",
       "<path fill=\"none\" stroke=\"#000000\" d=\"M686.1726,-73.8139C686.0724,-65.6535 685.9618,-56.6354 685.8596,-48.3105\"/>\n",
       "<polygon fill=\"#000000\" stroke=\"#000000\" points=\"689.3588,-48.2093 685.7362,-38.2531 682.3593,-48.2953 689.3588,-48.2093\"/>\n",
       "</g>\n",
       "<!-- 13 -->\n",
       "<g id=\"node14\" class=\"node\">\n",
       "<title>13</title>\n",
       "<polygon fill=\"#fcf1ea\" stroke=\"#000000\" points=\"901.5,-38 769.5,-38 769.5,0 901.5,0 901.5,-38\"/>\n",
       "<text text-anchor=\"middle\" x=\"835.5\" y=\"-22.8\" font-family=\"Times,serif\" font-size=\"14.00\" fill=\"#000000\">samples = 1.1%</text>\n",
       "<text text-anchor=\"middle\" x=\"835.5\" y=\"-7.8\" font-family=\"Times,serif\" font-size=\"14.00\" fill=\"#000000\">value = 144.0</text>\n",
       "</g>\n",
       "<!-- 11&#45;&gt;13 -->\n",
       "<g id=\"edge13\" class=\"edge\">\n",
       "<title>11&#45;&gt;13</title>\n",
       "<path fill=\"none\" stroke=\"#000000\" d=\"M735.2882,-73.8139C753.3567,-63.9307 773.7251,-52.7896 791.357,-43.1454\"/>\n",
       "<polygon fill=\"#000000\" stroke=\"#000000\" points=\"793.2074,-46.1226 800.3011,-38.2531 789.8482,-39.9813 793.2074,-46.1226\"/>\n",
       "</g>\n",
       "</g>\n",
       "</svg>\n"
      ],
      "text/plain": [
       "<graphviz.files.Source at 0x7f67b4bae550>"
      ]
     },
     "execution_count": 8,
     "metadata": {},
     "output_type": "execute_result"
    }
   ],
   "source": [
    "p_julian = pipelines['DecisionTreeRegressor']['Julian']\n",
    "view_decision_tree_julian(p_julian)"
   ]
  },
  {
   "cell_type": "markdown",
   "metadata": {},
   "source": [
    "## Conclusion\n",
    "The models perform absolutely terrible, hardly better than the baseline model which does not use any of the variables to make predictions."
   ]
  },
  {
   "cell_type": "code",
   "execution_count": 9,
   "metadata": {},
   "outputs": [],
   "source": [
    "from pipelines import hybrid_regressor"
   ]
  },
  {
   "cell_type": "code",
   "execution_count": 10,
   "metadata": {},
   "outputs": [
    {
     "data": {
      "text/plain": [
       "251.56717796283016"
      ]
     },
     "execution_count": 10,
     "metadata": {},
     "output_type": "execute_result"
    }
   ],
   "source": [
    "p = hybrid_regressor()\n",
    "p.fit(X_train, y_train['OS_days'])\n",
    "y_train_pred = p.predict(X_train)\n",
    "y_test_pred = p.predict(X_test)\n",
    "rmse(y_test['OS_days'], y_test_pred)"
   ]
  },
  {
   "cell_type": "markdown",
   "metadata": {},
   "source": [
    "# Data distribution\n",
    "To understand better why the model works so terrible, let us look at the data distribution.\n",
    "Calculate the histogram and the cumulative histogram of the data."
   ]
  },
  {
   "cell_type": "code",
   "execution_count": 11,
   "metadata": {},
   "outputs": [],
   "source": [
    "# Calculate the distribution of all the data, not just the training data.\n",
    "(t_OS, p_OS), (t_OS_cum, p_OS_cum) = survival_histograms(y['OS_days'], hist_bins=10, cum_hist_bins=15)"
   ]
  },
  {
   "cell_type": "code",
   "execution_count": 12,
   "metadata": {},
   "outputs": [
    {
     "data": {
      "text/plain": [
       "<matplotlib.legend.Legend at 0x7f67ad023588>"
      ]
     },
     "execution_count": 12,
     "metadata": {},
     "output_type": "execute_result"
    },
    {
     "data": {
      "image/png": "[encoded data removed]",
      "text/plain": [
       "<Figure size 432x288 with 1 Axes>"
      ]
     },
     "metadata": {
      "needs_background": "light"
     },
     "output_type": "display_data"
    }
   ],
   "source": [
    "plt.plot(t_OS, p_OS, '-o', label='distribution')\n",
    "plt.plot(t_OS_cum, p_OS_cum, '--x', label='cumulative')\n",
    "plt.xlabel('$t$ (days)')\n",
    "plt.ylabel('$n$')\n",
    "plt.legend(frameon=False)"
   ]
  },
  {
   "cell_type": "markdown",
   "metadata": {},
   "source": [
    "which clearly shows an exponentially decaying function (as a side note, if the original distribution is exponential, than so is the cumulative function). \n",
    "\n",
    "If patients indeed decay exponentially\n",
    "$$N(t) = N_0 \\exp\\left(-\\frac{t}{\\tau}\\ln 2\\right) ,$$\n",
    "then the half life $\\tau$ can be determined from the slope\n",
    "$$\n",
    "\\ln[N(t)] = -\\frac{\\ln 2}{\\tau} t + \\ln N_0.\n",
    "$$\n",
    "Let us fit this to the distribution:\n"
   ]
  },
  {
   "cell_type": "code",
   "execution_count": 13,
   "metadata": {},
   "outputs": [
    {
     "data": {
      "image/png": "[encoded data removed]",
      "text/plain": [
       "<Figure size 432x288 with 1 Axes>"
      ]
     },
     "metadata": {
      "needs_background": "light"
     },
     "output_type": "display_data"
    }
   ],
   "source": [
    "# The last datum is an outlier.\n",
    "outliers = [len(p_OS_cum) - 1]\n",
    "view_as_exponential(t_OS_cum, p_OS_cum, outlier_indices=outliers)"
   ]
  },
  {
   "cell_type": "markdown",
   "metadata": {},
   "source": [
    "# Signal in the data\n",
    "Clearly, the data has a significant statistical component. Just to remind you, in a perfect scenario there is no noise in the data and we can predict with certainty the outcome. That is,\n",
    "$f(x) $\n",
    "and our goal is to design a function $g(x)$ that is a good approximation of $f(x)$. Looking back at the figure above, this would mean that all of our statistical uncertainty derives from an incomplete specification of the conditions $x$. Or put differently, ideally all the statistical uncertainty can be resolved by $x$.\n",
    "\n",
    "In reality, we may have incomplete knowledge, and this lack of knowledge introduces noise in the data. Therefore, in practice one has\n",
    "$$\n",
    "y = f(x) + \\epsilon,$$\n",
    "with $\\epsilon$ some noise term. Since our prediction models work rather poorly, it seems that $\\epsilon$ is a non-negligble part.\n",
    "\n",
    "**Question**: How much of the noise can be accounted for using $x$?"
   ]
  },
  {
   "cell_type": "code",
   "execution_count": 14,
   "metadata": {},
   "outputs": [],
   "source": [
    "# First merge all categories that occur less than 30 times.\n",
    "X = MergeRareCategories(thresshold=30, categorical_columns=categorical_input_columns).fit_transform(X)"
   ]
  },
  {
   "cell_type": "code",
   "execution_count": 15,
   "metadata": {},
   "outputs": [
    {
     "data": {
      "text/html": [
       "<div>\n",
       "<style scoped>\n",
       "    .dataframe tbody tr th:only-of-type {\n",
       "        vertical-align: middle;\n",
       "    }\n",
       "\n",
       "    .dataframe tbody tr th {\n",
       "        vertical-align: top;\n",
       "    }\n",
       "\n",
       "    .dataframe thead th {\n",
       "        text-align: right;\n",
       "    }\n",
       "</style>\n",
       "<table border=\"1\" class=\"dataframe\">\n",
       "  <thead>\n",
       "    <tr style=\"text-align: right;\">\n",
       "      <th></th>\n",
       "      <th></th>\n",
       "      <th>delta tau</th>\n",
       "      <th>signal to noise</th>\n",
       "    </tr>\n",
       "    <tr>\n",
       "      <th>category</th>\n",
       "      <th>item</th>\n",
       "      <th></th>\n",
       "      <th></th>\n",
       "    </tr>\n",
       "  </thead>\n",
       "  <tbody>\n",
       "    <tr>\n",
       "      <td>gender</td>\n",
       "      <td>male-female</td>\n",
       "      <td>41.573833</td>\n",
       "      <td>0.135917</td>\n",
       "    </tr>\n",
       "    <tr>\n",
       "      <td>stage</td>\n",
       "      <td>4-3</td>\n",
       "      <td>72.542822</td>\n",
       "      <td>0.237163</td>\n",
       "    </tr>\n",
       "    <tr>\n",
       "      <td>therapyline</td>\n",
       "      <td>2-1+3+0+4</td>\n",
       "      <td>34.609658</td>\n",
       "      <td>0.113149</td>\n",
       "    </tr>\n",
       "    <tr>\n",
       "      <td rowspan=\"3\" valign=\"top\">smokingstatus</td>\n",
       "      <td>smoker-previous</td>\n",
       "      <td>126.921462</td>\n",
       "      <td>0.414943</td>\n",
       "    </tr>\n",
       "    <tr>\n",
       "      <td>smoker-unknown+non smoker</td>\n",
       "      <td>166.779831</td>\n",
       "      <td>0.545251</td>\n",
       "    </tr>\n",
       "    <tr>\n",
       "      <td>previous-unknown+non smoker</td>\n",
       "      <td>39.858369</td>\n",
       "      <td>0.130308</td>\n",
       "    </tr>\n",
       "    <tr>\n",
       "      <td>Systemischetherapie</td>\n",
       "      <td>pembrolizumab+nivolumab + ipilimumab+atezolizumab+ipi-novu+durvalumab-nivolumab</td>\n",
       "      <td>40.112911</td>\n",
       "      <td>0.131141</td>\n",
       "    </tr>\n",
       "    <tr>\n",
       "      <td rowspan=\"3\" valign=\"top\">histology_grouped</td>\n",
       "      <td>adeno-squamous</td>\n",
       "      <td>30.270218</td>\n",
       "      <td>0.098962</td>\n",
       "    </tr>\n",
       "    <tr>\n",
       "      <td>adeno-other</td>\n",
       "      <td>70.383545</td>\n",
       "      <td>0.230104</td>\n",
       "    </tr>\n",
       "    <tr>\n",
       "      <td>squamous-other</td>\n",
       "      <td>100.653763</td>\n",
       "      <td>0.329066</td>\n",
       "    </tr>\n",
       "    <tr>\n",
       "      <td>lymfmeta</td>\n",
       "      <td>metastasis present-no metastasis present</td>\n",
       "      <td>111.699710</td>\n",
       "      <td>0.365178</td>\n",
       "    </tr>\n",
       "    <tr>\n",
       "      <td>brainmeta</td>\n",
       "      <td>metastasis present-no metastasis present</td>\n",
       "      <td>33.175529</td>\n",
       "      <td>0.108460</td>\n",
       "    </tr>\n",
       "    <tr>\n",
       "      <td>adrenalmeta</td>\n",
       "      <td>no metastasis present-metastasis present</td>\n",
       "      <td>41.995421</td>\n",
       "      <td>0.137295</td>\n",
       "    </tr>\n",
       "    <tr>\n",
       "      <td>livermeta</td>\n",
       "      <td>no metastasis present-metastasis present</td>\n",
       "      <td>51.224007</td>\n",
       "      <td>0.167466</td>\n",
       "    </tr>\n",
       "    <tr>\n",
       "      <td>lungmeta</td>\n",
       "      <td>no metastasis present-metastasis present</td>\n",
       "      <td>19.664026</td>\n",
       "      <td>0.064287</td>\n",
       "    </tr>\n",
       "    <tr>\n",
       "      <td>skeletonmeta</td>\n",
       "      <td>no metastasis present-metastasis present</td>\n",
       "      <td>2.896052</td>\n",
       "      <td>0.009468</td>\n",
       "    </tr>\n",
       "  </tbody>\n",
       "</table>\n",
       "</div>"
      ],
      "text/plain": [
       "                                                                         delta tau  \\\n",
       "category            item                                                             \n",
       "gender              male-female                                          41.573833   \n",
       "stage               4-3                                                  72.542822   \n",
       "therapyline         2-1+3+0+4                                            34.609658   \n",
       "smokingstatus       smoker-previous                                     126.921462   \n",
       "                    smoker-unknown+non smoker                           166.779831   \n",
       "                    previous-unknown+non smoker                          39.858369   \n",
       "Systemischetherapie pembrolizumab+nivolumab + ipilimumab+atezolizum...   40.112911   \n",
       "histology_grouped   adeno-squamous                                       30.270218   \n",
       "                    adeno-other                                          70.383545   \n",
       "                    squamous-other                                      100.653763   \n",
       "lymfmeta            metastasis present-no metastasis present            111.699710   \n",
       "brainmeta           metastasis present-no metastasis present             33.175529   \n",
       "adrenalmeta         no metastasis present-metastasis present             41.995421   \n",
       "livermeta           no metastasis present-metastasis present             51.224007   \n",
       "lungmeta            no metastasis present-metastasis present             19.664026   \n",
       "skeletonmeta        no metastasis present-metastasis present              2.896052   \n",
       "\n",
       "                                                                        signal to noise  \n",
       "category            item                                                                 \n",
       "gender              male-female                                                0.135917  \n",
       "stage               4-3                                                        0.237163  \n",
       "therapyline         2-1+3+0+4                                                  0.113149  \n",
       "smokingstatus       smoker-previous                                            0.414943  \n",
       "                    smoker-unknown+non smoker                                  0.545251  \n",
       "                    previous-unknown+non smoker                                0.130308  \n",
       "Systemischetherapie pembrolizumab+nivolumab + ipilimumab+atezolizum...         0.131141  \n",
       "histology_grouped   adeno-squamous                                             0.098962  \n",
       "                    adeno-other                                                0.230104  \n",
       "                    squamous-other                                             0.329066  \n",
       "lymfmeta            metastasis present-no metastasis present                   0.365178  \n",
       "brainmeta           metastasis present-no metastasis present                   0.108460  \n",
       "adrenalmeta         no metastasis present-metastasis present                   0.137295  \n",
       "livermeta           no metastasis present-metastasis present                   0.167466  \n",
       "lungmeta            no metastasis present-metastasis present                   0.064287  \n",
       "skeletonmeta        no metastasis present-metastasis present                   0.009468  "
      ]
     },
     "execution_count": 15,
     "metadata": {},
     "output_type": "execute_result"
    }
   ],
   "source": [
    "effect_summary = categorical_signal_summary(X, y['OS_days'], categorical_input_columns)\n",
    "effect_summary"
   ]
  },
  {
   "cell_type": "markdown",
   "metadata": {},
   "source": [
    "The largest effect is related to smoking."
   ]
  },
  {
   "cell_type": "code",
   "execution_count": 16,
   "metadata": {},
   "outputs": [
    {
     "data": {
      "text/html": [
       "<div>\n",
       "<style scoped>\n",
       "    .dataframe tbody tr th:only-of-type {\n",
       "        vertical-align: middle;\n",
       "    }\n",
       "\n",
       "    .dataframe tbody tr th {\n",
       "        vertical-align: top;\n",
       "    }\n",
       "\n",
       "    .dataframe thead th {\n",
       "        text-align: right;\n",
       "    }\n",
       "</style>\n",
       "<table border=\"1\" class=\"dataframe\">\n",
       "  <thead>\n",
       "    <tr style=\"text-align: right;\">\n",
       "      <th></th>\n",
       "      <th></th>\n",
       "      <th>delta tau</th>\n",
       "      <th>signal to noise</th>\n",
       "    </tr>\n",
       "    <tr>\n",
       "      <th>category</th>\n",
       "      <th>item</th>\n",
       "      <th></th>\n",
       "      <th></th>\n",
       "    </tr>\n",
       "  </thead>\n",
       "  <tbody>\n",
       "    <tr>\n",
       "      <td rowspan=\"2\" valign=\"top\">smokingstatus</td>\n",
       "      <td>smoker-unknown+non smoker</td>\n",
       "      <td>166.779831</td>\n",
       "      <td>0.545251</td>\n",
       "    </tr>\n",
       "    <tr>\n",
       "      <td>smoker-unknown+non smoker</td>\n",
       "      <td>166.779831</td>\n",
       "      <td>0.545251</td>\n",
       "    </tr>\n",
       "  </tbody>\n",
       "</table>\n",
       "</div>"
      ],
      "text/plain": [
       "                                          delta tau  signal to noise\n",
       "category      item                                                  \n",
       "smokingstatus smoker-unknown+non smoker  166.779831         0.545251\n",
       "              smoker-unknown+non smoker  166.779831         0.545251"
      ]
     },
     "execution_count": 16,
     "metadata": {},
     "output_type": "execute_result"
    }
   ],
   "source": [
    "i = effect_summary.idxmax(axis=0)\n",
    "effect_summary.loc[i]"
   ]
  },
  {
   "cell_type": "markdown",
   "metadata": {},
   "source": [
    "Even so, statistical noise overwhelms this contribution when only this effect is taken into account.\n",
    "\n",
    "# Performance model\n",
    "Using the analysis above alows us to do an analysis of the best-case and worst-case scenario that a perfect model can attain.\n",
    "- Best case scenario: all contributions add meaning that we can resolve "
   ]
  },
  {
   "cell_type": "code",
   "execution_count": 17,
   "metadata": {},
   "outputs": [
    {
     "data": {
      "text/plain": [
       "984.3611593161758"
      ]
     },
     "execution_count": 17,
     "metadata": {},
     "output_type": "execute_result"
    }
   ],
   "source": [
    "sum(effect_summary['delta tau'])"
   ]
  },
  {
   "cell_type": "markdown",
   "metadata": {},
   "source": [
    "all of the noise, but requiring $2^{16} \\approx 7 \\cdot 10^4$ data points.\n",
    "\n",
    "- Worst case scenario: improvement in prediction in one group undoes the improvement in all other groups and we are left with $\\arg \\max \\Delta \\tau(x)$.\n",
    "\n",
    "## Theoretical lower bound on model performance\n",
    "Assuming the worst case scenario, we can now derive a lower bound on the mean squared error, given that the data is distributed according to the exponentially decaying function.\n",
    "\n",
    "Normalising $N(t) = N_0 e^{-t \\ln 2 / \\tau}$ to $p(t)$ gives \n",
    "$$\n",
    "p(t) = \\alpha e^{-\\alpha t} ,\n",
    "$$\n",
    "with $\\alpha = \\ln 2/\\tau$. The standard deviation is nothing but the root mean squared error of the average:\n",
    "$$\n",
    "\\sigma_t^2 = \\langle t^2 \\rangle - \\langle t \\rangle^2 .\n",
    "$$\n",
    "Calculating the avarage $\\langle t \\rangle = 1/\\alpha$ and the two point function $\\langle t^2 \\rangle= 2/\\alpha^2$ allows one to express the standard deviation as.\n",
    "$$\n",
    "\\sigma_t^2 = \\alpha^{-2} = \\left( \\frac{\\tau}{\\ln 2} \\right)^2 .\n",
    "$$\n",
    "Using the value above $\\tau =258$ days gives a variance of"
   ]
  },
  {
   "cell_type": "code",
   "execution_count": 18,
   "metadata": {},
   "outputs": [
    {
     "name": "stdout",
     "output_type": "stream",
     "text": [
      "372.22\n"
     ]
    }
   ],
   "source": [
    "sigma_t = 258 / np.log(2)\n",
    "print(f'{sigma_t:.2f}')"
   ]
  },
  {
   "cell_type": "markdown",
   "metadata": {},
   "source": [
    "and so, with $\\Delta \\tau = 167$ we arive at $\\sigma_t - \\frac{\\Delta \\tau}{2} = $"
   ]
  },
  {
   "cell_type": "code",
   "execution_count": 19,
   "metadata": {},
   "outputs": [
    {
     "name": "stdout",
     "output_type": "stream",
     "text": [
      "288.71532054935255\n"
     ]
    }
   ],
   "source": [
    "delta_t = 167\n",
    "min_mse = sigma_t - delta_t  /2\n",
    "print(min_mse)"
   ]
  },
  {
   "cell_type": "markdown",
   "metadata": {},
   "source": [
    "Meaning that, at least in theory, we should be able to get an estimate with a root mean squared error below this number. \n",
    "\n",
    "The fact that this number is quite close to the best performing models indicate that probably there is still room for improvement."
   ]
  }
 ],
 "metadata": {
  "kernelspec": {
   "display_name": "Python 3",
   "language": "python",
   "name": "python3"
  },
  "language_info": {
   "codemirror_mode": {
    "name": "ipython",
    "version": 3
   },
   "file_extension": ".py",
   "mimetype": "text/x-python",
   "name": "python",
   "nbconvert_exporter": "python",
   "pygments_lexer": "ipython3",
   "version": "3.7.3"
  }
 },
 "nbformat": 4,
 "nbformat_minor": 2
}
