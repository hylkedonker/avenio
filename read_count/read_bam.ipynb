{
 "cells": [
  {
   "cell_type": "markdown",
   "metadata": {},
   "source": [
    "# Variant file"
   ]
  },
  {
   "cell_type": "code",
   "execution_count": 88,
   "metadata": {},
   "outputs": [],
   "source": [
    "from collections import defaultdict\n",
    "from pprint import pprint\n",
    "\n",
    "from matplotlib import pyplot as plt\n",
    "import numpy as np\n",
    "import pandas as pd\n",
    "import pysam\n",
    "from pysam import VariantFile\n",
    "import seaborn as sns"
   ]
  },
  {
   "cell_type": "code",
   "execution_count": 23,
   "metadata": {},
   "outputs": [],
   "source": [
    "variants = VariantFile('data/snv-Somatic_all-972_0.vcf')"
   ]
  },
  {
   "cell_type": "code",
   "execution_count": 3,
   "metadata": {},
   "outputs": [],
   "source": [
    "annotation_columns = variants.header \\\n",
    "    .info['ANN'] \\\n",
    "    .description \\\n",
    "    .split(':')[1] \\\n",
    "    .replace(\"'\", \"\") \\\n",
    "    .split('|')\n",
    "annotation_columns = tuple(map(lambda x: x.strip(), annotation_columns))"
   ]
  },
  {
   "cell_type": "code",
   "execution_count": 4,
   "metadata": {},
   "outputs": [
    {
     "data": {
      "text/html": [
       "<div>\n",
       "<style scoped>\n",
       "    .dataframe tbody tr th:only-of-type {\n",
       "        vertical-align: middle;\n",
       "    }\n",
       "\n",
       "    .dataframe tbody tr th {\n",
       "        vertical-align: top;\n",
       "    }\n",
       "\n",
       "    .dataframe thead th {\n",
       "        text-align: right;\n",
       "    }\n",
       "</style>\n",
       "<table border=\"1\" class=\"dataframe\">\n",
       "  <thead>\n",
       "    <tr style=\"text-align: right;\">\n",
       "      <th></th>\n",
       "      <th>Allele</th>\n",
       "      <th>Annotation</th>\n",
       "      <th>Annotation_Impact</th>\n",
       "      <th>Gene_Name</th>\n",
       "      <th>Gene_ID</th>\n",
       "      <th>Feature_Type</th>\n",
       "      <th>Feature_ID</th>\n",
       "      <th>Transcript_BioType</th>\n",
       "      <th>Rank</th>\n",
       "      <th>HGVS.c</th>\n",
       "      <th>HGVS.p</th>\n",
       "      <th>cDNA.pos / cDNA.length</th>\n",
       "      <th>CDS.pos / CDS.length</th>\n",
       "      <th>AA.pos / AA.length</th>\n",
       "      <th>Distance</th>\n",
       "      <th>ERRORS / WARNINGS / INFO</th>\n",
       "    </tr>\n",
       "  </thead>\n",
       "  <tbody>\n",
       "    <tr>\n",
       "      <th>0</th>\n",
       "      <td>A</td>\n",
       "      <td>stop_gained</td>\n",
       "      <td>HIGH</td>\n",
       "      <td>TP53</td>\n",
       "      <td>ENSG00000141510</td>\n",
       "      <td>transcript</td>\n",
       "      <td>ENST00000269305.8</td>\n",
       "      <td>protein_coding</td>\n",
       "      <td>8/11</td>\n",
       "      <td>c.892G&gt;T</td>\n",
       "      <td>p.Glu298*</td>\n",
       "      <td>1082/2579</td>\n",
       "      <td>892/1182</td>\n",
       "      <td>298/393</td>\n",
       "      <td></td>\n",
       "      <td></td>\n",
       "    </tr>\n",
       "    <tr>\n",
       "      <th>1</th>\n",
       "      <td>A</td>\n",
       "      <td>stop_gained</td>\n",
       "      <td>HIGH</td>\n",
       "      <td>TP53</td>\n",
       "      <td>ENSG00000141510</td>\n",
       "      <td>transcript</td>\n",
       "      <td>ENST00000420246.6</td>\n",
       "      <td>protein_coding</td>\n",
       "      <td>8/12</td>\n",
       "      <td>c.892G&gt;T</td>\n",
       "      <td>p.Glu298*</td>\n",
       "      <td>1025/2653</td>\n",
       "      <td>892/1026</td>\n",
       "      <td>298/341</td>\n",
       "      <td></td>\n",
       "      <td></td>\n",
       "    </tr>\n",
       "    <tr>\n",
       "      <th>2</th>\n",
       "      <td>A</td>\n",
       "      <td>stop_gained</td>\n",
       "      <td>HIGH</td>\n",
       "      <td>TP53</td>\n",
       "      <td>ENSG00000141510</td>\n",
       "      <td>transcript</td>\n",
       "      <td>ENST00000455263.6</td>\n",
       "      <td>protein_coding</td>\n",
       "      <td>8/12</td>\n",
       "      <td>c.892G&gt;T</td>\n",
       "      <td>p.Glu298*</td>\n",
       "      <td>1025/2580</td>\n",
       "      <td>892/1041</td>\n",
       "      <td>298/346</td>\n",
       "      <td></td>\n",
       "      <td></td>\n",
       "    </tr>\n",
       "    <tr>\n",
       "      <th>3</th>\n",
       "      <td>A</td>\n",
       "      <td>stop_gained</td>\n",
       "      <td>HIGH</td>\n",
       "      <td>TP53</td>\n",
       "      <td>ENSG00000141510</td>\n",
       "      <td>transcript</td>\n",
       "      <td>ENST00000615910.4</td>\n",
       "      <td>protein_coding</td>\n",
       "      <td>8/11</td>\n",
       "      <td>c.859G&gt;T</td>\n",
       "      <td>p.Glu287*</td>\n",
       "      <td>859/1149</td>\n",
       "      <td>859/1149</td>\n",
       "      <td>287/382</td>\n",
       "      <td></td>\n",
       "      <td></td>\n",
       "    </tr>\n",
       "  </tbody>\n",
       "</table>\n",
       "</div>"
      ],
      "text/plain": [
       "  Allele   Annotation Annotation_Impact Gene_Name          Gene_ID  \\\n",
       "0      A  stop_gained              HIGH      TP53  ENSG00000141510   \n",
       "1      A  stop_gained              HIGH      TP53  ENSG00000141510   \n",
       "2      A  stop_gained              HIGH      TP53  ENSG00000141510   \n",
       "3      A  stop_gained              HIGH      TP53  ENSG00000141510   \n",
       "\n",
       "  Feature_Type         Feature_ID Transcript_BioType  Rank    HGVS.c  \\\n",
       "0   transcript  ENST00000269305.8     protein_coding  8/11  c.892G>T   \n",
       "1   transcript  ENST00000420246.6     protein_coding  8/12  c.892G>T   \n",
       "2   transcript  ENST00000455263.6     protein_coding  8/12  c.892G>T   \n",
       "3   transcript  ENST00000615910.4     protein_coding  8/11  c.859G>T   \n",
       "\n",
       "      HGVS.p cDNA.pos / cDNA.length CDS.pos / CDS.length AA.pos / AA.length  \\\n",
       "0  p.Glu298*              1082/2579             892/1182            298/393   \n",
       "1  p.Glu298*              1025/2653             892/1026            298/341   \n",
       "2  p.Glu298*              1025/2580             892/1041            298/346   \n",
       "3  p.Glu287*               859/1149             859/1149            287/382   \n",
       "\n",
       "  Distance ERRORS / WARNINGS / INFO  \n",
       "0                                    \n",
       "1                                    \n",
       "2                                    \n",
       "3                                    "
      ]
     },
     "execution_count": 4,
     "metadata": {},
     "output_type": "execute_result"
    }
   ],
   "source": [
    "record = next(variants.fetch())\n",
    "df = pd.DataFrame(columns=annotation_columns)\n",
    "for annotation in record.info['ANN']:\n",
    "    key_value_pairs = zip(annotation_columns, annotation.split('|'))\n",
    "    df = df.append(dict(key_value_pairs), ignore_index=True)\n",
    "df"
   ]
  },
  {
   "cell_type": "markdown",
   "metadata": {},
   "source": [
    "# Reading BAM file"
   ]
  },
  {
   "cell_type": "code",
   "execution_count": 89,
   "metadata": {},
   "outputs": [],
   "source": [
    "bam = pysam.AlignmentFile('data/Deduped-972_0_sorted.bam')"
   ]
  },
  {
   "cell_type": "code",
   "execution_count": 106,
   "metadata": {},
   "outputs": [],
   "source": [
    "def collect_fragment_sizes(bam_file, chromosome, start_position):\n",
    "    \"\"\"\n",
    "    Pool fragment sizes per base at given position.\n",
    "    \"\"\"\n",
    "    base_counts = defaultdict(list)\n",
    "    \n",
    "    for pile in bam_file.pileup(contig=chromosome, start=start_position):\n",
    "        # We are only interested in the bases on `start_pos`.\n",
    "        if pile.pos != start_position:\n",
    "            continue\n",
    "\n",
    "        for read in pile.pileups:            \n",
    "            if read.is_del or read.is_refskip:\n",
    "                continue\n",
    "\n",
    "            # Skip mates.\n",
    "            if read.alignment.is_paired and read.alignment.is_read2:\n",
    "                continue\n",
    "\n",
    "            base = read.alignment.query_sequence[read.query_position]\n",
    "            fragment_length = abs(read.alignment.template_length)\n",
    "            base_counts[base].append(fragment_length)\n",
    "    \n",
    "    return base_counts"
   ]
  },
  {
   "cell_type": "code",
   "execution_count": 132,
   "metadata": {},
   "outputs": [],
   "source": [
    "def pool_variant_fragment_sizes():\n",
    "    \"\"\"\n",
    "    Pool fragment sizes for nomals, and those for the variants, over all variant calls. \n",
    "    \"\"\"\n",
    "    normal_sizes = []\n",
    "    variant_sizes = []\n",
    "    \n",
    "    for variant in variants.fetch():\n",
    "        print('Collect fragment sizes for', variant.contig, variant.start, variant.stop)\n",
    "        if variant.stop - variant.start != 1:\n",
    "            raise NotImplemented\n",
    "        \n",
    "        base_counts = collect_fragment_sizes(\n",
    "            bam, \n",
    "            chromosome=variant.contig, \n",
    "            start_position=variant.start,\n",
    "        )\n",
    "        \n",
    "        # Pool counts for the normal.\n",
    "        normals = base_counts[variant.ref.upper()]\n",
    "        normal_sizes.extend(normals)\n",
    "        # Pool fragment sizes for all variants.\n",
    "        for alternat_base in variant.alts:\n",
    "            alternats = base_counts[alternat_base.upper()]\n",
    "            vaf = len(alternats)/len(normals)\n",
    "            print('VAF({})'.format(alternat_base), vaf)\n",
    "            variant_sizes.extend(alternats)\n",
    "    return normal_sizes, variant_sizes"
   ]
  },
  {
   "cell_type": "code",
   "execution_count": 133,
   "metadata": {},
   "outputs": [
    {
     "name": "stdout",
     "output_type": "stream",
     "text": [
      "Collect fragment sizes for chr17 7673727 7673728\n",
      "VAF(A) 3.768987341772152\n",
      "Collect fragment sizes for chr17 58357955 58357956\n",
      "VAF(A) 0.0013415615776764154\n",
      "Collect fragment sizes for chr4 54274526 54274527\n",
      "VAF(T) 1.2589712918660287\n",
      "Collect fragment sizes for chr9 95459699 95459700\n",
      "VAF(A) 0.9145780051150895\n"
     ]
    }
   ],
   "source": [
    "normal_sizes, variant_sizes = pool_variant_fragment_sizes()"
   ]
  },
  {
   "cell_type": "code",
   "execution_count": 129,
   "metadata": {},
   "outputs": [
    {
     "data": {
      "text/plain": [
       "Text(0.5, 0, 'Fragment size (bp)')"
      ]
     },
     "execution_count": 129,
     "metadata": {},
     "output_type": "execute_result"
    },
    {
     "data": {
      "image/png": "[encoded data removed]",
      "text/plain": [
       "<Figure size 432x288 with 1 Axes>"
      ]
     },
     "metadata": {
      "needs_background": "light"
     },
     "output_type": "display_data"
    }
   ],
   "source": [
    "p_normal, bins, _ = plt.hist(\n",
    "    normal_sizes, \n",
    "    bins=100, \n",
    "    density=True, \n",
    "    label='normal',\n",
    "    alpha=0.5,\n",
    ")\n",
    "p_variant, _, _ = plt.hist(\n",
    "    variant_sizes, \n",
    "    density=True, \n",
    "    bins=bins, \n",
    "    label='variant',\n",
    "    alpha=0.5,\n",
    ")\n",
    "plt.legend(frameon=False)\n",
    "plt.xlabel('Fragment size (bp)')"
   ]
  },
  {
   "cell_type": "code",
   "execution_count": 131,
   "metadata": {},
   "outputs": [
    {
     "data": {
      "text/plain": [
       "Text(0, 0.5, 'Enrichment (variant/normal)')"
      ]
     },
     "execution_count": 131,
     "metadata": {},
     "output_type": "execute_result"
    },
    {
     "data": {
      "image/png": "[encoded data removed]",
      "text/plain": [
       "<Figure size 432x288 with 1 Axes>"
      ]
     },
     "metadata": {
      "needs_background": "light"
     },
     "output_type": "display_data"
    }
   ],
   "source": [
    "with np.errstate(divide='ignore'):\n",
    "    enrichment = p_variant/p_normal\n",
    "    enrichment[np.isnan(enrichment)] = 0\n",
    "\n",
    "plt.plot((bins[1:] + bins[:-1])/2.0, enrichment)\n",
    "plt.xlabel('Fragment size (bp)')\n",
    "plt.ylabel('Enrichment (variant/normal)')"
   ]
  },
  {
   "cell_type": "code",
   "execution_count": null,
   "metadata": {},
   "outputs": [],
   "source": []
  }
 ],
 "metadata": {
  "kernelspec": {
   "display_name": "Python 3",
   "language": "python",
   "name": "python3"
  },
  "language_info": {
   "codemirror_mode": {
    "name": "ipython",
    "version": 3
   },
   "file_extension": ".py",
   "mimetype": "text/x-python",
   "name": "python",
   "nbconvert_exporter": "python",
   "pygments_lexer": "ipython3",
   "version": "3.7.5"
  }
 },
 "nbformat": 4,
 "nbformat_minor": 2
}
