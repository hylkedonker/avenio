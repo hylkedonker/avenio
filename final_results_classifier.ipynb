{
 "cells": [
  {
   "cell_type": "markdown",
   "metadata": {},
   "source": [
    "# Make final classifier using mutant concentration\n",
    "**Goal**: Identify patients that don't respond.\n",
    "These patients we don't have to treat.\n",
    "\n",
    "Perform the following steps:\n",
    "\n",
    "1) Combine data with CNV.\n",
    "\n",
    "2) Compare harmonic versus delta.\n",
    "\n",
    "3) Compare clinical data versus clinical and genomic data.\n",
    "\n",
    "4) Select best classification model based on AUC.\n",
    "\n",
    "5) For this best model, compare number of molecules.\n",
    "\n",
    "6) Perform cross validation.\n",
    "\n",
    "7) Make plots for parameter importance."
   ]
  },
  {
   "cell_type": "code",
   "execution_count": 16,
   "metadata": {},
   "outputs": [],
   "source": [
    "%matplotlib inline\n",
    "from matplotlib import pyplot as plt\n",
    "from sklearn.linear_model import LogisticRegression\n",
    "from sklearn.metrics import classification_report, f1_score\n",
    "from sklearn.model_selection import GridSearchCV\n",
    "\n",
    "from pipelines import benchmark_pipelines, build_classifier_pipelines, pipeline_Freeman, test_scores_pipelines\n",
    "from views import view_linear_model_freeman"
   ]
  },
  {
   "cell_type": "markdown",
   "metadata": {},
   "source": [
    "# 1) Combine data"
   ]
  },
  {
   "cell_type": "code",
   "execution_count": 2,
   "metadata": {},
   "outputs": [],
   "source": [
    "from source import read_preprocessed_data\n",
    "from transform import combine_tsv_files"
   ]
  },
  {
   "cell_type": "code",
   "execution_count": 3,
   "metadata": {},
   "outputs": [],
   "source": [
    "# Difference genomic variable.\n",
    "X_train_diff, y_train = combine_tsv_files(\n",
    "    \"output/train__gene__difference__No. Mutant Molecules per mL.tsv\",\n",
    "    \"output/train__gene__difference__CNV Score.tsv\",\n",
    ")\n",
    "\n",
    "# Difference genomic variable.\n",
    "X_test_diff, y_test = combine_tsv_files(\n",
    "    \"output/test__gene__difference__No. Mutant Molecules per mL.tsv\",\n",
    "    \"output/test__gene__difference__CNV Score.tsv\",\n",
    ")"
   ]
  },
  {
   "cell_type": "markdown",
   "metadata": {},
   "source": [
    "# 2) Select best model"
   ]
  },
  {
   "cell_type": "code",
   "execution_count": 4,
   "metadata": {},
   "outputs": [],
   "source": [
    "y_train_resp = y_train[\"response_grouped\"]\n",
    "y_test_resp = y_test['response_grouped']\n",
    "\n",
    "response_labels = ['non responder (sd+pd)', 'responder (pr+cr)', 'non evaluable (ne)']\n",
    "pos_label = 'responder (pr+cr)'\n",
    "y_train_resp = y_train_resp == pos_label\n",
    "y_test_resp = y_test_resp == pos_label"
   ]
  },
  {
   "cell_type": "code",
   "execution_count": 5,
   "metadata": {},
   "outputs": [],
   "source": [
    "ps_class = build_classifier_pipelines()"
   ]
  },
  {
   "cell_type": "code",
   "execution_count": 6,
   "metadata": {},
   "outputs": [],
   "source": [
    "b_difference = benchmark_pipelines(\n",
    "    ps_class, X_train_diff, y_train_resp, metric='roc_auc',\n",
    ")"
   ]
  },
  {
   "cell_type": "code",
   "execution_count": 7,
   "metadata": {},
   "outputs": [
    {
     "data": {
      "text/html": [
       "<div>\n",
       "<style scoped>\n",
       "    .dataframe tbody tr th:only-of-type {\n",
       "        vertical-align: middle;\n",
       "    }\n",
       "\n",
       "    .dataframe tbody tr th {\n",
       "        vertical-align: top;\n",
       "    }\n",
       "\n",
       "    .dataframe thead th {\n",
       "        text-align: right;\n",
       "    }\n",
       "</style>\n",
       "<table border=\"1\" class=\"dataframe\">\n",
       "  <thead>\n",
       "    <tr style=\"text-align: right;\">\n",
       "      <th></th>\n",
       "      <th>Richard mean</th>\n",
       "      <th>Richard std</th>\n",
       "      <th>Julian mean</th>\n",
       "      <th>Julian std</th>\n",
       "      <th>Freeman mean</th>\n",
       "      <th>Freeman std</th>\n",
       "    </tr>\n",
       "  </thead>\n",
       "  <tbody>\n",
       "    <tr>\n",
       "      <td>DecisionTreeClassifier</td>\n",
       "      <td>0.534303</td>\n",
       "      <td>0.051893</td>\n",
       "      <td>0.642789</td>\n",
       "      <td>0.092760</td>\n",
       "      <td>0.634813</td>\n",
       "      <td>0.063893</td>\n",
       "    </tr>\n",
       "    <tr>\n",
       "      <td>RandomForestClassifier</td>\n",
       "      <td>0.637211</td>\n",
       "      <td>0.045885</td>\n",
       "      <td>0.654167</td>\n",
       "      <td>0.037763</td>\n",
       "      <td>0.600986</td>\n",
       "      <td>0.042447</td>\n",
       "    </tr>\n",
       "    <tr>\n",
       "      <td>GaussianNB</td>\n",
       "      <td>0.552109</td>\n",
       "      <td>0.101828</td>\n",
       "      <td>0.634779</td>\n",
       "      <td>0.116028</td>\n",
       "      <td>0.588452</td>\n",
       "      <td>0.092482</td>\n",
       "    </tr>\n",
       "    <tr>\n",
       "      <td>GradientBoostingClassifier</td>\n",
       "      <td>0.573844</td>\n",
       "      <td>0.018426</td>\n",
       "      <td>0.583793</td>\n",
       "      <td>0.074912</td>\n",
       "      <td>0.609813</td>\n",
       "      <td>0.110192</td>\n",
       "    </tr>\n",
       "    <tr>\n",
       "      <td>KNeighborsClassifier</td>\n",
       "      <td>0.643997</td>\n",
       "      <td>0.087592</td>\n",
       "      <td>0.604711</td>\n",
       "      <td>0.025374</td>\n",
       "      <td>0.629014</td>\n",
       "      <td>0.062816</td>\n",
       "    </tr>\n",
       "    <tr>\n",
       "      <td>LogisticRegression</td>\n",
       "      <td>0.638129</td>\n",
       "      <td>0.054355</td>\n",
       "      <td>0.597160</td>\n",
       "      <td>0.118240</td>\n",
       "      <td>0.626633</td>\n",
       "      <td>0.049826</td>\n",
       "    </tr>\n",
       "    <tr>\n",
       "      <td>SVC</td>\n",
       "      <td>0.543503</td>\n",
       "      <td>0.102596</td>\n",
       "      <td>0.464065</td>\n",
       "      <td>0.103102</td>\n",
       "      <td>0.574031</td>\n",
       "      <td>0.096345</td>\n",
       "    </tr>\n",
       "    <tr>\n",
       "      <td>DummyClassifier</td>\n",
       "      <td>0.500000</td>\n",
       "      <td>0.000000</td>\n",
       "      <td>0.500000</td>\n",
       "      <td>0.000000</td>\n",
       "      <td>0.500000</td>\n",
       "      <td>0.000000</td>\n",
       "    </tr>\n",
       "  </tbody>\n",
       "</table>\n",
       "</div>"
      ],
      "text/plain": [
       "                            Richard mean  Richard std  Julian mean  \\\n",
       "DecisionTreeClassifier          0.534303     0.051893     0.642789   \n",
       "RandomForestClassifier          0.637211     0.045885     0.654167   \n",
       "GaussianNB                      0.552109     0.101828     0.634779   \n",
       "GradientBoostingClassifier      0.573844     0.018426     0.583793   \n",
       "KNeighborsClassifier            0.643997     0.087592     0.604711   \n",
       "LogisticRegression              0.638129     0.054355     0.597160   \n",
       "SVC                             0.543503     0.102596     0.464065   \n",
       "DummyClassifier                 0.500000     0.000000     0.500000   \n",
       "\n",
       "                            Julian std  Freeman mean  Freeman std  \n",
       "DecisionTreeClassifier        0.092760      0.634813     0.063893  \n",
       "RandomForestClassifier        0.037763      0.600986     0.042447  \n",
       "GaussianNB                    0.116028      0.588452     0.092482  \n",
       "GradientBoostingClassifier    0.074912      0.609813     0.110192  \n",
       "KNeighborsClassifier          0.025374      0.629014     0.062816  \n",
       "LogisticRegression            0.118240      0.626633     0.049826  \n",
       "SVC                           0.103102      0.574031     0.096345  \n",
       "DummyClassifier               0.000000      0.500000     0.000000  "
      ]
     },
     "execution_count": 7,
     "metadata": {},
     "output_type": "execute_result"
    }
   ],
   "source": [
    "# print('On average harmonic mean is better by', (b_harmonic_mean.mean(axis=1) - b_difference.mean(axis=1)).mean(), 'ROC AUC')\n",
    "b_difference"
   ]
  },
  {
   "cell_type": "code",
   "execution_count": 17,
   "metadata": {},
   "outputs": [
    {
     "data": {
      "text/html": [
       "<div>\n",
       "<style scoped>\n",
       "    .dataframe tbody tr th:only-of-type {\n",
       "        vertical-align: middle;\n",
       "    }\n",
       "\n",
       "    .dataframe tbody tr th {\n",
       "        vertical-align: top;\n",
       "    }\n",
       "\n",
       "    .dataframe thead th {\n",
       "        text-align: right;\n",
       "    }\n",
       "</style>\n",
       "<table border=\"1\" class=\"dataframe\">\n",
       "  <thead>\n",
       "    <tr style=\"text-align: right;\">\n",
       "      <th></th>\n",
       "      <th>Richard</th>\n",
       "      <th>Julian</th>\n",
       "      <th>Freeman</th>\n",
       "    </tr>\n",
       "  </thead>\n",
       "  <tbody>\n",
       "    <tr>\n",
       "      <td>DecisionTreeClassifier</td>\n",
       "      <td>0.529915</td>\n",
       "      <td>0.636752</td>\n",
       "      <td>0.655983</td>\n",
       "    </tr>\n",
       "    <tr>\n",
       "      <td>RandomForestClassifier</td>\n",
       "      <td>0.476496</td>\n",
       "      <td>0.694444</td>\n",
       "      <td>0.532051</td>\n",
       "    </tr>\n",
       "    <tr>\n",
       "      <td>GaussianNB</td>\n",
       "      <td>0.416667</td>\n",
       "      <td>0.634615</td>\n",
       "      <td>0.621795</td>\n",
       "    </tr>\n",
       "    <tr>\n",
       "      <td>GradientBoostingClassifier</td>\n",
       "      <td>0.591880</td>\n",
       "      <td>0.514957</td>\n",
       "      <td>0.647436</td>\n",
       "    </tr>\n",
       "    <tr>\n",
       "      <td>KNeighborsClassifier</td>\n",
       "      <td>0.480769</td>\n",
       "      <td>0.555556</td>\n",
       "      <td>0.442308</td>\n",
       "    </tr>\n",
       "    <tr>\n",
       "      <td>LogisticRegression</td>\n",
       "      <td>0.549145</td>\n",
       "      <td>0.476496</td>\n",
       "      <td>0.529915</td>\n",
       "    </tr>\n",
       "    <tr>\n",
       "      <td>SVC</td>\n",
       "      <td>0.500000</td>\n",
       "      <td>0.500000</td>\n",
       "      <td>0.500000</td>\n",
       "    </tr>\n",
       "    <tr>\n",
       "      <td>DummyClassifier</td>\n",
       "      <td>0.500000</td>\n",
       "      <td>0.500000</td>\n",
       "      <td>0.500000</td>\n",
       "    </tr>\n",
       "  </tbody>\n",
       "</table>\n",
       "</div>"
      ],
      "text/plain": [
       "                             Richard    Julian   Freeman\n",
       "DecisionTreeClassifier      0.529915  0.636752  0.655983\n",
       "RandomForestClassifier      0.476496  0.694444  0.532051\n",
       "GaussianNB                  0.416667  0.634615  0.621795\n",
       "GradientBoostingClassifier  0.591880  0.514957  0.647436\n",
       "KNeighborsClassifier        0.480769  0.555556  0.442308\n",
       "LogisticRegression          0.549145  0.476496  0.529915\n",
       "SVC                         0.500000  0.500000  0.500000\n",
       "DummyClassifier             0.500000  0.500000  0.500000"
      ]
     },
     "execution_count": 17,
     "metadata": {},
     "output_type": "execute_result"
    }
   ],
   "source": [
    "test_auc_roc = test_scores_pipelines(\n",
    "    ps_class, \n",
    "    X_train_diff, y_train_resp,\n",
    "    X_test_diff, y_test_resp,\n",
    "    metric='roc_auc',\n",
    ")\n",
    "test_auc_roc"
   ]
  },
  {
   "cell_type": "code",
   "execution_count": 18,
   "metadata": {},
   "outputs": [
    {
     "name": "stderr",
     "output_type": "stream",
     "text": [
      "/opt/conda/lib/python3.7/site-packages/sklearn/metrics/classification.py:1437: UndefinedMetricWarning: F-score is ill-defined and being set to 0.0 due to no predicted samples.\n",
      "  'precision', 'predicted', average, warn_for)\n",
      "/opt/conda/lib/python3.7/site-packages/sklearn/metrics/classification.py:1437: UndefinedMetricWarning: F-score is ill-defined and being set to 0.0 due to no predicted samples.\n",
      "  'precision', 'predicted', average, warn_for)\n",
      "/opt/conda/lib/python3.7/site-packages/sklearn/metrics/classification.py:1437: UndefinedMetricWarning: F-score is ill-defined and being set to 0.0 due to no predicted samples.\n",
      "  'precision', 'predicted', average, warn_for)\n",
      "/opt/conda/lib/python3.7/site-packages/sklearn/metrics/classification.py:1437: UndefinedMetricWarning: F-score is ill-defined and being set to 0.0 due to no predicted samples.\n",
      "  'precision', 'predicted', average, warn_for)\n",
      "/opt/conda/lib/python3.7/site-packages/sklearn/metrics/classification.py:1437: UndefinedMetricWarning: F-score is ill-defined and being set to 0.0 due to no predicted samples.\n",
      "  'precision', 'predicted', average, warn_for)\n"
     ]
    },
    {
     "data": {
      "text/html": [
       "<div>\n",
       "<style scoped>\n",
       "    .dataframe tbody tr th:only-of-type {\n",
       "        vertical-align: middle;\n",
       "    }\n",
       "\n",
       "    .dataframe tbody tr th {\n",
       "        vertical-align: top;\n",
       "    }\n",
       "\n",
       "    .dataframe thead th {\n",
       "        text-align: right;\n",
       "    }\n",
       "</style>\n",
       "<table border=\"1\" class=\"dataframe\">\n",
       "  <thead>\n",
       "    <tr style=\"text-align: right;\">\n",
       "      <th></th>\n",
       "      <th>Richard</th>\n",
       "      <th>Julian</th>\n",
       "      <th>Freeman</th>\n",
       "    </tr>\n",
       "  </thead>\n",
       "  <tbody>\n",
       "    <tr>\n",
       "      <td>DecisionTreeClassifier</td>\n",
       "      <td>0.347826</td>\n",
       "      <td>0.484848</td>\n",
       "      <td>0.500000</td>\n",
       "    </tr>\n",
       "    <tr>\n",
       "      <td>RandomForestClassifier</td>\n",
       "      <td>0.222222</td>\n",
       "      <td>0.533333</td>\n",
       "      <td>0.315789</td>\n",
       "    </tr>\n",
       "    <tr>\n",
       "      <td>GaussianNB</td>\n",
       "      <td>0.240000</td>\n",
       "      <td>0.486486</td>\n",
       "      <td>0.461538</td>\n",
       "    </tr>\n",
       "    <tr>\n",
       "      <td>GradientBoostingClassifier</td>\n",
       "      <td>0.333333</td>\n",
       "      <td>0.250000</td>\n",
       "      <td>0.461538</td>\n",
       "    </tr>\n",
       "    <tr>\n",
       "      <td>KNeighborsClassifier</td>\n",
       "      <td>0.000000</td>\n",
       "      <td>0.200000</td>\n",
       "      <td>0.000000</td>\n",
       "    </tr>\n",
       "    <tr>\n",
       "      <td>LogisticRegression</td>\n",
       "      <td>0.363636</td>\n",
       "      <td>0.222222</td>\n",
       "      <td>0.347826</td>\n",
       "    </tr>\n",
       "    <tr>\n",
       "      <td>SVC</td>\n",
       "      <td>0.000000</td>\n",
       "      <td>0.000000</td>\n",
       "      <td>0.000000</td>\n",
       "    </tr>\n",
       "    <tr>\n",
       "      <td>DummyClassifier</td>\n",
       "      <td>0.000000</td>\n",
       "      <td>0.000000</td>\n",
       "      <td>0.000000</td>\n",
       "    </tr>\n",
       "  </tbody>\n",
       "</table>\n",
       "</div>"
      ],
      "text/plain": [
       "                             Richard    Julian   Freeman\n",
       "DecisionTreeClassifier      0.347826  0.484848  0.500000\n",
       "RandomForestClassifier      0.222222  0.533333  0.315789\n",
       "GaussianNB                  0.240000  0.486486  0.461538\n",
       "GradientBoostingClassifier  0.333333  0.250000  0.461538\n",
       "KNeighborsClassifier        0.000000  0.200000  0.000000\n",
       "LogisticRegression          0.363636  0.222222  0.347826\n",
       "SVC                         0.000000  0.000000  0.000000\n",
       "DummyClassifier             0.000000  0.000000  0.000000"
      ]
     },
     "execution_count": 18,
     "metadata": {},
     "output_type": "execute_result"
    }
   ],
   "source": [
    "test_f1 = test_scores_pipelines(\n",
    "    ps_class, \n",
    "    X_train_diff, y_train_resp,\n",
    "    X_test_diff, y_test_resp,\n",
    "    metric=f1_score,\n",
    ")\n",
    "test_f1"
   ]
  },
  {
   "cell_type": "markdown",
   "metadata": {},
   "source": [
    "The prediction with difference instead of harmonic mean is therefore marginally worse."
   ]
  },
  {
   "cell_type": "code",
   "execution_count": 9,
   "metadata": {},
   "outputs": [
    {
     "name": "stderr",
     "output_type": "stream",
     "text": [
      "The PostScript backend does not support transparency; partially transparent artists will be rendered opaque.\n",
      "The PostScript backend does not support transparency; partially transparent artists will be rendered opaque.\n",
      "The PostScript backend does not support transparency; partially transparent artists will be rendered opaque.\n",
      "The PostScript backend does not support transparency; partially transparent artists will be rendered opaque.\n"
     ]
    },
    {
     "data": {
      "image/png": "[encoded data removed]",
      "text/plain": [
       "<Figure size 432x432 with 1 Axes>"
      ]
     },
     "metadata": {
      "needs_background": "light"
     },
     "output_type": "display_data"
    }
   ],
   "source": [
    "b = b_difference\n",
    "plt.rc('font', family='serif')\n",
    "import matplotlib\n",
    "context = {\n",
    "#     'font.size': 22,\n",
    "    'lines.linewidth': 4,\n",
    "    'figure.autolayout': True,\n",
    "    'xtick.labelsize': 'large',\n",
    "    'ytick.labelsize': 'large',\n",
    "    'legend.fontsize': 'x-large',\n",
    "    'axes.labelsize': 'xx-large',\n",
    "    'axes.titlesize': 'xx-large',\n",
    "}\n",
    "# fig = plt.figure(figsize=(4, 3))\n",
    "with plt.rc_context(context):\n",
    "    fig = plt.figure(figsize=(6, 6))\n",
    "    degrees=75\n",
    "    plt.ylabel('AUC ROC')\n",
    "    plt.xticks(rotation=degrees)\n",
    "    plt.ylim([0.4, 1.0])\n",
    "    plt.gca().fill_between([-1, 8], 0, 0.5, facecolor='grey', edgecolor='k', alpha=0.25, hatch='\\\\')\n",
    "    plt.errorbar(\n",
    "        b.index, \n",
    "        b['Richard mean'], \n",
    "        yerr=b['Richard std'], \n",
    "        fmt='s-', \n",
    "        markersize=10,\n",
    "        label='clinical (train-val)',\n",
    "    )\n",
    "    plt.errorbar(\n",
    "        b.index, \n",
    "        b['Freeman mean'], \n",
    "        yerr=b['Freeman std'], \n",
    "        fmt='o--', \n",
    "        markersize=10,\n",
    "        label='clinical + genomic (train val)',\n",
    "    )\n",
    "    plt.plot(\n",
    "        b.index, \n",
    "        test_scores['Richard'], \n",
    "        's', \n",
    "        markersize=10,\n",
    "        label='clinical (test)',\n",
    "    )\n",
    "    plt.plot(\n",
    "        b.index, \n",
    "        test_scores['Freeman'], \n",
    "        'o',\n",
    "        markersize=10,\n",
    "        label='clinical + genomic (test)',\n",
    "    )\n",
    "    plt.legend(frameon=False)\n",
    "    plt.tight_layout()\n",
    "plt.savefig('figs/comparison_classifiers.png', bbox_inches = 'tight')\n",
    "plt.savefig('figs/comparison_classifiers.eps', bbox_inches = 'tight')"
   ]
  },
  {
   "cell_type": "markdown",
   "metadata": {},
   "source": [
    "# 4) Choose model logistic regression.\n",
    "The logistic regression model doesn't have the best accuracy in absolute terms, but is much simpler than the RandomForest. So by occams razor, we pick it."
   ]
  },
  {
   "cell_type": "code",
   "execution_count": 10,
   "metadata": {},
   "outputs": [],
   "source": [
    "random_state=1234\n",
    "logistic_parameters = {\n",
    "    \"random_state\": random_state,\n",
    "    \"penalty\": \"l2\",\n",
    "    \"class_weight\": \"balanced\",\n",
    "    \"solver\": \"newton-cg\",\n",
    "    \"C\": 1.0,\n",
    "    \"max_iter\": 5000,\n",
    "}\n",
    "logistic_Freeman = pipeline_Freeman(LogisticRegression(**logistic_parameters))"
   ]
  },
  {
   "cell_type": "markdown",
   "metadata": {},
   "source": [
    "# 6) Cross validation\n",
    "Find the optimal hyper parameters for dataset with difference in mutant ceoncentration $\\Delta x$."
   ]
  },
  {
   "cell_type": "code",
   "execution_count": 11,
   "metadata": {},
   "outputs": [],
   "source": [
    "logistic_regression_hyper_parameters = {\n",
    "    \"estimator__C\": [0.005, 0.01, 0.025, 0.05, 0.075, 0.1, 0.175, 0.25, 0.5, 0.75, 1.0, 1.5, 2.0, 4.0],\n",
    "    \"estimator__class_weight\": [\"balanced\", None],\n",
    "}\n",
    "clf_search = GridSearchCV(\n",
    "    logistic_Freeman,\n",
    "    logistic_regression_hyper_parameters,\n",
    "    scoring=\"roc_auc\",\n",
    "    n_jobs=8,\n",
    "    cv=5,\n",
    ")"
   ]
  },
  {
   "cell_type": "code",
   "execution_count": 12,
   "metadata": {},
   "outputs": [
    {
     "name": "stderr",
     "output_type": "stream",
     "text": [
      "/opt/conda/lib/python3.7/site-packages/sklearn/model_selection/_search.py:814: DeprecationWarning: The default of the `iid` parameter will change from True to False in version 0.22 and will be removed in 0.24. This will change numeric results when test-set sizes are unequal.\n",
      "  DeprecationWarning)\n"
     ]
    },
    {
     "data": {
      "text/plain": [
       "GridSearchCV(cv=5, error_score='raise-deprecating',\n",
       "             estimator=Pipeline(memory=None,\n",
       "                                steps=[('clinical_curation',\n",
       "                                        FunctionTransformer(accept_sparse=False,\n",
       "                                                            check_inverse=True,\n",
       "                                                            func=<function clinical_data_curation at 0x7fc4a51b36a8>,\n",
       "                                                            inv_kw_args=None,\n",
       "                                                            inverse_func=None,\n",
       "                                                            kw_args=None,\n",
       "                                                            pass_y='deprecated',\n",
       "                                                            validate=False)),\n",
       "                                       ('filter_clinical_variables',\n",
       "                                        FunctionTransf...\n",
       "                                                           penalty='l2',\n",
       "                                                           random_state=1234,\n",
       "                                                           solver='newton-cg',\n",
       "                                                           tol=0.0001,\n",
       "                                                           verbose=0,\n",
       "                                                           warm_start=False))],\n",
       "                                verbose=False),\n",
       "             iid='warn', n_jobs=8,\n",
       "             param_grid={'estimator__C': [0.005, 0.01, 0.025, 0.05, 0.075, 0.1,\n",
       "                                          0.175, 0.25, 0.5, 0.75, 1.0, 1.5, 2.0,\n",
       "                                          4.0],\n",
       "                         'estimator__class_weight': ['balanced', None]},\n",
       "             pre_dispatch='2*n_jobs', refit=True, return_train_score=False,\n",
       "             scoring='roc_auc', verbose=0)"
      ]
     },
     "execution_count": 12,
     "metadata": {},
     "output_type": "execute_result"
    }
   ],
   "source": [
    "clf_search.fit(X_train_diff, y_train_resp)"
   ]
  },
  {
   "cell_type": "code",
   "execution_count": 13,
   "metadata": {},
   "outputs": [
    {
     "name": "stdout",
     "output_type": "stream",
     "text": [
      "Best parameters set found on development set:\n",
      "\n",
      "{'estimator__C': 0.025, 'estimator__class_weight': 'balanced'}\n",
      "\n",
      "Grid scores on development set:\n",
      "\n",
      "0.619 (+/-0.080) for {'estimator__C': 0.005, 'estimator__class_weight': 'balanced'}\n",
      "0.623 (+/-0.082) for {'estimator__C': 0.005, 'estimator__class_weight': None}\n",
      "0.620 (+/-0.089) for {'estimator__C': 0.01, 'estimator__class_weight': 'balanced'}\n",
      "0.620 (+/-0.084) for {'estimator__C': 0.01, 'estimator__class_weight': None}\n",
      "0.626 (+/-0.100) for {'estimator__C': 0.025, 'estimator__class_weight': 'balanced'}\n",
      "0.624 (+/-0.097) for {'estimator__C': 0.025, 'estimator__class_weight': None}\n",
      "0.623 (+/-0.100) for {'estimator__C': 0.05, 'estimator__class_weight': 'balanced'}\n",
      "0.623 (+/-0.100) for {'estimator__C': 0.05, 'estimator__class_weight': None}\n",
      "0.616 (+/-0.104) for {'estimator__C': 0.075, 'estimator__class_weight': 'balanced'}\n",
      "0.616 (+/-0.115) for {'estimator__C': 0.075, 'estimator__class_weight': None}\n",
      "0.610 (+/-0.108) for {'estimator__C': 0.1, 'estimator__class_weight': 'balanced'}\n",
      "0.613 (+/-0.111) for {'estimator__C': 0.1, 'estimator__class_weight': None}\n",
      "0.600 (+/-0.122) for {'estimator__C': 0.175, 'estimator__class_weight': 'balanced'}\n",
      "0.606 (+/-0.107) for {'estimator__C': 0.175, 'estimator__class_weight': None}\n",
      "0.593 (+/-0.122) for {'estimator__C': 0.25, 'estimator__class_weight': 'balanced'}\n",
      "0.602 (+/-0.109) for {'estimator__C': 0.25, 'estimator__class_weight': None}\n",
      "0.586 (+/-0.159) for {'estimator__C': 0.5, 'estimator__class_weight': 'balanced'}\n",
      "0.597 (+/-0.108) for {'estimator__C': 0.5, 'estimator__class_weight': None}\n",
      "0.587 (+/-0.165) for {'estimator__C': 0.75, 'estimator__class_weight': 'balanced'}\n",
      "0.594 (+/-0.109) for {'estimator__C': 0.75, 'estimator__class_weight': None}\n",
      "0.583 (+/-0.162) for {'estimator__C': 1.0, 'estimator__class_weight': 'balanced'}\n",
      "0.598 (+/-0.105) for {'estimator__C': 1.0, 'estimator__class_weight': None}\n",
      "0.589 (+/-0.162) for {'estimator__C': 1.5, 'estimator__class_weight': 'balanced'}\n",
      "0.595 (+/-0.112) for {'estimator__C': 1.5, 'estimator__class_weight': None}\n",
      "0.587 (+/-0.161) for {'estimator__C': 2.0, 'estimator__class_weight': 'balanced'}\n",
      "0.592 (+/-0.119) for {'estimator__C': 2.0, 'estimator__class_weight': None}\n",
      "0.595 (+/-0.170) for {'estimator__C': 4.0, 'estimator__class_weight': 'balanced'}\n",
      "0.586 (+/-0.155) for {'estimator__C': 4.0, 'estimator__class_weight': None}\n",
      "\n"
     ]
    }
   ],
   "source": [
    "print(\"Best parameters set found on development set:\")\n",
    "print()\n",
    "print(clf_search.best_params_)\n",
    "print()\n",
    "print(\"Grid scores on development set:\")\n",
    "print()\n",
    "means = clf_search.cv_results_['mean_test_score']\n",
    "stds = clf_search.cv_results_['std_test_score']\n",
    "for mean, std, params in zip(means, stds, clf_search.cv_results_['params']):\n",
    "    print(\"%0.3f (+/-%0.03f) for %r\"\n",
    "          % (mean, std * 2, params))\n",
    "print()"
   ]
  },
  {
   "cell_type": "code",
   "execution_count": 14,
   "metadata": {},
   "outputs": [],
   "source": [
    "# Best parameters under L2 norm.\n",
    "best_params = {\n",
    "    \"estimator__C\": 0.025,\n",
    "    \"estimator__class_weight\": 'balanced',\n",
    "    \"estimator__solver\": \"newton-cg\",\n",
    "}"
   ]
  },
  {
   "cell_type": "code",
   "execution_count": 15,
   "metadata": {},
   "outputs": [
    {
     "ename": "NameError",
     "evalue": "name 'X_train_hm' is not defined",
     "output_type": "error",
     "traceback": [
      "\u001b[0;31m---------------------------------------------------------------------------\u001b[0m",
      "\u001b[0;31mNameError\u001b[0m                                 Traceback (most recent call last)",
      "\u001b[0;32m<ipython-input-15-198975b2879f>\u001b[0m in \u001b[0;36m<module>\u001b[0;34m\u001b[0m\n\u001b[1;32m      1\u001b[0m \u001b[0;31m# Pick the best parameteres.\u001b[0m\u001b[0;34m\u001b[0m\u001b[0;34m\u001b[0m\u001b[0;34m\u001b[0m\u001b[0m\n\u001b[1;32m      2\u001b[0m \u001b[0mlogistic_Freeman\u001b[0m\u001b[0;34m.\u001b[0m\u001b[0mset_params\u001b[0m\u001b[0;34m(\u001b[0m\u001b[0;34m**\u001b[0m\u001b[0mbest_params\u001b[0m\u001b[0;34m)\u001b[0m\u001b[0;34m\u001b[0m\u001b[0;34m\u001b[0m\u001b[0m\n\u001b[0;32m----> 3\u001b[0;31m \u001b[0mlogistic_Freeman\u001b[0m\u001b[0;34m.\u001b[0m\u001b[0mfit\u001b[0m\u001b[0;34m(\u001b[0m\u001b[0mX_train_hm\u001b[0m\u001b[0;34m,\u001b[0m \u001b[0my_train_resp\u001b[0m\u001b[0;34m)\u001b[0m\u001b[0;34m\u001b[0m\u001b[0;34m\u001b[0m\u001b[0m\n\u001b[0m",
      "\u001b[0;31mNameError\u001b[0m: name 'X_train_hm' is not defined"
     ]
    }
   ],
   "source": [
    "# Pick the best parameteres.\n",
    "logistic_Freeman.set_params(**best_params)\n",
    "logistic_Freeman.fit(X_train_hm, y_train_resp)"
   ]
  },
  {
   "cell_type": "markdown",
   "metadata": {},
   "source": [
    "# 7) Make plots of the model"
   ]
  },
  {
   "cell_type": "code",
   "execution_count": null,
   "metadata": {},
   "outputs": [],
   "source": [
    "figure_filenames = (\"logistic_regression_clinical_freeman\", \"logistic_regression_genetic_freeman\")\n",
    "view_linear_model_freeman(\n",
    "    X_train_diff, \n",
    "    y_train_resp, \n",
    "    logistic_Freeman, \n",
    "    filenames=figure_filenames, \n",
    ")"
   ]
  },
  {
   "cell_type": "code",
   "execution_count": null,
   "metadata": {},
   "outputs": [],
   "source": []
  }
 ],
 "metadata": {
  "kernelspec": {
   "display_name": "Python 3",
   "language": "python",
   "name": "python3"
  },
  "language_info": {
   "codemirror_mode": {
    "name": "ipython",
    "version": 3
   },
   "file_extension": ".py",
   "mimetype": "text/x-python",
   "name": "python",
   "nbconvert_exporter": "python",
   "pygments_lexer": "ipython3",
   "version": "3.8.2"
  }
 },
 "nbformat": 4,
 "nbformat_minor": 2
}
