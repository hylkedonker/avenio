{
 "cells": [
  {
   "cell_type": "code",
   "execution_count": 1,
   "metadata": {},
   "outputs": [
    {
     "ename": "ImportError",
     "evalue": "cannot import name 'categorical_columns_to_lower' from 'transform' (/home/donkerhc/avenio/transform.py)",
     "output_type": "error",
     "traceback": [
      "\u001b[0;31m---------------------------------------------------------------------------\u001b[0m",
      "\u001b[0;31mImportError\u001b[0m                               Traceback (most recent call last)",
      "\u001b[0;32m<ipython-input-1-6afe7c6e9635>\u001b[0m in \u001b[0;36m<module>\u001b[0;34m\u001b[0m\n\u001b[1;32m     17\u001b[0m \u001b[0;34m\u001b[0m\u001b[0m\n\u001b[1;32m     18\u001b[0m \u001b[0;32mfrom\u001b[0m \u001b[0msource\u001b[0m \u001b[0;32mimport\u001b[0m \u001b[0mload_avenio_files\u001b[0m\u001b[0;34m\u001b[0m\u001b[0;34m\u001b[0m\u001b[0m\n\u001b[0;32m---> 19\u001b[0;31m \u001b[0;32mfrom\u001b[0m \u001b[0mtransform\u001b[0m \u001b[0;32mimport\u001b[0m \u001b[0mcategorical_columns_to_lower\u001b[0m\u001b[0;34m,\u001b[0m \u001b[0mClassifierAsTransformer\u001b[0m\u001b[0;34m,\u001b[0m \u001b[0mclean_mutation_columns\u001b[0m\u001b[0;34m,\u001b[0m \u001b[0mdummy_encode_mutations\u001b[0m\u001b[0;34m,\u001b[0m \u001b[0mget_top_genes\u001b[0m\u001b[0;34m,\u001b[0m \u001b[0mmutation_train_test_split\u001b[0m\u001b[0;34m,\u001b[0m \u001b[0mpatient_allele_frequencies\u001b[0m\u001b[0;34m,\u001b[0m \u001b[0mCustomCatBoostClassifier\u001b[0m\u001b[0;34m\u001b[0m\u001b[0;34m\u001b[0m\u001b[0m\n\u001b[0m\u001b[1;32m     20\u001b[0m \u001b[0;32mfrom\u001b[0m \u001b[0mviews\u001b[0m \u001b[0;32mimport\u001b[0m \u001b[0mplot_confusion_matrix\u001b[0m\u001b[0;34m\u001b[0m\u001b[0;34m\u001b[0m\u001b[0m\n\u001b[1;32m     21\u001b[0m \u001b[0;34m\u001b[0m\u001b[0m\n",
      "\u001b[0;31mImportError\u001b[0m: cannot import name 'categorical_columns_to_lower' from 'transform' (/home/donkerhc/avenio/transform.py)"
     ]
    }
   ],
   "source": [
    "%matplotlib inline\n",
    "from catboost import CatBoostClassifier\n",
    "from matplotlib import pyplot as plt\n",
    "import numpy as np\n",
    "import pandas as pd\n",
    "import seaborn as sns\n",
    "from imblearn.over_sampling import SMOTENC\n",
    "from sklearn.compose import ColumnTransformer\n",
    "from sklearn.ensemble import GradientBoostingClassifier, RandomForestClassifier, VotingClassifier\n",
    "from sklearn.metrics import roc_curve, confusion_matrix, f1_score\n",
    "from sklearn.model_selection import train_test_split\n",
    "from sklearn.neighbors import KNeighborsClassifier\n",
    "from sklearn.pipeline import FeatureUnion, Pipeline\n",
    "from sklearn.preprocessing import FunctionTransformer, LabelEncoder, OrdinalEncoder, OneHotEncoder, LabelBinarizer\n",
    "from sklearn.tree import DecisionTreeClassifier, plot_tree, export_graphviz\n",
    "from sklearn.utils.multiclass import unique_labels\n",
    "\n",
    "from source import load_avenio_files\n",
    "from transform import categorical_columns_to_lower, ClassifierAsTransformer, clean_mutation_columns, dummy_encode_mutations, get_top_genes, mutation_train_test_split, patient_allele_frequencies, CustomCatBoostClassifier\n",
    "from views import plot_confusion_matrix\n",
    "\n",
    "\n",
    "RANDOM_STATE = 1234\n",
    "np.random.seed(RANDOM_STATE)"
   ]
  },
  {
   "cell_type": "code",
   "execution_count": null,
   "metadata": {},
   "outputs": [],
   "source": [
    "# Load data from spreadsheet and SPSS files.\n",
    "mutation_data_frame, phenotypes = load_avenio_files()\n",
    "\n",
    "# Vocabulary is the entire dataset, not only training set. Otherwise we run into problems during inference.\n",
    "gene_vocabulary = mutation_data_frame['Gene'].unique()\n",
    "# allele_columns = [\"T0: Allele \\nFraction\", \"T1: Allele Fraction\"]\n",
    "allele_columns = [\"T0: No. Mutant \\nMolecules per mL\", \"T1: No. Mutant \\nMolecules per mL\"]\n",
    "\n",
    "# raise Exception('Check allele columns!')\n",
    "\n",
    "# Convert particular columns to numbers and drop rows with missing data.\n",
    "mutation_data_frame = clean_mutation_columns(mutation_data_frame)\n",
    "\n",
    "def f_t(t_0, t_1):\n",
    "    return (t_1 - t_0) / t_0"
   ]
  },
  {
   "cell_type": "code",
   "execution_count": null,
   "metadata": {},
   "outputs": [],
   "source": [
    "patient_mutation_frequencies = patient_allele_frequencies(mutation_data_frame, gene_vocabulary, f_t)"
   ]
  },
  {
   "cell_type": "markdown",
   "metadata": {},
   "source": [
    "## Feature reduction\n",
    "Remove some of the mutation features."
   ]
  },
  {
   "cell_type": "code",
   "execution_count": null,
   "metadata": {},
   "outputs": [],
   "source": [
    "def select_frequent_mutation_columns(X):\n",
    "    \"\"\"\n",
    "    Select mutations that occur above a certain thresshold.\n",
    "    \"\"\"\n",
    "    # Single out selected columns.\n",
    "    return X[get_top_genes(patient_mutation_frequencies)]"
   ]
  },
  {
   "cell_type": "code",
   "execution_count": null,
   "metadata": {},
   "outputs": [],
   "source": [
    "patient_mutation_frequencies = FunctionTransformer(select_frequent_mutation_columns, validate=False).fit_transform(patient_mutation_frequencies)"
   ]
  },
  {
   "cell_type": "markdown",
   "metadata": {},
   "source": [
    "## Add phenotype features"
   ]
  },
  {
   "cell_type": "code",
   "execution_count": null,
   "metadata": {},
   "outputs": [],
   "source": [
    "# Phenotype features that serve as input for the model.\n",
    "phenotype_features = [\n",
    "    \"gender\",\n",
    "    \"leeftijd\",\n",
    "    \"stage\",\n",
    "    \"therapyline\",\n",
    "    \"smokingstatus\",\n",
    "    \"Systemischetherapie\",\n",
    "    \"histology_grouped\",\n",
    "    \"lymfmeta\",\n",
    "    \"brainmeta\",\n",
    "    \"adrenalmeta\",\n",
    "    \"livermeta\",\n",
    "    \"lungmeta\",\n",
    "    \"skeletonmeta\",\n",
    "]\n",
    "\n",
    "# Phenotype labels that we wish to predict.\n",
    "phenotype_labels = [\n",
    "    # Labels:\n",
    "    \"Clinical_Response\",\n",
    "    \"response_grouped\",\n",
    "    \"progressie\",\n",
    "]\n",
    "# The columns to extract from the SPSS file.\n",
    "phenotypes_to_keep = phenotype_features + phenotype_labels\n",
    "\n",
    "# From those listed above, the following columns are categorical (not counting the labels).\n",
    "categorical_input_columns = [\n",
    "    \"gender\",\n",
    "    \"stage\",\n",
    "    \"therapyline\",\n",
    "    \"smokingstatus\",\n",
    "    \"Systemischetherapie\",\n",
    "    \"histology_grouped\",\n",
    "    \"lymfmeta\",\n",
    "    \"brainmeta\",\n",
    "    \"adrenalmeta\",\n",
    "    \"livermeta\",\n",
    "    \"lungmeta\",\n",
    "    \"skeletonmeta\",\n",
    "]\n",
    "\n",
    "# Combine mutation data and phenotype data.\n",
    "X = pd.merge(\n",
    "    left=patient_mutation_frequencies,\n",
    "    right=phenotypes[phenotypes_to_keep],\n",
    "    left_index=True,\n",
    "    right_index=True,\n",
    ")\n",
    "X = categorical_columns_to_lower(X)\n",
    "X.to_csv('combined_data.tsv', sep='\\t')"
   ]
  },
  {
   "cell_type": "code",
   "execution_count": null,
   "metadata": {},
   "outputs": [],
   "source": [
    "X.dropna(subset=['response_grouped'], inplace=True)\n",
    "\n",
    "# Extract the labels for the classifier.\n",
    "y_resp = X.pop('Clinical_Response')\n",
    "y_resp_gp = X.pop('response_grouped')\n",
    "y_prog = X.pop('progressie')"
   ]
  },
  {
   "cell_type": "markdown",
   "metadata": {},
   "source": [
    "Encode labels for catboost"
   ]
  },
  {
   "cell_type": "code",
   "execution_count": null,
   "metadata": {},
   "outputs": [],
   "source": [
    "categorical_feature_indices = [X.columns.get_loc(column) for column in categorical_input_columns]\n",
    "y_resp_gp = LabelEncoder().fit_transform(y_resp_gp)"
   ]
  },
  {
   "cell_type": "markdown",
   "metadata": {},
   "source": [
    "Train-test split"
   ]
  },
  {
   "cell_type": "code",
   "execution_count": null,
   "metadata": {},
   "outputs": [],
   "source": [
    "f_test = 0.3\n",
    "X_train, X_test, y_train, y_test = train_test_split(X, y_resp_gp, test_size=f_test, random_state=RANDOM_STATE)"
   ]
  },
  {
   "cell_type": "markdown",
   "metadata": {},
   "source": [
    "## Oversampling"
   ]
  },
  {
   "cell_type": "code",
   "execution_count": null,
   "metadata": {},
   "outputs": [],
   "source": [
    "# Use synthetic minority oversampling technique for nominal and continuous data.\n",
    "smote_nc = SMOTENC(categorical_features=categorical_feature_indices, random_state=RANDOM_STATE)\n",
    "X_resample, y_resample = smote_nc.fit_resample(X_train, y_train)\n",
    "X_resample = pd.DataFrame(X_resample, columns=X_train.columns)\n",
    "y_resample = pd.Series(y_resample)"
   ]
  },
  {
   "cell_type": "markdown",
   "metadata": {},
   "source": [
    "## Train Catboost"
   ]
  },
  {
   "cell_type": "markdown",
   "metadata": {},
   "source": [
    "Precision $p$: $\\frac{tp}{tp + fp}$,\n",
    "\n",
    "Recall $r$: $\\frac{tp}{tp + fn}$\n",
    "\n",
    "$F_1$: $\\frac{2pr}{p+r}$"
   ]
  },
  {
   "cell_type": "code",
   "execution_count": null,
   "metadata": {},
   "outputs": [],
   "source": [
    "params = {\n",
    "    'iterations': 400,\n",
    "    'random_seed': RANDOM_STATE,\n",
    "    'custom_loss': ['Precision', 'AUC', 'Accuracy', 'F1', 'Recall'],\n",
    "    'eval_metric': 'F1',\n",
    "    'logging_level': 'Silent',\n",
    "}\n",
    "classifier = CatBoostClassifier(**params)\n"
   ]
  },
  {
   "cell_type": "code",
   "execution_count": null,
   "metadata": {},
   "outputs": [],
   "source": [
    "%%javascript\n",
    "IPython.OutputArea.prototype._should_scroll = function(lines) {\n",
    "    return false;\n",
    "}"
   ]
  },
  {
   "cell_type": "code",
   "execution_count": null,
   "metadata": {},
   "outputs": [],
   "source": [
    "classifier.fit(\n",
    "    X_resample, y_resample,\n",
    "    cat_features=categorical_feature_indices,\n",
    "    plot=True,\n",
    "    eval_set=(X_test, y_test),\n",
    ")"
   ]
  },
  {
   "cell_type": "code",
   "execution_count": null,
   "metadata": {},
   "outputs": [],
   "source": [
    "y_test_pred = classifier.predict(X_test)\n",
    "f1_score(y_test, y_test_pred)"
   ]
  },
  {
   "cell_type": "code",
   "execution_count": null,
   "metadata": {},
   "outputs": [],
   "source": [
    "plot_confusion_matrix(y_test, y_test_pred, y_test)"
   ]
  }
 ],
 "metadata": {
  "kernelspec": {
   "display_name": "Python 3",
   "language": "python",
   "name": "python3"
  },
  "language_info": {
   "codemirror_mode": {
    "name": "ipython",
    "version": 3
   },
   "file_extension": ".py",
   "mimetype": "text/x-python",
   "name": "python",
   "nbconvert_exporter": "python",
   "pygments_lexer": "ipython3",
   "version": "3.7.3"
  }
 },
 "nbformat": 4,
 "nbformat_minor": 2
}
