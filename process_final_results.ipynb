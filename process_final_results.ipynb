{
 "cells": [
  {
   "cell_type": "code",
   "execution_count": 1,
   "metadata": {},
   "outputs": [],
   "source": [
    "%matplotlib inline\n",
    "import numpy as np\n",
    "\n",
    "from transform import combine_tsv_files, load_process_and_store_spreadsheets"
   ]
  },
  {
   "cell_type": "code",
   "execution_count": 2,
   "metadata": {},
   "outputs": [
    {
     "name": "stderr",
     "output_type": "stream",
     "text": [
      "/home/hylke/.local/lib/python3.8/site-packages/pandas/core/indexes/multi.py:3366: RuntimeWarning: The values in the array are unorderable. Pass `sort=False` to suppress this warning.\n",
      "  uniq_tuples = lib.fast_unique_multiple([self._values, other._values], sort=sort)\n"
     ]
    },
    {
     "name": "stdout",
     "output_type": "stream",
     "text": [
      "> \u001b[0;32m/home/hylke/workspace/avenio/transform.py\u001b[0m(309)\u001b[0;36mload_process_and_store_spreadsheets\u001b[0;34m()\u001b[0m\n",
      "\u001b[0;32m    308 \u001b[0;31m    \u001b[0;31m# Make a different document for each of the column pairs.\u001b[0m\u001b[0;34m\u001b[0m\u001b[0;34m\u001b[0m\u001b[0;34m\u001b[0m\u001b[0m\n",
      "\u001b[0m\u001b[0;32m--> 309 \u001b[0;31m    \u001b[0;32mfor\u001b[0m \u001b[0mcolumn\u001b[0m \u001b[0;32min\u001b[0m \u001b[0mcolumns\u001b[0m\u001b[0;34m:\u001b[0m\u001b[0;34m\u001b[0m\u001b[0;34m\u001b[0m\u001b[0m\n",
      "\u001b[0m\u001b[0;32m    310 \u001b[0;31m        \u001b[0mcolumn_pair\u001b[0m \u001b[0;34m=\u001b[0m \u001b[0;34m[\u001b[0m\u001b[0;34mf\"T0: {column}\"\u001b[0m\u001b[0;34m,\u001b[0m \u001b[0;34mf\"T1: {column}\"\u001b[0m\u001b[0;34m]\u001b[0m\u001b[0;34m\u001b[0m\u001b[0;34m\u001b[0m\u001b[0m\n",
      "\u001b[0m\n",
      "ipdb> n\n",
      "> \u001b[0;32m/home/hylke/workspace/avenio/transform.py\u001b[0m(310)\u001b[0;36mload_process_and_store_spreadsheets\u001b[0;34m()\u001b[0m\n",
      "\u001b[0;32m    309 \u001b[0;31m    \u001b[0;32mfor\u001b[0m \u001b[0mcolumn\u001b[0m \u001b[0;32min\u001b[0m \u001b[0mcolumns\u001b[0m\u001b[0;34m:\u001b[0m\u001b[0;34m\u001b[0m\u001b[0;34m\u001b[0m\u001b[0m\n",
      "\u001b[0m\u001b[0;32m--> 310 \u001b[0;31m        \u001b[0mcolumn_pair\u001b[0m \u001b[0;34m=\u001b[0m \u001b[0;34m[\u001b[0m\u001b[0;34mf\"T0: {column}\"\u001b[0m\u001b[0;34m,\u001b[0m \u001b[0;34mf\"T1: {column}\"\u001b[0m\u001b[0;34m]\u001b[0m\u001b[0;34m\u001b[0m\u001b[0;34m\u001b[0m\u001b[0m\n",
      "\u001b[0m\u001b[0;32m    311 \u001b[0;31m        \u001b[0;31m# Filter out the column pairs, and remove empty fields.\u001b[0m\u001b[0;34m\u001b[0m\u001b[0;34m\u001b[0m\u001b[0;34m\u001b[0m\u001b[0m\n",
      "\u001b[0m\n",
      "ipdb> \n",
      "> \u001b[0;32m/home/hylke/workspace/avenio/transform.py\u001b[0m(312)\u001b[0;36mload_process_and_store_spreadsheets\u001b[0;34m()\u001b[0m\n",
      "\u001b[0;32m    311 \u001b[0;31m        \u001b[0;31m# Filter out the column pairs, and remove empty fields.\u001b[0m\u001b[0;34m\u001b[0m\u001b[0;34m\u001b[0m\u001b[0;34m\u001b[0m\u001b[0m\n",
      "\u001b[0m\u001b[0;32m--> 312 \u001b[0;31m        \u001b[0mmutations\u001b[0m \u001b[0;34m=\u001b[0m \u001b[0mspread_sheet\u001b[0m\u001b[0;34m[\u001b[0m\u001b[0mcolumn_pair\u001b[0m\u001b[0;34m]\u001b[0m\u001b[0;34m.\u001b[0m\u001b[0mdropna\u001b[0m\u001b[0;34m(\u001b[0m\u001b[0mhow\u001b[0m\u001b[0;34m=\u001b[0m\u001b[0;34m\"all\"\u001b[0m\u001b[0;34m)\u001b[0m\u001b[0;34m.\u001b[0m\u001b[0mfillna\u001b[0m\u001b[0;34m(\u001b[0m\u001b[0;36m0\u001b[0m\u001b[0;34m)\u001b[0m\u001b[0;34m\u001b[0m\u001b[0;34m\u001b[0m\u001b[0m\n",
      "\u001b[0m\u001b[0;32m    313 \u001b[0;31m        \u001b[0;31m# Repair dirty cells (with per cent signs etc.).\u001b[0m\u001b[0;34m\u001b[0m\u001b[0;34m\u001b[0m\u001b[0;34m\u001b[0m\u001b[0m\n",
      "\u001b[0m\n",
      "ipdb> \n",
      "> \u001b[0;32m/home/hylke/workspace/avenio/transform.py\u001b[0m(314)\u001b[0;36mload_process_and_store_spreadsheets\u001b[0;34m()\u001b[0m\n",
      "\u001b[0;32m    313 \u001b[0;31m        \u001b[0;31m# Repair dirty cells (with per cent signs etc.).\u001b[0m\u001b[0;34m\u001b[0m\u001b[0;34m\u001b[0m\u001b[0;34m\u001b[0m\u001b[0m\n",
      "\u001b[0m\u001b[0;32m--> 314 \u001b[0;31m        \u001b[0mclean_mutation_sheet\u001b[0m \u001b[0;34m=\u001b[0m \u001b[0mclean_and_verify_data_frame\u001b[0m\u001b[0;34m(\u001b[0m\u001b[0mmutations\u001b[0m\u001b[0;34m,\u001b[0m \u001b[0mcolumn_pair\u001b[0m\u001b[0;34m)\u001b[0m\u001b[0;34m\u001b[0m\u001b[0;34m\u001b[0m\u001b[0m\n",
      "\u001b[0m\u001b[0;32m    315 \u001b[0;31m\u001b[0;34m\u001b[0m\u001b[0m\n",
      "\u001b[0m\n",
      "ipdb> n\n",
      "> \u001b[0;32m/home/hylke/workspace/avenio/transform.py\u001b[0m(317)\u001b[0;36mload_process_and_store_spreadsheets\u001b[0;34m()\u001b[0m\n",
      "\u001b[0;32m    316 \u001b[0;31m        \u001b[0;31m# Make seperate sheets for t0, t1 and both timepoints transformed.\u001b[0m\u001b[0;34m\u001b[0m\u001b[0;34m\u001b[0m\u001b[0;34m\u001b[0m\u001b[0m\n",
      "\u001b[0m\u001b[0;32m--> 317 \u001b[0;31m        t0_sheet, t1_sheet, transf_sheet = split_time_and_transform(\n",
      "\u001b[0m\u001b[0;32m    318 \u001b[0;31m            \u001b[0mclean_mutation_sheet\u001b[0m\u001b[0;34m,\u001b[0m \u001b[0mcolumn_pair\u001b[0m\u001b[0;34m,\u001b[0m \u001b[0mtransformation\u001b[0m\u001b[0;34m\u001b[0m\u001b[0;34m\u001b[0m\u001b[0m\n",
      "\u001b[0m\n",
      "ipdb> p clean_mutation_sheet\n",
      "                                                                                                T0: Allele Fraction  \\\n",
      "Patient ID chromosome Gene   Annotation    Variant Description                   Coding Change                        \n",
      "852        chr12      KRAS   nt06263       Missense variant                      c.34G>T                     0.0018   \n",
      "           chr7       PMS2   not_annotated Missense variant                      c.1394A>G                   0.0013   \n",
      "951        chr17      TP53   nt06263       Missense variant                      c.473G>T                    0.1303   \n",
      "           chr4       KDR    not_annotated Missense variant                      c.2528G>T                   0.0581   \n",
      "                                           Splice donor variant & Intron variant c.1091+1G>T                 0.1508   \n",
      "...                                                                                                             ...   \n",
      "7183       chr5       TERT   nt06263       Upstream gene variant                 c.-130A>C                   0.0000   \n",
      "7185       chr19      KEAP1  nt06263       Missense variant                      c.118G>A                    0.0000   \n",
      "           chr4       PDGFRA nt06210       Synonymous variant                    c.576C>T                    0.0000   \n",
      "7187       chr17      BRCA1  not_annotated Stop gained                           c.1612C>T                   0.0000   \n",
      "           chr9       PTCH1  nt06269       Missense variant                      c.3191C>T                   0.0000   \n",
      "\n",
      "                                                                                                T1: Allele Fraction  \n",
      "Patient ID chromosome Gene   Annotation    Variant Description                   Coding Change                       \n",
      "852        chr12      KRAS   nt06263       Missense variant                      c.34G>T                     0.0022  \n",
      "           chr7       PMS2   not_annotated Missense variant                      c.1394A>G                   0.0016  \n",
      "951        chr17      TP53   nt06263       Missense variant                      c.473G>T                    0.0587  \n",
      "           chr4       KDR    not_annotated Missense variant                      c.2528G>T                   0.0269  \n",
      "                                           Splice donor variant & Intron variant c.1091+1G>T                 0.0704  \n",
      "...                                                                                                             ...  \n",
      "7183       chr5       TERT   nt06263       Upstream gene variant                 c.-130A>C                   0.0009  \n",
      "7185       chr19      KEAP1  nt06263       Missense variant                      c.118G>A                    0.0030  \n",
      "           chr4       PDGFRA nt06210       Synonymous variant                    c.576C>T                    0.0018  \n",
      "7187       chr17      BRCA1  not_annotated Stop gained                           c.1612C>T                   0.0020  \n",
      "           chr9       PTCH1  nt06269       Missense variant                      c.3191C>T                   0.0013  \n",
      "\n",
      "[832 rows x 2 columns]\n",
      "ipdb> n\n",
      "> \u001b[0;32m/home/hylke/workspace/avenio/transform.py\u001b[0m(318)\u001b[0;36mload_process_and_store_spreadsheets\u001b[0;34m()\u001b[0m\n",
      "\u001b[0;32m    317 \u001b[0;31m        t0_sheet, t1_sheet, transf_sheet = split_time_and_transform(\n",
      "\u001b[0m\u001b[0;32m--> 318 \u001b[0;31m            \u001b[0mclean_mutation_sheet\u001b[0m\u001b[0;34m,\u001b[0m \u001b[0mcolumn_pair\u001b[0m\u001b[0;34m,\u001b[0m \u001b[0mtransformation\u001b[0m\u001b[0;34m\u001b[0m\u001b[0;34m\u001b[0m\u001b[0m\n",
      "\u001b[0m\u001b[0;32m    319 \u001b[0;31m        )\n",
      "\u001b[0m\n",
      "ipdb> \n",
      "> \u001b[0;32m/home/hylke/workspace/avenio/transform.py\u001b[0m(317)\u001b[0;36mload_process_and_store_spreadsheets\u001b[0;34m()\u001b[0m\n",
      "\u001b[0;32m    316 \u001b[0;31m        \u001b[0;31m# Make seperate sheets for t0, t1 and both timepoints transformed.\u001b[0m\u001b[0;34m\u001b[0m\u001b[0;34m\u001b[0m\u001b[0;34m\u001b[0m\u001b[0m\n",
      "\u001b[0m\u001b[0;32m--> 317 \u001b[0;31m        t0_sheet, t1_sheet, transf_sheet = split_time_and_transform(\n",
      "\u001b[0m\u001b[0;32m    318 \u001b[0;31m            \u001b[0mclean_mutation_sheet\u001b[0m\u001b[0;34m,\u001b[0m \u001b[0mcolumn_pair\u001b[0m\u001b[0;34m,\u001b[0m \u001b[0mtransformation\u001b[0m\u001b[0;34m\u001b[0m\u001b[0;34m\u001b[0m\u001b[0m\n",
      "\u001b[0m\n",
      "ipdb> \n",
      "> \u001b[0;32m/home/hylke/workspace/avenio/transform.py\u001b[0m(322)\u001b[0;36mload_process_and_store_spreadsheets\u001b[0;34m()\u001b[0m\n",
      "\u001b[0;32m    321 \u001b[0;31m        sheets = {\n",
      "\u001b[0m\u001b[0;32m--> 322 \u001b[0;31m            \u001b[0;34m\"t0\"\u001b[0m\u001b[0;34m:\u001b[0m \u001b[0mt0_sheet\u001b[0m\u001b[0;34m,\u001b[0m\u001b[0;34m\u001b[0m\u001b[0;34m\u001b[0m\u001b[0m\n",
      "\u001b[0m\u001b[0;32m    323 \u001b[0;31m            \u001b[0;34m\"t1\"\u001b[0m\u001b[0;34m:\u001b[0m \u001b[0mt1_sheet\u001b[0m\u001b[0;34m,\u001b[0m\u001b[0;34m\u001b[0m\u001b[0;34m\u001b[0m\u001b[0m\n",
      "\u001b[0m\n",
      "ipdb> q\n"
     ]
    },
    {
     "ename": "BdbQuit",
     "evalue": "",
     "output_type": "error",
     "traceback": [
      "\u001b[0;31m---------------------------------------------------------------------------\u001b[0m",
      "\u001b[0;31mBdbQuit\u001b[0m                                   Traceback (most recent call last)",
      "\u001b[0;32m<ipython-input-2-11aaa80d1a91>\u001b[0m in \u001b[0;36m<module>\u001b[0;34m\u001b[0m\n\u001b[1;32m      2\u001b[0m     \u001b[0;32mreturn\u001b[0m \u001b[0mt0\u001b[0m \u001b[0;34m*\u001b[0m \u001b[0mt1\u001b[0m \u001b[0;34m/\u001b[0m \u001b[0;34m(\u001b[0m\u001b[0mt0\u001b[0m \u001b[0;34m+\u001b[0m \u001b[0mt1\u001b[0m\u001b[0;34m)\u001b[0m\u001b[0;34m\u001b[0m\u001b[0;34m\u001b[0m\u001b[0m\n\u001b[1;32m      3\u001b[0m \u001b[0;34m\u001b[0m\u001b[0m\n\u001b[0;32m----> 4\u001b[0;31m load_process_and_store_spreadsheets(\n\u001b[0m\u001b[1;32m      5\u001b[0m     \u001b[0mtransformation\u001b[0m\u001b[0;34m=\u001b[0m\u001b[0mharmonic_mean\u001b[0m\u001b[0;34m,\u001b[0m\u001b[0;34m\u001b[0m\u001b[0;34m\u001b[0m\u001b[0m\n\u001b[1;32m      6\u001b[0m     \u001b[0mall_filename_prefix\u001b[0m\u001b[0;34m=\u001b[0m\u001b[0;34m\"output/all_\"\u001b[0m\u001b[0;34m,\u001b[0m\u001b[0;34m\u001b[0m\u001b[0;34m\u001b[0m\u001b[0m\n",
      "\u001b[0;32m~/workspace/avenio/transform.py\u001b[0m in \u001b[0;36mload_process_and_store_spreadsheets\u001b[0;34m(spread_sheet_filename, spss_filename, transformation, columns, gene_annotation_filename, all_filename_prefix, train_filename_prefix, test_filename_prefix)\u001b[0m\n\u001b[1;32m    320\u001b[0m \u001b[0;34m\u001b[0m\u001b[0m\n\u001b[1;32m    321\u001b[0m         sheets = {\n\u001b[0;32m--> 322\u001b[0;31m             \u001b[0;34m\"t0\"\u001b[0m\u001b[0;34m:\u001b[0m \u001b[0mt0_sheet\u001b[0m\u001b[0;34m,\u001b[0m\u001b[0;34m\u001b[0m\u001b[0;34m\u001b[0m\u001b[0m\n\u001b[0m\u001b[1;32m    323\u001b[0m             \u001b[0;34m\"t1\"\u001b[0m\u001b[0;34m:\u001b[0m \u001b[0mt1_sheet\u001b[0m\u001b[0;34m,\u001b[0m\u001b[0;34m\u001b[0m\u001b[0;34m\u001b[0m\u001b[0m\n\u001b[1;32m    324\u001b[0m             \u001b[0mtransformation\u001b[0m\u001b[0;34m.\u001b[0m\u001b[0m__name__\u001b[0m\u001b[0;34m:\u001b[0m \u001b[0mtransf_sheet\u001b[0m\u001b[0;34m,\u001b[0m\u001b[0;34m\u001b[0m\u001b[0;34m\u001b[0m\u001b[0m\n",
      "\u001b[0;32m~/workspace/avenio/transform.py\u001b[0m in \u001b[0;36mload_process_and_store_spreadsheets\u001b[0;34m(spread_sheet_filename, spss_filename, transformation, columns, gene_annotation_filename, all_filename_prefix, train_filename_prefix, test_filename_prefix)\u001b[0m\n\u001b[1;32m    320\u001b[0m \u001b[0;34m\u001b[0m\u001b[0m\n\u001b[1;32m    321\u001b[0m         sheets = {\n\u001b[0;32m--> 322\u001b[0;31m             \u001b[0;34m\"t0\"\u001b[0m\u001b[0;34m:\u001b[0m \u001b[0mt0_sheet\u001b[0m\u001b[0;34m,\u001b[0m\u001b[0;34m\u001b[0m\u001b[0;34m\u001b[0m\u001b[0m\n\u001b[0m\u001b[1;32m    323\u001b[0m             \u001b[0;34m\"t1\"\u001b[0m\u001b[0;34m:\u001b[0m \u001b[0mt1_sheet\u001b[0m\u001b[0;34m,\u001b[0m\u001b[0;34m\u001b[0m\u001b[0;34m\u001b[0m\u001b[0m\n\u001b[1;32m    324\u001b[0m             \u001b[0mtransformation\u001b[0m\u001b[0;34m.\u001b[0m\u001b[0m__name__\u001b[0m\u001b[0;34m:\u001b[0m \u001b[0mtransf_sheet\u001b[0m\u001b[0;34m,\u001b[0m\u001b[0;34m\u001b[0m\u001b[0;34m\u001b[0m\u001b[0m\n",
      "\u001b[0;32m/usr/lib/python3.8/bdb.py\u001b[0m in \u001b[0;36mtrace_dispatch\u001b[0;34m(self, frame, event, arg)\u001b[0m\n\u001b[1;32m     86\u001b[0m             \u001b[0;32mreturn\u001b[0m \u001b[0;31m# None\u001b[0m\u001b[0;34m\u001b[0m\u001b[0;34m\u001b[0m\u001b[0m\n\u001b[1;32m     87\u001b[0m         \u001b[0;32mif\u001b[0m \u001b[0mevent\u001b[0m \u001b[0;34m==\u001b[0m \u001b[0;34m'line'\u001b[0m\u001b[0;34m:\u001b[0m\u001b[0;34m\u001b[0m\u001b[0;34m\u001b[0m\u001b[0m\n\u001b[0;32m---> 88\u001b[0;31m             \u001b[0;32mreturn\u001b[0m \u001b[0mself\u001b[0m\u001b[0;34m.\u001b[0m\u001b[0mdispatch_line\u001b[0m\u001b[0;34m(\u001b[0m\u001b[0mframe\u001b[0m\u001b[0;34m)\u001b[0m\u001b[0;34m\u001b[0m\u001b[0;34m\u001b[0m\u001b[0m\n\u001b[0m\u001b[1;32m     89\u001b[0m         \u001b[0;32mif\u001b[0m \u001b[0mevent\u001b[0m \u001b[0;34m==\u001b[0m \u001b[0;34m'call'\u001b[0m\u001b[0;34m:\u001b[0m\u001b[0;34m\u001b[0m\u001b[0;34m\u001b[0m\u001b[0m\n\u001b[1;32m     90\u001b[0m             \u001b[0;32mreturn\u001b[0m \u001b[0mself\u001b[0m\u001b[0;34m.\u001b[0m\u001b[0mdispatch_call\u001b[0m\u001b[0;34m(\u001b[0m\u001b[0mframe\u001b[0m\u001b[0;34m,\u001b[0m \u001b[0marg\u001b[0m\u001b[0;34m)\u001b[0m\u001b[0;34m\u001b[0m\u001b[0;34m\u001b[0m\u001b[0m\n",
      "\u001b[0;32m/usr/lib/python3.8/bdb.py\u001b[0m in \u001b[0;36mdispatch_line\u001b[0;34m(self, frame)\u001b[0m\n\u001b[1;32m    111\u001b[0m         \u001b[0;32mif\u001b[0m \u001b[0mself\u001b[0m\u001b[0;34m.\u001b[0m\u001b[0mstop_here\u001b[0m\u001b[0;34m(\u001b[0m\u001b[0mframe\u001b[0m\u001b[0;34m)\u001b[0m \u001b[0;32mor\u001b[0m \u001b[0mself\u001b[0m\u001b[0;34m.\u001b[0m\u001b[0mbreak_here\u001b[0m\u001b[0;34m(\u001b[0m\u001b[0mframe\u001b[0m\u001b[0;34m)\u001b[0m\u001b[0;34m:\u001b[0m\u001b[0;34m\u001b[0m\u001b[0;34m\u001b[0m\u001b[0m\n\u001b[1;32m    112\u001b[0m             \u001b[0mself\u001b[0m\u001b[0;34m.\u001b[0m\u001b[0muser_line\u001b[0m\u001b[0;34m(\u001b[0m\u001b[0mframe\u001b[0m\u001b[0;34m)\u001b[0m\u001b[0;34m\u001b[0m\u001b[0;34m\u001b[0m\u001b[0m\n\u001b[0;32m--> 113\u001b[0;31m             \u001b[0;32mif\u001b[0m \u001b[0mself\u001b[0m\u001b[0;34m.\u001b[0m\u001b[0mquitting\u001b[0m\u001b[0;34m:\u001b[0m \u001b[0;32mraise\u001b[0m \u001b[0mBdbQuit\u001b[0m\u001b[0;34m\u001b[0m\u001b[0;34m\u001b[0m\u001b[0m\n\u001b[0m\u001b[1;32m    114\u001b[0m         \u001b[0;32mreturn\u001b[0m \u001b[0mself\u001b[0m\u001b[0;34m.\u001b[0m\u001b[0mtrace_dispatch\u001b[0m\u001b[0;34m\u001b[0m\u001b[0;34m\u001b[0m\u001b[0m\n\u001b[1;32m    115\u001b[0m \u001b[0;34m\u001b[0m\u001b[0m\n",
      "\u001b[0;31mBdbQuit\u001b[0m: "
     ]
    }
   ],
   "source": [
    "def harmonic_mean(t0, t1):\n",
    "    return t0 * t1 / (t0 + t1)\n",
    "\n",
    "load_process_and_store_spreadsheets(\n",
    "    transformation=harmonic_mean,\n",
    "    all_filename_prefix=\"output/all_\",\n",
    "    train_filename_prefix=\"output/train_\",\n",
    "    test_filename_prefix=\"output/test_\",\n",
    ")"
   ]
  },
  {
   "cell_type": "code",
   "execution_count": 23,
   "metadata": {},
   "outputs": [],
   "source": [
    "def difference(t0, t1):\n",
    "    return t1 - t0\n",
    "\n",
    "load_process_and_store_spreadsheets(\n",
    "    transformation=difference,\n",
    "    all_filename_prefix=\"output/all_\",\n",
    "    train_filename_prefix=\"output/train_\",\n",
    "    test_filename_prefix=\"output/test_\",\n",
    ")"
   ]
  },
  {
   "cell_type": "code",
   "execution_count": 24,
   "metadata": {},
   "outputs": [
    {
     "ename": "ValueError",
     "evalue": "The truth value of a Series is ambiguous. Use a.empty, a.bool(), a.item(), a.any() or a.all().",
     "output_type": "error",
     "traceback": [
      "\u001b[0;31m---------------------------------------------------------------------------\u001b[0m",
      "\u001b[0;31mValueError\u001b[0m                                Traceback (most recent call last)",
      "\u001b[0;32m<ipython-input-24-0b01d8345da5>\u001b[0m in \u001b[0;36m<module>\u001b[0;34m\u001b[0m\n\u001b[1;32m      4\u001b[0m     \u001b[0;32mreturn\u001b[0m \u001b[0;34m(\u001b[0m\u001b[0mt1\u001b[0m \u001b[0;34m-\u001b[0m \u001b[0mt0\u001b[0m\u001b[0;34m)\u001b[0m\u001b[0;34m/\u001b[0m\u001b[0mt1\u001b[0m\u001b[0;34m\u001b[0m\u001b[0;34m\u001b[0m\u001b[0m\n\u001b[1;32m      5\u001b[0m \u001b[0;34m\u001b[0m\u001b[0m\n\u001b[0;32m----> 6\u001b[0;31m load_process_and_store_spreadsheets(\n\u001b[0m\u001b[1;32m      7\u001b[0m     \u001b[0mtransformation\u001b[0m\u001b[0;34m=\u001b[0m\u001b[0mrelative_difference\u001b[0m\u001b[0;34m,\u001b[0m\u001b[0;34m\u001b[0m\u001b[0;34m\u001b[0m\u001b[0m\n\u001b[1;32m      8\u001b[0m     \u001b[0mall_filename_prefix\u001b[0m\u001b[0;34m=\u001b[0m\u001b[0;34m\"output/all_\"\u001b[0m\u001b[0;34m,\u001b[0m\u001b[0;34m\u001b[0m\u001b[0;34m\u001b[0m\u001b[0m\n",
      "\u001b[0;32m~/workspace/avenio/transform.py\u001b[0m in \u001b[0;36mload_process_and_store_spreadsheets\u001b[0;34m(spread_sheet_filename, spss_filename, transformation, columns, gene_annotation_filename, all_filename_prefix, train_filename_prefix, test_filename_prefix)\u001b[0m\n\u001b[1;32m    375\u001b[0m     \u001b[0mrandom_state\u001b[0m\u001b[0;34m:\u001b[0m \u001b[0mint\u001b[0m \u001b[0;34m=\u001b[0m \u001b[0;36m1234\u001b[0m\u001b[0;34m,\u001b[0m\u001b[0;34m\u001b[0m\u001b[0;34m\u001b[0m\u001b[0m\n\u001b[1;32m    376\u001b[0m ):\n\u001b[0;32m--> 377\u001b[0;31m     \"\"\"\n\u001b[0m\u001b[1;32m    378\u001b[0m     \u001b[0mWrite\u001b[0m \u001b[0mdata\u001b[0m \u001b[0mto\u001b[0m \u001b[0mdisk\u001b[0m\u001b[0;34m.\u001b[0m\u001b[0;34m\u001b[0m\u001b[0;34m\u001b[0m\u001b[0m\n\u001b[1;32m    379\u001b[0m     \"\"\"\n",
      "\u001b[0;32m~/workspace/avenio/transform.py\u001b[0m in \u001b[0;36msplit_time_and_transform_\u001b[0;34m(data_frame, column_pair, transformation)\u001b[0m\n\u001b[1;32m    329\u001b[0m             \u001b[0mgene_sheet\u001b[0m \u001b[0;34m=\u001b[0m \u001b[0mtranspose\u001b[0m\u001b[0;34m(\u001b[0m\u001b[0mgene_sheet\u001b[0m\u001b[0;34m.\u001b[0m\u001b[0mdroplevel\u001b[0m\u001b[0;34m(\u001b[0m\u001b[0;34m\"Annotation\"\u001b[0m\u001b[0;34m)\u001b[0m\u001b[0;34m)\u001b[0m\u001b[0;34m\u001b[0m\u001b[0;34m\u001b[0m\u001b[0m\n\u001b[1;32m    330\u001b[0m             \u001b[0mannotation_sheet\u001b[0m \u001b[0;34m=\u001b[0m \u001b[0mtranspose\u001b[0m\u001b[0;34m(\u001b[0m\u001b[0mannotation_sheet\u001b[0m\u001b[0;34m)\u001b[0m\u001b[0;34m\u001b[0m\u001b[0;34m\u001b[0m\u001b[0m\n\u001b[0;32m--> 331\u001b[0;31m \u001b[0;34m\u001b[0m\u001b[0m\n\u001b[0m\u001b[1;32m    332\u001b[0m             \u001b[0;31m# Make a sheet for each level of coarseness.\u001b[0m\u001b[0;34m\u001b[0m\u001b[0;34m\u001b[0m\u001b[0;34m\u001b[0m\u001b[0m\n\u001b[1;32m    333\u001b[0m             for coarseness_name, coarse_sheet in {\n",
      "\u001b[0;32m<ipython-input-24-0b01d8345da5>\u001b[0m in \u001b[0;36mrelative_difference\u001b[0;34m(t0, t1)\u001b[0m\n\u001b[1;32m      1\u001b[0m \u001b[0;32mdef\u001b[0m \u001b[0mrelative_difference\u001b[0m\u001b[0;34m(\u001b[0m\u001b[0mt0\u001b[0m\u001b[0;34m,\u001b[0m \u001b[0mt1\u001b[0m\u001b[0;34m)\u001b[0m\u001b[0;34m:\u001b[0m\u001b[0;34m\u001b[0m\u001b[0;34m\u001b[0m\u001b[0m\n\u001b[0;32m----> 2\u001b[0;31m     \u001b[0;32mif\u001b[0m \u001b[0mt0\u001b[0m \u001b[0;34m!=\u001b[0m \u001b[0;36m0.0\u001b[0m\u001b[0;34m:\u001b[0m\u001b[0;34m\u001b[0m\u001b[0;34m\u001b[0m\u001b[0m\n\u001b[0m\u001b[1;32m      3\u001b[0m         \u001b[0;32mreturn\u001b[0m \u001b[0;34m(\u001b[0m\u001b[0mt1\u001b[0m\u001b[0;34m-\u001b[0m\u001b[0mt0\u001b[0m\u001b[0;34m)\u001b[0m\u001b[0;34m/\u001b[0m\u001b[0mt0\u001b[0m\u001b[0;34m\u001b[0m\u001b[0;34m\u001b[0m\u001b[0m\n\u001b[1;32m      4\u001b[0m     \u001b[0;32mreturn\u001b[0m \u001b[0;34m(\u001b[0m\u001b[0mt1\u001b[0m \u001b[0;34m-\u001b[0m \u001b[0mt0\u001b[0m\u001b[0;34m)\u001b[0m\u001b[0;34m/\u001b[0m\u001b[0mt1\u001b[0m\u001b[0;34m\u001b[0m\u001b[0;34m\u001b[0m\u001b[0m\n\u001b[1;32m      5\u001b[0m \u001b[0;34m\u001b[0m\u001b[0m\n",
      "\u001b[0;32m~/.local/lib/python3.8/site-packages/pandas/core/generic.py\u001b[0m in \u001b[0;36m__nonzero__\u001b[0;34m(self)\u001b[0m\n\u001b[1;32m   1327\u001b[0m \u001b[0;34m\u001b[0m\u001b[0m\n\u001b[1;32m   1328\u001b[0m     \u001b[0;32mdef\u001b[0m \u001b[0m__nonzero__\u001b[0m\u001b[0;34m(\u001b[0m\u001b[0mself\u001b[0m\u001b[0;34m)\u001b[0m\u001b[0;34m:\u001b[0m\u001b[0;34m\u001b[0m\u001b[0;34m\u001b[0m\u001b[0m\n\u001b[0;32m-> 1329\u001b[0;31m         raise ValueError(\n\u001b[0m\u001b[1;32m   1330\u001b[0m             \u001b[0;34mf\"The truth value of a {type(self).__name__} is ambiguous. \"\u001b[0m\u001b[0;34m\u001b[0m\u001b[0;34m\u001b[0m\u001b[0m\n\u001b[1;32m   1331\u001b[0m             \u001b[0;34m\"Use a.empty, a.bool(), a.item(), a.any() or a.all().\"\u001b[0m\u001b[0;34m\u001b[0m\u001b[0;34m\u001b[0m\u001b[0m\n",
      "\u001b[0;31mValueError\u001b[0m: The truth value of a Series is ambiguous. Use a.empty, a.bool(), a.item(), a.any() or a.all()."
     ]
    }
   ],
   "source": [
    "def relative_difference(t0, t1):\n",
    "    if t0 != 0.0:\n",
    "        return (t1-t0)/t0\n",
    "    return (t1 - t0)/t1\n",
    "\n",
    "load_process_and_store_spreadsheets(\n",
    "    transformation=relative_difference,\n",
    "    all_filename_prefix=\"output/all_\",\n",
    "    train_filename_prefix=\"output/train_\",\n",
    "    test_filename_prefix=\"output/test_\",\n",
    ")"
   ]
  },
  {
   "cell_type": "code",
   "execution_count": 2,
   "metadata": {},
   "outputs": [
    {
     "name": "stderr",
     "output_type": "stream",
     "text": [
      "/home/hylke/.local/lib/python3.8/site-packages/pandas/core/indexes/multi.py:3366: RuntimeWarning: The values in the array are unorderable. Pass `sort=False` to suppress this warning.\n",
      "  uniq_tuples = lib.fast_unique_multiple([self._values, other._values], sort=sort)\n"
     ]
    }
   ],
   "source": [
    "def up_or_down(t0, t1):\n",
    "    return np.sign(t1 - t0)\n",
    "\n",
    "\n",
    "load_process_and_store_spreadsheets(\n",
    "    transformation=up_or_down,\n",
    "    all_filename_prefix=\"output/all_\",\n",
    "    train_filename_prefix=\"output/train_\",\n",
    "    test_filename_prefix=\"output/test_\",\n",
    ")"
   ]
  },
  {
   "cell_type": "code",
   "execution_count": 26,
   "metadata": {},
   "outputs": [
    {
     "ename": "ValueError",
     "evalue": "The truth value of a Series is ambiguous. Use a.empty, a.bool(), a.item(), a.any() or a.all().",
     "output_type": "error",
     "traceback": [
      "\u001b[0;31m---------------------------------------------------------------------------\u001b[0m",
      "\u001b[0;31mValueError\u001b[0m                                Traceback (most recent call last)",
      "\u001b[0;32m<ipython-input-26-d8937a5fa208>\u001b[0m in \u001b[0;36m<module>\u001b[0;34m\u001b[0m\n\u001b[1;32m     12\u001b[0m \u001b[0;34m\u001b[0m\u001b[0m\n\u001b[1;32m     13\u001b[0m \u001b[0;34m\u001b[0m\u001b[0m\n\u001b[0;32m---> 14\u001b[0;31m load_process_and_store_spreadsheets(\n\u001b[0m\u001b[1;32m     15\u001b[0m     \u001b[0mtransformation\u001b[0m\u001b[0;34m=\u001b[0m\u001b[0mmargin_sign\u001b[0m\u001b[0;34m,\u001b[0m\u001b[0;34m\u001b[0m\u001b[0;34m\u001b[0m\u001b[0m\n\u001b[1;32m     16\u001b[0m     \u001b[0mall_filename_prefix\u001b[0m\u001b[0;34m=\u001b[0m\u001b[0;34m\"output/all_\"\u001b[0m\u001b[0;34m,\u001b[0m\u001b[0;34m\u001b[0m\u001b[0;34m\u001b[0m\u001b[0m\n",
      "\u001b[0;32m~/workspace/avenio/transform.py\u001b[0m in \u001b[0;36mload_process_and_store_spreadsheets\u001b[0;34m(spread_sheet_filename, spss_filename, transformation, columns, gene_annotation_filename, all_filename_prefix, train_filename_prefix, test_filename_prefix)\u001b[0m\n\u001b[1;32m    375\u001b[0m     \u001b[0mrandom_state\u001b[0m\u001b[0;34m:\u001b[0m \u001b[0mint\u001b[0m \u001b[0;34m=\u001b[0m \u001b[0;36m1234\u001b[0m\u001b[0;34m,\u001b[0m\u001b[0;34m\u001b[0m\u001b[0;34m\u001b[0m\u001b[0m\n\u001b[1;32m    376\u001b[0m ):\n\u001b[0;32m--> 377\u001b[0;31m     \"\"\"\n\u001b[0m\u001b[1;32m    378\u001b[0m     \u001b[0mWrite\u001b[0m \u001b[0mdata\u001b[0m \u001b[0mto\u001b[0m \u001b[0mdisk\u001b[0m\u001b[0;34m.\u001b[0m\u001b[0;34m\u001b[0m\u001b[0;34m\u001b[0m\u001b[0m\n\u001b[1;32m    379\u001b[0m     \"\"\"\n",
      "\u001b[0;32m~/workspace/avenio/transform.py\u001b[0m in \u001b[0;36msplit_time_and_transform_\u001b[0;34m(data_frame, column_pair, transformation)\u001b[0m\n\u001b[1;32m    329\u001b[0m             \u001b[0mgene_sheet\u001b[0m \u001b[0;34m=\u001b[0m \u001b[0mtranspose\u001b[0m\u001b[0;34m(\u001b[0m\u001b[0mgene_sheet\u001b[0m\u001b[0;34m.\u001b[0m\u001b[0mdroplevel\u001b[0m\u001b[0;34m(\u001b[0m\u001b[0;34m\"Annotation\"\u001b[0m\u001b[0;34m)\u001b[0m\u001b[0;34m)\u001b[0m\u001b[0;34m\u001b[0m\u001b[0;34m\u001b[0m\u001b[0m\n\u001b[1;32m    330\u001b[0m             \u001b[0mannotation_sheet\u001b[0m \u001b[0;34m=\u001b[0m \u001b[0mtranspose\u001b[0m\u001b[0;34m(\u001b[0m\u001b[0mannotation_sheet\u001b[0m\u001b[0;34m)\u001b[0m\u001b[0;34m\u001b[0m\u001b[0;34m\u001b[0m\u001b[0m\n\u001b[0;32m--> 331\u001b[0;31m \u001b[0;34m\u001b[0m\u001b[0m\n\u001b[0m\u001b[1;32m    332\u001b[0m             \u001b[0;31m# Make a sheet for each level of coarseness.\u001b[0m\u001b[0;34m\u001b[0m\u001b[0;34m\u001b[0m\u001b[0;34m\u001b[0m\u001b[0m\n\u001b[1;32m    333\u001b[0m             for coarseness_name, coarse_sheet in {\n",
      "\u001b[0;32m<ipython-input-26-d8937a5fa208>\u001b[0m in \u001b[0;36mmargin_sign\u001b[0;34m(t0, t1, margin)\u001b[0m\n\u001b[1;32m      1\u001b[0m \u001b[0;32mdef\u001b[0m \u001b[0mmargin_sign\u001b[0m\u001b[0;34m(\u001b[0m\u001b[0mt0\u001b[0m\u001b[0;34m,\u001b[0m \u001b[0mt1\u001b[0m\u001b[0;34m,\u001b[0m \u001b[0mmargin\u001b[0m\u001b[0;34m=\u001b[0m\u001b[0;36m0.15\u001b[0m\u001b[0;34m)\u001b[0m\u001b[0;34m:\u001b[0m\u001b[0;34m\u001b[0m\u001b[0;34m\u001b[0m\u001b[0m\n\u001b[0;32m----> 2\u001b[0;31m     \u001b[0;32mif\u001b[0m \u001b[0mt0\u001b[0m \u001b[0;34m==\u001b[0m \u001b[0;36m0.0\u001b[0m\u001b[0;34m:\u001b[0m  \u001b[0;31m# Complete clearance at baseline.\u001b[0m\u001b[0;34m\u001b[0m\u001b[0;34m\u001b[0m\u001b[0m\n\u001b[0m\u001b[1;32m      3\u001b[0m         \u001b[0;32mreturn\u001b[0m \u001b[0;36m1\u001b[0m\u001b[0;34m\u001b[0m\u001b[0;34m\u001b[0m\u001b[0m\n\u001b[1;32m      4\u001b[0m     \u001b[0;32mif\u001b[0m \u001b[0mt1\u001b[0m \u001b[0;34m==\u001b[0m \u001b[0;36m0.0\u001b[0m\u001b[0;34m:\u001b[0m  \u001b[0;31m# Complete clearance at follow up.\u001b[0m\u001b[0;34m\u001b[0m\u001b[0;34m\u001b[0m\u001b[0m\n\u001b[1;32m      5\u001b[0m         \u001b[0;32mreturn\u001b[0m \u001b[0;34m-\u001b[0m\u001b[0;36m1\u001b[0m\u001b[0;34m\u001b[0m\u001b[0;34m\u001b[0m\u001b[0m\n",
      "\u001b[0;32m~/.local/lib/python3.8/site-packages/pandas/core/generic.py\u001b[0m in \u001b[0;36m__nonzero__\u001b[0;34m(self)\u001b[0m\n\u001b[1;32m   1327\u001b[0m \u001b[0;34m\u001b[0m\u001b[0m\n\u001b[1;32m   1328\u001b[0m     \u001b[0;32mdef\u001b[0m \u001b[0m__nonzero__\u001b[0m\u001b[0;34m(\u001b[0m\u001b[0mself\u001b[0m\u001b[0;34m)\u001b[0m\u001b[0;34m:\u001b[0m\u001b[0;34m\u001b[0m\u001b[0;34m\u001b[0m\u001b[0m\n\u001b[0;32m-> 1329\u001b[0;31m         raise ValueError(\n\u001b[0m\u001b[1;32m   1330\u001b[0m             \u001b[0;34mf\"The truth value of a {type(self).__name__} is ambiguous. \"\u001b[0m\u001b[0;34m\u001b[0m\u001b[0;34m\u001b[0m\u001b[0m\n\u001b[1;32m   1331\u001b[0m             \u001b[0;34m\"Use a.empty, a.bool(), a.item(), a.any() or a.all().\"\u001b[0m\u001b[0;34m\u001b[0m\u001b[0;34m\u001b[0m\u001b[0m\n",
      "\u001b[0;31mValueError\u001b[0m: The truth value of a Series is ambiguous. Use a.empty, a.bool(), a.item(), a.any() or a.all()."
     ]
    }
   ],
   "source": [
    "def margin_sign(t0, t1, margin=0.15):\n",
    "    if t0 == 0.0:  # Complete clearance at baseline.\n",
    "        return 1\n",
    "    if t1 == 0.0:  # Complete clearance at follow up.\n",
    "        return -1\n",
    "    dt = (t1-t0)/t0\n",
    "    if dt > margin:\n",
    "        return 1\n",
    "    elif dt < -margin:\n",
    "        return -1\n",
    "    return 0\n",
    "\n",
    "\n",
    "load_process_and_store_spreadsheets(\n",
    "    transformation=margin_sign,\n",
    "    all_filename_prefix=\"output/all_\",\n",
    "    train_filename_prefix=\"output/train_\",\n",
    "    test_filename_prefix=\"output/test_\",\n",
    ")"
   ]
  },
  {
   "cell_type": "markdown",
   "metadata": {},
   "source": [
    "Data without train/test split, with CNV scores merged in."
   ]
  },
  {
   "cell_type": "code",
   "execution_count": null,
   "metadata": {},
   "outputs": [],
   "source": [
    "def to_excel(snv_name, cnv_name):\n",
    "    excel_filename = snv_name.replace('.tsv', '_CNV.xlsx')\n",
    "    X, y = combine_tsv_files(snv_name, cnv_name)\n",
    "    X.merge(y, left_index=True, right_index=True).to_excel(excel_filename)\n",
    "    print(f'Wrote {excel_filename}.')"
   ]
  },
  {
   "cell_type": "code",
   "execution_count": null,
   "metadata": {},
   "outputs": [],
   "source": [
    "for coarseness in ('gene', 'pathway'):\n",
    "    for transformation in ('harmonic_mean', 'difference', 'relative_difference', 'up_or_down', 'margin_sign'):\n",
    "        to_excel(\n",
    "            f\"output/all__{coarseness}__{transformation}__Allele Fraction.tsv\",\n",
    "            f\"output/all__{coarseness}__{transformation}__CNV Score.tsv\",\n",
    "        )\n",
    "        to_excel(\n",
    "            f\"output/all__{coarseness}__{transformation}__No. Mutant Molecules per mL.tsv\",\n",
    "            f\"output/all__{coarseness}__{transformation}__CNV Score.tsv\",\n",
    "        )"
   ]
  }
 ],
 "metadata": {
  "kernelspec": {
   "display_name": "Python 3",
   "language": "python",
   "name": "python3"
  },
  "language_info": {
   "codemirror_mode": {
    "name": "ipython",
    "version": 3
   },
   "file_extension": ".py",
   "mimetype": "text/x-python",
   "name": "python",
   "nbconvert_exporter": "python",
   "pygments_lexer": "ipython3",
   "version": "3.8.5"
  }
 },
 "nbformat": 4,
 "nbformat_minor": 2
}
