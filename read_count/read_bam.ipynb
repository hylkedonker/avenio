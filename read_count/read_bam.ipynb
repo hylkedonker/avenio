{
 "cells": [
  {
   "cell_type": "markdown",
   "metadata": {},
   "source": [
    "# Variant file"
   ]
  },
  {
   "cell_type": "code",
   "execution_count": 1,
   "metadata": {},
   "outputs": [],
   "source": [
    "from collections import defaultdict\n",
    "from pprint import pprint\n",
    "\n",
    "import matplotlib\n",
    "from matplotlib import pyplot as plt\n",
    "from matplotlib.ticker import FuncFormatter\n",
    "import numpy as np\n",
    "import pandas as pd\n",
    "import pysam\n",
    "from pysam import VariantFile\n",
    "import seaborn as sns\n",
    "\n",
    "from analysis import collect_fragment_sizes, pool_variant_fragment_sizes"
   ]
  },
  {
   "cell_type": "code",
   "execution_count": 2,
   "metadata": {},
   "outputs": [],
   "source": []
  },
  {
   "cell_type": "code",
   "execution_count": 3,
   "metadata": {},
   "outputs": [
    {
     "data": {
      "text/html": [
       "<div>\n",
       "<style scoped>\n",
       "    .dataframe tbody tr th:only-of-type {\n",
       "        vertical-align: middle;\n",
       "    }\n",
       "\n",
       "    .dataframe tbody tr th {\n",
       "        vertical-align: top;\n",
       "    }\n",
       "\n",
       "    .dataframe thead th {\n",
       "        text-align: right;\n",
       "    }\n",
       "</style>\n",
       "<table border=\"1\" class=\"dataframe\">\n",
       "  <thead>\n",
       "    <tr style=\"text-align: right;\">\n",
       "      <th></th>\n",
       "      <th>AF</th>\n",
       "      <th>ALTDP</th>\n",
       "      <th>ALTDP2</th>\n",
       "      <th>DP</th>\n",
       "      <th>DP2</th>\n",
       "      <th>NGED</th>\n",
       "      <th>SCORE1</th>\n",
       "      <th>SID</th>\n",
       "      <th>SS</th>\n",
       "    </tr>\n",
       "  </thead>\n",
       "  <tbody>\n",
       "    <tr>\n",
       "      <th>0</th>\n",
       "      <td>(0.7912189960479736,)</td>\n",
       "      <td>4415</td>\n",
       "      <td>649</td>\n",
       "      <td>5580</td>\n",
       "      <td>827</td>\n",
       "      <td>(0.008742369711399078,)</td>\n",
       "      <td>4409.000000</td>\n",
       "      <td>972_0</td>\n",
       "      <td>True</td>\n",
       "    </tr>\n",
       "    <tr>\n",
       "      <th>1</th>\n",
       "      <td>(0.0014419599901884794,)</td>\n",
       "      <td>12</td>\n",
       "      <td>2</td>\n",
       "      <td>8322</td>\n",
       "      <td>1434</td>\n",
       "      <td>(0.010326500050723553,)</td>\n",
       "      <td>4.000000</td>\n",
       "      <td>972_0</td>\n",
       "      <td>True</td>\n",
       "    </tr>\n",
       "    <tr>\n",
       "      <th>2</th>\n",
       "      <td>(0.5526139736175537,)</td>\n",
       "      <td>4842</td>\n",
       "      <td>887</td>\n",
       "      <td>8762</td>\n",
       "      <td>1629</td>\n",
       "      <td>(0.012241500429809093,)</td>\n",
       "      <td>4835.490234</td>\n",
       "      <td>972_0</td>\n",
       "      <td>True</td>\n",
       "    </tr>\n",
       "    <tr>\n",
       "      <th>3</th>\n",
       "      <td>(0.4695169925689697,)</td>\n",
       "      <td>3250</td>\n",
       "      <td>529</td>\n",
       "      <td>6922</td>\n",
       "      <td>1135</td>\n",
       "      <td>(0.008843899704515934,)</td>\n",
       "      <td>3242.000000</td>\n",
       "      <td>972_0</td>\n",
       "      <td>True</td>\n",
       "    </tr>\n",
       "  </tbody>\n",
       "</table>\n",
       "</div>"
      ],
      "text/plain": [
       "                         AF  ALTDP  ALTDP2    DP   DP2  \\\n",
       "0     (0.7912189960479736,)   4415     649  5580   827   \n",
       "1  (0.0014419599901884794,)     12       2  8322  1434   \n",
       "2     (0.5526139736175537,)   4842     887  8762  1629   \n",
       "3     (0.4695169925689697,)   3250     529  6922  1135   \n",
       "\n",
       "                      NGED       SCORE1    SID    SS  \n",
       "0  (0.008742369711399078,)  4409.000000  972_0  True  \n",
       "1  (0.010326500050723553,)     4.000000  972_0  True  \n",
       "2  (0.012241500429809093,)  4835.490234  972_0  True  \n",
       "3  (0.008843899704515934,)  3242.000000  972_0  True  "
      ]
     },
     "execution_count": 3,
     "metadata": {},
     "output_type": "execute_result"
    }
   ],
   "source": [
    "pd.DataFrame([dict(variant.info.items()[:9]) for variant in variants.fetch()])\n",
    "#     pprint(variant.info.items()[:9])"
   ]
  },
  {
   "cell_type": "code",
   "execution_count": 4,
   "metadata": {},
   "outputs": [],
   "source": [
    "annotation_columns = variants.header \\\n",
    "    .info['ANN'] \\\n",
    "    .description \\\n",
    "    .split(':')[1] \\\n",
    "    .replace(\"'\", \"\") \\\n",
    "    .split('|')\n",
    "annotation_columns = tuple(map(lambda x: x.strip(), annotation_columns))"
   ]
  },
  {
   "cell_type": "code",
   "execution_count": 5,
   "metadata": {},
   "outputs": [
    {
     "data": {
      "text/html": [
       "<div>\n",
       "<style scoped>\n",
       "    .dataframe tbody tr th:only-of-type {\n",
       "        vertical-align: middle;\n",
       "    }\n",
       "\n",
       "    .dataframe tbody tr th {\n",
       "        vertical-align: top;\n",
       "    }\n",
       "\n",
       "    .dataframe thead th {\n",
       "        text-align: right;\n",
       "    }\n",
       "</style>\n",
       "<table border=\"1\" class=\"dataframe\">\n",
       "  <thead>\n",
       "    <tr style=\"text-align: right;\">\n",
       "      <th></th>\n",
       "      <th>Allele</th>\n",
       "      <th>Annotation</th>\n",
       "      <th>Annotation_Impact</th>\n",
       "      <th>Gene_Name</th>\n",
       "      <th>Gene_ID</th>\n",
       "      <th>Feature_Type</th>\n",
       "      <th>Feature_ID</th>\n",
       "      <th>Transcript_BioType</th>\n",
       "      <th>Rank</th>\n",
       "      <th>HGVS.c</th>\n",
       "      <th>HGVS.p</th>\n",
       "      <th>cDNA.pos / cDNA.length</th>\n",
       "      <th>CDS.pos / CDS.length</th>\n",
       "      <th>AA.pos / AA.length</th>\n",
       "      <th>Distance</th>\n",
       "      <th>ERRORS / WARNINGS / INFO</th>\n",
       "    </tr>\n",
       "  </thead>\n",
       "  <tbody>\n",
       "    <tr>\n",
       "      <th>0</th>\n",
       "      <td>A</td>\n",
       "      <td>stop_gained</td>\n",
       "      <td>HIGH</td>\n",
       "      <td>TP53</td>\n",
       "      <td>ENSG00000141510</td>\n",
       "      <td>transcript</td>\n",
       "      <td>ENST00000269305.8</td>\n",
       "      <td>protein_coding</td>\n",
       "      <td>8/11</td>\n",
       "      <td>c.892G&gt;T</td>\n",
       "      <td>p.Glu298*</td>\n",
       "      <td>1082/2579</td>\n",
       "      <td>892/1182</td>\n",
       "      <td>298/393</td>\n",
       "      <td></td>\n",
       "      <td></td>\n",
       "    </tr>\n",
       "    <tr>\n",
       "      <th>1</th>\n",
       "      <td>A</td>\n",
       "      <td>stop_gained</td>\n",
       "      <td>HIGH</td>\n",
       "      <td>TP53</td>\n",
       "      <td>ENSG00000141510</td>\n",
       "      <td>transcript</td>\n",
       "      <td>ENST00000420246.6</td>\n",
       "      <td>protein_coding</td>\n",
       "      <td>8/12</td>\n",
       "      <td>c.892G&gt;T</td>\n",
       "      <td>p.Glu298*</td>\n",
       "      <td>1025/2653</td>\n",
       "      <td>892/1026</td>\n",
       "      <td>298/341</td>\n",
       "      <td></td>\n",
       "      <td></td>\n",
       "    </tr>\n",
       "    <tr>\n",
       "      <th>2</th>\n",
       "      <td>A</td>\n",
       "      <td>stop_gained</td>\n",
       "      <td>HIGH</td>\n",
       "      <td>TP53</td>\n",
       "      <td>ENSG00000141510</td>\n",
       "      <td>transcript</td>\n",
       "      <td>ENST00000455263.6</td>\n",
       "      <td>protein_coding</td>\n",
       "      <td>8/12</td>\n",
       "      <td>c.892G&gt;T</td>\n",
       "      <td>p.Glu298*</td>\n",
       "      <td>1025/2580</td>\n",
       "      <td>892/1041</td>\n",
       "      <td>298/346</td>\n",
       "      <td></td>\n",
       "      <td></td>\n",
       "    </tr>\n",
       "    <tr>\n",
       "      <th>3</th>\n",
       "      <td>A</td>\n",
       "      <td>stop_gained</td>\n",
       "      <td>HIGH</td>\n",
       "      <td>TP53</td>\n",
       "      <td>ENSG00000141510</td>\n",
       "      <td>transcript</td>\n",
       "      <td>ENST00000615910.4</td>\n",
       "      <td>protein_coding</td>\n",
       "      <td>8/11</td>\n",
       "      <td>c.859G&gt;T</td>\n",
       "      <td>p.Glu287*</td>\n",
       "      <td>859/1149</td>\n",
       "      <td>859/1149</td>\n",
       "      <td>287/382</td>\n",
       "      <td></td>\n",
       "      <td></td>\n",
       "    </tr>\n",
       "  </tbody>\n",
       "</table>\n",
       "</div>"
      ],
      "text/plain": [
       "  Allele   Annotation Annotation_Impact Gene_Name          Gene_ID  \\\n",
       "0      A  stop_gained              HIGH      TP53  ENSG00000141510   \n",
       "1      A  stop_gained              HIGH      TP53  ENSG00000141510   \n",
       "2      A  stop_gained              HIGH      TP53  ENSG00000141510   \n",
       "3      A  stop_gained              HIGH      TP53  ENSG00000141510   \n",
       "\n",
       "  Feature_Type         Feature_ID Transcript_BioType  Rank    HGVS.c  \\\n",
       "0   transcript  ENST00000269305.8     protein_coding  8/11  c.892G>T   \n",
       "1   transcript  ENST00000420246.6     protein_coding  8/12  c.892G>T   \n",
       "2   transcript  ENST00000455263.6     protein_coding  8/12  c.892G>T   \n",
       "3   transcript  ENST00000615910.4     protein_coding  8/11  c.859G>T   \n",
       "\n",
       "      HGVS.p cDNA.pos / cDNA.length CDS.pos / CDS.length AA.pos / AA.length  \\\n",
       "0  p.Glu298*              1082/2579             892/1182            298/393   \n",
       "1  p.Glu298*              1025/2653             892/1026            298/341   \n",
       "2  p.Glu298*              1025/2580             892/1041            298/346   \n",
       "3  p.Glu287*               859/1149             859/1149            287/382   \n",
       "\n",
       "  Distance ERRORS / WARNINGS / INFO  \n",
       "0                                    \n",
       "1                                    \n",
       "2                                    \n",
       "3                                    "
      ]
     },
     "execution_count": 5,
     "metadata": {},
     "output_type": "execute_result"
    }
   ],
   "source": [
    "record = next(variants.fetch())\n",
    "df = pd.DataFrame(columns=annotation_columns)\n",
    "for annotation in record.info['ANN']:\n",
    "    key_value_pairs = zip(annotation_columns, annotation.split('|'))\n",
    "    df = df.append(dict(key_value_pairs), ignore_index=True)\n",
    "df"
   ]
  },
  {
   "cell_type": "code",
   "execution_count": 6,
   "metadata": {},
   "outputs": [
    {
     "data": {
      "text/plain": [
       "[('AF', (0.7912189960479736,)),\n",
       " ('ALTDP', 4415),\n",
       " ('ALTDP2', 649),\n",
       " ('DP', 5580),\n",
       " ('DP2', 827),\n",
       " ('NGED', (0.008742369711399078,)),\n",
       " ('SCORE1', 4409.0),\n",
       " ('SID', '972_0'),\n",
       " ('SS', True)]"
      ]
     },
     "execution_count": 6,
     "metadata": {},
     "output_type": "execute_result"
    }
   ],
   "source": [
    "record.info.items()[:9]"
   ]
  },
  {
   "cell_type": "markdown",
   "metadata": {},
   "source": [
    "# Reading BAM file"
   ]
  },
  {
   "cell_type": "code",
   "execution_count": 10,
   "metadata": {},
   "outputs": [],
   "source": [
    "variants = VariantFile('data/snv-Somatic_all-972_0.vcf')\n",
    "alignments = pysam.AlignmentFile('data/Deduped-972_0_sorted.bam')"
   ]
  },
  {
   "cell_type": "code",
   "execution_count": 11,
   "metadata": {},
   "outputs": [
    {
     "name": "stdout",
     "output_type": "stream",
     "text": [
      "Collect fragment sizes for chr17 7673727 7673728\n",
      "VAF(A) 3.768987341772152\n",
      "Collect fragment sizes for chr17 58357955 58357956\n",
      "VAF(A) 0.0013415615776764154\n",
      "Collect fragment sizes for chr4 54274526 54274527\n",
      "VAF(T) 1.2589712918660287\n",
      "Collect fragment sizes for chr9 95459699 95459700\n",
      "VAF(A) 0.9145780051150895\n"
     ]
    }
   ],
   "source": [
    "normal_sizes, variant_sizes = pool_variant_fragment_sizes(\n",
    "    variant_file=variants, \n",
    "    bam_file=alignments,\n",
    ")"
   ]
  },
  {
   "cell_type": "code",
   "execution_count": 46,
   "metadata": {},
   "outputs": [],
   "source": [
    "def to_percent(y, position):\n",
    "    # Ignore the passed in position. This has the effect of scaling the default\n",
    "    # tick locations.\n",
    "    s = '{:.1f}'.format(100 * y)\n",
    "\n",
    "    # The percent symbol needs escaping in latex\n",
    "    if matplotlib.rcParams['text.usetex'] is True:\n",
    "        return s + r'$\\%$'\n",
    "    else:\n",
    "        return s + '%'\n",
    "percent_formatter = FuncFormatter(to_percent)"
   ]
  },
  {
   "cell_type": "code",
   "execution_count": 49,
   "metadata": {},
   "outputs": [
    {
     "data": {
      "image/png": "[encoded data removed]",
      "text/plain": [
       "<Figure size 288x216 with 1 Axes>"
      ]
     },
     "metadata": {
      "needs_background": "light"
     },
     "output_type": "display_data"
    }
   ],
   "source": [
    "plt.figure(figsize=(4,3))\n",
    "p_normal, bins, _ = plt.hist(\n",
    "    normal_sizes, \n",
    "    bins=100, \n",
    "    density=True, \n",
    "    label='normal',\n",
    "    alpha=1.0,\n",
    ")\n",
    "p_variant, _, _ = plt.hist(\n",
    "    variant_sizes, \n",
    "    density=True, \n",
    "    bins=bins, \n",
    "    label='variant',\n",
    "    alpha=0.65,\n",
    ")\n",
    "plt.legend(frameon=False)\n",
    "plt.xlabel('Fragment size (bp)')\n",
    "plt.ylabel('Frequency')\n",
    "plt.gca().yaxis.set_major_formatter(percent_formatter)\n",
    "plt.tight_layout()\n",
    "plt.savefig('figs/fragment_distribution.png')"
   ]
  },
  {
   "cell_type": "code",
   "execution_count": 50,
   "metadata": {},
   "outputs": [
    {
     "data": {
      "image/png": "[encoded data removed]",
      "text/plain": [
       "<Figure size 288x216 with 1 Axes>"
      ]
     },
     "metadata": {
      "needs_background": "light"
     },
     "output_type": "display_data"
    }
   ],
   "source": [
    "plt.figure(figsize=(4,3))\n",
    "with np.errstate(divide='ignore'):\n",
    "    enrichment = p_variant/p_normal\n",
    "    enrichment[np.isnan(enrichment)] = 0\n",
    "bin_centre = (bins[1:] + bins[:-1])/2.0\n",
    "plt.plot(bin_centre, enrichment, '-o')\n",
    "horizontal_window = (0.95*bin_centre[0], bin_centre[-1]*1.05)\n",
    "plt.plot(horizontal_window, (1, 1), '--', linewidth=3.5)\n",
    "plt.xlim(horizontal_window)\n",
    "plt.xlabel('Fragment size (bp)')\n",
    "plt.ylabel('Enrichment (variant/normal)')\n",
    "plt.tight_layout()\n",
    "plt.savefig('figs/enrichment.png')"
   ]
  },
  {
   "cell_type": "code",
   "execution_count": null,
   "metadata": {},
   "outputs": [],
   "source": []
  }
 ],
 "metadata": {
  "kernelspec": {
   "display_name": "Python 3",
   "language": "python",
   "name": "python3"
  },
  "language_info": {
   "codemirror_mode": {
    "name": "ipython",
    "version": 3
   },
   "file_extension": ".py",
   "mimetype": "text/x-python",
   "name": "python",
   "nbconvert_exporter": "python",
   "pygments_lexer": "ipython3",
   "version": "3.7.5"
  }
 },
 "nbformat": 4,
 "nbformat_minor": 2
}
