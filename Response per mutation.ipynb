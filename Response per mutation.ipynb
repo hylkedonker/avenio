{
 "cells": [
  {
   "cell_type": "markdown",
   "metadata": {},
   "source": [
    "# Mutations\n",
    "In this notebook we will focus on each of the mutatons individually."
   ]
  },
  {
   "cell_type": "code",
   "execution_count": null,
   "metadata": {},
   "outputs": [],
   "source": [
    "%matplotlib inline\n",
    "from scipy.stats import pearsonr\n",
    "from matplotlib import pyplot as plt\n",
    "import numpy as np\n",
    "import pandas as pd\n",
    "import seaborn as sns\n",
    "from sklearn.decomposition import NMF, PCA\n",
    "from sklearn.manifold import TSNE\n",
    "\n",
    "from source import load_avenio_files\n",
    "from transform import dummy_encode_mutations, get_top_correlated, mutation_train_test_split, patient_allele_frequencies\n",
    "\n",
    "\n",
    "RANDOM_STATE = 1234\n",
    "np.random.seed(RANDOM_STATE)"
   ]
  },
  {
   "cell_type": "code",
   "execution_count": null,
   "metadata": {},
   "outputs": [],
   "source": [
    "# Load data from spreadsheet and SPSS files.\n",
    "mutation_data_frame, phenotypes = load_avenio_files()"
   ]
  },
  {
   "cell_type": "markdown",
   "metadata": {},
   "source": [
    "Two ways to calculate the differences:\n",
    "- Using the allele frequencies.\n",
    "- Using the mutatant concentration."
   ]
  },
  {
   "cell_type": "code",
   "execution_count": null,
   "metadata": {},
   "outputs": [],
   "source": [
    "# Vocabulary is the entire dataset, not only training set. Otherwise we run into problems during inference.\n",
    "gene_vocabulary = mutation_data_frame['Gene'].unique()\n",
    "\n",
    "# Columns containing allele frequencies.\n",
    "mutant_allele_columns = [\"T0: Allele \\nFraction\", \"T1: Allele Fraction\"]\n",
    "# Columns containing mutant concentration.\n",
    "mutant_concentration_columns = [\"T0: No. Mutant \\nMolecules per mL\", \"T1: No. Mutant \\nMolecules per mL\"]\n",
    "\n",
    "# 1) Convert to float.\n",
    "columns_to_numeric = mutant_allele_columns + mutation_concentration_columns\n",
    "for column_name in columns_to_numeric:\n",
    "    mutation_data_frame.loc[:, column_name] = pd.to_numeric(mutation_data_frame[column_name], errors='coerce')\n",
    "\n",
    "# 2) Drop rows for which the columns can not be converted.\n",
    "mutation_data_frame = mutation_data_frame.dropna(subset=columns_to_numeric)"
   ]
  },
  {
   "cell_type": "markdown",
   "metadata": {},
   "source": [
    "Calculate the r-fraction as $$r = \\frac{\\Delta t}{t_0} \\equiv \\frac{t_1 - t_0}{t_0} .$$"
   ]
  },
  {
   "cell_type": "code",
   "execution_count": null,
   "metadata": {},
   "outputs": [],
   "source": [
    "def r(t_0, t_1):\n",
    "    return (t_1 - t_0) / t_0"
   ]
  },
  {
   "cell_type": "code",
   "execution_count": null,
   "metadata": {},
   "outputs": [],
   "source": [
    "mutant_allele_frequencies = patient_allele_frequencies(\n",
    "    mutation_data_frame, \n",
    "    gene_vocabulary, \n",
    "    # Calculate r(t_0, t_1).\n",
    "    r,\n",
    "    # Sum mutation values per gene in each patient.\n",
    "    handle_duplicates=\"sum\",\n",
    ")"
   ]
  },
  {
   "cell_type": "markdown",
   "metadata": {},
   "source": [
    "# Correlations\n",
    "How do gene's fractions correlate? We calculate the Pearson correlation value which is defined as:\n",
    "$$C_{ij} = \\sum_{m=1}^{N} \\frac{(X_{mi} - \\mu_i)(X_{mj} - \\mu_j)}{\\sigma_i \\sigma_j} \\, ,$$\n",
    "with $\\mu$ and $\\sigma$ the mean and standard deviation, respectively."
   ]
  },
  {
   "cell_type": "code",
   "execution_count": null,
   "metadata": {},
   "outputs": [],
   "source": [
    "def pearson_pval(x, y):\n",
    "    return pearsonr(x, y)[1]"
   ]
  },
  {
   "cell_type": "code",
   "execution_count": null,
   "metadata": {},
   "outputs": [],
   "source": [
    "corr = patient_mutation_frequencies.corr().fillna(0)\n",
    "pval_corr = patient_mutation_frequencies.corr(method=pearson_pval).fillna(1)\n",
    "corr.style.background_gradient(cmap='coolwarm', axis=None)"
   ]
  },
  {
   "cell_type": "markdown",
   "metadata": {},
   "source": [
    "### Negative correlation"
   ]
  },
  {
   "cell_type": "code",
   "execution_count": null,
   "metadata": {},
   "outputs": [],
   "source": [
    "gene_counts = mutation_data_frame['Gene'].value_counts()\n",
    "get_top_correlated(\n",
    "    corr, \n",
    "    pval_corr,\n",
    "    gene_counts=gene_counts, \n",
    "    ascending=True, \n",
    "    top_count=4,\n",
    ")"
   ]
  },
  {
   "cell_type": "markdown",
   "metadata": {},
   "source": [
    "The p-values should not be taken to seriously. The fact that the p-values are extremely low is easy to understand:\n",
    "- All columns are zero.\n",
    "- Except the columns where the two unique mutations happen to coincide.\n",
    "This immediately implies that the p-value should be near zero."
   ]
  },
  {
   "cell_type": "markdown",
   "metadata": {},
   "source": [
    "### Positive correlation"
   ]
  },
  {
   "cell_type": "code",
   "execution_count": null,
   "metadata": {},
   "outputs": [],
   "source": [
    "get_top_correlated(corr, pval_corr, gene_counts=gene_counts, ascending=False)"
   ]
  },
  {
   "cell_type": "markdown",
   "metadata": {},
   "source": [
    "## Do responders show an increase in mutational allel frequency?"
   ]
  },
  {
   "cell_type": "markdown",
   "metadata": {},
   "source": [
    "Calculate quantities to comapre."
   ]
  },
  {
   "cell_type": "code",
   "execution_count": null,
   "metadata": {},
   "outputs": [],
   "source": [
    "mutation_data_frame['f_t'] = f_t(mutation_data_frame[allele_columns[0]], mutation_data_frame[allele_columns[1]])\n",
    "mutation_data_frame['dt'] = mutation_data_frame[allele_columns[1]] - mutation_data_frame[allele_columns[0]]\n",
    "mutation_data_frame['ratio'] = mutation_data_frame[allele_columns[1]] / mutation_data_frame[allele_columns[0]]"
   ]
  },
  {
   "cell_type": "markdown",
   "metadata": {},
   "source": [
    "Add phenotype data."
   ]
  },
  {
   "cell_type": "code",
   "execution_count": null,
   "metadata": {},
   "outputs": [],
   "source": [
    "mutation_data_frame['response'] = mutation_data_frame['Patient ID'].apply(lambda x: phenotypes.loc[x, 'response_grouped'])\n",
    "mutation_data_frame['progression'] = mutation_data_frame['Patient ID'].apply(lambda x: phenotypes.loc[x, 'progressie'])"
   ]
  },
  {
   "cell_type": "code",
   "execution_count": null,
   "metadata": {},
   "outputs": [],
   "source": [
    "gene_subset = mutation_data_frame['Gene'].isin(['TP53', 'KRAS', 'PIK3CA', 'NFE2L2'])\n",
    "\n",
    "g = sns.catplot(\n",
    "    x='Gene', \n",
    "    y='f_t', \n",
    "    hue='response',\n",
    "    data=mutation_data_frame[gene_subset],\n",
    "    kind='violin',\n",
    ")\n",
    "g.fig.set_size_inches(16,8)"
   ]
  },
  {
   "cell_type": "markdown",
   "metadata": {},
   "source": [
    "Absolute difference"
   ]
  },
  {
   "cell_type": "code",
   "execution_count": null,
   "metadata": {},
   "outputs": [],
   "source": [
    "g = sns.catplot(\n",
    "    x='Gene', \n",
    "    y='dt', \n",
    "    hue='response', \n",
    "#     col='progression', \n",
    "    data=mutation_data_frame[gene_subset],\n",
    "#     col_wrap=1,\n",
    "    kind='violin',\n",
    ")\n",
    "# g.ax.set_ylim([-.5, .5])\n",
    "g.fig.set_size_inches(16,8)"
   ]
  },
  {
   "cell_type": "code",
   "execution_count": null,
   "metadata": {},
   "outputs": [],
   "source": [
    "g = sns.catplot(\n",
    "    x='Gene', \n",
    "    y='ratio', \n",
    "    hue='response', \n",
    "#     col='progression', \n",
    "    data=mutation_data_frame[gene_subset], \n",
    "    kind='violin',\n",
    ")\n",
    "g.fig.set_size_inches(16,8)\n",
    "# g.ax.set_ylim([-.5, .5])"
   ]
  },
  {
   "cell_type": "code",
   "execution_count": null,
   "metadata": {},
   "outputs": [],
   "source": []
  }
 ],
 "metadata": {
  "kernelspec": {
   "display_name": "Python 3",
   "language": "python",
   "name": "python3"
  },
  "language_info": {
   "codemirror_mode": {
    "name": "ipython",
    "version": 3
   },
   "file_extension": ".py",
   "mimetype": "text/x-python",
   "name": "python",
   "nbconvert_exporter": "python",
   "pygments_lexer": "ipython3",
   "version": "3.7.3"
  }
 },
 "nbformat": 4,
 "nbformat_minor": 2
}
