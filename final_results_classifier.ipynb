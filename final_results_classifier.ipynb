{
 "cells": [
  {
   "cell_type": "markdown",
   "metadata": {},
   "source": [
    "# Make final classifier using harmonic mean\n",
    "**Goal**: Identify patients that don't respond.\n",
    "These patients we don't have to treat.\n",
    "\n",
    "Perform the following steps:\n",
    "\n",
    "1) Combine data with CNV.\n",
    "\n",
    "2) Compare harmonic versus delta.\n",
    "\n",
    "3) Compare clinical data versus clinical and genomic data.\n",
    "\n",
    "4) Select best classification model based on AUC.\n",
    "\n",
    "5) For this best model, compare number of molecules.\n",
    "\n",
    "6) Perform cross validation.\n",
    "\n",
    "7) Make plots for parameter importance."
   ]
  },
  {
   "cell_type": "code",
   "execution_count": 1,
   "metadata": {},
   "outputs": [
    {
     "name": "stderr",
     "output_type": "stream",
     "text": [
      "/opt/conda/lib/python3.7/site-packages/statsmodels/tools/_testing.py:19: FutureWarning: pandas.util.testing is deprecated. Use the functions in the public API at pandas.testing instead.\n",
      "  import pandas.util.testing as tm\n"
     ]
    }
   ],
   "source": [
    "%matplotlib inline\n",
    "from matplotlib import pyplot as plt\n",
    "from sklearn.linear_model import LogisticRegression\n",
    "from sklearn.metrics import classification_report\n",
    "from sklearn.model_selection import GridSearchCV\n",
    "\n",
    "from pipelines import benchmark_pipelines, build_classifier_pipelines, pipeline_Freeman\n",
    "from views import view_linear_model_freeman"
   ]
  },
  {
   "cell_type": "markdown",
   "metadata": {},
   "source": [
    "# 1) Combine data"
   ]
  },
  {
   "cell_type": "code",
   "execution_count": 2,
   "metadata": {},
   "outputs": [],
   "source": [
    "from source import read_preprocessed_data\n",
    "from transform import combine_tsv_files"
   ]
  },
  {
   "cell_type": "code",
   "execution_count": 3,
   "metadata": {},
   "outputs": [],
   "source": [
    "# Harmonic mean genomic variable.\n",
    "X_train_hm, y_train_hm = combine_tsv_files(\n",
    "    \"output/train__harmonic_mean__Allele Fraction.tsv\",\n",
    "    \"output/train__harmonic_mean__CNV Score.tsv\",\n",
    ")\n",
    "# Difference genomic variable.\n",
    "X_train_diff, y_train_diff = combine_tsv_files(\n",
    "    \"output/train__difference__Allele Fraction.tsv\",\n",
    "    \"output/train__difference__CNV Score.tsv\",\n",
    ")"
   ]
  },
  {
   "cell_type": "markdown",
   "metadata": {},
   "source": [
    "# 2) Select best model"
   ]
  },
  {
   "cell_type": "code",
   "execution_count": 4,
   "metadata": {},
   "outputs": [],
   "source": [
    "y_train_resp = y_train_hm[\"response_grouped\"]\n",
    "\n",
    "response_labels = ['non responder (sd+pd)', 'responder (pr+cr)']\n",
    "pos_label = 'non responder (sd+pd)'\n",
    "y_train_resp = y_train_resp == pos_label"
   ]
  },
  {
   "cell_type": "code",
   "execution_count": 5,
   "metadata": {},
   "outputs": [],
   "source": [
    "ps_class = build_classifier_pipelines()"
   ]
  },
  {
   "cell_type": "code",
   "execution_count": 6,
   "metadata": {},
   "outputs": [],
   "source": [
    "b_harmonic_mean = benchmark_pipelines(\n",
    "    ps_class, X_train_hm, y_train_resp, metric='roc_auc',\n",
    ")\n",
    "b_difference = benchmark_pipelines(\n",
    "    ps_class, X_train_diff, y_train_resp, metric='roc_auc',\n",
    ")"
   ]
  },
  {
   "cell_type": "code",
   "execution_count": 7,
   "metadata": {},
   "outputs": [
    {
     "data": {
      "text/html": [
       "<div>\n",
       "<style scoped>\n",
       "    .dataframe tbody tr th:only-of-type {\n",
       "        vertical-align: middle;\n",
       "    }\n",
       "\n",
       "    .dataframe tbody tr th {\n",
       "        vertical-align: top;\n",
       "    }\n",
       "\n",
       "    .dataframe thead th {\n",
       "        text-align: right;\n",
       "    }\n",
       "</style>\n",
       "<table border=\"1\" class=\"dataframe\">\n",
       "  <thead>\n",
       "    <tr style=\"text-align: right;\">\n",
       "      <th></th>\n",
       "      <th>Richard mean</th>\n",
       "      <th>Richard std</th>\n",
       "      <th>Julian mean</th>\n",
       "      <th>Julian std</th>\n",
       "      <th>Freeman mean</th>\n",
       "      <th>Freeman std</th>\n",
       "    </tr>\n",
       "  </thead>\n",
       "  <tbody>\n",
       "    <tr>\n",
       "      <th>DecisionTreeClassifier</th>\n",
       "      <td>0.536054</td>\n",
       "      <td>0.054575</td>\n",
       "      <td>0.568707</td>\n",
       "      <td>0.060211</td>\n",
       "      <td>0.593793</td>\n",
       "      <td>0.098002</td>\n",
       "    </tr>\n",
       "    <tr>\n",
       "      <th>RandomForestClassifier</th>\n",
       "      <td>0.567177</td>\n",
       "      <td>0.107864</td>\n",
       "      <td>0.643027</td>\n",
       "      <td>0.044363</td>\n",
       "      <td>0.628741</td>\n",
       "      <td>0.142808</td>\n",
       "    </tr>\n",
       "    <tr>\n",
       "      <th>GaussianNB</th>\n",
       "      <td>0.536565</td>\n",
       "      <td>0.073861</td>\n",
       "      <td>0.630612</td>\n",
       "      <td>0.069959</td>\n",
       "      <td>0.585969</td>\n",
       "      <td>0.073240</td>\n",
       "    </tr>\n",
       "    <tr>\n",
       "      <th>GradientBoostingClassifier</th>\n",
       "      <td>0.572789</td>\n",
       "      <td>0.146149</td>\n",
       "      <td>0.657823</td>\n",
       "      <td>0.046865</td>\n",
       "      <td>0.593622</td>\n",
       "      <td>0.065041</td>\n",
       "    </tr>\n",
       "    <tr>\n",
       "      <th>KNeighborsClassifier</th>\n",
       "      <td>0.521599</td>\n",
       "      <td>0.082569</td>\n",
       "      <td>0.505867</td>\n",
       "      <td>0.061371</td>\n",
       "      <td>0.619983</td>\n",
       "      <td>0.086931</td>\n",
       "    </tr>\n",
       "    <tr>\n",
       "      <th>LogisticRegression</th>\n",
       "      <td>0.615051</td>\n",
       "      <td>0.101291</td>\n",
       "      <td>0.553061</td>\n",
       "      <td>0.126640</td>\n",
       "      <td>0.618197</td>\n",
       "      <td>0.065915</td>\n",
       "    </tr>\n",
       "    <tr>\n",
       "      <th>SVC</th>\n",
       "      <td>0.577891</td>\n",
       "      <td>0.036195</td>\n",
       "      <td>0.568027</td>\n",
       "      <td>0.041824</td>\n",
       "      <td>0.588946</td>\n",
       "      <td>0.073267</td>\n",
       "    </tr>\n",
       "    <tr>\n",
       "      <th>DummyClassifier</th>\n",
       "      <td>0.500000</td>\n",
       "      <td>0.000000</td>\n",
       "      <td>0.500000</td>\n",
       "      <td>0.000000</td>\n",
       "      <td>0.500000</td>\n",
       "      <td>0.000000</td>\n",
       "    </tr>\n",
       "  </tbody>\n",
       "</table>\n",
       "</div>"
      ],
      "text/plain": [
       "                            Richard mean  Richard std  Julian mean  \\\n",
       "DecisionTreeClassifier          0.536054     0.054575     0.568707   \n",
       "RandomForestClassifier          0.567177     0.107864     0.643027   \n",
       "GaussianNB                      0.536565     0.073861     0.630612   \n",
       "GradientBoostingClassifier      0.572789     0.146149     0.657823   \n",
       "KNeighborsClassifier            0.521599     0.082569     0.505867   \n",
       "LogisticRegression              0.615051     0.101291     0.553061   \n",
       "SVC                             0.577891     0.036195     0.568027   \n",
       "DummyClassifier                 0.500000     0.000000     0.500000   \n",
       "\n",
       "                            Julian std  Freeman mean  Freeman std  \n",
       "DecisionTreeClassifier        0.060211      0.593793     0.098002  \n",
       "RandomForestClassifier        0.044363      0.628741     0.142808  \n",
       "GaussianNB                    0.069959      0.585969     0.073240  \n",
       "GradientBoostingClassifier    0.046865      0.593622     0.065041  \n",
       "KNeighborsClassifier          0.061371      0.619983     0.086931  \n",
       "LogisticRegression            0.126640      0.618197     0.065915  \n",
       "SVC                           0.041824      0.588946     0.073267  \n",
       "DummyClassifier               0.000000      0.500000     0.000000  "
      ]
     },
     "execution_count": 7,
     "metadata": {},
     "output_type": "execute_result"
    }
   ],
   "source": [
    "b_harmonic_mean\n",
    "# print(b.round(2).to_latex())"
   ]
  },
  {
   "cell_type": "code",
   "execution_count": 8,
   "metadata": {},
   "outputs": [
    {
     "name": "stdout",
     "output_type": "stream",
     "text": [
      "On average harmonic mean is better by 0.0016223952110419465 ROC AUC\n"
     ]
    },
    {
     "data": {
      "text/html": [
       "<div>\n",
       "<style scoped>\n",
       "    .dataframe tbody tr th:only-of-type {\n",
       "        vertical-align: middle;\n",
       "    }\n",
       "\n",
       "    .dataframe tbody tr th {\n",
       "        vertical-align: top;\n",
       "    }\n",
       "\n",
       "    .dataframe thead th {\n",
       "        text-align: right;\n",
       "    }\n",
       "</style>\n",
       "<table border=\"1\" class=\"dataframe\">\n",
       "  <thead>\n",
       "    <tr style=\"text-align: right;\">\n",
       "      <th></th>\n",
       "      <th>Richard mean</th>\n",
       "      <th>Richard std</th>\n",
       "      <th>Julian mean</th>\n",
       "      <th>Julian std</th>\n",
       "      <th>Freeman mean</th>\n",
       "      <th>Freeman std</th>\n",
       "    </tr>\n",
       "  </thead>\n",
       "  <tbody>\n",
       "    <tr>\n",
       "      <th>DecisionTreeClassifier</th>\n",
       "      <td>0.536054</td>\n",
       "      <td>0.054575</td>\n",
       "      <td>0.569473</td>\n",
       "      <td>0.134531</td>\n",
       "      <td>0.547024</td>\n",
       "      <td>0.122214</td>\n",
       "    </tr>\n",
       "    <tr>\n",
       "      <th>RandomForestClassifier</th>\n",
       "      <td>0.567177</td>\n",
       "      <td>0.107864</td>\n",
       "      <td>0.709949</td>\n",
       "      <td>0.072346</td>\n",
       "      <td>0.673639</td>\n",
       "      <td>0.114268</td>\n",
       "    </tr>\n",
       "    <tr>\n",
       "      <th>GaussianNB</th>\n",
       "      <td>0.536565</td>\n",
       "      <td>0.073861</td>\n",
       "      <td>0.569048</td>\n",
       "      <td>0.082476</td>\n",
       "      <td>0.391071</td>\n",
       "      <td>0.053565</td>\n",
       "    </tr>\n",
       "    <tr>\n",
       "      <th>GradientBoostingClassifier</th>\n",
       "      <td>0.572789</td>\n",
       "      <td>0.146149</td>\n",
       "      <td>0.654592</td>\n",
       "      <td>0.054720</td>\n",
       "      <td>0.675510</td>\n",
       "      <td>0.157503</td>\n",
       "    </tr>\n",
       "    <tr>\n",
       "      <th>KNeighborsClassifier</th>\n",
       "      <td>0.521599</td>\n",
       "      <td>0.082569</td>\n",
       "      <td>0.475595</td>\n",
       "      <td>0.076479</td>\n",
       "      <td>0.586395</td>\n",
       "      <td>0.076197</td>\n",
       "    </tr>\n",
       "    <tr>\n",
       "      <th>LogisticRegression</th>\n",
       "      <td>0.615051</td>\n",
       "      <td>0.101291</td>\n",
       "      <td>0.651020</td>\n",
       "      <td>0.099366</td>\n",
       "      <td>0.566327</td>\n",
       "      <td>0.071396</td>\n",
       "    </tr>\n",
       "    <tr>\n",
       "      <th>SVC</th>\n",
       "      <td>0.577891</td>\n",
       "      <td>0.036195</td>\n",
       "      <td>0.451361</td>\n",
       "      <td>0.044707</td>\n",
       "      <td>0.580952</td>\n",
       "      <td>0.073217</td>\n",
       "    </tr>\n",
       "    <tr>\n",
       "      <th>DummyClassifier</th>\n",
       "      <td>0.500000</td>\n",
       "      <td>0.000000</td>\n",
       "      <td>0.500000</td>\n",
       "      <td>0.000000</td>\n",
       "      <td>0.500000</td>\n",
       "      <td>0.000000</td>\n",
       "    </tr>\n",
       "  </tbody>\n",
       "</table>\n",
       "</div>"
      ],
      "text/plain": [
       "                            Richard mean  Richard std  Julian mean  \\\n",
       "DecisionTreeClassifier          0.536054     0.054575     0.569473   \n",
       "RandomForestClassifier          0.567177     0.107864     0.709949   \n",
       "GaussianNB                      0.536565     0.073861     0.569048   \n",
       "GradientBoostingClassifier      0.572789     0.146149     0.654592   \n",
       "KNeighborsClassifier            0.521599     0.082569     0.475595   \n",
       "LogisticRegression              0.615051     0.101291     0.651020   \n",
       "SVC                             0.577891     0.036195     0.451361   \n",
       "DummyClassifier                 0.500000     0.000000     0.500000   \n",
       "\n",
       "                            Julian std  Freeman mean  Freeman std  \n",
       "DecisionTreeClassifier        0.134531      0.547024     0.122214  \n",
       "RandomForestClassifier        0.072346      0.673639     0.114268  \n",
       "GaussianNB                    0.082476      0.391071     0.053565  \n",
       "GradientBoostingClassifier    0.054720      0.675510     0.157503  \n",
       "KNeighborsClassifier          0.076479      0.586395     0.076197  \n",
       "LogisticRegression            0.099366      0.566327     0.071396  \n",
       "SVC                           0.044707      0.580952     0.073217  \n",
       "DummyClassifier               0.000000      0.500000     0.000000  "
      ]
     },
     "execution_count": 8,
     "metadata": {},
     "output_type": "execute_result"
    }
   ],
   "source": [
    "print('On average harmonic mean is better by', (b_harmonic_mean.mean(axis=1) - b_difference.mean(axis=1)).mean(), 'ROC AUC')\n",
    "b_difference"
   ]
  },
  {
   "cell_type": "markdown",
   "metadata": {},
   "source": [
    "The prediction with difference instead of harmonic mean is therefore marginally worse."
   ]
  },
  {
   "cell_type": "code",
   "execution_count": 33,
   "metadata": {},
   "outputs": [
    {
     "name": "stderr",
     "output_type": "stream",
     "text": [
      "The PostScript backend does not support transparency; partially transparent artists will be rendered opaque.\n",
      "The PostScript backend does not support transparency; partially transparent artists will be rendered opaque.\n",
      "The PostScript backend does not support transparency; partially transparent artists will be rendered opaque.\n",
      "The PostScript backend does not support transparency; partially transparent artists will be rendered opaque.\n"
     ]
    },
    {
     "data": {
      "image/png": "[encoded data removed]",
      "text/plain": [
       "<Figure size 432x432 with 1 Axes>"
      ]
     },
     "metadata": {
      "needs_background": "light"
     },
     "output_type": "display_data"
    }
   ],
   "source": [
    "b = b_harmonic_mean\n",
    "\n",
    "plt.rc('font', family='serif')\n",
    "fig = plt.figure(figsize=(6, 6))\n",
    "degrees=75\n",
    "plt.ylabel('ROC AUC')\n",
    "plt.xticks(rotation=degrees)\n",
    "plt.ylim([0, 1])\n",
    "plt.gca().fill_between([-1, 8], 0, 0.5, facecolor='grey', edgecolor='k', alpha=0.25, hatch='\\\\')\n",
    "plt.errorbar(b.index, b['Richard mean'], yerr=b['Richard std'], label='clinical')\n",
    "plt.errorbar(b.index, b['Freeman mean'], yerr=b['Freeman std'], label='clinical + genomic')\n",
    "plt.legend(frameon=False)\n",
    "# plt.tight_layout()\n",
    "plt.savefig('figs/comparison_classifiers.png', bbox_inches = 'tight')\n",
    "plt.savefig('figs/comparison_classifiers.eps', bbox_inches = 'tight')"
   ]
  },
  {
   "cell_type": "markdown",
   "metadata": {},
   "source": [
    "# 4) Choose model logistic regression.\n",
    "The logistic regression model doesn't have the best accuracy in absolute terms, but is much simpler than the RandomForest. So by occams razor, we pick it."
   ]
  },
  {
   "cell_type": "code",
   "execution_count": 10,
   "metadata": {},
   "outputs": [],
   "source": [
    "random_state=1234\n",
    "logistic_Freeman_parameters = {\n",
    "    \"random_state\": random_state,\n",
    "#     \"penalty\": \"l2\",\n",
    "#     \"class_weight\": \"balanced\",\n",
    "#     \"solver\": \"newton-cg\",\n",
    "#     \"C\": 1.0,\n",
    "#     \"max_iter\": 10000,\n",
    "#     'tol': 0.00001,\n",
    "}\n",
    "logistic_Freeman = pipeline_Freeman(LogisticRegression, **logistic_Freeman_parameters)"
   ]
  },
  {
   "cell_type": "markdown",
   "metadata": {},
   "source": [
    "# 5) Compare with number of molecules."
   ]
  },
  {
   "cell_type": "code",
   "execution_count": 11,
   "metadata": {},
   "outputs": [],
   "source": [
    "# Harmonic mean genomic variable.\n",
    "X_train_hm_molecules, _ = combine_tsv_files(\n",
    "    \"output/train__harmonic_mean__No. Mutant Molecules per mL.tsv\",\n",
    "    \"output/train__harmonic_mean__CNV Score.tsv\",\n",
    ")"
   ]
  },
  {
   "cell_type": "code",
   "execution_count": 12,
   "metadata": {},
   "outputs": [],
   "source": [
    "# from sklearn.model_selection import cross_val_score\n",
    "# score_allele_frequency = cross_val_score(logistic_Freeman, X_train_hm, y_train_resp, scoring='roc_auc', cv=5)\n",
    "# score_molecules = cross_val_score(logistic_Freeman, X_train_hm_molecules, y_train_resp, scoring='roc_auc', cv=5)\n",
    "# print('Using allele frequency', score_allele_frequency.mean(), '+/-', score_allele_frequency.std())\n",
    "# print('Using # molecules', score_molecules.mean(), '+/-', score_molecules.std())"
   ]
  },
  {
   "cell_type": "markdown",
   "metadata": {},
   "source": [
    "# 6) Cross validation\n",
    "Find the optimal hyper parameters."
   ]
  },
  {
   "cell_type": "code",
   "execution_count": 13,
   "metadata": {},
   "outputs": [],
   "source": [
    "logistic_regression_hyper_parameters = {\n",
    "    \"transform_columns__age_discretizer__n_bins\": (2, 3, 4, 5),\n",
    "    \"filter_rare_mutations__top_k_features\": (4, 5, 6, 7, 8, 10, 12, 18, 24, 48),\n",
    "#     \"estimator__l1_ratio\": [0.025, 0.05, 0.125, 0.25, 0.375, 0.5, 0.6, 0.75, 0.85, 1.0],\n",
    "    \"estimator__C\": [0.05, 0.1, 0.25, 0.5, 0.75, 1.0, 1.5, 2.0, 4.0],\n",
    "    \"estimator__class_weight\": [\"balanced\", None],\n",
    "}\n",
    "clf_search = GridSearchCV(\n",
    "    logistic_Freeman,\n",
    "    logistic_regression_hyper_parameters,\n",
    "    scoring=\"roc_auc\",\n",
    "    n_jobs=8,\n",
    "    cv=5,\n",
    ")"
   ]
  },
  {
   "cell_type": "code",
   "execution_count": 14,
   "metadata": {},
   "outputs": [],
   "source": [
    "# clf_search.fit(X_train_hm, y_train_resp)"
   ]
  },
  {
   "cell_type": "code",
   "execution_count": 15,
   "metadata": {},
   "outputs": [],
   "source": [
    "# print(\"Best parameters set found on development set:\")\n",
    "# print()\n",
    "# print(clf_search.best_params_)\n",
    "# print()\n",
    "# print(\"Grid scores on development set:\")\n",
    "# print()\n",
    "# means = clf_search.cv_results_['mean_test_score']\n",
    "# stds = clf_search.cv_results_['std_test_score']\n",
    "# for mean, std, params in zip(means, stds, clf_search.cv_results_['params']):\n",
    "#     print(\"%0.3f (+/-%0.03f) for %r\"\n",
    "#           % (mean, std * 2, params))\n",
    "# print()"
   ]
  },
  {
   "cell_type": "code",
   "execution_count": 16,
   "metadata": {},
   "outputs": [],
   "source": [
    "# # Non-convergent best parameters under elasticnet.\n",
    "# best_params = {\n",
    "#     'estimator__C': 2.0,\n",
    "#     'estimator__class_weight': None,\n",
    "#     'estimator__l1_ratio': 0.025,\n",
    "#     \"estimator__penalty\": \"l1\",\n",
    "#     \"estimator__solver\": \"saga\",\n",
    "#     'filter_rare_mutations__top_k_features': 4,\n",
    "#     'transform_columns__age_discretizer__n_bins': 2,\n",
    "# }\n",
    "\n",
    "# Best parameters under L2 norm.\n",
    "best_params = {\n",
    "    \"estimator__C\": 1.0,\n",
    "    \"estimator__class_weight\": \"balanced\",\n",
    "    \"estimator__solver\": \"newton-cg\",\n",
    "#     \"estimator__solver\": \"saga\",\n",
    "    \"filter_rare_mutations__top_k_features\": 4,\n",
    "#     \"transform_columns__age_discretizer__n_bins\": 2,\n",
    "}\n"
   ]
  },
  {
   "cell_type": "code",
   "execution_count": 17,
   "metadata": {},
   "outputs": [],
   "source": [
    "# assert best_params == clf_search.best_params_"
   ]
  },
  {
   "cell_type": "code",
   "execution_count": 18,
   "metadata": {},
   "outputs": [
    {
     "data": {
      "text/plain": [
       "Pipeline(memory=None,\n",
       "         steps=[('clinical_curation',\n",
       "                 FunctionTransformer(accept_sparse=False, check_inverse=True,\n",
       "                                     func=<function clinical_data_curation at 0x7f1c5ef91400>,\n",
       "                                     inv_kw_args=None, inverse_func=None,\n",
       "                                     kw_args=None, pass_y='deprecated',\n",
       "                                     validate=False)),\n",
       "                ('remove_specific_phenotypes',\n",
       "                 FunctionTransformer(accept_sparse=False, check_inverse=True,\n",
       "                                     func=<function...\n",
       "                                                   'adrenalmeta', 'livermeta',\n",
       "                                                   'lungmeta', 'skeletonmeta',\n",
       "                                                   'age'])],\n",
       "                                   verbose=False)),\n",
       "                ('estimator',\n",
       "                 LogisticRegression(C=1.0, class_weight='balanced', dual=False,\n",
       "                                    fit_intercept=True, intercept_scaling=1,\n",
       "                                    l1_ratio=None, max_iter=100,\n",
       "                                    multi_class='warn', n_jobs=None,\n",
       "                                    penalty='l2', random_state=1234,\n",
       "                                    solver='newton-cg', tol=0.0001, verbose=0,\n",
       "                                    warm_start=False))],\n",
       "         verbose=False)"
      ]
     },
     "execution_count": 18,
     "metadata": {},
     "output_type": "execute_result"
    }
   ],
   "source": [
    "# Pick the best parameteres.\n",
    "logistic_Freeman.set_params(**best_params)\n",
    "logistic_Freeman.fit(X_train_hm, y_train_resp)"
   ]
  },
  {
   "cell_type": "markdown",
   "metadata": {},
   "source": [
    "# 7) Make plots of the model"
   ]
  },
  {
   "cell_type": "code",
   "execution_count": 19,
   "metadata": {},
   "outputs": [
    {
     "data": {
      "image/png": "[encoded data removed]",
      "text/plain": [
       "<Figure size 576x432 with 1 Axes>"
      ]
     },
     "metadata": {
      "needs_background": "light"
     },
     "output_type": "display_data"
    },
    {
     "data": {
      "image/png": "[encoded data removed]",
      "text/plain": [
       "<Figure size 576x432 with 1 Axes>"
      ]
     },
     "metadata": {
      "needs_background": "light"
     },
     "output_type": "display_data"
    }
   ],
   "source": [
    "figure_filenames = (\"logistic_regression_clinical_freeman\", \"logistic_regression_genetic_freeman\")\n",
    "view_linear_model_freeman(X_train_hm, y_train_resp, logistic_Freeman, filenames=figure_filenames, thresshold=0.1)"
   ]
  },
  {
   "cell_type": "code",
   "execution_count": null,
   "metadata": {},
   "outputs": [],
   "source": []
  }
 ],
 "metadata": {
  "kernelspec": {
   "display_name": "Python 3",
   "language": "python",
   "name": "python3"
  },
  "language_info": {
   "codemirror_mode": {
    "name": "ipython",
    "version": 3
   },
   "file_extension": ".py",
   "mimetype": "text/x-python",
   "name": "python",
   "nbconvert_exporter": "python",
   "pygments_lexer": "ipython3",
   "version": "3.7.3"
  }
 },
 "nbformat": 4,
 "nbformat_minor": 2
}
