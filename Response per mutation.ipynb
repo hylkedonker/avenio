{
 "cells": [
  {
   "cell_type": "markdown",
   "metadata": {},
   "source": [
    "# Mutation correlations\n",
    "In this notebook we will focus on each of the mutatons individually."
   ]
  },
  {
   "cell_type": "code",
   "execution_count": null,
   "metadata": {},
   "outputs": [],
   "source": [
    "%matplotlib inline\n",
    "from scipy.stats import pearsonr\n",
    "from matplotlib import pyplot as plt\n",
    "import numpy as np\n",
    "import seaborn as sns\n",
    "\n",
    "from source import load_avenio_files\n",
    "from transform import (\n",
    "    clean_mutation_columns, \n",
    "    get_top_correlated, \n",
    "    patient_allele_frequencies,\n",
    ")\n",
    "\n",
    "\n",
    "RANDOM_STATE = 1234\n",
    "np.random.seed(RANDOM_STATE)"
   ]
  },
  {
   "cell_type": "code",
   "execution_count": null,
   "metadata": {},
   "outputs": [],
   "source": [
    "# Load data from spreadsheet and SPSS files.\n",
    "mutation_data_frame, phenotypes = load_avenio_files()"
   ]
  },
  {
   "cell_type": "markdown",
   "metadata": {},
   "source": [
    "In this document the mutation correlations will be calculated between $t_0$ and $t_1$. \n",
    "We consider the correlations for the following two quantities:\n",
    "- allele frequencies $f_0$ and $f_1$ respectively,\n",
    "- and the mutant concentration (molecules per ml) $c_0$ and $c_1$."
   ]
  },
  {
   "cell_type": "code",
   "execution_count": null,
   "metadata": {},
   "outputs": [],
   "source": [
    "# Vocabulary is the entire dataset, not only training set. Otherwise we run into problems during inference.\n",
    "gene_vocabulary = mutation_data_frame['Gene'].unique()\n",
    "\n",
    "# Convert particular columns to numbers and drop rows with missing data.\n",
    "mutation_data_frame = clean_mutation_columns(mutation_data_frame)"
   ]
  },
  {
   "cell_type": "markdown",
   "metadata": {},
   "source": [
    "There are several ways to evaluate the development of mutation. One way is to calculate the relative difference\n",
    "$$r(x) = \\frac{\\Delta x}{x_0} \\equiv \\frac{x_1 - x_0}{x_0} .$$\n",
    "where $x$ is $f$ (allele frequency) or $c$ (mutant concentration)."
   ]
  },
  {
   "cell_type": "code",
   "execution_count": null,
   "metadata": {},
   "outputs": [],
   "source": [
    "def r(t_0, t_1):\n",
    "    return (t_1 - t_0) / t_0"
   ]
  },
  {
   "cell_type": "markdown",
   "metadata": {},
   "source": [
    "Apart from the relative difference $r(x)$ there are also other ways to evaluate the growth, such as the ratio $x_1/x_0$ or the absolute difference $\\Delta x$, but it turns out that these quantities lead to large variances amongst the patients, for a given mutation (results of which, are not shown here). I will therefore focus only on the relative difference $r(x)$.\n",
    "\n",
    "Next, carry out the following steps:\n",
    "1. For each patient: calculate $r(f)$/$r(c)$ for each gene mutation.\n",
    "2. If there are multiple mutations in a single gene, sum the result $r(x) = \\sum_i r(x_i)$.\n",
    "3. Store result in a column corresponding to that mutation."
   ]
  },
  {
   "cell_type": "code",
   "execution_count": null,
   "metadata": {},
   "outputs": [],
   "source": [
    "# Calculate allele frequencies r(f).\n",
    "mutant_allele_frequencies = patient_allele_frequencies(\n",
    "    mutation_data_frame, \n",
    "    gene_vocabulary, \n",
    "    # Calculate r(t_0, t_1).\n",
    "    transformation=r,\n",
    "    # Sum mutation values per gene in each patient.\n",
    "    handle_duplicates=\"sum\",\n",
    "    allele_columns=[\"T0: Allele \\nFraction\", \"T1: Allele Fraction\"],\n",
    ")\n",
    "\n",
    "# Calculate mutant concentration r(c).\n",
    "mutant_allele_concentration = patient_allele_frequencies(\n",
    "    mutation_data_frame, \n",
    "    gene_vocabulary, \n",
    "    # Calculate r(t_0, t_1).\n",
    "    transformation=r,\n",
    "    # Sum mutation values per gene in each patient.\n",
    "    handle_duplicates=\"sum\",\n",
    "    allele_columns=[\n",
    "        \"T0: No. Mutant \\nMolecules per mL\",\n",
    "        \"T1: No. Mutant \\nMolecules per mL\",\n",
    "    ],\n",
    ")"
   ]
  },
  {
   "cell_type": "markdown",
   "metadata": {},
   "source": [
    "To give you an idea of the resulting table, let me give you the first few patient records for $r(f)$:"
   ]
  },
  {
   "cell_type": "code",
   "execution_count": null,
   "metadata": {},
   "outputs": [],
   "source": [
    "mutant_allele_frequencies.head()"
   ]
  },
  {
   "cell_type": "markdown",
   "metadata": {},
   "source": [
    "# Correlations\n",
    "Now that we have cleaned the data we can start calculating correlations for both $r(f)$ as well as $r(c)$. The goal: to see if either $r(f)$ or $r(c)$ lead to more pronounced correlations. \n",
    "We calculate the Pearson correlation value which is defined as:\n",
    "$$C_{ij} = \\sum_{m=1}^{N} \\frac{(X_{mi} - \\mu_i)(X_{mj} - \\mu_j)}{\\sigma_i \\sigma_j} \\, ,$$\n",
    "with $\\mu$ and $\\sigma$ the mean and standard deviation, respectively."
   ]
  },
  {
   "cell_type": "code",
   "execution_count": null,
   "metadata": {},
   "outputs": [],
   "source": [
    "# Extra function to calculate p-value for given Pearson correlation.\n",
    "def pearson_pval(x, y):\n",
    "    return pearsonr(x, y)[1]"
   ]
  },
  {
   "cell_type": "markdown",
   "metadata": {},
   "source": [
    "## Allele frequency\n",
    "Let us first focus on the relative difference in allele frequencies $r(f)$ and calculate the corresponding correlations:"
   ]
  },
  {
   "cell_type": "code",
   "execution_count": null,
   "metadata": {},
   "outputs": [],
   "source": [
    "corr = mutant_allele_frequencies.corr().fillna(0)\n",
    "pval_corr = mutant_allele_frequencies.corr(method=pearson_pval).fillna(1)\n",
    "corr.style.background_gradient(cmap='coolwarm', axis=None)"
   ]
  },
  {
   "cell_type": "markdown",
   "metadata": {},
   "source": [
    "### Negative correlation\n",
    "Now, zoom in on the top anti-correlating genes. That is, a relative increase in allele frequency of gene $a$ is associated with a decrease in gene $b$, or vice versa."
   ]
  },
  {
   "cell_type": "code",
   "execution_count": null,
   "metadata": {},
   "outputs": [],
   "source": [
    "gene_counts = mutation_data_frame['Gene'].value_counts()\n",
    "get_top_correlated(\n",
    "    corr, \n",
    "    pval_corr,\n",
    "    gene_counts=gene_counts, \n",
    "    ascending=True, \n",
    "    top_count=4,\n",
    ")"
   ]
  },
  {
   "cell_type": "markdown",
   "metadata": {},
   "source": [
    "The p-values should not be taken to seriously. The fact that the p-values are extremely low is easy to understand:\n",
    "- All columns are zero.\n",
    "- Except the columns where the two unique mutations happen to coincide.\n",
    "This immediately implies that the p-value should be near zero."
   ]
  },
  {
   "cell_type": "markdown",
   "metadata": {},
   "source": [
    "### Positive correlations\n",
    "Likewise, calculate the top correlating genes. That is, both relative allele frequencies increase or decrease in concert."
   ]
  },
  {
   "cell_type": "code",
   "execution_count": null,
   "metadata": {},
   "outputs": [],
   "source": [
    "pcorr_rf = get_top_correlated(corr, pval_corr, gene_counts=gene_counts, top_count=20, ascending=False)\n",
    "pcorr_rf"
   ]
  },
  {
   "cell_type": "markdown",
   "metadata": {},
   "source": [
    "Again, note the concordance of extremely rare mutations. As discussed above, these p values should be taken with a pinch of salt."
   ]
  },
  {
   "cell_type": "markdown",
   "metadata": {},
   "source": [
    "## Mutant concentration\n",
    "Mutatis mutandis, we will now calculate the correlations for the relative difference in mutation concentration $r(c)$."
   ]
  },
  {
   "cell_type": "code",
   "execution_count": null,
   "metadata": {},
   "outputs": [],
   "source": [
    "corr = mutant_allele_concentration.corr().fillna(0)\n",
    "pval_corr = mutant_allele_concentration.corr(method=pearson_pval).fillna(1)\n",
    "corr.style.background_gradient(cmap='coolwarm', axis=None)"
   ]
  },
  {
   "cell_type": "markdown",
   "metadata": {},
   "source": [
    "### Negative correlation"
   ]
  },
  {
   "cell_type": "code",
   "execution_count": null,
   "metadata": {},
   "outputs": [],
   "source": [
    "gene_counts = mutation_data_frame['Gene'].value_counts()\n",
    "get_top_correlated(\n",
    "    corr, \n",
    "    pval_corr,\n",
    "    gene_counts=gene_counts, \n",
    "    ascending=True, \n",
    "    top_count=4,\n",
    ")"
   ]
  },
  {
   "cell_type": "markdown",
   "metadata": {},
   "source": [
    "Comparing these results with the negative correlations of $r(f)$ we find that negative correlations have decreased in absolute size. Importantly, the pair `NFE2L2` with `KDR` has remained the top anti-correlating mutation. But the remainder of the list has changed altogether."
   ]
  },
  {
   "cell_type": "markdown",
   "metadata": {},
   "source": [
    "### Positive correlation\n",
    "Likewise, the list for top positive correlating mutations:"
   ]
  },
  {
   "cell_type": "code",
   "execution_count": null,
   "metadata": {},
   "outputs": [],
   "source": [
    "pcorr_rc = get_top_correlated(corr, pval_corr, gene_counts=gene_counts, top_count=20, ascending=False)\n",
    "pcorr_rc"
   ]
  },
  {
   "cell_type": "markdown",
   "metadata": {},
   "source": [
    "Comparatively, the size of the top 20 correlating mutations have increased in size. "
   ]
  },
  {
   "cell_type": "markdown",
   "metadata": {},
   "source": [
    "## Do responders show an increase in mutational allel frequency?"
   ]
  },
  {
   "cell_type": "markdown",
   "metadata": {},
   "source": [
    "Instead of looking at results per patient, consider now all the mutations and compare them according to the response. Again, we will group the results according to $r(f)$ and $r(c)$."
   ]
  },
  {
   "cell_type": "code",
   "execution_count": null,
   "metadata": {},
   "outputs": [],
   "source": [
    "# Use the columns containing the allele frequencies.\n",
    "mutation_data_frame[\"r(f)\"] = r(\n",
    "    mutation_data_frame[\"T0: Allele \\nFraction\"], mutation_data_frame[\"T1: Allele Fraction\"]\n",
    ")\n",
    "\n",
    "# Use the columns containing the concentration.\n",
    "mutation_data_frame[\"r(c)\"] = r(\n",
    "    mutation_data_frame[\"T0: No. Mutant \\nMolecules per mL\"], mutation_data_frame[\"T1: No. Mutant \\nMolecules per mL\"]\n",
    ")"
   ]
  },
  {
   "cell_type": "markdown",
   "metadata": {},
   "source": [
    "Combine records with patient response data."
   ]
  },
  {
   "cell_type": "code",
   "execution_count": null,
   "metadata": {},
   "outputs": [],
   "source": [
    "mutation_data_frame['response'] = mutation_data_frame['Patient ID'].apply(lambda x: phenotypes.loc[x, 'response_grouped'])\n",
    "mutation_data_frame['progression'] = mutation_data_frame['Patient ID'].apply(lambda x: phenotypes.loc[x, 'progressie'])"
   ]
  },
  {
   "cell_type": "markdown",
   "metadata": {},
   "source": [
    "Since the occurences of most genes are extremely rare, only the top 4 most occuring gene mutations are shown:"
   ]
  },
  {
   "cell_type": "code",
   "execution_count": null,
   "metadata": {},
   "outputs": [],
   "source": [
    "gene_subset = mutation_data_frame['Gene'].isin(['TP53', 'KRAS', 'PIK3CA', 'NFE2L2'])\n",
    "\n",
    "g = sns.catplot(\n",
    "    x='Gene', \n",
    "    y='r(f)', \n",
    "    hue='response',\n",
    "    data=mutation_data_frame[gene_subset],\n",
    "    kind='violin',\n",
    ")\n",
    "plt.title('Relative increase allele frequency $r(f)$')\n",
    "g.fig.set_size_inches(16,8)"
   ]
  },
  {
   "cell_type": "markdown",
   "metadata": {},
   "source": [
    "By looking carefully, it looks like responders have a slight decrease in $r(f)$ for `TP53` and `KRAS` compared to non-responders. For `NFE2l2` this looks like the other way around."
   ]
  },
  {
   "cell_type": "code",
   "execution_count": null,
   "metadata": {},
   "outputs": [],
   "source": [
    "gene_subset = mutation_data_frame['Gene'].isin(['TP53', 'KRAS', 'PIK3CA', 'NFE2L2'])\n",
    "\n",
    "g = sns.catplot(\n",
    "    x='Gene', \n",
    "    y='f_t2', \n",
    "    hue='response',\n",
    "    data=mutation_data_frame[gene_subset],\n",
    "    kind='violin',\n",
    ")\n",
    "plt.title('Relative increase mutant concentration r(c)')\n",
    "plt.ylim([-4, 10])\n",
    "g.fig.set_size_inches(16,8)"
   ]
  },
  {
   "cell_type": "markdown",
   "metadata": {},
   "source": [
    "Essentially the same conclusion cna be drawn based on the data from $r(c)$, but now with larger spread in the distributions."
   ]
  }
 ],
 "metadata": {
  "kernelspec": {
   "display_name": "Python 3",
   "language": "python",
   "name": "python3"
  },
  "language_info": {
   "codemirror_mode": {
    "name": "ipython",
    "version": 3
   },
   "file_extension": ".py",
   "mimetype": "text/x-python",
   "name": "python",
   "nbconvert_exporter": "python",
   "pygments_lexer": "ipython3",
   "version": "3.7.3"
  }
 },
 "nbformat": 4,
 "nbformat_minor": 2
}
