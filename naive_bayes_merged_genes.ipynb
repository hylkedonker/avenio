{
 "cells": [
  {
   "cell_type": "code",
   "execution_count": 1,
   "metadata": {},
   "outputs": [],
   "source": [
    "from pprint import pprint\n",
    "\n",
    "from matplotlib import pyplot as plt\n",
    "import numpy as np\n",
    "import pandas as pd\n",
    "import seaborn as sns\n",
    "from sklearn.naive_bayes import CategoricalNB, ComplementNB\n",
    "from sklearn.metrics import plot_roc_curve, roc_auc_score, plot_confusion_matrix, roc_curve, confusion_matrix, auc, accuracy_score\n",
    "from sklearn.model_selection import cross_val_predict, StratifiedKFold\n",
    "\n",
    "from pipelines import nested_cross_validate_score, pipeline_Donker\n",
    "from transform import combine_tsv_files\n",
    "from utils import double_cross_validate, get_sub_pipeline"
   ]
  },
  {
   "cell_type": "code",
   "execution_count": 2,
   "metadata": {},
   "outputs": [],
   "source": [
    "# Difference genomic variable.\n",
    "X, y = combine_tsv_files(\n",
    "    \"output/all__gene__up_or_down__No. Mutant Molecules per mL.tsv\",\n",
    "    \"output/all__gene__up_or_down__CNV Score.tsv\",\n",
    ")\n",
    "\n",
    "y_resp = y['response_grouped'].map({\n",
    "    'non responder (sd+pd)': 'non responder (sd+pd+ne)', \n",
    "    'non evaluable (ne)': 'non responder (sd+pd+ne)',\n",
    "    'responder (pr+cr)': 'responder (pr+cr)',\n",
    "})"
   ]
  },
  {
   "cell_type": "code",
   "execution_count": 3,
   "metadata": {},
   "outputs": [],
   "source": [
    "from models import TransformColumnType\n",
    "\n",
    "def genomics_discretiser(value):\n",
    "    \"\"\" Bin genomics with ordinal encoding. \"\"\"\n",
    "    if value > 0:\n",
    "        return \">0\"\n",
    "    elif value < 0:\n",
    "        return \"<0\"\n",
    "    return \"0\"\n",
    "\n",
    "X_T = TransformColumnType(\n",
    "    column_type=\"numeric\", transformation=genomics_discretiser\n",
    ").fit_transform(X)"
   ]
  },
  {
   "cell_type": "code",
   "execution_count": 4,
   "metadata": {},
   "outputs": [
    {
     "name": "stdout",
     "output_type": "stream",
     "text": [
      "['DDR2_snv',\n",
      " 'GNAQ_snv',\n",
      " 'PIK3R1_snv',\n",
      " 'PTEN_snv',\n",
      " 'TSC1_snv',\n",
      " 'TSC2_snv',\n",
      " 'NF2_snv',\n",
      " 'PDCD1LG2_snv',\n",
      " 'ABL1_snv',\n",
      " 'CCND2_snv',\n",
      " 'CDK4_snv',\n",
      " 'CDK6_snv',\n",
      " 'CSF1R_snv',\n",
      " 'CTNNB1_snv',\n",
      " 'ERBB2_snv',\n",
      " 'ESR1_snv',\n",
      " 'FGFR3_snv',\n",
      " 'FLT3_snv',\n",
      " 'MLH1_snv',\n",
      " 'MSH6_snv',\n",
      " 'NTRK1_snv',\n",
      " 'RAF1_snv',\n",
      " 'SMO_snv',\n",
      " 'AKT1_snv',\n",
      " 'AKT2_snv',\n",
      " 'ARAF_snv',\n",
      " 'GATA3_snv',\n",
      " 'MAP2K1_snv',\n",
      " 'MAP2K2_snv',\n",
      " 'NRAS_snv',\n",
      " 'IDH1_snv',\n",
      " 'CD274_snv',\n",
      " 'Age',\n",
      " 'stage',\n",
      " 'therapyline']\n"
     ]
    }
   ],
   "source": [
    "columns_to_merge = []\n",
    "for c in X_T.columns:\n",
    "    item_counts = X_T[c].value_counts()\n",
    "    if '<0' in item_counts.index or '>0' in item_counts.index:\n",
    "        # Only if both items are present and both are bigger than 5, no longer a candidate.\n",
    "        if '<0' in item_counts.index and '>0' in item_counts.index:\n",
    "            if item_counts['<0'] > 5 or item_counts['>0'] > 5:\n",
    "                continue\n",
    "        columns_to_merge.append(c)\n",
    "pprint(columns_to_merge)"
   ]
  },
  {
   "cell_type": "code",
   "execution_count": 5,
   "metadata": {},
   "outputs": [],
   "source": [
    "columns_to_merge = [\n",
    " 'DDR2_snv',\n",
    " 'GNAQ_snv',\n",
    " 'PIK3R1_snv',\n",
    " 'PTEN_snv',\n",
    " 'TSC1_snv',\n",
    " 'TSC2_snv',\n",
    " 'NF2_snv',\n",
    " 'PDCD1LG2_snv',\n",
    " 'ABL1_snv',\n",
    " 'CCND2_snv',\n",
    " 'CDK4_snv',\n",
    " 'CDK6_snv',\n",
    " 'CSF1R_snv',\n",
    " 'CTNNB1_snv',\n",
    " 'ERBB2_snv',\n",
    " 'ESR1_snv',\n",
    " 'FGFR3_snv',\n",
    " 'FLT3_snv',\n",
    " 'MLH1_snv',\n",
    " 'MSH6_snv',\n",
    " 'NTRK1_snv',\n",
    " 'RAF1_snv',\n",
    " 'SMO_snv',\n",
    " 'AKT1_snv',\n",
    " 'AKT2_snv',\n",
    " 'ARAF_snv',\n",
    " 'GATA3_snv',\n",
    " 'MAP2K1_snv',\n",
    " 'MAP2K2_snv',\n",
    " 'NRAS_snv',\n",
    " 'IDH1_snv',\n",
    " 'CD274_snv']"
   ]
  },
  {
   "cell_type": "code",
   "execution_count": 6,
   "metadata": {},
   "outputs": [],
   "source": [
    "X_merged = X.drop(columns=columns_to_merge)\n",
    "X_merged['OTHER_snv'] = X[columns_to_merge].sum(axis=1)"
   ]
  },
  {
   "cell_type": "code",
   "execution_count": 7,
   "metadata": {},
   "outputs": [],
   "source": [
    "# p = pipeline_Donker(CategoricalNB())\n",
    "p = pipeline_Donker(ComplementNB())"
   ]
  },
  {
   "cell_type": "code",
   "execution_count": 8,
   "metadata": {},
   "outputs": [],
   "source": [
    "@double_cross_validate(5, 5)\n",
    "def multi_class_metrics(clf, X, y):\n",
    "    mean_fpr = np.linspace(0, 1, 100)\n",
    "    metrics = {}\n",
    "    # Make one v.s. rest classification.\n",
    "    for class_name in ['non responder (sd+pd)', 'responder (pr+cr)', 'non evaluable (ne)']:\n",
    "        ybin_true = y == class_name\n",
    "        class_index = list(clf.classes_).index(class_name)\n",
    "        y_prob = clf.predict_proba(X)[:, class_index]\n",
    "        ybin_pred = clf.predict(X) == class_name\n",
    "        fpr, tpr, _ = roc_curve(ybin_true, y_prob)\n",
    "        interp_tpr = np.interp(mean_fpr, fpr, tpr)\n",
    "        interp_tpr[0] = 0.0\n",
    "        metrics.update({\n",
    "            f'{class_name}__tprs': interp_tpr,\n",
    "            f'{class_name}__fprs': mean_fpr,\n",
    "            f'{class_name}__roc_auc': roc_auc_score(ybin_true, y_prob),\n",
    "            f'{class_name}__accuracy': accuracy_score(ybin_true, ybin_pred),\n",
    "            f'{class_name}__confusion_matrix': confusion_matrix(ybin_true, ybin_pred, normalize='true'),\n",
    "        })\n",
    "        print(class_name, roc_auc_score(ybin_true, y_prob))\n",
    "    return metrics"
   ]
  },
  {
   "cell_type": "code",
   "execution_count": 29,
   "metadata": {},
   "outputs": [],
   "source": [
    "from sklearn.metrics import precision_score\n",
    "\n",
    "@double_cross_validate(5, 5)\n",
    "def metrics_binary_class(clf, X, y, positive_class):\n",
    "    negative_class = 'non responder (sd+pd+ne)'\n",
    "    mean_fpr = np.linspace(0, 1, 100)\n",
    "    metrics = {}\n",
    "    class_index = list(clf.classes_).index(positive_class)\n",
    "    y_prob = clf.predict_proba(X)[:, class_index]\n",
    "    y_pred = clf.predict(X)\n",
    "    fpr, tpr, _ = roc_curve(y, y_prob, pos_label=positive_class)\n",
    "    interp_tpr = np.interp(mean_fpr, fpr, tpr)\n",
    "    \n",
    "    assert positive_class != negative_class\n",
    "    y_ol = np.full(shape=y.shape, fill_value=negative_class)\n",
    "    operating_line = 0.05\n",
    "    y_ol[y_prob > operating_line] = positive_class\n",
    "\n",
    "    interp_tpr[0] = 0.0\n",
    "    metrics.update(\n",
    "        {\n",
    "            f\"{positive_class}__tprs\": interp_tpr,\n",
    "            f\"{positive_class}__fprs\": mean_fpr,\n",
    "            f\"{positive_class}__roc_auc\": roc_auc_score(y, y_prob),\n",
    "            f\"{positive_class}__accuracy\": accuracy_score(y, y_pred),\n",
    "            f\"{positive_class}__operator__confusion_matrix\": confusion_matrix(y, y_ol, normalize='true'),\n",
    "            f\"{positive_class}__confusion_matrix\": confusion_matrix(\n",
    "                y, y_pred, normalize=\"true\"\n",
    "            ),\n",
    "        }\n",
    "    )\n",
    "    print(positive_class, roc_auc_score(y, y_prob))\n",
    "    return metrics"
   ]
  },
  {
   "cell_type": "code",
   "execution_count": 30,
   "metadata": {},
   "outputs": [
    {
     "name": "stdout",
     "output_type": "stream",
     "text": [
      "Fitting 5 folds for each of 1 candidates, totalling 5 fits\n"
     ]
    },
    {
     "name": "stderr",
     "output_type": "stream",
     "text": [
      "[Parallel(n_jobs=-1)]: Using backend LokyBackend with 8 concurrent workers.\n",
      "[Parallel(n_jobs=-1)]: Done   2 out of   5 | elapsed:    1.3s remaining:    2.0s\n",
      "[Parallel(n_jobs=-1)]: Done   5 out of   5 | elapsed:    1.3s finished\n"
     ]
    },
    {
     "name": "stdout",
     "output_type": "stream",
     "text": [
      "responder (pr+cr) 0.8247863247863247\n",
      "Fitting 5 folds for each of 1 candidates, totalling 5 fits\n"
     ]
    },
    {
     "name": "stderr",
     "output_type": "stream",
     "text": [
      "[Parallel(n_jobs=-1)]: Using backend LokyBackend with 8 concurrent workers.\n",
      "[Parallel(n_jobs=-1)]: Done   2 out of   5 | elapsed:    0.2s remaining:    0.3s\n",
      "[Parallel(n_jobs=-1)]: Done   5 out of   5 | elapsed:    0.8s finished\n"
     ]
    },
    {
     "name": "stdout",
     "output_type": "stream",
     "text": [
      "responder (pr+cr) 0.5982905982905983\n",
      "Fitting 5 folds for each of 1 candidates, totalling 5 fits\n"
     ]
    },
    {
     "name": "stderr",
     "output_type": "stream",
     "text": [
      "[Parallel(n_jobs=-1)]: Using backend LokyBackend with 8 concurrent workers.\n",
      "[Parallel(n_jobs=-1)]: Done   2 out of   5 | elapsed:    0.2s remaining:    0.3s\n",
      "[Parallel(n_jobs=-1)]: Done   5 out of   5 | elapsed:    0.2s finished\n"
     ]
    },
    {
     "name": "stdout",
     "output_type": "stream",
     "text": [
      "responder (pr+cr) 0.6239316239316239\n",
      "Fitting 5 folds for each of 1 candidates, totalling 5 fits\n"
     ]
    },
    {
     "name": "stderr",
     "output_type": "stream",
     "text": [
      "[Parallel(n_jobs=-1)]: Using backend LokyBackend with 8 concurrent workers.\n",
      "[Parallel(n_jobs=-1)]: Done   2 out of   5 | elapsed:    0.2s remaining:    0.2s\n",
      "[Parallel(n_jobs=-1)]: Done   5 out of   5 | elapsed:    0.2s finished\n"
     ]
    },
    {
     "name": "stdout",
     "output_type": "stream",
     "text": [
      "responder (pr+cr) 0.7051282051282051\n",
      "Fitting 5 folds for each of 1 candidates, totalling 5 fits\n"
     ]
    },
    {
     "name": "stderr",
     "output_type": "stream",
     "text": [
      "[Parallel(n_jobs=-1)]: Using backend LokyBackend with 8 concurrent workers.\n",
      "[Parallel(n_jobs=-1)]: Done   2 out of   5 | elapsed:    0.2s remaining:    0.3s\n",
      "[Parallel(n_jobs=-1)]: Done   5 out of   5 | elapsed:    0.2s finished\n"
     ]
    },
    {
     "name": "stdout",
     "output_type": "stream",
     "text": [
      "responder (pr+cr) 0.7511111111111111\n"
     ]
    }
   ],
   "source": [
    "resp_mean, resp_std = metrics_binary_class(p, X_merged, y_resp, positive_class=\"responder (pr+cr)\")"
   ]
  },
  {
   "cell_type": "markdown",
   "metadata": {},
   "source": [
    "# Predicting responder vs non-evaluable and non-responders"
   ]
  },
  {
   "cell_type": "code",
   "execution_count": 31,
   "metadata": {},
   "outputs": [
    {
     "name": "stdout",
     "output_type": "stream",
     "text": [
      "Accuracy: 0.6211764705882353\n"
     ]
    },
    {
     "data": {
      "image/png": "[encoded data removed]",
      "text/plain": [
       "<Figure size 576x432 with 1 Axes>"
      ]
     },
     "metadata": {
      "needs_background": "light"
     },
     "output_type": "display_data"
    }
   ],
   "source": [
    "from views import plot_roc_curve\n",
    "plt.rc(\"font\", family=\"serif\")\n",
    "plt.figure(figsize=(8, 6))\n",
    "plot_roc_curve(resp_mean, resp_std, class_name='responder (pr+cr)', labels=['non-resp', 'resp'])\n",
    "plt.tight_layout()\n",
    "plt.savefig('response_prediction.png')"
   ]
  },
  {
   "cell_type": "code",
   "execution_count": 32,
   "metadata": {},
   "outputs": [
    {
     "name": "stdout",
     "output_type": "stream",
     "text": [
      "non responder (sd+pd+ne)    129\n",
      "responder (pr+cr)            45\n",
      "Name: response_grouped, dtype: int64\n"
     ]
    },
    {
     "data": {
      "text/plain": [
       "array([[0.19446154, 0.80553846],\n",
       "       [0.04444444, 0.95555556]])"
      ]
     },
     "execution_count": 32,
     "metadata": {},
     "output_type": "execute_result"
    }
   ],
   "source": [
    "print(y_resp.value_counts())\n",
    "resp_mean['responder (pr+cr)__operator__confusion_matrix']"
   ]
  },
  {
   "cell_type": "markdown",
   "metadata": {},
   "source": [
    "## Predicting overall survival"
   ]
  },
  {
   "cell_type": "code",
   "execution_count": 13,
   "metadata": {},
   "outputs": [],
   "source": [
    "y_OS = y['OS_months'].apply(lambda x: '<1yr' if x < 12.0 else r'>=1yr')\n",
    "# Verify that none of <1yr group is censored.\n",
    "assert np.all(y[y['OS_months'] < 12.0]['Censor_OS'] == 1.0)\n",
    "\n",
    "y_PFS = y['PFS_months'].apply(lambda x: '<1yr' if x < 12.0 else r'>=1yr')\n",
    "# Verify that none of <1yr group is censored.\n",
    "assert np.all(y[y['PFS_months'] < 12.0]['Censor_progression'] == 'progression of disease')"
   ]
  },
  {
   "cell_type": "code",
   "execution_count": 14,
   "metadata": {},
   "outputs": [
    {
     "name": "stdout",
     "output_type": "stream",
     "text": [
      "Fitting 5 folds for each of 1 candidates, totalling 5 fits\n"
     ]
    },
    {
     "name": "stderr",
     "output_type": "stream",
     "text": [
      "[Parallel(n_jobs=-1)]: Using backend LokyBackend with 8 concurrent workers.\n",
      "[Parallel(n_jobs=-1)]: Done   2 out of   5 | elapsed:    0.2s remaining:    0.3s\n",
      "[Parallel(n_jobs=-1)]: Done   5 out of   5 | elapsed:    0.2s finished\n"
     ]
    },
    {
     "ename": "ValueError",
     "evalue": "Target is multiclass but average='binary'. Please choose another average setting, one of [None, 'micro', 'macro', 'weighted'].",
     "output_type": "error",
     "traceback": [
      "\u001b[0;31m---------------------------------------------------------------------------\u001b[0m",
      "\u001b[0;31mValueError\u001b[0m                                Traceback (most recent call last)",
      "\u001b[0;32m<ipython-input-14-fe4ff3f5899b>\u001b[0m in \u001b[0;36m<module>\u001b[0;34m\u001b[0m\n\u001b[0;32m----> 1\u001b[0;31m \u001b[0mOS_mean\u001b[0m\u001b[0;34m,\u001b[0m \u001b[0mOS_std\u001b[0m \u001b[0;34m=\u001b[0m \u001b[0mmetrics_binary_class\u001b[0m\u001b[0;34m(\u001b[0m\u001b[0mp\u001b[0m\u001b[0;34m,\u001b[0m \u001b[0mX_merged\u001b[0m\u001b[0;34m,\u001b[0m \u001b[0my_OS\u001b[0m\u001b[0;34m,\u001b[0m \u001b[0mpositive_class\u001b[0m\u001b[0;34m=\u001b[0m\u001b[0;34m'>=1yr'\u001b[0m\u001b[0;34m)\u001b[0m\u001b[0;34m\u001b[0m\u001b[0;34m\u001b[0m\u001b[0m\n\u001b[0m",
      "\u001b[0;32m~/avenio/utils.py\u001b[0m in \u001b[0;36mcross_validate_m_x_n\u001b[0;34m(pipeline, X, y, *args, **kwargs)\u001b[0m\n\u001b[1;32m    175\u001b[0m \u001b[0;34m\u001b[0m\u001b[0m\n\u001b[1;32m    176\u001b[0m                 \u001b[0mX_test\u001b[0m\u001b[0;34m,\u001b[0m \u001b[0my_test\u001b[0m \u001b[0;34m=\u001b[0m \u001b[0mX\u001b[0m\u001b[0;34m.\u001b[0m\u001b[0miloc\u001b[0m\u001b[0;34m[\u001b[0m\u001b[0mtest\u001b[0m\u001b[0;34m]\u001b[0m\u001b[0;34m,\u001b[0m \u001b[0my\u001b[0m\u001b[0;34m.\u001b[0m\u001b[0miloc\u001b[0m\u001b[0;34m[\u001b[0m\u001b[0mtest\u001b[0m\u001b[0;34m]\u001b[0m\u001b[0;34m\u001b[0m\u001b[0;34m\u001b[0m\u001b[0m\n\u001b[0;32m--> 177\u001b[0;31m                 \u001b[0mpredictions\u001b[0m \u001b[0;34m=\u001b[0m \u001b[0mfunction\u001b[0m\u001b[0;34m(\u001b[0m\u001b[0mestimator\u001b[0m\u001b[0;34m,\u001b[0m \u001b[0mX_test\u001b[0m\u001b[0;34m,\u001b[0m \u001b[0my_test\u001b[0m\u001b[0;34m,\u001b[0m \u001b[0;34m*\u001b[0m\u001b[0margs\u001b[0m\u001b[0;34m,\u001b[0m \u001b[0;34m**\u001b[0m\u001b[0mkwargs\u001b[0m\u001b[0;34m)\u001b[0m\u001b[0;34m\u001b[0m\u001b[0;34m\u001b[0m\u001b[0m\n\u001b[0m\u001b[1;32m    178\u001b[0m                 \u001b[0;32mif\u001b[0m \u001b[0misinstance\u001b[0m\u001b[0;34m(\u001b[0m\u001b[0mpredictions\u001b[0m\u001b[0;34m,\u001b[0m \u001b[0mdict\u001b[0m\u001b[0;34m)\u001b[0m\u001b[0;34m:\u001b[0m\u001b[0;34m\u001b[0m\u001b[0;34m\u001b[0m\u001b[0m\n\u001b[1;32m    179\u001b[0m                     \u001b[0;32mfor\u001b[0m \u001b[0mk\u001b[0m\u001b[0;34m,\u001b[0m \u001b[0mv\u001b[0m \u001b[0;32min\u001b[0m \u001b[0mpredictions\u001b[0m\u001b[0;34m.\u001b[0m\u001b[0mitems\u001b[0m\u001b[0;34m(\u001b[0m\u001b[0;34m)\u001b[0m\u001b[0;34m:\u001b[0m\u001b[0;34m\u001b[0m\u001b[0;34m\u001b[0m\u001b[0m\n",
      "\u001b[0;32m<ipython-input-9-7b832e6445df>\u001b[0m in \u001b[0;36mmetrics_binary_class\u001b[0;34m(clf, X, y, positive_class)\u001b[0m\n\u001b[1;32m     24\u001b[0m             \u001b[0;34mf\"{positive_class}__roc_auc\"\u001b[0m\u001b[0;34m:\u001b[0m \u001b[0mroc_auc_score\u001b[0m\u001b[0;34m(\u001b[0m\u001b[0my\u001b[0m\u001b[0;34m,\u001b[0m \u001b[0my_prob\u001b[0m\u001b[0;34m)\u001b[0m\u001b[0;34m,\u001b[0m\u001b[0;34m\u001b[0m\u001b[0;34m\u001b[0m\u001b[0m\n\u001b[1;32m     25\u001b[0m             \u001b[0;34mf\"{positive_class}__accuracy\"\u001b[0m\u001b[0;34m:\u001b[0m \u001b[0maccuracy_score\u001b[0m\u001b[0;34m(\u001b[0m\u001b[0my\u001b[0m\u001b[0;34m,\u001b[0m \u001b[0my_pred\u001b[0m\u001b[0;34m)\u001b[0m\u001b[0;34m,\u001b[0m\u001b[0;34m\u001b[0m\u001b[0;34m\u001b[0m\u001b[0m\n\u001b[0;32m---> 26\u001b[0;31m             \u001b[0;34mf\"{positive_class}__operator__accuracy\"\u001b[0m\u001b[0;34m:\u001b[0m \u001b[0mprecision_score\u001b[0m\u001b[0;34m(\u001b[0m\u001b[0my\u001b[0m\u001b[0;34m,\u001b[0m \u001b[0my_ol\u001b[0m\u001b[0;34m,\u001b[0m \u001b[0mpos_label\u001b[0m\u001b[0;34m=\u001b[0m\u001b[0mpositive_class\u001b[0m\u001b[0;34m)\u001b[0m\u001b[0;34m,\u001b[0m\u001b[0;34m\u001b[0m\u001b[0;34m\u001b[0m\u001b[0m\n\u001b[0m\u001b[1;32m     27\u001b[0m             \u001b[0;34mf\"{positive_class}__operator__confusion_matrix\"\u001b[0m\u001b[0;34m:\u001b[0m \u001b[0mconfusion_matrix\u001b[0m\u001b[0;34m(\u001b[0m\u001b[0my\u001b[0m\u001b[0;34m,\u001b[0m \u001b[0my_ol\u001b[0m\u001b[0;34m,\u001b[0m \u001b[0mnormalize\u001b[0m\u001b[0;34m=\u001b[0m\u001b[0;34m'true'\u001b[0m\u001b[0;34m)\u001b[0m\u001b[0;34m,\u001b[0m\u001b[0;34m\u001b[0m\u001b[0;34m\u001b[0m\u001b[0m\n\u001b[1;32m     28\u001b[0m             f\"{positive_class}__confusion_matrix\": confusion_matrix(\n",
      "\u001b[0;32m/opt/conda/lib/python3.7/site-packages/sklearn/utils/validation.py\u001b[0m in \u001b[0;36minner_f\u001b[0;34m(*args, **kwargs)\u001b[0m\n\u001b[1;32m     71\u001b[0m                           FutureWarning)\n\u001b[1;32m     72\u001b[0m         \u001b[0mkwargs\u001b[0m\u001b[0;34m.\u001b[0m\u001b[0mupdate\u001b[0m\u001b[0;34m(\u001b[0m\u001b[0;34m{\u001b[0m\u001b[0mk\u001b[0m\u001b[0;34m:\u001b[0m \u001b[0marg\u001b[0m \u001b[0;32mfor\u001b[0m \u001b[0mk\u001b[0m\u001b[0;34m,\u001b[0m \u001b[0marg\u001b[0m \u001b[0;32min\u001b[0m \u001b[0mzip\u001b[0m\u001b[0;34m(\u001b[0m\u001b[0msig\u001b[0m\u001b[0;34m.\u001b[0m\u001b[0mparameters\u001b[0m\u001b[0;34m,\u001b[0m \u001b[0margs\u001b[0m\u001b[0;34m)\u001b[0m\u001b[0;34m}\u001b[0m\u001b[0;34m)\u001b[0m\u001b[0;34m\u001b[0m\u001b[0;34m\u001b[0m\u001b[0m\n\u001b[0;32m---> 73\u001b[0;31m         \u001b[0;32mreturn\u001b[0m \u001b[0mf\u001b[0m\u001b[0;34m(\u001b[0m\u001b[0;34m**\u001b[0m\u001b[0mkwargs\u001b[0m\u001b[0;34m)\u001b[0m\u001b[0;34m\u001b[0m\u001b[0;34m\u001b[0m\u001b[0m\n\u001b[0m\u001b[1;32m     74\u001b[0m     \u001b[0;32mreturn\u001b[0m \u001b[0minner_f\u001b[0m\u001b[0;34m\u001b[0m\u001b[0;34m\u001b[0m\u001b[0m\n\u001b[1;32m     75\u001b[0m \u001b[0;34m\u001b[0m\u001b[0m\n",
      "\u001b[0;32m/opt/conda/lib/python3.7/site-packages/sklearn/metrics/_classification.py\u001b[0m in \u001b[0;36mprecision_score\u001b[0;34m(y_true, y_pred, labels, pos_label, average, sample_weight, zero_division)\u001b[0m\n\u001b[1;32m   1621\u001b[0m                                                  \u001b[0mwarn_for\u001b[0m\u001b[0;34m=\u001b[0m\u001b[0;34m(\u001b[0m\u001b[0;34m'precision'\u001b[0m\u001b[0;34m,\u001b[0m\u001b[0;34m)\u001b[0m\u001b[0;34m,\u001b[0m\u001b[0;34m\u001b[0m\u001b[0;34m\u001b[0m\u001b[0m\n\u001b[1;32m   1622\u001b[0m                                                  \u001b[0msample_weight\u001b[0m\u001b[0;34m=\u001b[0m\u001b[0msample_weight\u001b[0m\u001b[0;34m,\u001b[0m\u001b[0;34m\u001b[0m\u001b[0;34m\u001b[0m\u001b[0m\n\u001b[0;32m-> 1623\u001b[0;31m                                                  zero_division=zero_division)\n\u001b[0m\u001b[1;32m   1624\u001b[0m     \u001b[0;32mreturn\u001b[0m \u001b[0mp\u001b[0m\u001b[0;34m\u001b[0m\u001b[0;34m\u001b[0m\u001b[0m\n\u001b[1;32m   1625\u001b[0m \u001b[0;34m\u001b[0m\u001b[0m\n",
      "\u001b[0;32m/opt/conda/lib/python3.7/site-packages/sklearn/utils/validation.py\u001b[0m in \u001b[0;36minner_f\u001b[0;34m(*args, **kwargs)\u001b[0m\n\u001b[1;32m     71\u001b[0m                           FutureWarning)\n\u001b[1;32m     72\u001b[0m         \u001b[0mkwargs\u001b[0m\u001b[0;34m.\u001b[0m\u001b[0mupdate\u001b[0m\u001b[0;34m(\u001b[0m\u001b[0;34m{\u001b[0m\u001b[0mk\u001b[0m\u001b[0;34m:\u001b[0m \u001b[0marg\u001b[0m \u001b[0;32mfor\u001b[0m \u001b[0mk\u001b[0m\u001b[0;34m,\u001b[0m \u001b[0marg\u001b[0m \u001b[0;32min\u001b[0m \u001b[0mzip\u001b[0m\u001b[0;34m(\u001b[0m\u001b[0msig\u001b[0m\u001b[0;34m.\u001b[0m\u001b[0mparameters\u001b[0m\u001b[0;34m,\u001b[0m \u001b[0margs\u001b[0m\u001b[0;34m)\u001b[0m\u001b[0;34m}\u001b[0m\u001b[0;34m)\u001b[0m\u001b[0;34m\u001b[0m\u001b[0;34m\u001b[0m\u001b[0m\n\u001b[0;32m---> 73\u001b[0;31m         \u001b[0;32mreturn\u001b[0m \u001b[0mf\u001b[0m\u001b[0;34m(\u001b[0m\u001b[0;34m**\u001b[0m\u001b[0mkwargs\u001b[0m\u001b[0;34m)\u001b[0m\u001b[0;34m\u001b[0m\u001b[0;34m\u001b[0m\u001b[0m\n\u001b[0m\u001b[1;32m     74\u001b[0m     \u001b[0;32mreturn\u001b[0m \u001b[0minner_f\u001b[0m\u001b[0;34m\u001b[0m\u001b[0;34m\u001b[0m\u001b[0m\n\u001b[1;32m     75\u001b[0m \u001b[0;34m\u001b[0m\u001b[0m\n",
      "\u001b[0;32m/opt/conda/lib/python3.7/site-packages/sklearn/metrics/_classification.py\u001b[0m in \u001b[0;36mprecision_recall_fscore_support\u001b[0;34m(y_true, y_pred, beta, labels, pos_label, average, warn_for, sample_weight, zero_division)\u001b[0m\n\u001b[1;32m   1432\u001b[0m         \u001b[0;32mraise\u001b[0m \u001b[0mValueError\u001b[0m\u001b[0;34m(\u001b[0m\u001b[0;34m\"beta should be >=0 in the F-beta score\"\u001b[0m\u001b[0;34m)\u001b[0m\u001b[0;34m\u001b[0m\u001b[0;34m\u001b[0m\u001b[0m\n\u001b[1;32m   1433\u001b[0m     labels = _check_set_wise_labels(y_true, y_pred, average, labels,\n\u001b[0;32m-> 1434\u001b[0;31m                                     pos_label)\n\u001b[0m\u001b[1;32m   1435\u001b[0m \u001b[0;34m\u001b[0m\u001b[0m\n\u001b[1;32m   1436\u001b[0m     \u001b[0;31m# Calculate tp_sum, pred_sum, true_sum ###\u001b[0m\u001b[0;34m\u001b[0m\u001b[0;34m\u001b[0m\u001b[0;34m\u001b[0m\u001b[0m\n",
      "\u001b[0;32m/opt/conda/lib/python3.7/site-packages/sklearn/metrics/_classification.py\u001b[0m in \u001b[0;36m_check_set_wise_labels\u001b[0;34m(y_true, y_pred, average, labels, pos_label)\u001b[0m\n\u001b[1;32m   1263\u001b[0m             raise ValueError(\"Target is %s but average='binary'. Please \"\n\u001b[1;32m   1264\u001b[0m                              \u001b[0;34m\"choose another average setting, one of %r.\"\u001b[0m\u001b[0;34m\u001b[0m\u001b[0;34m\u001b[0m\u001b[0m\n\u001b[0;32m-> 1265\u001b[0;31m                              % (y_type, average_options))\n\u001b[0m\u001b[1;32m   1266\u001b[0m     \u001b[0;32melif\u001b[0m \u001b[0mpos_label\u001b[0m \u001b[0;32mnot\u001b[0m \u001b[0;32min\u001b[0m \u001b[0;34m(\u001b[0m\u001b[0;32mNone\u001b[0m\u001b[0;34m,\u001b[0m \u001b[0;36m1\u001b[0m\u001b[0;34m)\u001b[0m\u001b[0;34m:\u001b[0m\u001b[0;34m\u001b[0m\u001b[0;34m\u001b[0m\u001b[0m\n\u001b[1;32m   1267\u001b[0m         warnings.warn(\"Note that pos_label (set to %r) is ignored when \"\n",
      "\u001b[0;31mValueError\u001b[0m: Target is multiclass but average='binary'. Please choose another average setting, one of [None, 'micro', 'macro', 'weighted']."
     ]
    }
   ],
   "source": [
    "OS_mean, OS_std = metrics_binary_class(p, X_merged, y_OS, positive_class='>=1yr')"
   ]
  },
  {
   "cell_type": "code",
   "execution_count": null,
   "metadata": {},
   "outputs": [],
   "source": [
    "PFS_mean, PFS_std = metrics_binary_class(p, X_merged, y_PFS, positive_class='>=1yr')"
   ]
  },
  {
   "cell_type": "code",
   "execution_count": null,
   "metadata": {},
   "outputs": [],
   "source": [
    "plot_roc_curve(OS_mean, OS_std, class_name='>=1yr', labels=['<1yr', '>=1yr'])\n",
    "plt.savefig('os_prediction.png')"
   ]
  },
  {
   "cell_type": "markdown",
   "metadata": {},
   "source": [
    "## Predicting progression free survival"
   ]
  },
  {
   "cell_type": "code",
   "execution_count": null,
   "metadata": {},
   "outputs": [],
   "source": [
    "plot_roc_curve(PFS_mean, PFS_std, class_name='>=1yr', labels=['<1yr', '>=1yr'])\n",
    "plt.savefig('pfs_prediction.png')"
   ]
  },
  {
   "cell_type": "markdown",
   "metadata": {},
   "source": [
    "# Predicting responders, non-responders _and_ non-evaluable."
   ]
  },
  {
   "cell_type": "code",
   "execution_count": null,
   "metadata": {},
   "outputs": [],
   "source": [
    "p.fit(X, y['response_grouped'])\n",
    "m_mean, m_std = multi_class_metrics(p, X, y['response_grouped'])\n",
    "for class_name in ['non responder (sd+pd)', 'responder (pr+cr)', 'non evaluable (ne)']:\n",
    "    plot_roc_curve(m_mean, m_std, class_name)"
   ]
  }
 ],
 "metadata": {
  "kernelspec": {
   "display_name": "Python 3",
   "language": "python",
   "name": "python3"
  },
  "language_info": {
   "codemirror_mode": {
    "name": "ipython",
    "version": 3
   },
   "file_extension": ".py",
   "mimetype": "text/x-python",
   "name": "python",
   "nbconvert_exporter": "python",
   "pygments_lexer": "ipython3",
   "version": "3.7.3"
  }
 },
 "nbformat": 4,
 "nbformat_minor": 4
}
