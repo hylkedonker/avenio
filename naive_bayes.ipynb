{
 "cells": [
  {
   "cell_type": "code",
   "execution_count": 88,
   "metadata": {},
   "outputs": [],
   "source": [
    "import pandas as pd\n",
    "import seaborn as sns\n",
    "from sklearn.naive_bayes import CategoricalNB\n",
    "from sklearn.model_selection import StratifiedKFold"
   ]
  },
  {
   "cell_type": "code",
   "execution_count": 2,
   "metadata": {},
   "outputs": [],
   "source": [
    "from pipelines import nested_cross_validate_score, pipeline_Donker\n",
    "from transform import combine_tsv_files\n",
    "from utils import get_sub_pipeline"
   ]
  },
  {
   "cell_type": "code",
   "execution_count": 3,
   "metadata": {},
   "outputs": [],
   "source": [
    "# Difference genomic variable.\n",
    "X, y = combine_tsv_files(\n",
    "    \"output/all__gene__up_or_down__No. Mutant Molecules per mL.tsv\",\n",
    "    \"output/all__gene__up_or_down__CNV Score.tsv\",\n",
    ")"
   ]
  },
  {
   "cell_type": "code",
   "execution_count": 4,
   "metadata": {},
   "outputs": [
    {
     "data": {
      "text/plain": [
       "array(['non responder (sd+pd)', 'responder (pr+cr)', 'non evaluable (ne)'],\n",
       "      dtype=object)"
      ]
     },
     "execution_count": 4,
     "metadata": {},
     "output_type": "execute_result"
    }
   ],
   "source": [
    "y['response_grouped'].unique()"
   ]
  },
  {
   "cell_type": "code",
   "execution_count": 5,
   "metadata": {},
   "outputs": [],
   "source": [
    "p = pipeline_Donker(CategoricalNB())"
   ]
  },
  {
   "cell_type": "code",
   "execution_count": 6,
   "metadata": {},
   "outputs": [
    {
     "name": "stdout",
     "output_type": "stream",
     "text": [
      "--------------------\n",
      "CategoricalNB() :\n",
      "params: {'estimator__alpha': [0.125, 0.25, 0.5, 1.0, 2.0]}\n",
      "\n",
      "Fitting 5 folds for each of 5 candidates, totalling 25 fits\n"
     ]
    },
    {
     "name": "stderr",
     "output_type": "stream",
     "text": [
      "[Parallel(n_jobs=-1)]: Using backend LokyBackend with 4 concurrent workers.\n",
      "[Parallel(n_jobs=-1)]: Done  25 out of  25 | elapsed:    3.9s finished\n",
      "[Parallel(n_jobs=-1)]: Using backend LokyBackend with 4 concurrent workers.\n"
     ]
    },
    {
     "name": "stdout",
     "output_type": "stream",
     "text": [
      "Fitting 5 folds for each of 5 candidates, totalling 25 fits\n"
     ]
    },
    {
     "name": "stderr",
     "output_type": "stream",
     "text": [
      "[Parallel(n_jobs=-1)]: Done  25 out of  25 | elapsed:    2.6s finished\n",
      "[Parallel(n_jobs=-1)]: Using backend LokyBackend with 4 concurrent workers.\n"
     ]
    },
    {
     "name": "stdout",
     "output_type": "stream",
     "text": [
      "Fitting 5 folds for each of 5 candidates, totalling 25 fits\n"
     ]
    },
    {
     "name": "stderr",
     "output_type": "stream",
     "text": [
      "[Parallel(n_jobs=-1)]: Done  25 out of  25 | elapsed:    2.4s finished\n",
      "[Parallel(n_jobs=-1)]: Using backend LokyBackend with 4 concurrent workers.\n"
     ]
    },
    {
     "name": "stdout",
     "output_type": "stream",
     "text": [
      "Fitting 5 folds for each of 5 candidates, totalling 25 fits\n"
     ]
    },
    {
     "name": "stderr",
     "output_type": "stream",
     "text": [
      "[Parallel(n_jobs=-1)]: Done  25 out of  25 | elapsed:    2.9s finished\n",
      "[Parallel(n_jobs=-1)]: Using backend LokyBackend with 4 concurrent workers.\n"
     ]
    },
    {
     "name": "stdout",
     "output_type": "stream",
     "text": [
      "Fitting 5 folds for each of 5 candidates, totalling 25 fits\n"
     ]
    },
    {
     "name": "stderr",
     "output_type": "stream",
     "text": [
      "[Parallel(n_jobs=-1)]: Done  25 out of  25 | elapsed:    3.1s finished\n"
     ]
    }
   ],
   "source": [
    "s = nested_cross_validate_score(p, X, y['response_grouped'] == 'responder (pr+cr)', metric='roc_auc_ovr_weighted')"
   ]
  },
  {
   "cell_type": "code",
   "execution_count": 7,
   "metadata": {},
   "outputs": [
    {
     "data": {
      "text/plain": [
       "0.6963760683760685"
      ]
     },
     "execution_count": 7,
     "metadata": {},
     "output_type": "execute_result"
    }
   ],
   "source": [
    "s.mean()"
   ]
  },
  {
   "cell_type": "code",
   "execution_count": 8,
   "metadata": {},
   "outputs": [
    {
     "data": {
      "text/plain": [
       "Pipeline(steps=[('clinical_curation',\n",
       "                 FunctionTransformer(func=<function clinical_data_curation at 0x7f11bbfacaf0>)),\n",
       "                ('filter_clinical_variables',\n",
       "                 FunctionTransformer(func=<function drop_specific_phenotypes at 0x7f11bbfaca60>)),\n",
       "                ('discretise_genomics',\n",
       "                 TransformColumnType(column_type='numeric',\n",
       "                                     transformation=<function pipeline_Donker.<locals>.genomics_discretiser at 0x7f11bbfdf5e0>)),\n",
       "                ('LabelEncoder',\n",
       "                 OneHotEncoder(handle_unknown='ignore', sparse=False)),\n",
       "                ('estimator', CategoricalNB())])"
      ]
     },
     "execution_count": 8,
     "metadata": {},
     "output_type": "execute_result"
    }
   ],
   "source": [
    "p.fit(X, y['response_grouped'])"
   ]
  },
  {
   "cell_type": "code",
   "execution_count": 9,
   "metadata": {},
   "outputs": [
    {
     "data": {
      "text/plain": [
       "3"
      ]
     },
     "execution_count": 9,
     "metadata": {},
     "output_type": "execute_result"
    }
   ],
   "source": [
    "len(p.named_steps['estimator'].feature_log_prob_[1])"
   ]
  },
  {
   "cell_type": "code",
   "execution_count": 20,
   "metadata": {},
   "outputs": [],
   "source": [
    "from sklearn.model_selection import cross_val_predict\n",
    "from sklearn.metrics import confusion_matrix, auc, accuracy_score\n",
    "y_pred = cross_val_predict(p, X, y['response_grouped'], cv=10)\n",
    "conf_mat = confusion_matrix(y['response_grouped'], y_pred)"
   ]
  },
  {
   "cell_type": "code",
   "execution_count": 11,
   "metadata": {},
   "outputs": [],
   "source": [
    "import numpy as np\n",
    "from matplotlib import pyplot as plt\n",
    "from sklearn.metrics import plot_roc_curve, roc_auc_score, plot_confusion_matrix, roc_curve\n",
    "from utils import double_cross_validate"
   ]
  },
  {
   "cell_type": "code",
   "execution_count": 78,
   "metadata": {},
   "outputs": [],
   "source": [
    "@double_cross_validate(5, 5)\n",
    "def metrics(clf, X, y):\n",
    "    mean_fpr = np.linspace(0, 1, 100)\n",
    "    metrics = {}\n",
    "    # Make one v.s. rest classification.\n",
    "    for class_name in ['non responder (sd+pd)', 'responder (pr+cr)', 'non evaluable (ne)']:\n",
    "        ybin_true = y == class_name\n",
    "        ybin_pred = y_pred == class_name\n",
    "        class_index = list(clf.classes_).index(class_name)\n",
    "        y_prob = clf.predict_proba(X)[:, class_index]\n",
    "        ybin_pred = clf.predict(X) == class_name\n",
    "        fpr, tpr, _ = roc_curve(ybin_true, y_prob)\n",
    "        interp_tpr = np.interp(mean_fpr, fpr, tpr)\n",
    "        interp_tpr[0] = 0.0\n",
    "        metrics.update({\n",
    "            f'{class_name}__tprs': interp_tpr,\n",
    "            f'{class_name}__fprs': mean_fpr,\n",
    "            f'{class_name}__roc_auc': roc_auc_score(ybin_true, y_prob),\n",
    "            f'{class_name}__accuracy': accuracy_score(ybin_true, ybin_pred),\n",
    "            f'{class_name}__confusion_matrix': confusion_matrix(ybin_true, ybin_pred, normalize='true'),\n",
    "        })\n",
    "        print(class_name, roc_auc_score(ybin_true, y_prob))\n",
    "    return metrics"
   ]
  },
  {
   "cell_type": "code",
   "execution_count": 79,
   "metadata": {},
   "outputs": [
    {
     "name": "stdout",
     "output_type": "stream",
     "text": [
      "Fitting 10 folds for each of 5 candidates, totalling 50 fits\n"
     ]
    },
    {
     "name": "stderr",
     "output_type": "stream",
     "text": [
      "[Parallel(n_jobs=-1)]: Using backend LokyBackend with 4 concurrent workers.\n",
      "[Parallel(n_jobs=-1)]: Done  24 tasks      | elapsed:    2.1s\n",
      "[Parallel(n_jobs=-1)]: Done  50 out of  50 | elapsed:    4.8s finished\n",
      "<ipython-input-78-21e1dfd8abf8>:8: FutureWarning: elementwise comparison failed; returning scalar instead, but in the future will perform elementwise comparison\n",
      "  ybin_pred = y_pred == class_name\n"
     ]
    },
    {
     "name": "stdout",
     "output_type": "stream",
     "text": [
      "non responder (sd+pd) 0.717391304347826\n",
      "responder (pr+cr) 0.6367521367521367\n"
     ]
    },
    {
     "name": "stderr",
     "output_type": "stream",
     "text": [
      "<ipython-input-78-21e1dfd8abf8>:8: FutureWarning: elementwise comparison failed; returning scalar instead, but in the future will perform elementwise comparison\n",
      "  ybin_pred = y_pred == class_name\n",
      "<ipython-input-78-21e1dfd8abf8>:8: FutureWarning: elementwise comparison failed; returning scalar instead, but in the future will perform elementwise comparison\n",
      "  ybin_pred = y_pred == class_name\n"
     ]
    },
    {
     "name": "stdout",
     "output_type": "stream",
     "text": [
      "non evaluable (ne) 0.7708333333333333\n",
      "Fitting 10 folds for each of 5 candidates, totalling 50 fits\n"
     ]
    },
    {
     "name": "stderr",
     "output_type": "stream",
     "text": [
      "[Parallel(n_jobs=-1)]: Using backend LokyBackend with 4 concurrent workers.\n",
      "[Parallel(n_jobs=-1)]: Done  24 tasks      | elapsed:    2.2s\n",
      "[Parallel(n_jobs=-1)]: Done  50 out of  50 | elapsed:    5.3s finished\n",
      "<ipython-input-78-21e1dfd8abf8>:8: FutureWarning: elementwise comparison failed; returning scalar instead, but in the future will perform elementwise comparison\n",
      "  ybin_pred = y_pred == class_name\n"
     ]
    },
    {
     "name": "stdout",
     "output_type": "stream",
     "text": [
      "non responder (sd+pd) 0.7717391304347826\n",
      "responder (pr+cr) 0.7948717948717949\n"
     ]
    },
    {
     "name": "stderr",
     "output_type": "stream",
     "text": [
      "<ipython-input-78-21e1dfd8abf8>:8: FutureWarning: elementwise comparison failed; returning scalar instead, but in the future will perform elementwise comparison\n",
      "  ybin_pred = y_pred == class_name\n",
      "<ipython-input-78-21e1dfd8abf8>:8: FutureWarning: elementwise comparison failed; returning scalar instead, but in the future will perform elementwise comparison\n",
      "  ybin_pred = y_pred == class_name\n"
     ]
    },
    {
     "name": "stdout",
     "output_type": "stream",
     "text": [
      "non evaluable (ne) 0.875\n",
      "Fitting 10 folds for each of 5 candidates, totalling 50 fits\n"
     ]
    },
    {
     "name": "stderr",
     "output_type": "stream",
     "text": [
      "[Parallel(n_jobs=-1)]: Using backend LokyBackend with 4 concurrent workers.\n",
      "[Parallel(n_jobs=-1)]: Done  24 tasks      | elapsed:    2.4s\n",
      "[Parallel(n_jobs=-1)]: Done  50 out of  50 | elapsed:    5.5s finished\n",
      "<ipython-input-78-21e1dfd8abf8>:8: FutureWarning: elementwise comparison failed; returning scalar instead, but in the future will perform elementwise comparison\n",
      "  ybin_pred = y_pred == class_name\n",
      "<ipython-input-78-21e1dfd8abf8>:8: FutureWarning: elementwise comparison failed; returning scalar instead, but in the future will perform elementwise comparison\n",
      "  ybin_pred = y_pred == class_name\n"
     ]
    },
    {
     "name": "stdout",
     "output_type": "stream",
     "text": [
      "non responder (sd+pd) 0.677536231884058\n",
      "responder (pr+cr) 0.6282051282051282\n"
     ]
    },
    {
     "name": "stderr",
     "output_type": "stream",
     "text": [
      "<ipython-input-78-21e1dfd8abf8>:8: FutureWarning: elementwise comparison failed; returning scalar instead, but in the future will perform elementwise comparison\n",
      "  ybin_pred = y_pred == class_name\n",
      "[Parallel(n_jobs=-1)]: Using backend LokyBackend with 4 concurrent workers.\n"
     ]
    },
    {
     "name": "stdout",
     "output_type": "stream",
     "text": [
      "non evaluable (ne) 0.6666666666666666\n",
      "Fitting 10 folds for each of 5 candidates, totalling 50 fits\n"
     ]
    },
    {
     "name": "stderr",
     "output_type": "stream",
     "text": [
      "[Parallel(n_jobs=-1)]: Done  24 tasks      | elapsed:    2.5s\n",
      "[Parallel(n_jobs=-1)]: Done  50 out of  50 | elapsed:    4.8s finished\n",
      "<ipython-input-78-21e1dfd8abf8>:8: FutureWarning: elementwise comparison failed; returning scalar instead, but in the future will perform elementwise comparison\n",
      "  ybin_pred = y_pred == class_name\n"
     ]
    },
    {
     "name": "stdout",
     "output_type": "stream",
     "text": [
      "non responder (sd+pd) 0.6557971014492753\n",
      "responder (pr+cr) 0.7649572649572649\n"
     ]
    },
    {
     "name": "stderr",
     "output_type": "stream",
     "text": [
      "<ipython-input-78-21e1dfd8abf8>:8: FutureWarning: elementwise comparison failed; returning scalar instead, but in the future will perform elementwise comparison\n",
      "  ybin_pred = y_pred == class_name\n",
      "<ipython-input-78-21e1dfd8abf8>:8: FutureWarning: elementwise comparison failed; returning scalar instead, but in the future will perform elementwise comparison\n",
      "  ybin_pred = y_pred == class_name\n"
     ]
    },
    {
     "name": "stdout",
     "output_type": "stream",
     "text": [
      "non evaluable (ne) 0.5104166666666666\n",
      "Fitting 10 folds for each of 5 candidates, totalling 50 fits\n"
     ]
    },
    {
     "name": "stderr",
     "output_type": "stream",
     "text": [
      "[Parallel(n_jobs=-1)]: Using backend LokyBackend with 4 concurrent workers.\n",
      "[Parallel(n_jobs=-1)]: Done  24 tasks      | elapsed:    3.4s\n",
      "[Parallel(n_jobs=-1)]: Done  50 out of  50 | elapsed:    5.8s finished\n",
      "<ipython-input-78-21e1dfd8abf8>:8: FutureWarning: elementwise comparison failed; returning scalar instead, but in the future will perform elementwise comparison\n",
      "  ybin_pred = y_pred == class_name\n"
     ]
    },
    {
     "name": "stdout",
     "output_type": "stream",
     "text": [
      "non responder (sd+pd) 0.6742424242424242\n",
      "responder (pr+cr) 0.6222222222222222\n"
     ]
    },
    {
     "name": "stderr",
     "output_type": "stream",
     "text": [
      "<ipython-input-78-21e1dfd8abf8>:8: FutureWarning: elementwise comparison failed; returning scalar instead, but in the future will perform elementwise comparison\n",
      "  ybin_pred = y_pred == class_name\n",
      "<ipython-input-78-21e1dfd8abf8>:8: FutureWarning: elementwise comparison failed; returning scalar instead, but in the future will perform elementwise comparison\n",
      "  ybin_pred = y_pred == class_name\n"
     ]
    },
    {
     "name": "stdout",
     "output_type": "stream",
     "text": [
      "non evaluable (ne) 0.8817204301075269\n"
     ]
    }
   ],
   "source": [
    "p.fit(X, y['response_grouped'])\n",
    "m_mean, m_std = metrics(p, X, y['response_grouped'])"
   ]
  },
  {
   "cell_type": "code",
   "execution_count": 169,
   "metadata": {},
   "outputs": [],
   "source": [
    "def confusion_matrix_plot(class_name, ax):\n",
    "    label_abbrev = \" \".join(class_name.split()[:-1]).replace('responder', \"resp.\").replace('evaluable', 'eval.')\n",
    "    labels = ['rest', f'{label_abbrev}']\n",
    "    confusion_matrix_mean = pd.DataFrame(m_mean[f'{class_name}__confusion_matrix'], index=labels, columns=labels)\n",
    "    confusion_matrix_std = pd.DataFrame(m_std[f'{class_name}__confusion_matrix'], index=labels, columns=labels)\n",
    "    c_annot = confusion_matrix_mean.applymap(lambda x: '{:0.2f} $\\pm$'.format(x)) \\\n",
    "        + confusion_matrix_std.applymap(lambda x: '{:0.2f}'.format(x))\n",
    "    sns.heatmap(\n",
    "        confusion_matrix_mean,\n",
    "        annot=c_annot,\n",
    "        fmt='',\n",
    "        cmap=plt.cm.Blues,\n",
    "        ax=ax,\n",
    "        cbar=False,\n",
    "    )\n",
    "#     ax.set_yticks(rotation=0)\n",
    "    ax.set_ylabel('Actual')\n",
    "    ax.set_xlabel('Predicted')\n",
    "    return ax"
   ]
  },
  {
   "cell_type": "code",
   "execution_count": 170,
   "metadata": {},
   "outputs": [],
   "source": [
    "def plot_roc_curve(m_mean, m_std, class_name):\n",
    "    plt.rc('font', family='serif')\n",
    "    plt.figure(figsize=(4,3))\n",
    "    fpr, tpr = m_mean[f'{class_name}__fprs'], m_mean[f'{class_name}__tprs']\n",
    "    fpr_std, tpr_std = m_std[f'{class_name}__fprs'], m_std[f'{class_name}__tprs']\n",
    "    tprs_upper = np.minimum(tpr + tpr_std, 1)\n",
    "    tprs_lower = np.maximum(tpr - tpr_std, 0)\n",
    "\n",
    "    fig, ax = plt.subplots()\n",
    "    ax.set(\n",
    "        xlim=[-0.05, 1.05], \n",
    "        ylim=[-0.05, 1.05],\n",
    "        title=f\"Receiver operating characteristic {class_name}\",\n",
    "    )\n",
    "    ax.plot([0, 1], [0, 1], linestyle='--', lw=2, color='r',\n",
    "            label='Random', alpha=.8)\n",
    "    mean_label = r'Mean ROC (AUC = {:0.2f} $\\pm$ {:0.2f})'.format(\n",
    "        m_mean[f'{class_name}__roc_auc'], \n",
    "        m_std[f'{class_name}__roc_auc'],\n",
    "    )\n",
    "    print(m_mean[f'{class_name}__accuracy'], )\n",
    "    ax.plot(\n",
    "        fpr, \n",
    "        tpr, \n",
    "        label=mean_label,\n",
    "        lw=2,\n",
    "    )\n",
    "    ax.fill_between(fpr, tprs_lower, tprs_upper, color='grey', alpha=0.2,\n",
    "                    label=r'$\\pm$ 1 std. dev.')\n",
    "    ax.set_xlabel('False positive rate')\n",
    "    ax.set_ylabel('True positive rate')\n",
    "    ax.legend(frameon=False, loc=2)\n",
    "    inset_ax = ax.inset_axes([0.6, 0.15, 0.4, 0.4])\n",
    "    confusion_matrix_plot(class_name, inset_ax)"
   ]
  },
  {
   "cell_type": "code",
   "execution_count": 171,
   "metadata": {},
   "outputs": [
    {
     "name": "stdout",
     "output_type": "stream",
     "text": [
      "0.7070588235294117\n",
      "0.746890756302521\n",
      "0.9137815126050419\n"
     ]
    },
    {
     "data": {
      "text/plain": [
       "<Figure size 288x216 with 0 Axes>"
      ]
     },
     "metadata": {},
     "output_type": "display_data"
    },
    {
     "data": {
      "image/png": "[encoded data removed]",
      "text/plain": [
       "<Figure size 432x288 with 1 Axes>"
      ]
     },
     "metadata": {
      "needs_background": "light"
     },
     "output_type": "display_data"
    },
    {
     "data": {
      "text/plain": [
       "<Figure size 288x216 with 0 Axes>"
      ]
     },
     "metadata": {},
     "output_type": "display_data"
    },
    {
     "data": {
      "image/png": "[encoded data removed]",
      "text/plain": [
       "<Figure size 432x288 with 1 Axes>"
      ]
     },
     "metadata": {
      "needs_background": "light"
     },
     "output_type": "display_data"
    },
    {
     "data": {
      "text/plain": [
       "<Figure size 288x216 with 0 Axes>"
      ]
     },
     "metadata": {},
     "output_type": "display_data"
    },
    {
     "data": {
      "image/png": "[encoded data removed]",
      "text/plain": [
       "<Figure size 432x288 with 1 Axes>"
      ]
     },
     "metadata": {
      "needs_background": "light"
     },
     "output_type": "display_data"
    }
   ],
   "source": [
    "for class_name in ['non responder (sd+pd)', 'responder (pr+cr)', 'non evaluable (ne)']:\n",
    "    plot_roc_curve(m_mean, m_std, class_name)"
   ]
  },
  {
   "cell_type": "code",
   "execution_count": null,
   "metadata": {},
   "outputs": [],
   "source": []
  }
 ],
 "metadata": {
  "kernelspec": {
   "display_name": "Python 3",
   "language": "python",
   "name": "python3"
  },
  "language_info": {
   "codemirror_mode": {
    "name": "ipython",
    "version": 3
   },
   "file_extension": ".py",
   "mimetype": "text/x-python",
   "name": "python",
   "nbconvert_exporter": "python",
   "pygments_lexer": "ipython3",
   "version": "3.8.2"
  }
 },
 "nbformat": 4,
 "nbformat_minor": 4
}
