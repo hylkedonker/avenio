{
 "cells": [
  {
   "cell_type": "code",
   "execution_count": 1,
   "metadata": {},
   "outputs": [],
   "source": [
    "import warnings\n",
    "warnings.filterwarnings('ignore')"
   ]
  },
  {
   "cell_type": "code",
   "execution_count": 2,
   "metadata": {},
   "outputs": [],
   "source": [
    "from sklearn.manifold import TSNE\n",
    "from sklearn.metrics import roc_curve, f1_score, precision_score, recall_score, mean_squared_error\n",
    "from sklearn.preprocessing import LabelBinarizer\n",
    "\n",
    "from source import read_preprocessed_data\n",
    "from transform import load_process_and_store_spreadsheets\n",
    "from pipelines import benchmark_pipelines, build_classifier_pipelines, build_regression_pipelines\n",
    "\n",
    "RANDOM_STATE = 1234"
   ]
  },
  {
   "cell_type": "code",
   "execution_count": 3,
   "metadata": {},
   "outputs": [],
   "source": [
    "allele_columns = [\"T0: Allele \\nFraction\", \"T1: Allele Fraction\"]\n",
    "# allele_columns = [\n",
    "#     \"T0: No. Mutant \\nMolecules per mL\",\n",
    "#     \"T1: No. Mutant \\nMolecules per mL\",\n",
    "# ]\n",
    "# \n",
    "load_process_and_store_spreadsheets(allele_columns=allele_columns, transformation=lambda x, y: y*x/(x+y))\n",
    "# load_process_and_store_spreadsheets(allele_columns=allele_columns, transformation=lambda x, y: (y-x)/x)\n",
    "# load_process_and_store_spreadsheets(allele_columns=allele_columns, transformation=lambda x, y: (y-x))\n",
    "\n",
    "X_train, y_train = read_preprocessed_data(\"output/train.tsv\")\n",
    "X_test, y_test = read_preprocessed_data(\"output/test.tsv\")"
   ]
  },
  {
   "cell_type": "markdown",
   "metadata": {},
   "source": [
    "## Classification"
   ]
  },
  {
   "cell_type": "code",
   "execution_count": 4,
   "metadata": {},
   "outputs": [],
   "source": [
    "y_train_resp = y_train[\"response_grouped\"] == 'responder (pr+cr)'\n",
    "y_test_resp = y_test[\"response_grouped\"] == 'responder (pr+cr)'"
   ]
  },
  {
   "cell_type": "code",
   "execution_count": 5,
   "metadata": {},
   "outputs": [],
   "source": [
    "ps_class = build_classifier_pipelines()"
   ]
  },
  {
   "cell_type": "code",
   "execution_count": 6,
   "metadata": {},
   "outputs": [
    {
     "data": {
      "text/html": [
       "<div>\n",
       "<style scoped>\n",
       "    .dataframe tbody tr th:only-of-type {\n",
       "        vertical-align: middle;\n",
       "    }\n",
       "\n",
       "    .dataframe tbody tr th {\n",
       "        vertical-align: top;\n",
       "    }\n",
       "\n",
       "    .dataframe thead th {\n",
       "        text-align: right;\n",
       "    }\n",
       "</style>\n",
       "<table border=\"1\" class=\"dataframe\">\n",
       "  <thead>\n",
       "    <tr style=\"text-align: right;\">\n",
       "      <th></th>\n",
       "      <th>Richard_test</th>\n",
       "      <th>Julian_test</th>\n",
       "      <th>Lev_test</th>\n",
       "      <th>Freeman_test</th>\n",
       "    </tr>\n",
       "  </thead>\n",
       "  <tbody>\n",
       "    <tr>\n",
       "      <td>DecisionTreeClassifier</td>\n",
       "      <td>0.125000</td>\n",
       "      <td>0.620690</td>\n",
       "      <td>0.166667</td>\n",
       "      <td>0.125000</td>\n",
       "    </tr>\n",
       "    <tr>\n",
       "      <td>RandomForestClassifier</td>\n",
       "      <td>0.285714</td>\n",
       "      <td>0.533333</td>\n",
       "      <td>0.181818</td>\n",
       "      <td>0.222222</td>\n",
       "    </tr>\n",
       "    <tr>\n",
       "      <td>GradientBoostingClassifier</td>\n",
       "      <td>0.000000</td>\n",
       "      <td>0.000000</td>\n",
       "      <td>0.000000</td>\n",
       "      <td>0.000000</td>\n",
       "    </tr>\n",
       "    <tr>\n",
       "      <td>KNeighborsClassifier</td>\n",
       "      <td>0.400000</td>\n",
       "      <td>0.315789</td>\n",
       "      <td>0.181818</td>\n",
       "      <td>0.352941</td>\n",
       "    </tr>\n",
       "    <tr>\n",
       "      <td>LogisticRegression</td>\n",
       "      <td>0.526316</td>\n",
       "      <td>0.382979</td>\n",
       "      <td>0.526316</td>\n",
       "      <td>0.526316</td>\n",
       "    </tr>\n",
       "    <tr>\n",
       "      <td>SVC</td>\n",
       "      <td>0.000000</td>\n",
       "      <td>0.000000</td>\n",
       "      <td>0.000000</td>\n",
       "      <td>0.000000</td>\n",
       "    </tr>\n",
       "    <tr>\n",
       "      <td>DummyClassifier</td>\n",
       "      <td>0.000000</td>\n",
       "      <td>0.000000</td>\n",
       "      <td>0.000000</td>\n",
       "      <td>0.000000</td>\n",
       "    </tr>\n",
       "  </tbody>\n",
       "</table>\n",
       "</div>"
      ],
      "text/plain": [
       "                            Richard_test  Julian_test  Lev_test  Freeman_test\n",
       "DecisionTreeClassifier          0.125000     0.620690  0.166667      0.125000\n",
       "RandomForestClassifier          0.285714     0.533333  0.181818      0.222222\n",
       "GradientBoostingClassifier      0.000000     0.000000  0.000000      0.000000\n",
       "KNeighborsClassifier            0.400000     0.315789  0.181818      0.352941\n",
       "LogisticRegression              0.526316     0.382979  0.526316      0.526316\n",
       "SVC                             0.000000     0.000000  0.000000      0.000000\n",
       "DummyClassifier                 0.000000     0.000000  0.000000      0.000000"
      ]
     },
     "execution_count": 6,
     "metadata": {},
     "output_type": "execute_result"
    }
   ],
   "source": [
    "b = benchmark_pipelines(\n",
    "    ps_class, X_train, y_train_resp, X_test, y_test_resp, metric=f1_score,\n",
    ")\n",
    "b"
   ]
  },
  {
   "cell_type": "code",
   "execution_count": 7,
   "metadata": {},
   "outputs": [
    {
     "name": "stdout",
     "output_type": "stream",
     "text": [
      "Richard_test    0.191004\n",
      "Julian_test     0.264684\n",
      "Lev_test        0.150946\n",
      "Freeman_test    0.175211\n",
      "dtype: float64\n",
      "--------------------\n",
      "DecisionTreeClassifier        0.259339\n",
      "RandomForestClassifier        0.305772\n",
      "GradientBoostingClassifier    0.000000\n",
      "KNeighborsClassifier          0.312637\n",
      "LogisticRegression            0.490482\n",
      "SVC                           0.000000\n",
      "DummyClassifier               0.000000\n",
      "dtype: float64\n"
     ]
    }
   ],
   "source": [
    "print(b.mean(axis=0))\n",
    "print('--'*10)\n",
    "print(b.mean(axis=1))"
   ]
  },
  {
   "cell_type": "code",
   "execution_count": 8,
   "metadata": {},
   "outputs": [],
   "source": [
    "p_win = ps_class['DecisionTreeClassifier']['Julian']"
   ]
  },
  {
   "cell_type": "code",
   "execution_count": 9,
   "metadata": {},
   "outputs": [
    {
     "name": "stdout",
     "output_type": "stream",
     "text": [
      "Confusion matrix, without normalization\n",
      "[[18 11]\n",
      " [ 0  9]]\n"
     ]
    },
    {
     "data": {
      "text/plain": [
       "<matplotlib.axes._subplots.AxesSubplot at 0x7f291305eac8>"
      ]
     },
     "execution_count": 9,
     "metadata": {},
     "output_type": "execute_result"
    }
   ],
   "source": [
    "from views import plot_confusion_matrix\n",
    "plot_confusion_matrix(y_test_resp, p_win.predict(X_test), classes=y_test_resp.unique())"
   ]
  },
  {
   "cell_type": "code",
   "execution_count": 10,
   "metadata": {},
   "outputs": [
    {
     "data": {
      "text/html": [
       "<div>\n",
       "<style scoped>\n",
       "    .dataframe tbody tr th:only-of-type {\n",
       "        vertical-align: middle;\n",
       "    }\n",
       "\n",
       "    .dataframe tbody tr th {\n",
       "        vertical-align: top;\n",
       "    }\n",
       "\n",
       "    .dataframe thead th {\n",
       "        text-align: right;\n",
       "    }\n",
       "</style>\n",
       "<table border=\"1\" class=\"dataframe\">\n",
       "  <thead>\n",
       "    <tr style=\"text-align: right;\">\n",
       "      <th></th>\n",
       "      <th>Richard_test</th>\n",
       "      <th>Julian_test</th>\n",
       "      <th>Lev_test</th>\n",
       "      <th>Freeman_test</th>\n",
       "    </tr>\n",
       "  </thead>\n",
       "  <tbody>\n",
       "    <tr>\n",
       "      <td>DecisionTreeClassifier</td>\n",
       "      <td>0.111111</td>\n",
       "      <td>1.000000</td>\n",
       "      <td>0.111111</td>\n",
       "      <td>0.111111</td>\n",
       "    </tr>\n",
       "    <tr>\n",
       "      <td>RandomForestClassifier</td>\n",
       "      <td>0.222222</td>\n",
       "      <td>0.888889</td>\n",
       "      <td>0.111111</td>\n",
       "      <td>0.222222</td>\n",
       "    </tr>\n",
       "    <tr>\n",
       "      <td>GradientBoostingClassifier</td>\n",
       "      <td>0.000000</td>\n",
       "      <td>0.000000</td>\n",
       "      <td>0.000000</td>\n",
       "      <td>0.000000</td>\n",
       "    </tr>\n",
       "    <tr>\n",
       "      <td>KNeighborsClassifier</td>\n",
       "      <td>0.333333</td>\n",
       "      <td>0.333333</td>\n",
       "      <td>0.111111</td>\n",
       "      <td>0.333333</td>\n",
       "    </tr>\n",
       "    <tr>\n",
       "      <td>LogisticRegression</td>\n",
       "      <td>0.555556</td>\n",
       "      <td>1.000000</td>\n",
       "      <td>0.555556</td>\n",
       "      <td>0.555556</td>\n",
       "    </tr>\n",
       "    <tr>\n",
       "      <td>SVC</td>\n",
       "      <td>0.000000</td>\n",
       "      <td>0.000000</td>\n",
       "      <td>0.000000</td>\n",
       "      <td>0.000000</td>\n",
       "    </tr>\n",
       "    <tr>\n",
       "      <td>DummyClassifier</td>\n",
       "      <td>0.000000</td>\n",
       "      <td>0.000000</td>\n",
       "      <td>0.000000</td>\n",
       "      <td>0.000000</td>\n",
       "    </tr>\n",
       "  </tbody>\n",
       "</table>\n",
       "</div>"
      ],
      "text/plain": [
       "                            Richard_test  Julian_test  Lev_test  Freeman_test\n",
       "DecisionTreeClassifier          0.111111     1.000000  0.111111      0.111111\n",
       "RandomForestClassifier          0.222222     0.888889  0.111111      0.222222\n",
       "GradientBoostingClassifier      0.000000     0.000000  0.000000      0.000000\n",
       "KNeighborsClassifier            0.333333     0.333333  0.111111      0.333333\n",
       "LogisticRegression              0.555556     1.000000  0.555556      0.555556\n",
       "SVC                             0.000000     0.000000  0.000000      0.000000\n",
       "DummyClassifier                 0.000000     0.000000  0.000000      0.000000"
      ]
     },
     "execution_count": 10,
     "metadata": {},
     "output_type": "execute_result"
    }
   ],
   "source": [
    "recall = benchmark_pipelines(\n",
    "    ps_class, X_train, y_train_resp, X_test, y_test_resp, metric=recall_score,\n",
    ")\n",
    "recall"
   ]
  },
  {
   "cell_type": "code",
   "execution_count": 11,
   "metadata": {},
   "outputs": [
    {
     "name": "stdout",
     "output_type": "stream",
     "text": [
      "Confusion matrix, without normalization\n",
      "[[24  5]\n",
      " [ 4  5]]\n"
     ]
    },
    {
     "data": {
      "text/plain": [
       "<matplotlib.axes._subplots.AxesSubplot at 0x7f2913c3a208>"
      ]
     },
     "execution_count": 11,
     "metadata": {},
     "output_type": "execute_result"
    },
    {
     "data": {
      "image/png": "[encoded data removed]",
      "text/plain": [
       "<Figure size 432x288 with 2 Axes>"
      ]
     },
     "metadata": {
      "needs_background": "light"
     },
     "output_type": "display_data"
    }
   ],
   "source": [
    "from views import plot_confusion_matrix\n",
    "plot_confusion_matrix(y_test_resp, ps_class['LogisticRegression']['Lev'].predict(X_test), classes=y_test_resp.unique())"
   ]
  },
  {
   "cell_type": "markdown",
   "metadata": {},
   "source": [
    "## Dimensional representation"
   ]
  },
  {
   "cell_type": "code",
   "execution_count": 12,
   "metadata": {},
   "outputs": [
    {
     "data": {
      "image/png": "[encoded data removed]",
      "text/plain": [
       "<Figure size 432x288 with 1 Axes>"
      ]
     },
     "metadata": {
      "needs_background": "light"
     },
     "output_type": "display_data"
    },
    {
     "data": {
      "image/png": "[encoded data removed]",
      "text/plain": [
       "<Figure size 432x288 with 1 Axes>"
      ]
     },
     "metadata": {
      "needs_background": "light"
     },
     "output_type": "display_data"
    },
    {
     "data": {
      "image/png": "[encoded data removed]",
      "text/plain": [
       "<Figure size 432x288 with 1 Axes>"
      ]
     },
     "metadata": {
      "needs_background": "light"
     },
     "output_type": "display_data"
    }
   ],
   "source": [
    "from views import view_pipelines\n",
    "\n",
    "view_pipelines(ps_class['LogisticRegression'], X_train, y_train_resp, random_state=RANDOM_STATE)"
   ]
  },
  {
   "cell_type": "markdown",
   "metadata": {},
   "source": [
    "## Regression"
   ]
  },
  {
   "cell_type": "code",
   "execution_count": 38,
   "metadata": {},
   "outputs": [],
   "source": [
    "y_train_os = y_train['OS_days']\n",
    "y_train_pfs = y_train['PFS_days']"
   ]
  },
  {
   "cell_type": "code",
   "execution_count": 39,
   "metadata": {},
   "outputs": [
    {
     "data": {
      "text/plain": [
       "<matplotlib.axes._subplots.AxesSubplot at 0x7f290ab56400>"
      ]
     },
     "execution_count": 39,
     "metadata": {},
     "output_type": "execute_result"
    },
    {
     "data": {
      "image/png": "[encoded data removed]",
      "text/plain": [
       "<Figure size 432x288 with 1 Axes>"
      ]
     },
     "metadata": {
      "needs_background": "light"
     },
     "output_type": "display_data"
    }
   ],
   "source": [
    "sns.scatterplot(x=y_train_os, y=y_train_pfs, hue=y_train_resp)"
   ]
  },
  {
   "cell_type": "markdown",
   "metadata": {},
   "source": [
    "### Overall survival (OS)"
   ]
  },
  {
   "cell_type": "code",
   "execution_count": 25,
   "metadata": {},
   "outputs": [
    {
     "data": {
      "text/plain": [
       "<matplotlib.axes._subplots.AxesSubplot at 0x7f290ad59c18>"
      ]
     },
     "execution_count": 25,
     "metadata": {},
     "output_type": "execute_result"
    },
    {
     "data": {
      "image/png": "[encoded data removed]",
      "text/plain": [
       "<Figure size 432x288 with 1 Axes>"
      ]
     },
     "metadata": {
      "needs_background": "light"
     },
     "output_type": "display_data"
    }
   ],
   "source": [
    "import seaborn as sns\n",
    "sns.distplot(y_train_os)"
   ]
  },
  {
   "cell_type": "code",
   "execution_count": 26,
   "metadata": {},
   "outputs": [],
   "source": [
    "ps = build_regression_pipelines()\n",
    "b = benchmark_pipelines(ps, X_train, y_train_os, X_test, y_test_os, metric=mean_squared_error)\n",
    "# Root mean squared error.\n",
    "b = b**0.5"
   ]
  },
  {
   "cell_type": "code",
   "execution_count": 27,
   "metadata": {},
   "outputs": [
    {
     "name": "stdout",
     "output_type": "stream",
     "text": [
      "Richard_test    316.799757\n",
      "Julian_test     273.258122\n",
      "Lev_test        285.578584\n",
      "Freeman_test    638.191486\n",
      "dtype: float64\n",
      "--------------------\n",
      "DecisionTreeRegressor        314.279185\n",
      "RandomForestRegressor        305.809359\n",
      "GradientBoostingRegressor    293.900891\n",
      "KNeighborsRegressor          332.909133\n",
      "ElasticNet                   270.817548\n",
      "LinearRegression             956.175452\n",
      "SVR                          276.691522\n",
      "DummyRegressor               277.072810\n",
      "dtype: float64\n"
     ]
    }
   ],
   "source": [
    "print(b.mean(axis=0))\n",
    "print('--'*10)\n",
    "print(b.mean(axis=1))"
   ]
  },
  {
   "cell_type": "code",
   "execution_count": 28,
   "metadata": {},
   "outputs": [
    {
     "data": {
      "text/html": [
       "<div>\n",
       "<style scoped>\n",
       "    .dataframe tbody tr th:only-of-type {\n",
       "        vertical-align: middle;\n",
       "    }\n",
       "\n",
       "    .dataframe tbody tr th {\n",
       "        vertical-align: top;\n",
       "    }\n",
       "\n",
       "    .dataframe thead th {\n",
       "        text-align: right;\n",
       "    }\n",
       "</style>\n",
       "<table border=\"1\" class=\"dataframe\">\n",
       "  <thead>\n",
       "    <tr style=\"text-align: right;\">\n",
       "      <th></th>\n",
       "      <th>Richard_test</th>\n",
       "      <th>Julian_test</th>\n",
       "      <th>Lev_test</th>\n",
       "      <th>Freeman_test</th>\n",
       "    </tr>\n",
       "  </thead>\n",
       "  <tbody>\n",
       "    <tr>\n",
       "      <td>DecisionTreeRegressor</td>\n",
       "      <td>376.021202</td>\n",
       "      <td>255.227153</td>\n",
       "      <td>300.798164</td>\n",
       "      <td>325.070220</td>\n",
       "    </tr>\n",
       "    <tr>\n",
       "      <td>RandomForestRegressor</td>\n",
       "      <td>343.277793</td>\n",
       "      <td>289.205408</td>\n",
       "      <td>305.080527</td>\n",
       "      <td>285.673707</td>\n",
       "    </tr>\n",
       "    <tr>\n",
       "      <td>GradientBoostingRegressor</td>\n",
       "      <td>316.987848</td>\n",
       "      <td>266.030076</td>\n",
       "      <td>285.730396</td>\n",
       "      <td>306.855242</td>\n",
       "    </tr>\n",
       "    <tr>\n",
       "      <td>KNeighborsRegressor</td>\n",
       "      <td>369.776634</td>\n",
       "      <td>289.899266</td>\n",
       "      <td>310.046687</td>\n",
       "      <td>361.913946</td>\n",
       "    </tr>\n",
       "    <tr>\n",
       "      <td>ElasticNet</td>\n",
       "      <td>271.507413</td>\n",
       "      <td>271.744500</td>\n",
       "      <td>268.480957</td>\n",
       "      <td>271.537322</td>\n",
       "    </tr>\n",
       "    <tr>\n",
       "      <td>LinearRegression</td>\n",
       "      <td>302.710133</td>\n",
       "      <td>260.780187</td>\n",
       "      <td>260.847317</td>\n",
       "      <td>3000.364169</td>\n",
       "    </tr>\n",
       "    <tr>\n",
       "      <td>SVR</td>\n",
       "      <td>277.044226</td>\n",
       "      <td>276.105578</td>\n",
       "      <td>276.571812</td>\n",
       "      <td>277.044472</td>\n",
       "    </tr>\n",
       "    <tr>\n",
       "      <td>DummyRegressor</td>\n",
       "      <td>277.072810</td>\n",
       "      <td>277.072810</td>\n",
       "      <td>277.072810</td>\n",
       "      <td>277.072810</td>\n",
       "    </tr>\n",
       "  </tbody>\n",
       "</table>\n",
       "</div>"
      ],
      "text/plain": [
       "                           Richard_test  Julian_test    Lev_test  Freeman_test\n",
       "DecisionTreeRegressor        376.021202   255.227153  300.798164    325.070220\n",
       "RandomForestRegressor        343.277793   289.205408  305.080527    285.673707\n",
       "GradientBoostingRegressor    316.987848   266.030076  285.730396    306.855242\n",
       "KNeighborsRegressor          369.776634   289.899266  310.046687    361.913946\n",
       "ElasticNet                   271.507413   271.744500  268.480957    271.537322\n",
       "LinearRegression             302.710133   260.780187  260.847317   3000.364169\n",
       "SVR                          277.044226   276.105578  276.571812    277.044472\n",
       "DummyRegressor               277.072810   277.072810  277.072810    277.072810"
      ]
     },
     "execution_count": 28,
     "metadata": {},
     "output_type": "execute_result"
    }
   ],
   "source": [
    "b"
   ]
  },
  {
   "cell_type": "markdown",
   "metadata": {},
   "source": [
    "## Progression Free Survival (PFS)"
   ]
  },
  {
   "cell_type": "code",
   "execution_count": 29,
   "metadata": {},
   "outputs": [
    {
     "data": {
      "text/plain": [
       "<matplotlib.axes._subplots.AxesSubplot at 0x7f290ab42390>"
      ]
     },
     "execution_count": 29,
     "metadata": {},
     "output_type": "execute_result"
    },
    {
     "data": {
      "image/png": "[encoded data removed]",
      "text/plain": [
       "<Figure size 432x288 with 1 Axes>"
      ]
     },
     "metadata": {
      "needs_background": "light"
     },
     "output_type": "display_data"
    }
   ],
   "source": [
    "y_train_pfs = y_train['PFS_days']\n",
    "y_test_pfs = y_test['PFS_days']\n",
    "sns.distplot(y_train_pfs)"
   ]
  },
  {
   "cell_type": "code",
   "execution_count": 30,
   "metadata": {},
   "outputs": [],
   "source": [
    "ps = build_regression_pipelines()\n",
    "b = benchmark_pipelines(ps, X_train, y_train_pfs, X_test, y_test_pfs, metric=mean_squared_error)\n",
    "# Root mean squared error.\n",
    "b = b**0.5"
   ]
  },
  {
   "cell_type": "code",
   "execution_count": 31,
   "metadata": {},
   "outputs": [
    {
     "name": "stdout",
     "output_type": "stream",
     "text": [
      "Richard_test    311.473587\n",
      "Julian_test     293.137569\n",
      "Lev_test        293.423473\n",
      "Freeman_test    384.899778\n",
      "dtype: float64\n",
      "--------------------\n",
      "DecisionTreeRegressor        322.459104\n",
      "RandomForestRegressor        290.494692\n",
      "GradientBoostingRegressor    292.074357\n",
      "KNeighborsRegressor          331.990772\n",
      "ElasticNet                   278.750185\n",
      "LinearRegression             452.765383\n",
      "SVR                          298.611781\n",
      "DummyRegressor               298.722543\n",
      "dtype: float64\n"
     ]
    }
   ],
   "source": [
    "print(b.mean(axis=0))\n",
    "print('--'*10)\n",
    "print(b.mean(axis=1))"
   ]
  },
  {
   "cell_type": "code",
   "execution_count": 32,
   "metadata": {},
   "outputs": [
    {
     "data": {
      "text/html": [
       "<div>\n",
       "<style scoped>\n",
       "    .dataframe tbody tr th:only-of-type {\n",
       "        vertical-align: middle;\n",
       "    }\n",
       "\n",
       "    .dataframe tbody tr th {\n",
       "        vertical-align: top;\n",
       "    }\n",
       "\n",
       "    .dataframe thead th {\n",
       "        text-align: right;\n",
       "    }\n",
       "</style>\n",
       "<table border=\"1\" class=\"dataframe\">\n",
       "  <thead>\n",
       "    <tr style=\"text-align: right;\">\n",
       "      <th></th>\n",
       "      <th>Richard_test</th>\n",
       "      <th>Julian_test</th>\n",
       "      <th>Lev_test</th>\n",
       "      <th>Freeman_test</th>\n",
       "    </tr>\n",
       "  </thead>\n",
       "  <tbody>\n",
       "    <tr>\n",
       "      <td>DecisionTreeRegressor</td>\n",
       "      <td>361.213276</td>\n",
       "      <td>272.840127</td>\n",
       "      <td>305.447406</td>\n",
       "      <td>350.335608</td>\n",
       "    </tr>\n",
       "    <tr>\n",
       "      <td>RandomForestRegressor</td>\n",
       "      <td>291.047843</td>\n",
       "      <td>293.009093</td>\n",
       "      <td>281.791057</td>\n",
       "      <td>296.130773</td>\n",
       "    </tr>\n",
       "    <tr>\n",
       "      <td>GradientBoostingRegressor</td>\n",
       "      <td>307.619806</td>\n",
       "      <td>283.096726</td>\n",
       "      <td>291.983611</td>\n",
       "      <td>285.597283</td>\n",
       "    </tr>\n",
       "    <tr>\n",
       "      <td>KNeighborsRegressor</td>\n",
       "      <td>353.867007</td>\n",
       "      <td>320.053519</td>\n",
       "      <td>317.456525</td>\n",
       "      <td>336.586037</td>\n",
       "    </tr>\n",
       "    <tr>\n",
       "      <td>ElasticNet</td>\n",
       "      <td>273.793199</td>\n",
       "      <td>288.689546</td>\n",
       "      <td>278.712128</td>\n",
       "      <td>273.805864</td>\n",
       "    </tr>\n",
       "    <tr>\n",
       "      <td>LinearRegression</td>\n",
       "      <td>306.814569</td>\n",
       "      <td>290.240609</td>\n",
       "      <td>274.696610</td>\n",
       "      <td>939.309743</td>\n",
       "    </tr>\n",
       "    <tr>\n",
       "      <td>SVR</td>\n",
       "      <td>298.710452</td>\n",
       "      <td>298.448391</td>\n",
       "      <td>298.577905</td>\n",
       "      <td>298.710375</td>\n",
       "    </tr>\n",
       "    <tr>\n",
       "      <td>DummyRegressor</td>\n",
       "      <td>298.722543</td>\n",
       "      <td>298.722543</td>\n",
       "      <td>298.722543</td>\n",
       "      <td>298.722543</td>\n",
       "    </tr>\n",
       "  </tbody>\n",
       "</table>\n",
       "</div>"
      ],
      "text/plain": [
       "                           Richard_test  Julian_test    Lev_test  Freeman_test\n",
       "DecisionTreeRegressor        361.213276   272.840127  305.447406    350.335608\n",
       "RandomForestRegressor        291.047843   293.009093  281.791057    296.130773\n",
       "GradientBoostingRegressor    307.619806   283.096726  291.983611    285.597283\n",
       "KNeighborsRegressor          353.867007   320.053519  317.456525    336.586037\n",
       "ElasticNet                   273.793199   288.689546  278.712128    273.805864\n",
       "LinearRegression             306.814569   290.240609  274.696610    939.309743\n",
       "SVR                          298.710452   298.448391  298.577905    298.710375\n",
       "DummyRegressor               298.722543   298.722543  298.722543    298.722543"
      ]
     },
     "execution_count": 32,
     "metadata": {},
     "output_type": "execute_result"
    }
   ],
   "source": [
    "b"
   ]
  },
  {
   "cell_type": "markdown",
   "metadata": {},
   "source": [
    "## Multitask model\n"
   ]
  },
  {
   "cell_type": "code",
   "execution_count": 33,
   "metadata": {},
   "outputs": [],
   "source": [
    "from sklearn.linear_model import MultiTaskElasticNet\n",
    "from pipelines import pipelines\n",
    "ps = pipelines(MultiTaskElasticNet, VotingEstimator=None)"
   ]
  },
  {
   "cell_type": "code",
   "execution_count": 34,
   "metadata": {},
   "outputs": [
    {
     "data": {
      "text/html": [
       "<div>\n",
       "<style scoped>\n",
       "    .dataframe tbody tr th:only-of-type {\n",
       "        vertical-align: middle;\n",
       "    }\n",
       "\n",
       "    .dataframe tbody tr th {\n",
       "        vertical-align: top;\n",
       "    }\n",
       "\n",
       "    .dataframe thead th {\n",
       "        text-align: right;\n",
       "    }\n",
       "</style>\n",
       "<table border=\"1\" class=\"dataframe\">\n",
       "  <thead>\n",
       "    <tr style=\"text-align: right;\">\n",
       "      <th></th>\n",
       "      <th>Freeman_test</th>\n",
       "      <th>Julian_test</th>\n",
       "      <th>Richard_test</th>\n",
       "    </tr>\n",
       "  </thead>\n",
       "  <tbody>\n",
       "    <tr>\n",
       "      <td>bla</td>\n",
       "      <td>[268.42224374066984, 273.7039715426234]</td>\n",
       "      <td>[271.7399772705852, 288.69028307704565]</td>\n",
       "      <td>[268.40506641346275, 273.6944998454938]</td>\n",
       "    </tr>\n",
       "  </tbody>\n",
       "</table>\n",
       "</div>"
      ],
      "text/plain": [
       "                                Freeman_test  \\\n",
       "bla  [268.42224374066984, 273.7039715426234]   \n",
       "\n",
       "                                 Julian_test  \\\n",
       "bla  [271.7399772705852, 288.69028307704565]   \n",
       "\n",
       "                                Richard_test  \n",
       "bla  [268.40506641346275, 273.6944998454938]  "
      ]
     },
     "execution_count": 34,
     "metadata": {},
     "output_type": "execute_result"
    }
   ],
   "source": [
    "Y_train = y_train[['OS_days', 'PFS_days']]\n",
    "Y_test = y_test[['OS_days', 'PFS_days']]\n",
    "rmse = lambda a, b: mean_squared_error(a, b, multioutput='raw_values')**0.5\n",
    "benchmark_pipelines({'bla': ps}, X_train, Y_train, X_test, Y_test, metric=rmse)\n",
    "# p = ps['Richard']\n",
    "# p.fit(X_train, Y_train)"
   ]
  },
  {
   "cell_type": "code",
   "execution_count": null,
   "metadata": {},
   "outputs": [],
   "source": []
  }
 ],
 "metadata": {
  "kernelspec": {
   "display_name": "Python 3",
   "language": "python",
   "name": "python3"
  },
  "language_info": {
   "codemirror_mode": {
    "name": "ipython",
    "version": 3
   },
   "file_extension": ".py",
   "mimetype": "text/x-python",
   "name": "python",
   "nbconvert_exporter": "python",
   "pygments_lexer": "ipython3",
   "version": "3.7.3"
  }
 },
 "nbformat": 4,
 "nbformat_minor": 2
}
