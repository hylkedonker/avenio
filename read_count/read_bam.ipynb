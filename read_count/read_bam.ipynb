{
 "cells": [
  {
   "cell_type": "markdown",
   "metadata": {},
   "source": [
    "# Variant file"
   ]
  },
  {
   "cell_type": "code",
   "execution_count": 1,
   "metadata": {},
   "outputs": [],
   "source": [
    "from pprint import pprint\n",
    "import pandas as pd\n",
    "from pysam import VariantFile"
   ]
  },
  {
   "cell_type": "code",
   "execution_count": 2,
   "metadata": {},
   "outputs": [],
   "source": [
    "variants = VariantFile('data/snv-Somatic_all-972_0.vcf')"
   ]
  },
  {
   "cell_type": "code",
   "execution_count": 3,
   "metadata": {},
   "outputs": [],
   "source": [
    "annotation_columns = variants.header \\\n",
    "    .info['ANN'] \\\n",
    "    .description \\\n",
    "    .split(':')[1] \\\n",
    "    .replace(\"'\", \"\") \\\n",
    "    .split('|')\n",
    "annotation_columns = tuple(map(lambda x: x.strip(), annotation_columns))"
   ]
  },
  {
   "cell_type": "code",
   "execution_count": 4,
   "metadata": {},
   "outputs": [
    {
     "data": {
      "text/html": [
       "<div>\n",
       "<style scoped>\n",
       "    .dataframe tbody tr th:only-of-type {\n",
       "        vertical-align: middle;\n",
       "    }\n",
       "\n",
       "    .dataframe tbody tr th {\n",
       "        vertical-align: top;\n",
       "    }\n",
       "\n",
       "    .dataframe thead th {\n",
       "        text-align: right;\n",
       "    }\n",
       "</style>\n",
       "<table border=\"1\" class=\"dataframe\">\n",
       "  <thead>\n",
       "    <tr style=\"text-align: right;\">\n",
       "      <th></th>\n",
       "      <th>Allele</th>\n",
       "      <th>Annotation</th>\n",
       "      <th>Annotation_Impact</th>\n",
       "      <th>Gene_Name</th>\n",
       "      <th>Gene_ID</th>\n",
       "      <th>Feature_Type</th>\n",
       "      <th>Feature_ID</th>\n",
       "      <th>Transcript_BioType</th>\n",
       "      <th>Rank</th>\n",
       "      <th>HGVS.c</th>\n",
       "      <th>HGVS.p</th>\n",
       "      <th>cDNA.pos / cDNA.length</th>\n",
       "      <th>CDS.pos / CDS.length</th>\n",
       "      <th>AA.pos / AA.length</th>\n",
       "      <th>Distance</th>\n",
       "      <th>ERRORS / WARNINGS / INFO</th>\n",
       "    </tr>\n",
       "  </thead>\n",
       "  <tbody>\n",
       "    <tr>\n",
       "      <th>0</th>\n",
       "      <td>A</td>\n",
       "      <td>stop_gained</td>\n",
       "      <td>HIGH</td>\n",
       "      <td>TP53</td>\n",
       "      <td>ENSG00000141510</td>\n",
       "      <td>transcript</td>\n",
       "      <td>ENST00000269305.8</td>\n",
       "      <td>protein_coding</td>\n",
       "      <td>8/11</td>\n",
       "      <td>c.892G&gt;T</td>\n",
       "      <td>p.Glu298*</td>\n",
       "      <td>1082/2579</td>\n",
       "      <td>892/1182</td>\n",
       "      <td>298/393</td>\n",
       "      <td></td>\n",
       "      <td></td>\n",
       "    </tr>\n",
       "    <tr>\n",
       "      <th>1</th>\n",
       "      <td>A</td>\n",
       "      <td>stop_gained</td>\n",
       "      <td>HIGH</td>\n",
       "      <td>TP53</td>\n",
       "      <td>ENSG00000141510</td>\n",
       "      <td>transcript</td>\n",
       "      <td>ENST00000420246.6</td>\n",
       "      <td>protein_coding</td>\n",
       "      <td>8/12</td>\n",
       "      <td>c.892G&gt;T</td>\n",
       "      <td>p.Glu298*</td>\n",
       "      <td>1025/2653</td>\n",
       "      <td>892/1026</td>\n",
       "      <td>298/341</td>\n",
       "      <td></td>\n",
       "      <td></td>\n",
       "    </tr>\n",
       "    <tr>\n",
       "      <th>2</th>\n",
       "      <td>A</td>\n",
       "      <td>stop_gained</td>\n",
       "      <td>HIGH</td>\n",
       "      <td>TP53</td>\n",
       "      <td>ENSG00000141510</td>\n",
       "      <td>transcript</td>\n",
       "      <td>ENST00000455263.6</td>\n",
       "      <td>protein_coding</td>\n",
       "      <td>8/12</td>\n",
       "      <td>c.892G&gt;T</td>\n",
       "      <td>p.Glu298*</td>\n",
       "      <td>1025/2580</td>\n",
       "      <td>892/1041</td>\n",
       "      <td>298/346</td>\n",
       "      <td></td>\n",
       "      <td></td>\n",
       "    </tr>\n",
       "    <tr>\n",
       "      <th>3</th>\n",
       "      <td>A</td>\n",
       "      <td>stop_gained</td>\n",
       "      <td>HIGH</td>\n",
       "      <td>TP53</td>\n",
       "      <td>ENSG00000141510</td>\n",
       "      <td>transcript</td>\n",
       "      <td>ENST00000615910.4</td>\n",
       "      <td>protein_coding</td>\n",
       "      <td>8/11</td>\n",
       "      <td>c.859G&gt;T</td>\n",
       "      <td>p.Glu287*</td>\n",
       "      <td>859/1149</td>\n",
       "      <td>859/1149</td>\n",
       "      <td>287/382</td>\n",
       "      <td></td>\n",
       "      <td></td>\n",
       "    </tr>\n",
       "  </tbody>\n",
       "</table>\n",
       "</div>"
      ],
      "text/plain": [
       "  Allele   Annotation Annotation_Impact Gene_Name          Gene_ID  \\\n",
       "0      A  stop_gained              HIGH      TP53  ENSG00000141510   \n",
       "1      A  stop_gained              HIGH      TP53  ENSG00000141510   \n",
       "2      A  stop_gained              HIGH      TP53  ENSG00000141510   \n",
       "3      A  stop_gained              HIGH      TP53  ENSG00000141510   \n",
       "\n",
       "  Feature_Type         Feature_ID Transcript_BioType  Rank    HGVS.c  \\\n",
       "0   transcript  ENST00000269305.8     protein_coding  8/11  c.892G>T   \n",
       "1   transcript  ENST00000420246.6     protein_coding  8/12  c.892G>T   \n",
       "2   transcript  ENST00000455263.6     protein_coding  8/12  c.892G>T   \n",
       "3   transcript  ENST00000615910.4     protein_coding  8/11  c.859G>T   \n",
       "\n",
       "      HGVS.p cDNA.pos / cDNA.length CDS.pos / CDS.length AA.pos / AA.length  \\\n",
       "0  p.Glu298*              1082/2579             892/1182            298/393   \n",
       "1  p.Glu298*              1025/2653             892/1026            298/341   \n",
       "2  p.Glu298*              1025/2580             892/1041            298/346   \n",
       "3  p.Glu287*               859/1149             859/1149            287/382   \n",
       "\n",
       "  Distance ERRORS / WARNINGS / INFO  \n",
       "0                                    \n",
       "1                                    \n",
       "2                                    \n",
       "3                                    "
      ]
     },
     "execution_count": 4,
     "metadata": {},
     "output_type": "execute_result"
    }
   ],
   "source": [
    "record = next(variants.fetch())\n",
    "df = pd.DataFrame(columns=annotation_columns)\n",
    "for annotation in record.info['ANN']:\n",
    "    key_value_pairs = zip(annotation_columns, annotation.split('|'))\n",
    "    df = df.append(dict(key_value_pairs), ignore_index=True)\n",
    "df"
   ]
  },
  {
   "cell_type": "code",
   "execution_count": 5,
   "metadata": {},
   "outputs": [
    {
     "name": "stdout",
     "output_type": "stream",
     "text": [
      "chr17 7673727 7673728\n",
      "chr17 58357955 58357956\n",
      "chr4 54274526 54274527\n",
      "chr9 95459699 95459700\n"
     ]
    }
   ],
   "source": [
    "for variant in variants.fetch():\n",
    "    print(variant.contig, variant.start, variant.stop)"
   ]
  },
  {
   "cell_type": "markdown",
   "metadata": {},
   "source": [
    "# Reading BAM file"
   ]
  },
  {
   "cell_type": "code",
   "execution_count": 6,
   "metadata": {},
   "outputs": [],
   "source": [
    "import pysam\n",
    "\n",
    "bam = pysam.AlignmentFile('data/Deduped-972_0_sorted.bam')"
   ]
  },
  {
   "cell_type": "code",
   "execution_count": 7,
   "metadata": {},
   "outputs": [
    {
     "data": {
      "text/plain": [
       "True"
      ]
     },
     "execution_count": 7,
     "metadata": {},
     "output_type": "execute_result"
    }
   ],
   "source": [
    "bam.check_index()"
   ]
  },
  {
   "cell_type": "code",
   "execution_count": 23,
   "metadata": {},
   "outputs": [
    {
     "name": "stdout",
     "output_type": "stream",
     "text": [
      "\n",
      "coverage at base 7673727 = 7239\n"
     ]
    }
   ],
   "source": [
    "base_counts = {\n",
    "    'A': [],\n",
    "    'C': [],\n",
    "    'T': [],\n",
    "    'G': [],\n",
    "}\n",
    "chromosome = 'chr17'\n",
    "start_pos = 7673727\n",
    "stop_pos = start_pos + 1\n",
    "for pile in bam.pileup(contig=chromosome, start=start_pos):\n",
    "    if pile.pos != start_pos:\n",
    "        continue\n",
    "    print (\"\\ncoverage at base %s = %s\" % (pile.pos, pile.n))\n",
    "    break\n",
    "#     for read in pile.pileups:\n",
    "#         base = read.alignment.query_sequence[read.query_position]\n",
    "#         read_length = read.alignment.query_length\n",
    "#         print(read_length)\n",
    "#         base_counts[base].append(read_length)"
   ]
  },
  {
   "cell_type": "code",
   "execution_count": 24,
   "metadata": {},
   "outputs": [
    {
     "data": {
      "text/plain": [
       "['__class__',\n",
       " '__delattr__',\n",
       " '__dir__',\n",
       " '__doc__',\n",
       " '__eq__',\n",
       " '__format__',\n",
       " '__ge__',\n",
       " '__getattribute__',\n",
       " '__gt__',\n",
       " '__hash__',\n",
       " '__init__',\n",
       " '__init_subclass__',\n",
       " '__le__',\n",
       " '__len__',\n",
       " '__lt__',\n",
       " '__ne__',\n",
       " '__new__',\n",
       " '__reduce__',\n",
       " '__reduce_ex__',\n",
       " '__repr__',\n",
       " '__setattr__',\n",
       " '__setstate__',\n",
       " '__sizeof__',\n",
       " '__str__',\n",
       " '__subclasshook__',\n",
       " 'get_mapping_qualities',\n",
       " 'get_num_aligned',\n",
       " 'get_query_names',\n",
       " 'get_query_positions',\n",
       " 'get_query_qualities',\n",
       " 'get_query_sequences',\n",
       " 'n',\n",
       " 'nsegments',\n",
       " 'pileups',\n",
       " 'pos',\n",
       " 'reference_id',\n",
       " 'reference_name',\n",
       " 'reference_pos',\n",
       " 'set_min_base_quality',\n",
       " 'tid']"
      ]
     },
     "execution_count": 24,
     "metadata": {},
     "output_type": "execute_result"
    }
   ],
   "source": [
    "dir(pile)"
   ]
  },
  {
   "cell_type": "code",
   "execution_count": null,
   "metadata": {},
   "outputs": [],
   "source": [
    "pile.pileups"
   ]
  },
  {
   "cell_type": "code",
   "execution_count": 12,
   "metadata": {},
   "outputs": [],
   "source": [
    "reads = [read for read in bam.fetch(contig=chromosome, start=start_pos)]"
   ]
  },
  {
   "cell_type": "code",
   "execution_count": 15,
   "metadata": {},
   "outputs": [
    {
     "name": "stdout",
     "output_type": "stream",
     "text": [
      "96\n"
     ]
    }
   ],
   "source": [
    "print(reads[100].infer_read_length())"
   ]
  },
  {
   "cell_type": "code",
   "execution_count": null,
   "metadata": {},
   "outputs": [],
   "source": [
    "base_counts['G']"
   ]
  },
  {
   "cell_type": "code",
   "execution_count": null,
   "metadata": {},
   "outputs": [],
   "source": [
    "sns.distplot(base_counts['A'])"
   ]
  },
  {
   "cell_type": "code",
   "execution_count": null,
   "metadata": {},
   "outputs": [],
   "source": []
  }
 ],
 "metadata": {
  "kernelspec": {
   "display_name": "Python 3",
   "language": "python",
   "name": "python3"
  },
  "language_info": {
   "codemirror_mode": {
    "name": "ipython",
    "version": 3
   },
   "file_extension": ".py",
   "mimetype": "text/x-python",
   "name": "python",
   "nbconvert_exporter": "python",
   "pygments_lexer": "ipython3",
   "version": "3.7.3"
  }
 },
 "nbformat": 4,
 "nbformat_minor": 2
}
