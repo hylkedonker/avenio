{
 "cells": [
  {
   "cell_type": "markdown",
   "metadata": {},
   "source": [
    "# ctDNA changes as a predictive marker for response (PR/CR/SD/PD) (UMCG/Paul and Hylke, validation at MUG)\n",
    "A variety of machine learnings models were compared to predict the outcome of treatment response. \n",
    "\n",
    "## In how many patients did we observe consistent increase/decrease of ctDNA levels? How many patients showed a mixed molecular response?\n",
    "Figure of Paul\n",
    "## Can changing levels predict response?\n",
    "## Do baseline levels correlate with response\n",
    "## Define a cut-off for quantitative change or for baseline levels!\n",
    "## Use mean of all variants\n",
    "## Use a delta (T0-T1) of 30% as cut-off\n",
    "## Use a delta (T0-T1) of 50% as cut-off\n",
    "## Use a delta (T0-T1) of 80% as cut-off\n",
    "## Consider only variants with VAF <0.5%\n",
    "## Consider only variants with VAF <1%\n",
    "## Use “highest” only\n",
    "## Use cases with consistent vs mixed changes in levels\n",
    "## Use all variants including synonymous\n",
    "## Use only variants excluding synonymous\n",
    "## Check whether VAF OR mutant molecules/ml is a better predictor"
   ]
  },
  {
   "cell_type": "code",
   "execution_count": null,
   "metadata": {},
   "outputs": [],
   "source": []
  }
 ],
 "metadata": {
  "kernelspec": {
   "display_name": "Python 3",
   "language": "python",
   "name": "python3"
  },
  "language_info": {
   "codemirror_mode": {
    "name": "ipython",
    "version": 3
   },
   "file_extension": ".py",
   "mimetype": "text/x-python",
   "name": "python",
   "nbconvert_exporter": "python",
   "pygments_lexer": "ipython3",
   "version": "3.7.5"
  }
 },
 "nbformat": 4,
 "nbformat_minor": 2
}
