{
 "cells": [
  {
   "cell_type": "markdown",
   "metadata": {},
   "source": [
    "## Load spread sheet"
   ]
  },
  {
   "cell_type": "code",
   "execution_count": 348,
   "metadata": {},
   "outputs": [],
   "source": [
    "%matplotlib inline\n",
    "from matplotlib import pyplot as plt\n",
    "import numpy as np\n",
    "import pandas as pd\n",
    "import seaborn as sns\n",
    "from sklearn.model_selection import train_test_split\n",
    "\n",
    "RANDOM_STATE = 1234\n",
    "np.random.seed(RANDOM_STATE)"
   ]
  },
  {
   "cell_type": "code",
   "execution_count": 349,
   "metadata": {},
   "outputs": [],
   "source": [
    "# Load data from spreadsheet.\n",
    "data_frame = pd.read_excel(\n",
    "    '2019-08-27_PLASMA_DEFAULT_Results_Groningen.xlsx',\n",
    "    sheet_name=2,\n",
    ")"
   ]
  },
  {
   "cell_type": "markdown",
   "metadata": {},
   "source": [
    "To make a fair comparison we should split the data in a training and validation set by randomly selecting patients. "
   ]
  },
  {
   "cell_type": "code",
   "execution_count": 369,
   "metadata": {},
   "outputs": [],
   "source": [
    "# Fraction of dataset we want to use for the validation set.\n",
    "f_val = 0.3\n",
    "\n",
    "patients = data_frame['Patient ID'].unique()\n",
    "np.random.shuffle(patients)\n",
    "\n",
    "# Determine the largest element no longer in the training set.\n",
    "cut_off = int(np.ceil(len(patients) * (1 - f_val)))\n",
    "train_patients = patients[:cut_off]\n",
    "test_patients = patients[cut_off:]\n",
    "\n",
    "# Put records in train/validation set according to \"Patient ID\".\n",
    "train_rows = data_frame['Patient ID'].isin(train_patients)\n",
    "train_data_frame = data_frame.loc[train_rows]\n",
    "test_data_frame = data_frame[~train_rows]"
   ]
  },
  {
   "cell_type": "markdown",
   "metadata": {},
   "source": [
    "## Aggregated statistics\n",
    "Let us first look at the data as a whole (not just the training data), to explore the dataset."
   ]
  },
  {
   "cell_type": "code",
   "execution_count": 313,
   "metadata": {},
   "outputs": [],
   "source": [
    "# Focus only on the genes\n",
    "columns_to_keep = ['Patient ID', 'Gene']\n",
    "data_frame = data_frame[columns_to_keep]"
   ]
  },
  {
   "cell_type": "code",
   "execution_count": 265,
   "metadata": {},
   "outputs": [
    {
     "name": "stdout",
     "output_type": "stream",
     "text": [
      "['TP53' 'KRAS' 'FGFR1' 'PTEN' 'FBXW7' 'KDR' 'MTOR' 'EGFR' 'MET' 'CDKN2A'\n",
      " 'BRAF' 'APC' 'KEAP1' 'ALK' 'AR' 'ERBB2' 'NRAS' 'NFE2L2' 'TSC2' 'GNAS'\n",
      " 'STK11' 'CD274' 'CTNNB1' 'MAP2K2' 'IDH1' 'NF2' 'MAP2K1' 'PIK3CA' 'IDH2'\n",
      " 'FLT4' 'ESR1' 'DDR2' 'KIT' 'PTCH1' 'SMAD4' 'SMO' 'RNF43' 'FGFR2' 'JAK2'\n",
      " 'CCND1' 'GATA3' 'PDGFRA']\n"
     ]
    },
    {
     "data": {
      "text/plain": [
       "Text(0, 0.5, '# occurences')"
      ]
     },
     "execution_count": 265,
     "metadata": {},
     "output_type": "execute_result"
    },
    {
     "data": {
      "image/png": "[encoded data removed]",
      "text/plain": [
       "<Figure size 432x288 with 1 Axes>"
      ]
     },
     "metadata": {
      "needs_background": "light"
     },
     "output_type": "display_data"
    }
   ],
   "source": [
    "# Count occurences of genes, regardless of how many per patient.\n",
    "gene_set = data_frame['Gene'].unique()\n",
    "gene_count  = data_frame.groupby('Gene') \\\n",
    "    .count()\n",
    "\n",
    "print(gene_set)\n",
    "# Plot occurences of genes, and make all genes with more than 3 instances red.\n",
    "gene_colour = gene_count['Patient ID'].apply(lambda x: 'red' if x > 3 else 'blue')\n",
    "ax = gene_count['Patient ID'].plot(kind='bar', color=gene_colour)\n",
    "ax.set_ylabel('# occurences')"
   ]
  },
  {
   "cell_type": "markdown",
   "metadata": {},
   "source": [
    "Clearly, the majority of the mutations are unique, whilst the presence of TP53 is quite ubiquitous. \n",
    "\n",
    "How are the mutations distributed? One per patient?"
   ]
  },
  {
   "cell_type": "code",
   "execution_count": 268,
   "metadata": {},
   "outputs": [
    {
     "data": {
      "text/plain": [
       "(1, 11)"
      ]
     },
     "execution_count": 268,
     "metadata": {},
     "output_type": "execute_result"
    },
    {
     "data": {
      "image/png": "[encoded data removed]",
      "text/plain": [
       "<Figure size 432x288 with 1 Axes>"
      ]
     },
     "metadata": {
      "needs_background": "light"
     },
     "output_type": "display_data"
    }
   ],
   "source": [
    "# How many mutations per patient?\n",
    "mutation_counts = data_frame.groupby('Patient ID').count()\n",
    "ax = sns.distplot(mutation_counts, kde=False)\n",
    "ax.set_xlabel('# Mutations')\n",
    "ax.set_ylabel('Frequency')\n",
    "ax.set_xlim([1, max(mutation_counts['Gene'])])"
   ]
  },
  {
   "cell_type": "markdown",
   "metadata": {},
   "source": [
    "The figure above indicates that patients usually have one or two mutations. \n",
    "But it can happen that there are multiple mutations in the same gene.\n",
    "\n",
    "How often does this occur?"
   ]
  },
  {
   "cell_type": "code",
   "execution_count": 290,
   "metadata": {},
   "outputs": [
    {
     "name": "stdout",
     "output_type": "stream",
     "text": [
      "Number of patients with multiple mutations: 24/276 (8.70 %)\n"
     ]
    }
   ],
   "source": [
    "# How many patients have more than 1 mutation in the same gene?\n",
    "# Group by (patient, gene):\n",
    "num_gene_mutations = data_frame.groupby(columns_to_keep) \\\n",
    "    .size() \\\n",
    "    .to_frame('size')\n",
    "# More than 1.\n",
    "same_gene_mutations = num_gene_mutations[num_gene_mutations['size'] > 1]\n",
    "\n",
    "# Fraction of total.\n",
    "print('Number of patients with multiple mutations: {}/{} ({:.2f} %)'.format(\n",
    "    same_gene_mutations.size, \n",
    "    data_frame.shape[0], \n",
    "    f * 100.0),\n",
    ")"
   ]
  },
  {
   "cell_type": "markdown",
   "metadata": {},
   "source": [
    "But how many mutations, and what mutations?"
   ]
  },
  {
   "cell_type": "code",
   "execution_count": 312,
   "metadata": {},
   "outputs": [
    {
     "data": {
      "text/html": [
       "<div>\n",
       "<style scoped>\n",
       "    .dataframe tbody tr th:only-of-type {\n",
       "        vertical-align: middle;\n",
       "    }\n",
       "\n",
       "    .dataframe tbody tr th {\n",
       "        vertical-align: top;\n",
       "    }\n",
       "\n",
       "    .dataframe thead tr th {\n",
       "        text-align: left;\n",
       "    }\n",
       "\n",
       "    .dataframe thead tr:last-of-type th {\n",
       "        text-align: right;\n",
       "    }\n",
       "</style>\n",
       "<table border=\"1\" class=\"dataframe\">\n",
       "  <thead>\n",
       "    <tr>\n",
       "      <th></th>\n",
       "      <th colspan=\"8\" halign=\"left\">size</th>\n",
       "    </tr>\n",
       "    <tr>\n",
       "      <th></th>\n",
       "      <th>count</th>\n",
       "      <th>mean</th>\n",
       "      <th>std</th>\n",
       "      <th>min</th>\n",
       "      <th>25%</th>\n",
       "      <th>50%</th>\n",
       "      <th>75%</th>\n",
       "      <th>max</th>\n",
       "    </tr>\n",
       "    <tr>\n",
       "      <th>Gene</th>\n",
       "      <th></th>\n",
       "      <th></th>\n",
       "      <th></th>\n",
       "      <th></th>\n",
       "      <th></th>\n",
       "      <th></th>\n",
       "      <th></th>\n",
       "      <th></th>\n",
       "    </tr>\n",
       "  </thead>\n",
       "  <tbody>\n",
       "    <tr>\n",
       "      <td>KRAS</td>\n",
       "      <td>3.0</td>\n",
       "      <td>2.00</td>\n",
       "      <td>0.00000</td>\n",
       "      <td>2.0</td>\n",
       "      <td>2.0</td>\n",
       "      <td>2.0</td>\n",
       "      <td>2.00</td>\n",
       "      <td>2.0</td>\n",
       "    </tr>\n",
       "    <tr>\n",
       "      <td>STK11</td>\n",
       "      <td>1.0</td>\n",
       "      <td>2.00</td>\n",
       "      <td>NaN</td>\n",
       "      <td>2.0</td>\n",
       "      <td>2.0</td>\n",
       "      <td>2.0</td>\n",
       "      <td>2.00</td>\n",
       "      <td>2.0</td>\n",
       "    </tr>\n",
       "    <tr>\n",
       "      <td>TP53</td>\n",
       "      <td>20.0</td>\n",
       "      <td>2.35</td>\n",
       "      <td>0.67082</td>\n",
       "      <td>2.0</td>\n",
       "      <td>2.0</td>\n",
       "      <td>2.0</td>\n",
       "      <td>2.25</td>\n",
       "      <td>4.0</td>\n",
       "    </tr>\n",
       "  </tbody>\n",
       "</table>\n",
       "</div>"
      ],
      "text/plain": [
       "       size                                         \n",
       "      count  mean      std  min  25%  50%   75%  max\n",
       "Gene                                                \n",
       "KRAS    3.0  2.00  0.00000  2.0  2.0  2.0  2.00  2.0\n",
       "STK11   1.0  2.00      NaN  2.0  2.0  2.0  2.00  2.0\n",
       "TP53   20.0  2.35  0.67082  2.0  2.0  2.0  2.25  4.0"
      ]
     },
     "execution_count": 312,
     "metadata": {},
     "output_type": "execute_result"
    },
    {
     "data": {
      "image/png": "[encoded data removed]",
      "text/plain": [
       "<Figure size 432x288 with 1 Axes>"
      ]
     },
     "metadata": {
      "needs_background": "light"
     },
     "output_type": "display_data"
    }
   ],
   "source": [
    "# Plot distribution of patients with at least two mutations.\n",
    "ax = sns.distplot(\n",
    "    same_gene_mutations, \n",
    "    kde=False,\n",
    "    bins=[2, 3, 4, 5],\n",
    ")\n",
    "ax.set_xlabel('# mutations in single gene')\n",
    "ax.set_ylabel('# patients')\n",
    "\n",
    "# Multiple mutations in same gene occurs almost solely in TP53.\n",
    "same_gene_mutations.groupby('Gene').describe()"
   ]
  },
  {
   "cell_type": "markdown",
   "metadata": {},
   "source": [
    "## Text analysis"
   ]
  },
  {
   "cell_type": "markdown",
   "metadata": {},
   "source": [
    "We can borrow some tricks that are also used in text analysis. For example, in the bag-of-words approach one collects all words (the vocabulary) and counts the occurences of each word per text document. I will do the same below: with _gene_ $\\leftrightarrow$ _word_ and _text document_ $\\leftrightarrow$ _patient_. That is, for each patient (row) count the number of mutations per gene (column). "
   ]
  },
  {
   "cell_type": "code",
   "execution_count": 311,
   "metadata": {},
   "outputs": [],
   "source": [
    "# Create an empty data frame first.\n",
    "dummy_data_frame = pd.DataFrame(\n",
    "    0,\n",
    "    # Rows are patients\n",
    "    index=data_frame['Patient ID'].unique(),\n",
    "    # Columns are the number of mutations per gene.\n",
    "    columns=gene_set,\n",
    ")\n",
    "\n",
    "# Fill all columns with the number of occurences of each gene per patient.\n",
    "for ind, patient_genes in data_frame.groupby(columns_to_keep):\n",
    "    # Unpack patient_id and the gene from the `MultiIndex`.\n",
    "    patient_id, gene = ind\n",
    "    # Store number of mutations of this particular gene.\n",
    "    dummy_data_frame.loc[patient_id][gene] += len(patient_genes)"
   ]
  },
  {
   "cell_type": "code",
   "execution_count": 309,
   "metadata": {},
   "outputs": [],
   "source": [
    "# Validate that the code above is correct.\n",
    "assert dummy_data_frame.loc[957]['TP53'] == 2\n",
    "assert dummy_data_frame.loc[1172]['TP53'] == 4"
   ]
  },
  {
   "cell_type": "code",
   "execution_count": null,
   "metadata": {},
   "outputs": [],
   "source": []
  }
 ],
 "metadata": {
  "kernelspec": {
   "display_name": "Python 3",
   "language": "python",
   "name": "python3"
  },
  "language_info": {
   "codemirror_mode": {
    "name": "ipython",
    "version": 3
   },
   "file_extension": ".py",
   "mimetype": "text/x-python",
   "name": "python",
   "nbconvert_exporter": "python",
   "pygments_lexer": "ipython3",
   "version": "3.7.3"
  }
 },
 "nbformat": 4,
 "nbformat_minor": 2
}
