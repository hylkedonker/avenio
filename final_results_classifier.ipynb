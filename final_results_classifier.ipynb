{
 "cells": [
  {
   "cell_type": "markdown",
   "metadata": {},
   "source": [
    "# Make final classifier using harmonic mean\n",
    "**Goal**: Identify patients that don't respond.\n",
    "These patients we don't have to treat.\n",
    "\n",
    "Perform the following steps:\n",
    "\n",
    "1) Combine data with CNV.\n",
    "\n",
    "2) Compare harmonic versus delta.\n",
    "\n",
    "3) Compare clinical data versus clinical and genomic data.\n",
    "\n",
    "4) Select best classification model based on AUC.\n",
    "\n",
    "5) For this best model, compare number of molecules.\n",
    "\n",
    "6) Perform cross validation.\n",
    "\n",
    "7) Make plots for parameter importance."
   ]
  },
  {
   "cell_type": "code",
   "execution_count": 1,
   "metadata": {},
   "outputs": [],
   "source": [
    "%matplotlib inline\n",
    "from matplotlib import pyplot as plt\n",
    "from sklearn.linear_model import LogisticRegression\n",
    "from sklearn.metrics import classification_report\n",
    "from sklearn.model_selection import GridSearchCV\n",
    "\n",
    "from pipelines import benchmark_pipelines, build_classifier_pipelines, pipeline_Freeman\n",
    "from views import view_linear_model_freeman"
   ]
  },
  {
   "cell_type": "markdown",
   "metadata": {},
   "source": [
    "# 1) Combine data"
   ]
  },
  {
   "cell_type": "code",
   "execution_count": 2,
   "metadata": {},
   "outputs": [],
   "source": [
    "from source import read_preprocessed_data\n",
    "from transform import combine_tsv_files"
   ]
  },
  {
   "cell_type": "code",
   "execution_count": 4,
   "metadata": {},
   "outputs": [],
   "source": [
    "# Harmonic mean genomic variable.\n",
    "X_train_hm, y_train_hm = combine_tsv_files(\n",
    "    \"output/train__harmonic_mean__f(t0, t1)__No. Mutant Molecules per mL.tsv\",\n",
    "    \"output/train__harmonic_mean__f(t0, t1)__CNV Score.tsv\",\n",
    ")\n",
    "# Difference genomic variable.\n",
    "X_train_diff, y_train_diff = combine_tsv_files(\n",
    "    \"output/train__difference__f(t0, t1)__No. Mutant Molecules per mL.tsv\",\n",
    "    \"output/train__difference__f(t0, t1)__CNV Score.tsv\",\n",
    ")"
   ]
  },
  {
   "cell_type": "markdown",
   "metadata": {},
   "source": [
    "# 2) Select best model"
   ]
  },
  {
   "cell_type": "code",
   "execution_count": 19,
   "metadata": {},
   "outputs": [],
   "source": [
    "y_train_resp = y_train_hm[\"response_grouped\"]\n",
    "\n",
    "response_labels = ['non responder (sd+pd)', 'responder (pr+cr)']\n",
    "pos_label = 'non responder (sd+pd)'\n",
    "y_train_resp = y_train_resp == pos_label"
   ]
  },
  {
   "cell_type": "code",
   "execution_count": 20,
   "metadata": {},
   "outputs": [],
   "source": [
    "ps_class = build_classifier_pipelines()"
   ]
  },
  {
   "cell_type": "code",
   "execution_count": 21,
   "metadata": {},
   "outputs": [],
   "source": [
    "b_harmonic_mean = benchmark_pipelines(\n",
    "    ps_class, X_train_hm, y_train_resp, metric='roc_auc',\n",
    ")"
   ]
  },
  {
   "cell_type": "code",
   "execution_count": 22,
   "metadata": {},
   "outputs": [],
   "source": [
    "b_difference = benchmark_pipelines(\n",
    "    ps_class, X_train_diff, y_train_resp, metric='roc_auc',\n",
    ")"
   ]
  },
  {
   "cell_type": "code",
   "execution_count": 9,
   "metadata": {},
   "outputs": [
    {
     "data": {
      "text/html": [
       "<div>\n",
       "<style scoped>\n",
       "    .dataframe tbody tr th:only-of-type {\n",
       "        vertical-align: middle;\n",
       "    }\n",
       "\n",
       "    .dataframe tbody tr th {\n",
       "        vertical-align: top;\n",
       "    }\n",
       "\n",
       "    .dataframe thead th {\n",
       "        text-align: right;\n",
       "    }\n",
       "</style>\n",
       "<table border=\"1\" class=\"dataframe\">\n",
       "  <thead>\n",
       "    <tr style=\"text-align: right;\">\n",
       "      <th></th>\n",
       "      <th>Richard mean</th>\n",
       "      <th>Richard std</th>\n",
       "      <th>Julian mean</th>\n",
       "      <th>Julian std</th>\n",
       "      <th>Freeman mean</th>\n",
       "      <th>Freeman std</th>\n",
       "    </tr>\n",
       "  </thead>\n",
       "  <tbody>\n",
       "    <tr>\n",
       "      <th>DecisionTreeClassifier</th>\n",
       "      <td>0.513561</td>\n",
       "      <td>0.142637</td>\n",
       "      <td>0.572222</td>\n",
       "      <td>0.123744</td>\n",
       "      <td>0.505328</td>\n",
       "      <td>0.059517</td>\n",
       "    </tr>\n",
       "    <tr>\n",
       "      <th>RandomForestClassifier</th>\n",
       "      <td>0.549415</td>\n",
       "      <td>0.102203</td>\n",
       "      <td>0.574945</td>\n",
       "      <td>0.115721</td>\n",
       "      <td>0.569116</td>\n",
       "      <td>0.101093</td>\n",
       "    </tr>\n",
       "    <tr>\n",
       "      <th>GaussianNB</th>\n",
       "      <td>0.480000</td>\n",
       "      <td>0.088759</td>\n",
       "      <td>0.593424</td>\n",
       "      <td>0.125213</td>\n",
       "      <td>0.526264</td>\n",
       "      <td>0.091075</td>\n",
       "    </tr>\n",
       "    <tr>\n",
       "      <th>GradientBoostingClassifier</th>\n",
       "      <td>0.527310</td>\n",
       "      <td>0.063424</td>\n",
       "      <td>0.577446</td>\n",
       "      <td>0.132485</td>\n",
       "      <td>0.589857</td>\n",
       "      <td>0.139692</td>\n",
       "    </tr>\n",
       "    <tr>\n",
       "      <th>KNeighborsClassifier</th>\n",
       "      <td>0.499539</td>\n",
       "      <td>0.082748</td>\n",
       "      <td>0.529064</td>\n",
       "      <td>0.058500</td>\n",
       "      <td>0.586283</td>\n",
       "      <td>0.093431</td>\n",
       "    </tr>\n",
       "    <tr>\n",
       "      <th>LogisticRegression</th>\n",
       "      <td>0.531040</td>\n",
       "      <td>0.127593</td>\n",
       "      <td>0.525263</td>\n",
       "      <td>0.139646</td>\n",
       "      <td>0.558116</td>\n",
       "      <td>0.102269</td>\n",
       "    </tr>\n",
       "    <tr>\n",
       "      <th>SVC</th>\n",
       "      <td>0.552326</td>\n",
       "      <td>0.075078</td>\n",
       "      <td>0.471280</td>\n",
       "      <td>0.061680</td>\n",
       "      <td>0.630903</td>\n",
       "      <td>0.074322</td>\n",
       "    </tr>\n",
       "    <tr>\n",
       "      <th>DummyClassifier</th>\n",
       "      <td>0.500000</td>\n",
       "      <td>0.000000</td>\n",
       "      <td>0.500000</td>\n",
       "      <td>0.000000</td>\n",
       "      <td>0.500000</td>\n",
       "      <td>0.000000</td>\n",
       "    </tr>\n",
       "  </tbody>\n",
       "</table>\n",
       "</div>"
      ],
      "text/plain": [
       "                            Richard mean  Richard std  Julian mean  \\\n",
       "DecisionTreeClassifier          0.513561     0.142637     0.572222   \n",
       "RandomForestClassifier          0.549415     0.102203     0.574945   \n",
       "GaussianNB                      0.480000     0.088759     0.593424   \n",
       "GradientBoostingClassifier      0.527310     0.063424     0.577446   \n",
       "KNeighborsClassifier            0.499539     0.082748     0.529064   \n",
       "LogisticRegression              0.531040     0.127593     0.525263   \n",
       "SVC                             0.552326     0.075078     0.471280   \n",
       "DummyClassifier                 0.500000     0.000000     0.500000   \n",
       "\n",
       "                            Julian std  Freeman mean  Freeman std  \n",
       "DecisionTreeClassifier        0.123744      0.505328     0.059517  \n",
       "RandomForestClassifier        0.115721      0.569116     0.101093  \n",
       "GaussianNB                    0.125213      0.526264     0.091075  \n",
       "GradientBoostingClassifier    0.132485      0.589857     0.139692  \n",
       "KNeighborsClassifier          0.058500      0.586283     0.093431  \n",
       "LogisticRegression            0.139646      0.558116     0.102269  \n",
       "SVC                           0.061680      0.630903     0.074322  \n",
       "DummyClassifier               0.000000      0.500000     0.000000  "
      ]
     },
     "execution_count": 9,
     "metadata": {},
     "output_type": "execute_result"
    }
   ],
   "source": [
    "b_harmonic_mean\n",
    "# print(b.round(2).to_latex())"
   ]
  },
  {
   "cell_type": "code",
   "execution_count": 11,
   "metadata": {},
   "outputs": [
    {
     "name": "stdout",
     "output_type": "stream",
     "text": [
      "On average harmonic mean is better by -0.001967517509698466 ROC AUC\n"
     ]
    },
    {
     "data": {
      "text/html": [
       "<div>\n",
       "<style scoped>\n",
       "    .dataframe tbody tr th:only-of-type {\n",
       "        vertical-align: middle;\n",
       "    }\n",
       "\n",
       "    .dataframe tbody tr th {\n",
       "        vertical-align: top;\n",
       "    }\n",
       "\n",
       "    .dataframe thead th {\n",
       "        text-align: right;\n",
       "    }\n",
       "</style>\n",
       "<table border=\"1\" class=\"dataframe\">\n",
       "  <thead>\n",
       "    <tr style=\"text-align: right;\">\n",
       "      <th></th>\n",
       "      <th>Richard mean</th>\n",
       "      <th>Richard std</th>\n",
       "      <th>Julian mean</th>\n",
       "      <th>Julian std</th>\n",
       "      <th>Freeman mean</th>\n",
       "      <th>Freeman std</th>\n",
       "    </tr>\n",
       "  </thead>\n",
       "  <tbody>\n",
       "    <tr>\n",
       "      <th>DecisionTreeClassifier</th>\n",
       "      <td>0.513561</td>\n",
       "      <td>0.142637</td>\n",
       "      <td>0.531917</td>\n",
       "      <td>0.146731</td>\n",
       "      <td>0.575387</td>\n",
       "      <td>0.138813</td>\n",
       "    </tr>\n",
       "    <tr>\n",
       "      <th>RandomForestClassifier</th>\n",
       "      <td>0.549415</td>\n",
       "      <td>0.102203</td>\n",
       "      <td>0.554029</td>\n",
       "      <td>0.101793</td>\n",
       "      <td>0.651858</td>\n",
       "      <td>0.071139</td>\n",
       "    </tr>\n",
       "    <tr>\n",
       "      <th>GaussianNB</th>\n",
       "      <td>0.480000</td>\n",
       "      <td>0.088759</td>\n",
       "      <td>0.485874</td>\n",
       "      <td>0.074452</td>\n",
       "      <td>0.383522</td>\n",
       "      <td>0.111320</td>\n",
       "    </tr>\n",
       "    <tr>\n",
       "      <th>GradientBoostingClassifier</th>\n",
       "      <td>0.527310</td>\n",
       "      <td>0.063424</td>\n",
       "      <td>0.561826</td>\n",
       "      <td>0.164423</td>\n",
       "      <td>0.644555</td>\n",
       "      <td>0.049097</td>\n",
       "    </tr>\n",
       "    <tr>\n",
       "      <th>KNeighborsClassifier</th>\n",
       "      <td>0.499539</td>\n",
       "      <td>0.082748</td>\n",
       "      <td>0.483483</td>\n",
       "      <td>0.089936</td>\n",
       "      <td>0.586933</td>\n",
       "      <td>0.102437</td>\n",
       "    </tr>\n",
       "    <tr>\n",
       "      <th>LogisticRegression</th>\n",
       "      <td>0.531040</td>\n",
       "      <td>0.127593</td>\n",
       "      <td>0.573125</td>\n",
       "      <td>0.068456</td>\n",
       "      <td>0.613580</td>\n",
       "      <td>0.140293</td>\n",
       "    </tr>\n",
       "    <tr>\n",
       "      <th>SVC</th>\n",
       "      <td>0.552326</td>\n",
       "      <td>0.075078</td>\n",
       "      <td>0.564444</td>\n",
       "      <td>0.093970</td>\n",
       "      <td>0.650045</td>\n",
       "      <td>0.108903</td>\n",
       "    </tr>\n",
       "    <tr>\n",
       "      <th>DummyClassifier</th>\n",
       "      <td>0.500000</td>\n",
       "      <td>0.000000</td>\n",
       "      <td>0.500000</td>\n",
       "      <td>0.000000</td>\n",
       "      <td>0.500000</td>\n",
       "      <td>0.000000</td>\n",
       "    </tr>\n",
       "  </tbody>\n",
       "</table>\n",
       "</div>"
      ],
      "text/plain": [
       "                            Richard mean  Richard std  Julian mean  \\\n",
       "DecisionTreeClassifier          0.513561     0.142637     0.531917   \n",
       "RandomForestClassifier          0.549415     0.102203     0.554029   \n",
       "GaussianNB                      0.480000     0.088759     0.485874   \n",
       "GradientBoostingClassifier      0.527310     0.063424     0.561826   \n",
       "KNeighborsClassifier            0.499539     0.082748     0.483483   \n",
       "LogisticRegression              0.531040     0.127593     0.573125   \n",
       "SVC                             0.552326     0.075078     0.564444   \n",
       "DummyClassifier                 0.500000     0.000000     0.500000   \n",
       "\n",
       "                            Julian std  Freeman mean  Freeman std  \n",
       "DecisionTreeClassifier        0.146731      0.575387     0.138813  \n",
       "RandomForestClassifier        0.101793      0.651858     0.071139  \n",
       "GaussianNB                    0.074452      0.383522     0.111320  \n",
       "GradientBoostingClassifier    0.164423      0.644555     0.049097  \n",
       "KNeighborsClassifier          0.089936      0.586933     0.102437  \n",
       "LogisticRegression            0.068456      0.613580     0.140293  \n",
       "SVC                           0.093970      0.650045     0.108903  \n",
       "DummyClassifier               0.000000      0.500000     0.000000  "
      ]
     },
     "execution_count": 11,
     "metadata": {},
     "output_type": "execute_result"
    }
   ],
   "source": [
    "print('On average harmonic mean is better by', (b_harmonic_mean.mean(axis=1) - b_difference.mean(axis=1)).mean(), 'ROC AUC')\n",
    "b_difference"
   ]
  },
  {
   "cell_type": "markdown",
   "metadata": {},
   "source": [
    "The prediction with difference instead of harmonic mean is therefore marginally worse."
   ]
  },
  {
   "cell_type": "code",
   "execution_count": 12,
   "metadata": {},
   "outputs": [
    {
     "name": "stderr",
     "output_type": "stream",
     "text": [
      "The PostScript backend does not support transparency; partially transparent artists will be rendered opaque.\n",
      "The PostScript backend does not support transparency; partially transparent artists will be rendered opaque.\n",
      "The PostScript backend does not support transparency; partially transparent artists will be rendered opaque.\n",
      "The PostScript backend does not support transparency; partially transparent artists will be rendered opaque.\n"
     ]
    },
    {
     "data": {
      "image/png": "[encoded data removed]",
      "text/plain": [
       "<Figure size 432x432 with 1 Axes>"
      ]
     },
     "metadata": {
      "needs_background": "light"
     },
     "output_type": "display_data"
    }
   ],
   "source": [
    "b = b_difference\n",
    "\n",
    "plt.rc('font', family='serif')\n",
    "fig = plt.figure(figsize=(6, 6))\n",
    "degrees=75\n",
    "plt.ylabel('ROC AUC')\n",
    "plt.xticks(rotation=degrees)\n",
    "plt.ylim([0, 1])\n",
    "plt.gca().fill_between([-1, 8], 0, 0.5, facecolor='grey', edgecolor='k', alpha=0.25, hatch='\\\\')\n",
    "plt.errorbar(b.index, b['Richard mean'], yerr=b['Richard std'], label='clinical')\n",
    "plt.errorbar(b.index, b['Freeman mean'], yerr=b['Freeman std'], label='clinical + genomic')\n",
    "plt.legend(frameon=False)\n",
    "# plt.tight_layout()\n",
    "plt.savefig('figs/comparison_classifiers.png', bbox_inches = 'tight')\n",
    "plt.savefig('figs/comparison_classifiers.eps', bbox_inches = 'tight')"
   ]
  },
  {
   "cell_type": "markdown",
   "metadata": {},
   "source": [
    "# 4) Choose model logistic regression.\n",
    "The logistic regression model doesn't have the best accuracy in absolute terms, but is much simpler than the RandomForest. So by occams razor, we pick it."
   ]
  },
  {
   "cell_type": "code",
   "execution_count": 13,
   "metadata": {},
   "outputs": [],
   "source": [
    "random_state=1234\n",
    "logistic_Freeman_parameters = {\n",
    "    \"random_state\": random_state,\n",
    "#     \"penalty\": \"l2\",\n",
    "#     \"class_weight\": \"balanced\",\n",
    "#     \"solver\": \"newton-cg\",\n",
    "#     \"C\": 1.0,\n",
    "#     \"max_iter\": 10000,\n",
    "#     'tol': 0.00001,\n",
    "}\n",
    "logistic_Freeman = pipeline_Freeman(LogisticRegression, **logistic_Freeman_parameters)"
   ]
  },
  {
   "cell_type": "markdown",
   "metadata": {},
   "source": [
    "# 6) Cross validation\n",
    "Find the optimal hyper parameters."
   ]
  },
  {
   "cell_type": "code",
   "execution_count": 14,
   "metadata": {},
   "outputs": [],
   "source": [
    "logistic_regression_hyper_parameters = {\n",
    "#     \"transform_columns__age_discretizer__n_bins\": (2, 3, 4, 5),\n",
    "    \"filter_rare_mutations__top_k_features\": (4, 5, 6, 7, 8, 10, 12, 18, 24, 48),\n",
    "#     \"estimator__l1_ratio\": [0.025, 0.05, 0.125, 0.25, 0.375, 0.5, 0.6, 0.75, 0.85, 1.0],\n",
    "    \"estimator__C\": [0.05, 0.1, 0.25, 0.5, 0.75, 1.0, 1.5, 2.0, 4.0],\n",
    "    \"estimator__class_weight\": [\"balanced\", None],\n",
    "}\n",
    "clf_search = GridSearchCV(\n",
    "    logistic_Freeman,\n",
    "    logistic_regression_hyper_parameters,\n",
    "    scoring=\"roc_auc\",\n",
    "    n_jobs=8,\n",
    "    cv=5,\n",
    ")"
   ]
  },
  {
   "cell_type": "code",
   "execution_count": 15,
   "metadata": {},
   "outputs": [
    {
     "name": "stderr",
     "output_type": "stream",
     "text": [
      "/home/hylke/.local/lib/python3.7/site-packages/sklearn/model_selection/_search.py:813: DeprecationWarning: The default of the `iid` parameter will change from True to False in version 0.22 and will be removed in 0.24. This will change numeric results when test-set sizes are unequal.\n",
      "  DeprecationWarning)\n",
      "/home/hylke/.local/lib/python3.7/site-packages/sklearn/linear_model/logistic.py:432: FutureWarning: Default solver will be changed to 'lbfgs' in 0.22. Specify a solver to silence this warning.\n",
      "  FutureWarning)\n"
     ]
    },
    {
     "data": {
      "text/plain": [
       "GridSearchCV(cv=5, error_score='raise-deprecating',\n",
       "             estimator=Pipeline(memory=None,\n",
       "                                steps=[('clinical_curation',\n",
       "                                        FunctionTransformer(accept_sparse=False,\n",
       "                                                            check_inverse=True,\n",
       "                                                            func=<function clinical_data_curation at 0x7f5ef0718b90>,\n",
       "                                                            inv_kw_args=None,\n",
       "                                                            inverse_func=None,\n",
       "                                                            kw_args=None,\n",
       "                                                            pass_y='deprecated',\n",
       "                                                            validate=False)),\n",
       "                                       ('remove_specific_phenotypes',\n",
       "                                        FunctionTrans...\n",
       "                                                           solver='warn',\n",
       "                                                           tol=0.0001,\n",
       "                                                           verbose=0,\n",
       "                                                           warm_start=False))],\n",
       "                                verbose=False),\n",
       "             iid='warn', n_jobs=8,\n",
       "             param_grid={'estimator__C': [0.05, 0.1, 0.25, 0.5, 0.75, 1.0, 1.5,\n",
       "                                          2.0, 4.0],\n",
       "                         'estimator__class_weight': ['balanced', None],\n",
       "                         'filter_rare_mutations__top_k_features': (4, 5, 6, 7,\n",
       "                                                                   8, 10, 12,\n",
       "                                                                   18, 24,\n",
       "                                                                   48)},\n",
       "             pre_dispatch='2*n_jobs', refit=True, return_train_score=False,\n",
       "             scoring='roc_auc', verbose=0)"
      ]
     },
     "execution_count": 15,
     "metadata": {},
     "output_type": "execute_result"
    }
   ],
   "source": [
    "clf_search.fit(X_train_hm, y_train_resp)"
   ]
  },
  {
   "cell_type": "code",
   "execution_count": 14,
   "metadata": {},
   "outputs": [],
   "source": [
    "# print(\"Best parameters set found on development set:\")\n",
    "# print()\n",
    "# print(clf_search.best_params_)\n",
    "# print()\n",
    "# print(\"Grid scores on development set:\")\n",
    "# print()\n",
    "# means = clf_search.cv_results_['mean_test_score']\n",
    "# stds = clf_search.cv_results_['std_test_score']\n",
    "# for mean, std, params in zip(means, stds, clf_search.cv_results_['params']):\n",
    "#     print(\"%0.3f (+/-%0.03f) for %r\"\n",
    "#           % (mean, std * 2, params))\n",
    "# print()"
   ]
  },
  {
   "cell_type": "code",
   "execution_count": 24,
   "metadata": {},
   "outputs": [],
   "source": [
    "# # Non-convergent best parameters under elasticnet.\n",
    "# best_params = {\n",
    "#     'estimator__C': 2.0,\n",
    "#     'estimator__class_weight': None,\n",
    "#     'estimator__l1_ratio': 0.025,\n",
    "#     \"estimator__penalty\": \"l1\",\n",
    "#     \"estimator__solver\": \"saga\",\n",
    "#     'filter_rare_mutations__top_k_features': 4,\n",
    "#     'transform_columns__age_discretizer__n_bins': 2,\n",
    "# }\n",
    "\n",
    "# Best parameters under L2 norm.\n",
    "best_params = {\n",
    "    \"estimator__C\": 2.0,\n",
    "    \"estimator__class_weight\": \"balanced\",\n",
    "    \"estimator__solver\": \"newton-cg\",\n",
    "#     \"estimator__solver\": \"saga\",\n",
    "    \"filter_rare_mutations__top_k_features\": 4,\n",
    "#     \"transform_columns__age_discretizer__n_bins\": 2,\n",
    "}\n"
   ]
  },
  {
   "cell_type": "code",
   "execution_count": 25,
   "metadata": {},
   "outputs": [],
   "source": [
    "# assert best_params == clf_search.best_params_"
   ]
  },
  {
   "cell_type": "code",
   "execution_count": 26,
   "metadata": {},
   "outputs": [
    {
     "data": {
      "text/plain": [
       "Pipeline(memory=None,\n",
       "         steps=[('clinical_curation',\n",
       "                 FunctionTransformer(accept_sparse=False, check_inverse=True,\n",
       "                                     func=<function clinical_data_curation at 0x7f5ef0718b90>,\n",
       "                                     inv_kw_args=None, inverse_func=None,\n",
       "                                     kw_args=None, pass_y='deprecated',\n",
       "                                     validate=False)),\n",
       "                ('remove_specific_phenotypes',\n",
       "                 FunctionTransformer(accept_sparse=False, check_inverse=True,\n",
       "                                     func=<function...\n",
       "                                                   'adrenalmeta', 'livermeta',\n",
       "                                                   'lungmeta', 'skeletonmeta',\n",
       "                                                   'age'])],\n",
       "                                   verbose=False)),\n",
       "                ('estimator',\n",
       "                 LogisticRegression(C=2.0, class_weight='balanced', dual=False,\n",
       "                                    fit_intercept=True, intercept_scaling=1,\n",
       "                                    l1_ratio=None, max_iter=100,\n",
       "                                    multi_class='warn', n_jobs=None,\n",
       "                                    penalty='l2', random_state=1234,\n",
       "                                    solver='newton-cg', tol=0.0001, verbose=0,\n",
       "                                    warm_start=False))],\n",
       "         verbose=False)"
      ]
     },
     "execution_count": 26,
     "metadata": {},
     "output_type": "execute_result"
    }
   ],
   "source": [
    "# Pick the best parameteres.\n",
    "logistic_Freeman.set_params(**best_params)\n",
    "logistic_Freeman.fit(X_train_hm, y_train_resp)"
   ]
  },
  {
   "cell_type": "markdown",
   "metadata": {},
   "source": [
    "# 7) Make plots of the model"
   ]
  },
  {
   "cell_type": "code",
   "execution_count": 28,
   "metadata": {},
   "outputs": [
    {
     "data": {
      "image/png": "[encoded data removed]",
      "text/plain": [
       "<Figure size 576x432 with 1 Axes>"
      ]
     },
     "metadata": {
      "needs_background": "light"
     },
     "output_type": "display_data"
    },
    {
     "data": {
      "image/png": "[encoded data removed]",
      "text/plain": [
       "<Figure size 576x432 with 1 Axes>"
      ]
     },
     "metadata": {
      "needs_background": "light"
     },
     "output_type": "display_data"
    }
   ],
   "source": [
    "figure_filenames = (\"logistic_regression_clinical_freeman\", \"logistic_regression_genetic_freeman\")\n",
    "view_linear_model_freeman(X_train_hm, y_train_resp, logistic_Freeman, filenames=figure_filenames, thresshold=0.1)"
   ]
  },
  {
   "cell_type": "code",
   "execution_count": null,
   "metadata": {},
   "outputs": [],
   "source": []
  }
 ],
 "metadata": {
  "kernelspec": {
   "display_name": "Python 3",
   "language": "python",
   "name": "python3"
  },
  "language_info": {
   "codemirror_mode": {
    "name": "ipython",
    "version": 3
   },
   "file_extension": ".py",
   "mimetype": "text/x-python",
   "name": "python",
   "nbconvert_exporter": "python",
   "pygments_lexer": "ipython3",
   "version": "3.7.5"
  }
 },
 "nbformat": 4,
 "nbformat_minor": 2
}
