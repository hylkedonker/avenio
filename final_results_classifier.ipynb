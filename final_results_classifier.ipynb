{
 "cells": [
  {
   "cell_type": "markdown",
   "metadata": {},
   "source": [
    "# Make final classifier using mutant concentration\n",
    "**Goal**: Identify patients that don't respond.\n",
    "These patients we don't have to treat.\n",
    "\n",
    "Perform the following steps:\n",
    "\n",
    "1) Combine data with CNV.\n",
    "\n",
    "2) Compare harmonic versus delta.\n",
    "\n",
    "3) Compare clinical data versus clinical and genomic data.\n",
    "\n",
    "4) Select best classification model based on AUC.\n",
    "\n",
    "5) For this best model, compare number of molecules.\n",
    "\n",
    "6) Perform cross validation.\n",
    "\n",
    "7) Make plots for parameter importance."
   ]
  },
  {
   "cell_type": "code",
   "execution_count": 1,
   "metadata": {},
   "outputs": [],
   "source": [
    "%matplotlib inline\n",
    "from matplotlib import pyplot as plt\n",
    "from sklearn.linear_model import LogisticRegression\n",
    "from sklearn.metrics import classification_report\n",
    "from sklearn.model_selection import GridSearchCV\n",
    "\n",
    "from pipelines import benchmark_pipelines, build_classifier_pipelines, pipeline_Freeman\n",
    "from views import view_linear_model_freeman"
   ]
  },
  {
   "cell_type": "markdown",
   "metadata": {},
   "source": [
    "# 1) Combine data"
   ]
  },
  {
   "cell_type": "code",
   "execution_count": 2,
   "metadata": {},
   "outputs": [],
   "source": [
    "from source import read_preprocessed_data\n",
    "from transform import combine_tsv_files"
   ]
  },
  {
   "cell_type": "code",
   "execution_count": 3,
   "metadata": {},
   "outputs": [],
   "source": [
    "# Harmonic mean genomic variable.\n",
    "X_train_hm, y_train_hm = combine_tsv_files(\n",
    "    \"output/train__harmonic_mean__No. Mutant Molecules per mL.tsv\",\n",
    "    \"output/train__harmonic_mean__CNV Score.tsv\",\n",
    ")\n",
    "# Difference genomic variable.\n",
    "X_train_diff, y_train_diff = combine_tsv_files(\n",
    "    \"output/train__difference__No. Mutant Molecules per mL.tsv\",\n",
    "    \"output/train__difference__CNV Score.tsv\",\n",
    ")"
   ]
  },
  {
   "cell_type": "markdown",
   "metadata": {},
   "source": [
    "# 2) Select best model"
   ]
  },
  {
   "cell_type": "code",
   "execution_count": 4,
   "metadata": {},
   "outputs": [],
   "source": [
    "y_train_resp = y_train_hm[\"response_grouped\"]\n",
    "\n",
    "response_labels = ['non responder (sd+pd)', 'responder (pr+cr)', 'non evaluable (ne)']\n",
    "pos_label = 'responder (pr+cr)'\n",
    "y_train_resp = y_train_resp == pos_label"
   ]
  },
  {
   "cell_type": "code",
   "execution_count": 5,
   "metadata": {},
   "outputs": [],
   "source": [
    "ps_class = build_classifier_pipelines()"
   ]
  },
  {
   "cell_type": "code",
   "execution_count": 6,
   "metadata": {},
   "outputs": [],
   "source": [
    "b_difference = benchmark_pipelines(\n",
    "    ps_class, X_train_diff, y_train_resp, metric='roc_auc',\n",
    ")"
   ]
  },
  {
   "cell_type": "code",
   "execution_count": 7,
   "metadata": {},
   "outputs": [],
   "source": [
    "b_harmonic_mean = benchmark_pipelines(\n",
    "    ps_class, X_train_hm, y_train_resp, metric='roc_auc',\n",
    ")"
   ]
  },
  {
   "cell_type": "code",
   "execution_count": 8,
   "metadata": {},
   "outputs": [
    {
     "data": {
      "text/html": [
       "<div>\n",
       "<style scoped>\n",
       "    .dataframe tbody tr th:only-of-type {\n",
       "        vertical-align: middle;\n",
       "    }\n",
       "\n",
       "    .dataframe tbody tr th {\n",
       "        vertical-align: top;\n",
       "    }\n",
       "\n",
       "    .dataframe thead th {\n",
       "        text-align: right;\n",
       "    }\n",
       "</style>\n",
       "<table border=\"1\" class=\"dataframe\">\n",
       "  <thead>\n",
       "    <tr style=\"text-align: right;\">\n",
       "      <th></th>\n",
       "      <th>Richard mean</th>\n",
       "      <th>Richard std</th>\n",
       "      <th>Julian mean</th>\n",
       "      <th>Julian std</th>\n",
       "      <th>Freeman mean</th>\n",
       "      <th>Freeman std</th>\n",
       "    </tr>\n",
       "  </thead>\n",
       "  <tbody>\n",
       "    <tr>\n",
       "      <th>DecisionTreeClassifier</th>\n",
       "      <td>0.552806</td>\n",
       "      <td>0.104126</td>\n",
       "      <td>0.590476</td>\n",
       "      <td>0.095786</td>\n",
       "      <td>0.575085</td>\n",
       "      <td>0.056811</td>\n",
       "    </tr>\n",
       "    <tr>\n",
       "      <th>RandomForestClassifier</th>\n",
       "      <td>0.615136</td>\n",
       "      <td>0.139969</td>\n",
       "      <td>0.703146</td>\n",
       "      <td>0.085631</td>\n",
       "      <td>0.594558</td>\n",
       "      <td>0.106662</td>\n",
       "    </tr>\n",
       "    <tr>\n",
       "      <th>GaussianNB</th>\n",
       "      <td>0.552041</td>\n",
       "      <td>0.114205</td>\n",
       "      <td>0.649150</td>\n",
       "      <td>0.100567</td>\n",
       "      <td>0.646429</td>\n",
       "      <td>0.117586</td>\n",
       "    </tr>\n",
       "    <tr>\n",
       "      <th>GradientBoostingClassifier</th>\n",
       "      <td>0.605187</td>\n",
       "      <td>0.050892</td>\n",
       "      <td>0.638010</td>\n",
       "      <td>0.064842</td>\n",
       "      <td>0.622789</td>\n",
       "      <td>0.084546</td>\n",
       "    </tr>\n",
       "    <tr>\n",
       "      <th>KNeighborsClassifier</th>\n",
       "      <td>0.610119</td>\n",
       "      <td>0.068823</td>\n",
       "      <td>0.519388</td>\n",
       "      <td>0.072646</td>\n",
       "      <td>0.633929</td>\n",
       "      <td>0.078792</td>\n",
       "    </tr>\n",
       "    <tr>\n",
       "      <th>LogisticRegression</th>\n",
       "      <td>0.607823</td>\n",
       "      <td>0.079752</td>\n",
       "      <td>0.556293</td>\n",
       "      <td>0.117064</td>\n",
       "      <td>0.616156</td>\n",
       "      <td>0.049756</td>\n",
       "    </tr>\n",
       "    <tr>\n",
       "      <th>SVC</th>\n",
       "      <td>0.658673</td>\n",
       "      <td>0.100210</td>\n",
       "      <td>0.528741</td>\n",
       "      <td>0.020915</td>\n",
       "      <td>0.649660</td>\n",
       "      <td>0.079216</td>\n",
       "    </tr>\n",
       "    <tr>\n",
       "      <th>DummyClassifier</th>\n",
       "      <td>0.500000</td>\n",
       "      <td>0.000000</td>\n",
       "      <td>0.500000</td>\n",
       "      <td>0.000000</td>\n",
       "      <td>0.500000</td>\n",
       "      <td>0.000000</td>\n",
       "    </tr>\n",
       "  </tbody>\n",
       "</table>\n",
       "</div>"
      ],
      "text/plain": [
       "                            Richard mean  Richard std  Julian mean  \\\n",
       "DecisionTreeClassifier          0.552806     0.104126     0.590476   \n",
       "RandomForestClassifier          0.615136     0.139969     0.703146   \n",
       "GaussianNB                      0.552041     0.114205     0.649150   \n",
       "GradientBoostingClassifier      0.605187     0.050892     0.638010   \n",
       "KNeighborsClassifier            0.610119     0.068823     0.519388   \n",
       "LogisticRegression              0.607823     0.079752     0.556293   \n",
       "SVC                             0.658673     0.100210     0.528741   \n",
       "DummyClassifier                 0.500000     0.000000     0.500000   \n",
       "\n",
       "                            Julian std  Freeman mean  Freeman std  \n",
       "DecisionTreeClassifier        0.095786      0.575085     0.056811  \n",
       "RandomForestClassifier        0.085631      0.594558     0.106662  \n",
       "GaussianNB                    0.100567      0.646429     0.117586  \n",
       "GradientBoostingClassifier    0.064842      0.622789     0.084546  \n",
       "KNeighborsClassifier          0.072646      0.633929     0.078792  \n",
       "LogisticRegression            0.117064      0.616156     0.049756  \n",
       "SVC                           0.020915      0.649660     0.079216  \n",
       "DummyClassifier               0.000000      0.500000     0.000000  "
      ]
     },
     "execution_count": 8,
     "metadata": {},
     "output_type": "execute_result"
    }
   ],
   "source": [
    "b_harmonic_mean\n",
    "# print(b.round(2).to_latex())"
   ]
  },
  {
   "cell_type": "code",
   "execution_count": 9,
   "metadata": {},
   "outputs": [
    {
     "name": "stdout",
     "output_type": "stream",
     "text": [
      "On average harmonic mean is better by -0.0024624022996698816 ROC AUC\n"
     ]
    },
    {
     "data": {
      "text/html": [
       "<div>\n",
       "<style scoped>\n",
       "    .dataframe tbody tr th:only-of-type {\n",
       "        vertical-align: middle;\n",
       "    }\n",
       "\n",
       "    .dataframe tbody tr th {\n",
       "        vertical-align: top;\n",
       "    }\n",
       "\n",
       "    .dataframe thead th {\n",
       "        text-align: right;\n",
       "    }\n",
       "</style>\n",
       "<table border=\"1\" class=\"dataframe\">\n",
       "  <thead>\n",
       "    <tr style=\"text-align: right;\">\n",
       "      <th></th>\n",
       "      <th>Richard mean</th>\n",
       "      <th>Richard std</th>\n",
       "      <th>Julian mean</th>\n",
       "      <th>Julian std</th>\n",
       "      <th>Freeman mean</th>\n",
       "      <th>Freeman std</th>\n",
       "    </tr>\n",
       "  </thead>\n",
       "  <tbody>\n",
       "    <tr>\n",
       "      <th>DecisionTreeClassifier</th>\n",
       "      <td>0.552806</td>\n",
       "      <td>0.104126</td>\n",
       "      <td>0.678231</td>\n",
       "      <td>0.026399</td>\n",
       "      <td>0.623724</td>\n",
       "      <td>0.057201</td>\n",
       "    </tr>\n",
       "    <tr>\n",
       "      <th>RandomForestClassifier</th>\n",
       "      <td>0.615136</td>\n",
       "      <td>0.139969</td>\n",
       "      <td>0.632993</td>\n",
       "      <td>0.073664</td>\n",
       "      <td>0.606293</td>\n",
       "      <td>0.087505</td>\n",
       "    </tr>\n",
       "    <tr>\n",
       "      <th>GaussianNB</th>\n",
       "      <td>0.552041</td>\n",
       "      <td>0.114205</td>\n",
       "      <td>0.614286</td>\n",
       "      <td>0.142071</td>\n",
       "      <td>0.594643</td>\n",
       "      <td>0.097214</td>\n",
       "    </tr>\n",
       "    <tr>\n",
       "      <th>GradientBoostingClassifier</th>\n",
       "      <td>0.605187</td>\n",
       "      <td>0.050892</td>\n",
       "      <td>0.563435</td>\n",
       "      <td>0.128879</td>\n",
       "      <td>0.534779</td>\n",
       "      <td>0.064154</td>\n",
       "    </tr>\n",
       "    <tr>\n",
       "      <th>KNeighborsClassifier</th>\n",
       "      <td>0.610119</td>\n",
       "      <td>0.068823</td>\n",
       "      <td>0.573980</td>\n",
       "      <td>0.066187</td>\n",
       "      <td>0.645578</td>\n",
       "      <td>0.134522</td>\n",
       "    </tr>\n",
       "    <tr>\n",
       "      <th>LogisticRegression</th>\n",
       "      <td>0.607823</td>\n",
       "      <td>0.079752</td>\n",
       "      <td>0.600510</td>\n",
       "      <td>0.122028</td>\n",
       "      <td>0.594218</td>\n",
       "      <td>0.098226</td>\n",
       "    </tr>\n",
       "    <tr>\n",
       "      <th>SVC</th>\n",
       "      <td>0.658673</td>\n",
       "      <td>0.100210</td>\n",
       "      <td>0.522789</td>\n",
       "      <td>0.130524</td>\n",
       "      <td>0.644813</td>\n",
       "      <td>0.113977</td>\n",
       "    </tr>\n",
       "    <tr>\n",
       "      <th>DummyClassifier</th>\n",
       "      <td>0.500000</td>\n",
       "      <td>0.000000</td>\n",
       "      <td>0.500000</td>\n",
       "      <td>0.000000</td>\n",
       "      <td>0.500000</td>\n",
       "      <td>0.000000</td>\n",
       "    </tr>\n",
       "  </tbody>\n",
       "</table>\n",
       "</div>"
      ],
      "text/plain": [
       "                            Richard mean  Richard std  Julian mean  \\\n",
       "DecisionTreeClassifier          0.552806     0.104126     0.678231   \n",
       "RandomForestClassifier          0.615136     0.139969     0.632993   \n",
       "GaussianNB                      0.552041     0.114205     0.614286   \n",
       "GradientBoostingClassifier      0.605187     0.050892     0.563435   \n",
       "KNeighborsClassifier            0.610119     0.068823     0.573980   \n",
       "LogisticRegression              0.607823     0.079752     0.600510   \n",
       "SVC                             0.658673     0.100210     0.522789   \n",
       "DummyClassifier                 0.500000     0.000000     0.500000   \n",
       "\n",
       "                            Julian std  Freeman mean  Freeman std  \n",
       "DecisionTreeClassifier        0.026399      0.623724     0.057201  \n",
       "RandomForestClassifier        0.073664      0.606293     0.087505  \n",
       "GaussianNB                    0.142071      0.594643     0.097214  \n",
       "GradientBoostingClassifier    0.128879      0.534779     0.064154  \n",
       "KNeighborsClassifier          0.066187      0.645578     0.134522  \n",
       "LogisticRegression            0.122028      0.594218     0.098226  \n",
       "SVC                           0.130524      0.644813     0.113977  \n",
       "DummyClassifier               0.000000      0.500000     0.000000  "
      ]
     },
     "execution_count": 9,
     "metadata": {},
     "output_type": "execute_result"
    }
   ],
   "source": [
    "print('On average harmonic mean is better by', (b_harmonic_mean.mean(axis=1) - b_difference.mean(axis=1)).mean(), 'ROC AUC')\n",
    "b_difference"
   ]
  },
  {
   "cell_type": "markdown",
   "metadata": {},
   "source": [
    "The prediction with difference instead of harmonic mean is therefore marginally worse."
   ]
  },
  {
   "cell_type": "code",
   "execution_count": 10,
   "metadata": {},
   "outputs": [
    {
     "name": "stderr",
     "output_type": "stream",
     "text": [
      "The PostScript backend does not support transparency; partially transparent artists will be rendered opaque.\n",
      "The PostScript backend does not support transparency; partially transparent artists will be rendered opaque.\n"
     ]
    },
    {
     "data": {
      "image/png": "[encoded data removed]",
      "text/plain": [
       "<Figure size 432x432 with 1 Axes>"
      ]
     },
     "metadata": {
      "needs_background": "light"
     },
     "output_type": "display_data"
    }
   ],
   "source": [
    "b = b_harmonic_mean\n",
    "plt.rc('font', family='serif')\n",
    "import matplotlib\n",
    "context = {\n",
    "#     'font.size': 22,\n",
    "    'lines.linewidth': 4,\n",
    "    'figure.autolayout': True,\n",
    "    'xtick.labelsize': 'large',\n",
    "    'ytick.labelsize': 'large',\n",
    "    'legend.fontsize': 'x-large',\n",
    "    'axes.labelsize': 'xx-large',\n",
    "    'axes.titlesize': 'xx-large',\n",
    "}\n",
    "# fig = plt.figure(figsize=(4, 3))\n",
    "with plt.rc_context(context):\n",
    "    fig = plt.figure(figsize=(6, 6))\n",
    "    degrees=75\n",
    "    plt.ylabel('AUC ROC')\n",
    "    plt.xticks(rotation=degrees)\n",
    "    plt.ylim([0, 1])\n",
    "    plt.gca().fill_between([-1, 8], 0, 0.5, facecolor='grey', edgecolor='k', alpha=0.25, hatch='\\\\')\n",
    "    plt.errorbar(b.index, b['Richard mean'], yerr=b['Richard std'], label='clinical')\n",
    "    plt.errorbar(b.index, b['Freeman mean'], yerr=b['Freeman std'], label='clinical + genomic')\n",
    "    plt.legend(frameon=False)\n",
    "    plt.tight_layout()\n",
    "plt.savefig('figs/comparison_classifiers.png', bbox_inches = 'tight')\n",
    "plt.savefig('figs/comparison_classifiers.eps', bbox_inches = 'tight')"
   ]
  },
  {
   "cell_type": "markdown",
   "metadata": {},
   "source": [
    "# 4) Choose model logistic regression.\n",
    "The logistic regression model doesn't have the best accuracy in absolute terms, but is much simpler than the RandomForest. So by occams razor, we pick it."
   ]
  },
  {
   "cell_type": "code",
   "execution_count": 11,
   "metadata": {},
   "outputs": [],
   "source": [
    "random_state=1234\n",
    "logistic_Freeman_parameters = {\n",
    "    \"random_state\": random_state,\n",
    "#     \"penalty\": \"l2\",\n",
    "#     \"class_weight\": \"balanced\",\n",
    "    \"solver\": \"newton-cg\",\n",
    "#     \"C\": 1.0,\n",
    "#     \"max_iter\": 10000,\n",
    "#     'tol': 0.00001,\n",
    "}\n",
    "logistic_Freeman = pipeline_Freeman(LogisticRegression, **logistic_Freeman_parameters)"
   ]
  },
  {
   "cell_type": "markdown",
   "metadata": {},
   "source": [
    "# 6) Cross validation\n",
    "Find the optimal hyper parameters."
   ]
  },
  {
   "cell_type": "code",
   "execution_count": 12,
   "metadata": {},
   "outputs": [],
   "source": [
    "logistic_regression_hyper_parameters = {\n",
    "#     \"filter_rare_mutations__top_k_features\": (4, 5, 6, 7, 8, 10, 12, 18, 24, 48),\n",
    "    \"estimator__C\": [0.025, 0.05, 0.075, 0.1, 0.175, 0.25, 0.5, 0.75, 1.0, 1.5, 2.0, 4.0],\n",
    "    \"estimator__class_weight\": [\"balanced\", None],\n",
    "}\n",
    "clf_search = GridSearchCV(\n",
    "    logistic_Freeman,\n",
    "    logistic_regression_hyper_parameters,\n",
    "    scoring=\"roc_auc\",\n",
    "    n_jobs=8,\n",
    "    cv=5,\n",
    ")"
   ]
  },
  {
   "cell_type": "code",
   "execution_count": 13,
   "metadata": {},
   "outputs": [],
   "source": [
    "# clf_search.fit(X_train_hm, y_train_resp)"
   ]
  },
  {
   "cell_type": "code",
   "execution_count": 14,
   "metadata": {},
   "outputs": [],
   "source": [
    "# print(\"Best parameters set found on development set:\")\n",
    "# print()\n",
    "# print(clf_search.best_params_)\n",
    "# print()\n",
    "# print(\"Grid scores on development set:\")\n",
    "# print()\n",
    "# means = clf_search.cv_results_['mean_test_score']\n",
    "# stds = clf_search.cv_results_['std_test_score']\n",
    "# for mean, std, params in zip(means, stds, clf_search.cv_results_['params']):\n",
    "#     print(\"%0.3f (+/-%0.03f) for %r\"\n",
    "#           % (mean, std * 2, params))\n",
    "# print()"
   ]
  },
  {
   "cell_type": "code",
   "execution_count": 15,
   "metadata": {},
   "outputs": [],
   "source": [
    "# # Non-convergent best parameters under elasticnet.\n",
    "# best_params = {\n",
    "#     'estimator__C': 2.0,\n",
    "#     'estimator__class_weight': None,\n",
    "#     'estimator__l1_ratio': 0.025,\n",
    "#     \"estimator__penalty\": \"l1\",\n",
    "#     \"estimator__solver\": \"saga\",\n",
    "#     'filter_rare_mutations__top_k_features': 4,\n",
    "#     'transform_columns__age_discretizer__n_bins': 2,\n",
    "# }\n",
    "\n",
    "# Best parameters under L2 norm.\n",
    "best_params = {\n",
    "    \"estimator__C\": 0.1,\n",
    "    \"estimator__class_weight\": \"balanced\",\n",
    "    \"estimator__solver\": \"newton-cg\",\n",
    "#     \"estimator__solver\": \"saga\",\n",
    "#     \"filter_rare_mutations__top_k_features\": 5,\n",
    "#     \"transform_columns__age_discretizer__n_bins\": 2,\n",
    "}"
   ]
  },
  {
   "cell_type": "code",
   "execution_count": 16,
   "metadata": {},
   "outputs": [],
   "source": [
    "# assert best_params == clf_search.best_params_"
   ]
  },
  {
   "cell_type": "code",
   "execution_count": 17,
   "metadata": {},
   "outputs": [
    {
     "data": {
      "text/plain": [
       "Pipeline(memory=None,\n",
       "         steps=[('clinical_curation',\n",
       "                 FunctionTransformer(accept_sparse=False, check_inverse=True,\n",
       "                                     func=<function clinical_data_curation at 0x7fda3f852ee0>,\n",
       "                                     inv_kw_args=None, inverse_func=None,\n",
       "                                     kw_args=None, validate=False)),\n",
       "                ('filter_clinical_variables',\n",
       "                 FunctionTransformer(accept_sparse=False, check_inverse=True,\n",
       "                                     func=<function drop_specific_phenoty...\n",
       "                                                   'adrenalmeta', 'livermeta',\n",
       "                                                   'lungmeta', 'skeletonmeta',\n",
       "                                                   'age'])],\n",
       "                                   verbose=False)),\n",
       "                ('estimator',\n",
       "                 LogisticRegression(C=0.1, class_weight='balanced', dual=False,\n",
       "                                    fit_intercept=True, intercept_scaling=1,\n",
       "                                    l1_ratio=None, max_iter=100,\n",
       "                                    multi_class='auto', n_jobs=None,\n",
       "                                    penalty='l2', random_state=1234,\n",
       "                                    solver='newton-cg', tol=0.0001, verbose=0,\n",
       "                                    warm_start=False))],\n",
       "         verbose=False)"
      ]
     },
     "execution_count": 17,
     "metadata": {},
     "output_type": "execute_result"
    }
   ],
   "source": [
    "# Pick the best parameteres.\n",
    "logistic_Freeman.set_params(**best_params)\n",
    "logistic_Freeman.fit(X_train_hm, y_train_resp)"
   ]
  },
  {
   "cell_type": "markdown",
   "metadata": {},
   "source": [
    "# 7) Make plots of the model"
   ]
  },
  {
   "cell_type": "code",
   "execution_count": 18,
   "metadata": {},
   "outputs": [
    {
     "data": {
      "image/png": "[encoded data removed]",
      "text/plain": [
       "<Figure size 576x432 with 1 Axes>"
      ]
     },
     "metadata": {
      "needs_background": "light"
     },
     "output_type": "display_data"
    },
    {
     "data": {
      "image/png": "[encoded data removed]",
      "text/plain": [
       "<Figure size 432x288 with 1 Axes>"
      ]
     },
     "metadata": {
      "needs_background": "light"
     },
     "output_type": "display_data"
    }
   ],
   "source": [
    "figure_filenames = (\"logistic_regression_clinical_freeman\", \"logistic_regression_genetic_freeman\")\n",
    "view_linear_model_freeman(\n",
    "    X_train_diff, \n",
    "    y_train_resp, \n",
    "    logistic_Freeman, \n",
    "    filenames=figure_filenames, \n",
    "    thresshold=0.1,\n",
    ")"
   ]
  },
  {
   "cell_type": "code",
   "execution_count": null,
   "metadata": {},
   "outputs": [],
   "source": []
  }
 ],
 "metadata": {
  "kernelspec": {
   "display_name": "Python 3",
   "language": "python",
   "name": "python3"
  },
  "language_info": {
   "codemirror_mode": {
    "name": "ipython",
    "version": 3
   },
   "file_extension": ".py",
   "mimetype": "text/x-python",
   "name": "python",
   "nbconvert_exporter": "python",
   "pygments_lexer": "ipython3",
   "version": "3.7.3"
  }
 },
 "nbformat": 4,
 "nbformat_minor": 2
}
